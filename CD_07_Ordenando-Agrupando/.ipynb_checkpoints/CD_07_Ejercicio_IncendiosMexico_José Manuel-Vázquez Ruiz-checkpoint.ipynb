{
 "cells": [
  {
   "cell_type": "markdown",
   "metadata": {},
   "source": [
    "<!--Información del curso-->\n",
    "<img align=\"left\" style=\"padding-right:10px;\" src=\"figuras/logo_ciencia_datos.png\">"
   ]
  },
  {
   "cell_type": "markdown",
   "metadata": {},
   "source": [
    "<center><h1 style=\"font-size:2em;color:#2467C0\"> Ejercicio  </h1></center>\n",
    "\n",
    "<center><h2 style=\"font-size:2em;color:#840700\">  Incendios en México </h4></center>\n",
    "\n",
    "<br>\n",
    "<table>\n",
    "<col width=\"550\">\n",
    "<col width=\"450\">\n",
    "<tr>\n",
    "<td><img src=\"figuras/incendio.jpg\" align=\"left\" style=\"width:500px\"/></td>\n",
    "<td>\n",
    "\n",
    "* **La Comisión Nacional Forestal (CONAFOR)** es la institución federal encargada de operar, desde septiembre de 2002, el Programa Nacional de Protección contra Incendios Forestales en México, cuyo objetivo es proteger los recursos forestales de la presencia de incendios y atacar las causas que los originan. Para ello despliega acciones específicas en materia de prevención, detección, control y combate. \n",
    "\n",
    "* **¿Qué es un incendio forestal?** Un incendio forestal es la propagación libre y no programada del fuego sobre la vegetación en los bosques selvas y zonas áridas y semiáridas. \n",
    "\n",
    "* Se calcula que **las actividades humanas ocasionan el 99%** de éstos incendios y sólo el resto tiene como causa fenómenos naturales \n",
    "    \n",
    "<br>\n",
    "</td>\n",
    "</tr>\n",
    "</table>"
   ]
  },
  {
   "cell_type": "markdown",
   "metadata": {},
   "source": [
    "# Librerías\n",
    "\n",
    "Cargando las bibliotecas que necesitamos \n"
   ]
  },
  {
   "cell_type": "code",
   "execution_count": 1,
   "metadata": {},
   "outputs": [],
   "source": [
    "import pandas as pd\n",
    "import numpy as np\n",
    "import matplotlib.pyplot as plt"
   ]
  },
  {
   "cell_type": "code",
   "execution_count": 5,
   "metadata": {},
   "outputs": [
    {
     "data": {
      "text/html": [
       "<div>\n",
       "<style scoped>\n",
       "    .dataframe tbody tr th:only-of-type {\n",
       "        vertical-align: middle;\n",
       "    }\n",
       "\n",
       "    .dataframe tbody tr th {\n",
       "        vertical-align: top;\n",
       "    }\n",
       "\n",
       "    .dataframe thead th {\n",
       "        text-align: right;\n",
       "    }\n",
       "</style>\n",
       "<table border=\"1\" class=\"dataframe\">\n",
       "  <thead>\n",
       "    <tr style=\"text-align: right;\">\n",
       "      <th></th>\n",
       "      <th>Número de Incendio</th>\n",
       "      <th>Clave del incendio</th>\n",
       "      <th>Grados</th>\n",
       "      <th>Minutos</th>\n",
       "      <th>Segundos</th>\n",
       "      <th>Grados.1</th>\n",
       "      <th>Minutos.1</th>\n",
       "      <th>Segundos.1</th>\n",
       "      <th>Clave municipio</th>\n",
       "      <th>Estado</th>\n",
       "      <th>...</th>\n",
       "      <th>Tamaño</th>\n",
       "      <th>Deteccion</th>\n",
       "      <th>Llegada</th>\n",
       "      <th>Duracion HMS</th>\n",
       "      <th>Duracion H</th>\n",
       "      <th>Costos MXN</th>\n",
       "      <th>Superficie Salvada</th>\n",
       "      <th>CO2 emitido</th>\n",
       "      <th>CO2 Evito emitir</th>\n",
       "      <th>Region</th>\n",
       "    </tr>\n",
       "  </thead>\n",
       "  <tbody>\n",
       "    <tr>\n",
       "      <th>0</th>\n",
       "      <td>324</td>\n",
       "      <td>17-09-0324</td>\n",
       "      <td>19</td>\n",
       "      <td>5</td>\n",
       "      <td>55.7</td>\n",
       "      <td>99</td>\n",
       "      <td>9</td>\n",
       "      <td>51.54</td>\n",
       "      <td>12</td>\n",
       "      <td>Ciudad de México</td>\n",
       "      <td>...</td>\n",
       "      <td>Mayor a 100 Hectáreas</td>\n",
       "      <td>00:05:00</td>\n",
       "      <td>00:40:00</td>\n",
       "      <td>04:00:00</td>\n",
       "      <td>220.00</td>\n",
       "      <td>256217.0</td>\n",
       "      <td>2251.09</td>\n",
       "      <td>8678.63</td>\n",
       "      <td>163566.56</td>\n",
       "      <td>Centro</td>\n",
       "    </tr>\n",
       "    <tr>\n",
       "      <th>1</th>\n",
       "      <td>430</td>\n",
       "      <td>17-09-0430</td>\n",
       "      <td>19</td>\n",
       "      <td>34</td>\n",
       "      <td>55.3</td>\n",
       "      <td>99</td>\n",
       "      <td>7</td>\n",
       "      <td>32.60</td>\n",
       "      <td>5</td>\n",
       "      <td>Ciudad de México</td>\n",
       "      <td>...</td>\n",
       "      <td>0 a 5 Hectáreas</td>\n",
       "      <td>00:05:00</td>\n",
       "      <td>00:11:00</td>\n",
       "      <td>08:00:12</td>\n",
       "      <td>80.00</td>\n",
       "      <td>3855.0</td>\n",
       "      <td>22.86</td>\n",
       "      <td>17.65</td>\n",
       "      <td>269.04</td>\n",
       "      <td>Centro</td>\n",
       "    </tr>\n",
       "    <tr>\n",
       "      <th>2</th>\n",
       "      <td>411</td>\n",
       "      <td>17-09-0411</td>\n",
       "      <td>19</td>\n",
       "      <td>10</td>\n",
       "      <td>11.4</td>\n",
       "      <td>99</td>\n",
       "      <td>5</td>\n",
       "      <td>49.50</td>\n",
       "      <td>9</td>\n",
       "      <td>Ciudad de México</td>\n",
       "      <td>...</td>\n",
       "      <td>0 a 5 Hectáreas</td>\n",
       "      <td>00:05:00</td>\n",
       "      <td>01:40:00</td>\n",
       "      <td>03:12:12</td>\n",
       "      <td>75.20</td>\n",
       "      <td>2881.0</td>\n",
       "      <td>16.77</td>\n",
       "      <td>58.56</td>\n",
       "      <td>892.57</td>\n",
       "      <td>Centro</td>\n",
       "    </tr>\n",
       "    <tr>\n",
       "      <th>3</th>\n",
       "      <td>328</td>\n",
       "      <td>17-09-0328</td>\n",
       "      <td>19</td>\n",
       "      <td>6</td>\n",
       "      <td>38.8</td>\n",
       "      <td>99</td>\n",
       "      <td>8</td>\n",
       "      <td>59.90</td>\n",
       "      <td>9</td>\n",
       "      <td>Ciudad de México</td>\n",
       "      <td>...</td>\n",
       "      <td>51 a 100 Hectáreas</td>\n",
       "      <td>00:05:00</td>\n",
       "      <td>01:27:00</td>\n",
       "      <td>05:07:00</td>\n",
       "      <td>53.12</td>\n",
       "      <td>68497.0</td>\n",
       "      <td>821.24</td>\n",
       "      <td>2868.36</td>\n",
       "      <td>43719.62</td>\n",
       "      <td>Centro</td>\n",
       "    </tr>\n",
       "    <tr>\n",
       "      <th>4</th>\n",
       "      <td>402</td>\n",
       "      <td>17-09-0402</td>\n",
       "      <td>19</td>\n",
       "      <td>9</td>\n",
       "      <td>1.7</td>\n",
       "      <td>99</td>\n",
       "      <td>16</td>\n",
       "      <td>17.30</td>\n",
       "      <td>12</td>\n",
       "      <td>Ciudad de México</td>\n",
       "      <td>...</td>\n",
       "      <td>Mayor a 100 Hectáreas</td>\n",
       "      <td>00:05:00</td>\n",
       "      <td>00:25:00</td>\n",
       "      <td>23:05:00</td>\n",
       "      <td>47.08</td>\n",
       "      <td>12770.0</td>\n",
       "      <td>2219.24</td>\n",
       "      <td>7538.24</td>\n",
       "      <td>118143.58</td>\n",
       "      <td>Centro</td>\n",
       "    </tr>\n",
       "  </tbody>\n",
       "</table>\n",
       "<p>5 rows × 37 columns</p>\n",
       "</div>"
      ],
      "text/plain": [
       "   Número de Incendio Clave del incendio Grados  Minutos  Segundos  Grados.1  \\\n",
       "0                 324         17-09-0324     19        5      55.7        99   \n",
       "1                 430         17-09-0430     19       34      55.3        99   \n",
       "2                 411         17-09-0411     19       10      11.4        99   \n",
       "3                 328         17-09-0328     19        6      38.8        99   \n",
       "4                 402         17-09-0402     19        9       1.7        99   \n",
       "\n",
       "   Minutos.1  Segundos.1  Clave municipio            Estado  ...  \\\n",
       "0          9       51.54               12  Ciudad de México  ...   \n",
       "1          7       32.60                5  Ciudad de México  ...   \n",
       "2          5       49.50                9  Ciudad de México  ...   \n",
       "3          8       59.90                9  Ciudad de México  ...   \n",
       "4         16       17.30               12  Ciudad de México  ...   \n",
       "\n",
       "                  Tamaño Deteccion   Llegada Duracion HMS Duracion H  \\\n",
       "0  Mayor a 100 Hectáreas  00:05:00  00:40:00     04:00:00     220.00   \n",
       "1        0 a 5 Hectáreas  00:05:00  00:11:00     08:00:12      80.00   \n",
       "2        0 a 5 Hectáreas  00:05:00  01:40:00     03:12:12      75.20   \n",
       "3     51 a 100 Hectáreas  00:05:00  01:27:00     05:07:00      53.12   \n",
       "4  Mayor a 100 Hectáreas  00:05:00  00:25:00     23:05:00      47.08   \n",
       "\n",
       "  Costos MXN Superficie Salvada CO2 emitido CO2 Evito emitir  Region  \n",
       "0   256217.0            2251.09     8678.63        163566.56  Centro  \n",
       "1     3855.0              22.86       17.65           269.04  Centro  \n",
       "2     2881.0              16.77       58.56           892.57  Centro  \n",
       "3    68497.0             821.24     2868.36         43719.62  Centro  \n",
       "4    12770.0            2219.24     7538.24        118143.58  Centro  \n",
       "\n",
       "[5 rows x 37 columns]"
      ]
     },
     "execution_count": 5,
     "metadata": {},
     "output_type": "execute_result"
    }
   ],
   "source": [
    "# cargar el archivo datos/Serie_historica_anual_incendios_2017.csv en un dataframe llamado df\n",
    "df = pd.read_csv('datos/Serie_historica_anual_incendios_2017.csv')\n",
    "df.head()"
   ]
  },
  {
   "cell_type": "markdown",
   "metadata": {},
   "source": [
    "<div class=\"alert alert-info\">\n",
    "\n",
    "<b>EJERCICIO</b>:\n",
    "\n",
    " <ul>\n",
    "  <li>Muestre el número total de filas y columnas </li>\n",
    "</ul>\n",
    "</div>"
   ]
  },
  {
   "cell_type": "code",
   "execution_count": 8,
   "metadata": {},
   "outputs": [
    {
     "data": {
      "text/plain": [
       "(8872, 37)"
      ]
     },
     "execution_count": 8,
     "metadata": {},
     "output_type": "execute_result"
    }
   ],
   "source": [
    "#Numero total de filas y columnas\n",
    "df.shape"
   ]
  },
  {
   "cell_type": "markdown",
   "metadata": {},
   "source": [
    "<div class=\"alert alert-info\">\n",
    "\n",
    "<b>EJERCICIO</b>:\n",
    "\n",
    " <ul>\n",
    "  <li>Muestre los nombres de las columnas </li>\n",
    "</ul>\n",
    "</div>"
   ]
  },
  {
   "cell_type": "code",
   "execution_count": 12,
   "metadata": {},
   "outputs": [
    {
     "data": {
      "text/plain": [
       "Index(['Número de Incendio', 'Clave del incendio', 'Grados', 'Minutos',\n",
       "       'Segundos', 'Grados.1', 'Minutos.1', 'Segundos.1', 'Clave municipio',\n",
       "       'Estado', 'Municipio', 'Predio', 'Causa', 'Fecha Inicio',\n",
       "       'Fecha Termino', 'Mes Acontecimiento', 'Duración días',\n",
       "       'Tipo de incendio', 'Tipo Vegetacion', 'Tipo Impacto',\n",
       "       'Arbolado Adulto', 'Renuevo', 'Arbustivo', 'Herbaceo', 'Hojarasca',\n",
       "       'Suelo Organico', 'Total Hectareas', 'Tamaño', 'Deteccion', 'Llegada',\n",
       "       'Duracion HMS', 'Duracion H', 'Costos MXN', 'Superficie Salvada',\n",
       "       'CO2 emitido', 'CO2 Evito emitir', 'Region'],\n",
       "      dtype='object')"
      ]
     },
     "execution_count": 12,
     "metadata": {},
     "output_type": "execute_result"
    }
   ],
   "source": [
    "#Columnas\n",
    "df.columns "
   ]
  },
  {
   "cell_type": "markdown",
   "metadata": {},
   "source": [
    "Columnas importantes:\n",
    "* Estado: Entidad Federativa\n",
    "* Municipio: Municipio\n",
    "* Tipo Impacto: Tipo impacto del incendio\n",
    "* Causa: Causa del incendio\n",
    "* Mes Acontecimiento: Mes en el que ocurrió el incendio\n",
    "* Total Hectareas: Total de suelo afectado en Hectáreas \n",
    "* Duracion HMS: Duración en Hora:Minutos:Segundos\n",
    "* Duracion H-Decimal: Duración en horas decimales\n"
   ]
  },
  {
   "cell_type": "markdown",
   "metadata": {},
   "source": [
    "<div class=\"alert alert-info\">\n",
    "\n",
    "<b>EJERCICIO</b>:\n",
    "\n",
    " <ul>\n",
    "  <li>Muestre el tipo de dato de cada columna </li>\n",
    "</ul>\n",
    "</div>"
   ]
  },
  {
   "cell_type": "code",
   "execution_count": 13,
   "metadata": {},
   "outputs": [
    {
     "data": {
      "text/plain": [
       "Número de Incendio      int64\n",
       "Clave del incendio     object\n",
       "Grados                 object\n",
       "Minutos                 int64\n",
       "Segundos              float64\n",
       "Grados.1                int64\n",
       "Minutos.1               int64\n",
       "Segundos.1            float64\n",
       "Clave municipio         int64\n",
       "Estado                 object\n",
       "Municipio              object\n",
       "Predio                 object\n",
       "Causa                  object\n",
       "Fecha Inicio           object\n",
       "Fecha Termino          object\n",
       "Mes Acontecimiento     object\n",
       "Duración días          object\n",
       "Tipo de incendio       object\n",
       "Tipo Vegetacion        object\n",
       "Tipo Impacto           object\n",
       "Arbolado Adulto         int64\n",
       "Renuevo                 int64\n",
       "Arbustivo               int64\n",
       "Herbaceo                int64\n",
       "Hojarasca               int64\n",
       "Suelo Organico          int64\n",
       "Total Hectareas         int64\n",
       "Tamaño                 object\n",
       "Deteccion              object\n",
       "Llegada                object\n",
       "Duracion HMS           object\n",
       "Duracion H            float64\n",
       "Costos MXN            float64\n",
       "Superficie Salvada    float64\n",
       "CO2 emitido           float64\n",
       "CO2 Evito emitir      float64\n",
       "Region                 object\n",
       "dtype: object"
      ]
     },
     "execution_count": 13,
     "metadata": {},
     "output_type": "execute_result"
    }
   ],
   "source": [
    "#tipos de variables\n",
    "df.dtypes"
   ]
  },
  {
   "cell_type": "markdown",
   "metadata": {},
   "source": [
    "<div class=\"alert alert-info\">\n",
    "\n",
    "<b>EJERCICIO</b>:\n",
    "\n",
    " <ul>\n",
    "  <li>Muestre los principales características estadísticas de parámetro cuantitativo  </li>\n",
    "</ul>\n",
    "</div>"
   ]
  },
  {
   "cell_type": "code",
   "execution_count": 14,
   "metadata": {},
   "outputs": [
    {
     "data": {
      "text/html": [
       "<div>\n",
       "<style scoped>\n",
       "    .dataframe tbody tr th:only-of-type {\n",
       "        vertical-align: middle;\n",
       "    }\n",
       "\n",
       "    .dataframe tbody tr th {\n",
       "        vertical-align: top;\n",
       "    }\n",
       "\n",
       "    .dataframe thead th {\n",
       "        text-align: right;\n",
       "    }\n",
       "</style>\n",
       "<table border=\"1\" class=\"dataframe\">\n",
       "  <thead>\n",
       "    <tr style=\"text-align: right;\">\n",
       "      <th></th>\n",
       "      <th>Número de Incendio</th>\n",
       "      <th>Minutos</th>\n",
       "      <th>Segundos</th>\n",
       "      <th>Grados.1</th>\n",
       "      <th>Minutos.1</th>\n",
       "      <th>Segundos.1</th>\n",
       "      <th>Clave municipio</th>\n",
       "      <th>Arbolado Adulto</th>\n",
       "      <th>Renuevo</th>\n",
       "      <th>Arbustivo</th>\n",
       "      <th>Herbaceo</th>\n",
       "      <th>Hojarasca</th>\n",
       "      <th>Suelo Organico</th>\n",
       "      <th>Total Hectareas</th>\n",
       "      <th>Duracion H</th>\n",
       "      <th>Costos MXN</th>\n",
       "      <th>Superficie Salvada</th>\n",
       "      <th>CO2 emitido</th>\n",
       "      <th>CO2 Evito emitir</th>\n",
       "    </tr>\n",
       "  </thead>\n",
       "  <tbody>\n",
       "    <tr>\n",
       "      <th>count</th>\n",
       "      <td>8872.000000</td>\n",
       "      <td>8872.000000</td>\n",
       "      <td>8872.000000</td>\n",
       "      <td>8872.000000</td>\n",
       "      <td>8872.000000</td>\n",
       "      <td>8872.000000</td>\n",
       "      <td>8872.000000</td>\n",
       "      <td>8872.000000</td>\n",
       "      <td>8872.000000</td>\n",
       "      <td>8872.000000</td>\n",
       "      <td>8872.000000</td>\n",
       "      <td>8872.000000</td>\n",
       "      <td>8872.000000</td>\n",
       "      <td>8872.000000</td>\n",
       "      <td>8872.000000</td>\n",
       "      <td>8.872000e+03</td>\n",
       "      <td>8872.000000</td>\n",
       "      <td>8.872000e+03</td>\n",
       "      <td>8.872000e+03</td>\n",
       "    </tr>\n",
       "    <tr>\n",
       "      <th>mean</th>\n",
       "      <td>321.784378</td>\n",
       "      <td>26.552750</td>\n",
       "      <td>29.518481</td>\n",
       "      <td>99.877480</td>\n",
       "      <td>27.684851</td>\n",
       "      <td>29.526105</td>\n",
       "      <td>54.905207</td>\n",
       "      <td>2.432372</td>\n",
       "      <td>1.665577</td>\n",
       "      <td>21.021190</td>\n",
       "      <td>32.638413</td>\n",
       "      <td>23.082732</td>\n",
       "      <td>0.595469</td>\n",
       "      <td>81.409829</td>\n",
       "      <td>6.204995</td>\n",
       "      <td>1.712718e+04</td>\n",
       "      <td>1239.907328</td>\n",
       "      <td>2.982856e+03</td>\n",
       "      <td>4.680880e+04</td>\n",
       "    </tr>\n",
       "    <tr>\n",
       "      <th>std</th>\n",
       "      <td>310.332721</td>\n",
       "      <td>17.943577</td>\n",
       "      <td>17.330145</td>\n",
       "      <td>9.732331</td>\n",
       "      <td>17.690869</td>\n",
       "      <td>17.477507</td>\n",
       "      <td>67.260830</td>\n",
       "      <td>44.084256</td>\n",
       "      <td>16.747957</td>\n",
       "      <td>203.451119</td>\n",
       "      <td>331.118147</td>\n",
       "      <td>190.777683</td>\n",
       "      <td>11.336051</td>\n",
       "      <td>613.414613</td>\n",
       "      <td>6.292960</td>\n",
       "      <td>1.056273e+05</td>\n",
       "      <td>9349.790127</td>\n",
       "      <td>2.631238e+04</td>\n",
       "      <td>4.128974e+05</td>\n",
       "    </tr>\n",
       "    <tr>\n",
       "      <th>min</th>\n",
       "      <td>1.000000</td>\n",
       "      <td>0.000000</td>\n",
       "      <td>0.000000</td>\n",
       "      <td>-101.000000</td>\n",
       "      <td>0.000000</td>\n",
       "      <td>0.000000</td>\n",
       "      <td>1.000000</td>\n",
       "      <td>0.000000</td>\n",
       "      <td>0.000000</td>\n",
       "      <td>0.000000</td>\n",
       "      <td>0.000000</td>\n",
       "      <td>0.000000</td>\n",
       "      <td>0.000000</td>\n",
       "      <td>0.000000</td>\n",
       "      <td>0.000000</td>\n",
       "      <td>1.100000e+01</td>\n",
       "      <td>0.150000</td>\n",
       "      <td>0.000000e+00</td>\n",
       "      <td>0.000000e+00</td>\n",
       "    </tr>\n",
       "    <tr>\n",
       "      <th>25%</th>\n",
       "      <td>84.000000</td>\n",
       "      <td>10.000000</td>\n",
       "      <td>14.500000</td>\n",
       "      <td>98.000000</td>\n",
       "      <td>12.000000</td>\n",
       "      <td>14.400000</td>\n",
       "      <td>12.000000</td>\n",
       "      <td>0.000000</td>\n",
       "      <td>0.000000</td>\n",
       "      <td>0.000000</td>\n",
       "      <td>0.000000</td>\n",
       "      <td>0.000000</td>\n",
       "      <td>0.000000</td>\n",
       "      <td>2.000000</td>\n",
       "      <td>2.250000</td>\n",
       "      <td>2.684050e+03</td>\n",
       "      <td>22.860000</td>\n",
       "      <td>5.324000e+01</td>\n",
       "      <td>8.181300e+02</td>\n",
       "    </tr>\n",
       "    <tr>\n",
       "      <th>50%</th>\n",
       "      <td>223.000000</td>\n",
       "      <td>25.000000</td>\n",
       "      <td>29.170000</td>\n",
       "      <td>99.000000</td>\n",
       "      <td>27.000000</td>\n",
       "      <td>29.200000</td>\n",
       "      <td>32.000000</td>\n",
       "      <td>0.000000</td>\n",
       "      <td>0.000000</td>\n",
       "      <td>1.000000</td>\n",
       "      <td>1.000000</td>\n",
       "      <td>0.000000</td>\n",
       "      <td>0.000000</td>\n",
       "      <td>5.000000</td>\n",
       "      <td>4.000000</td>\n",
       "      <td>4.533445e+03</td>\n",
       "      <td>70.110000</td>\n",
       "      <td>1.681800e+02</td>\n",
       "      <td>2.640025e+03</td>\n",
       "    </tr>\n",
       "    <tr>\n",
       "      <th>75%</th>\n",
       "      <td>470.000000</td>\n",
       "      <td>42.000000</td>\n",
       "      <td>44.500000</td>\n",
       "      <td>103.000000</td>\n",
       "      <td>43.000000</td>\n",
       "      <td>44.700000</td>\n",
       "      <td>80.000000</td>\n",
       "      <td>0.000000</td>\n",
       "      <td>0.000000</td>\n",
       "      <td>5.000000</td>\n",
       "      <td>6.000000</td>\n",
       "      <td>2.000000</td>\n",
       "      <td>0.000000</td>\n",
       "      <td>23.000000</td>\n",
       "      <td>7.602500</td>\n",
       "      <td>8.800000e+03</td>\n",
       "      <td>350.570000</td>\n",
       "      <td>8.031575e+02</td>\n",
       "      <td>1.270823e+04</td>\n",
       "    </tr>\n",
       "    <tr>\n",
       "      <th>max</th>\n",
       "      <td>1450.000000</td>\n",
       "      <td>59.000000</td>\n",
       "      <td>60.000000</td>\n",
       "      <td>117.000000</td>\n",
       "      <td>59.000000</td>\n",
       "      <td>83.000000</td>\n",
       "      <td>570.000000</td>\n",
       "      <td>3000.000000</td>\n",
       "      <td>755.000000</td>\n",
       "      <td>12755.000000</td>\n",
       "      <td>14000.000000</td>\n",
       "      <td>7069.000000</td>\n",
       "      <td>650.000000</td>\n",
       "      <td>21538.000000</td>\n",
       "      <td>220.000000</td>\n",
       "      <td>3.785356e+06</td>\n",
       "      <td>328282.200000</td>\n",
       "      <td>1.705756e+06</td>\n",
       "      <td>2.634777e+07</td>\n",
       "    </tr>\n",
       "  </tbody>\n",
       "</table>\n",
       "</div>"
      ],
      "text/plain": [
       "       Número de Incendio      Minutos     Segundos     Grados.1    Minutos.1  \\\n",
       "count         8872.000000  8872.000000  8872.000000  8872.000000  8872.000000   \n",
       "mean           321.784378    26.552750    29.518481    99.877480    27.684851   \n",
       "std            310.332721    17.943577    17.330145     9.732331    17.690869   \n",
       "min              1.000000     0.000000     0.000000  -101.000000     0.000000   \n",
       "25%             84.000000    10.000000    14.500000    98.000000    12.000000   \n",
       "50%            223.000000    25.000000    29.170000    99.000000    27.000000   \n",
       "75%            470.000000    42.000000    44.500000   103.000000    43.000000   \n",
       "max           1450.000000    59.000000    60.000000   117.000000    59.000000   \n",
       "\n",
       "        Segundos.1  Clave municipio  Arbolado Adulto      Renuevo  \\\n",
       "count  8872.000000      8872.000000      8872.000000  8872.000000   \n",
       "mean     29.526105        54.905207         2.432372     1.665577   \n",
       "std      17.477507        67.260830        44.084256    16.747957   \n",
       "min       0.000000         1.000000         0.000000     0.000000   \n",
       "25%      14.400000        12.000000         0.000000     0.000000   \n",
       "50%      29.200000        32.000000         0.000000     0.000000   \n",
       "75%      44.700000        80.000000         0.000000     0.000000   \n",
       "max      83.000000       570.000000      3000.000000   755.000000   \n",
       "\n",
       "          Arbustivo      Herbaceo    Hojarasca  Suelo Organico  \\\n",
       "count   8872.000000   8872.000000  8872.000000     8872.000000   \n",
       "mean      21.021190     32.638413    23.082732        0.595469   \n",
       "std      203.451119    331.118147   190.777683       11.336051   \n",
       "min        0.000000      0.000000     0.000000        0.000000   \n",
       "25%        0.000000      0.000000     0.000000        0.000000   \n",
       "50%        1.000000      1.000000     0.000000        0.000000   \n",
       "75%        5.000000      6.000000     2.000000        0.000000   \n",
       "max    12755.000000  14000.000000  7069.000000      650.000000   \n",
       "\n",
       "       Total Hectareas   Duracion H    Costos MXN  Superficie Salvada  \\\n",
       "count      8872.000000  8872.000000  8.872000e+03         8872.000000   \n",
       "mean         81.409829     6.204995  1.712718e+04         1239.907328   \n",
       "std         613.414613     6.292960  1.056273e+05         9349.790127   \n",
       "min           0.000000     0.000000  1.100000e+01            0.150000   \n",
       "25%           2.000000     2.250000  2.684050e+03           22.860000   \n",
       "50%           5.000000     4.000000  4.533445e+03           70.110000   \n",
       "75%          23.000000     7.602500  8.800000e+03          350.570000   \n",
       "max       21538.000000   220.000000  3.785356e+06       328282.200000   \n",
       "\n",
       "        CO2 emitido  CO2 Evito emitir  \n",
       "count  8.872000e+03      8.872000e+03  \n",
       "mean   2.982856e+03      4.680880e+04  \n",
       "std    2.631238e+04      4.128974e+05  \n",
       "min    0.000000e+00      0.000000e+00  \n",
       "25%    5.324000e+01      8.181300e+02  \n",
       "50%    1.681800e+02      2.640025e+03  \n",
       "75%    8.031575e+02      1.270823e+04  \n",
       "max    1.705756e+06      2.634777e+07  "
      ]
     },
     "execution_count": 14,
     "metadata": {},
     "output_type": "execute_result"
    }
   ],
   "source": [
    "#\n",
    "df.describe()"
   ]
  },
  {
   "cell_type": "markdown",
   "metadata": {},
   "source": [
    "<div class=\"alert alert-success\">\n",
    "    \n",
    "1. a) Encontrar el Total de Hectareas afectadas por estado. b) Encontrar el Total de Hectareas afectadas por estado, ordenando los datos de mayor a menor\n",
    "    \n",
    "</div> "
   ]
  },
  {
   "cell_type": "code",
   "execution_count": 36,
   "metadata": {},
   "outputs": [
    {
     "name": "stdout",
     "output_type": "stream",
     "text": [
      "El número de hectareas afectadas por estado está dado por la siguiente tabla:\n"
     ]
    },
    {
     "data": {
      "text/plain": [
       "Estado\n",
       "Aguascalientes           4734\n",
       "Baja California         50957\n",
       "Baja California Sur        77\n",
       "Campeche                13822\n",
       "Chiapas                 13021\n",
       "Chihuahua               87285\n",
       "Ciudad de México         2367\n",
       "Coahuila                10303\n",
       "Colima                   2031\n",
       "Durango                 40323\n",
       "Guanajuato               7665\n",
       "Guerrero                24079\n",
       "Hidalgo                  2978\n",
       "Jalisco                189816\n",
       "Michoacán               14452\n",
       "Morelos                  3422\n",
       "México                  11932\n",
       "Nayarit                 32299\n",
       "Nuevo León                733\n",
       "Oaxaca                  41718\n",
       "Puebla                  10571\n",
       "Querétaro                2556\n",
       "Quintana Roo             9628\n",
       "San Luis Potosí          4383\n",
       "Sinaloa                  3354\n",
       "Sonora                 101072\n",
       "Tabasco                   989\n",
       "Tamaulipas               2670\n",
       "Tlaxcala                 2452\n",
       "Veracruz                 3258\n",
       "Yucatán                 11012\n",
       "Zacatecas               16309\n",
       "Name: Total Hectareas, dtype: int64"
      ]
     },
     "execution_count": 36,
     "metadata": {},
     "output_type": "execute_result"
    }
   ],
   "source": [
    "print('El número de hectareas afectadas por estado está dado por la siguiente tabla:')\n",
    "df.groupby('Estado')['Total Hectareas'].sum()"
   ]
  },
  {
   "cell_type": "code",
   "execution_count": 38,
   "metadata": {},
   "outputs": [
    {
     "name": "stdout",
     "output_type": "stream",
     "text": [
      "Ordenando los datos:\n"
     ]
    },
    {
     "data": {
      "text/plain": [
       "Estado\n",
       "Jalisco                189816\n",
       "Sonora                 101072\n",
       "Chihuahua               87285\n",
       "Baja California         50957\n",
       "Oaxaca                  41718\n",
       "Durango                 40323\n",
       "Nayarit                 32299\n",
       "Guerrero                24079\n",
       "Zacatecas               16309\n",
       "Michoacán               14452\n",
       "Campeche                13822\n",
       "Chiapas                 13021\n",
       "México                  11932\n",
       "Yucatán                 11012\n",
       "Puebla                  10571\n",
       "Coahuila                10303\n",
       "Quintana Roo             9628\n",
       "Guanajuato               7665\n",
       "Aguascalientes           4734\n",
       "San Luis Potosí          4383\n",
       "Morelos                  3422\n",
       "Sinaloa                  3354\n",
       "Veracruz                 3258\n",
       "Hidalgo                  2978\n",
       "Tamaulipas               2670\n",
       "Querétaro                2556\n",
       "Tlaxcala                 2452\n",
       "Ciudad de México         2367\n",
       "Colima                   2031\n",
       "Tabasco                   989\n",
       "Nuevo León                733\n",
       "Baja California Sur        77\n",
       "Name: Total Hectareas, dtype: int64"
      ]
     },
     "execution_count": 38,
     "metadata": {},
     "output_type": "execute_result"
    }
   ],
   "source": [
    "print('Ordenando los datos:')\n",
    "df.groupby('Estado')['Total Hectareas'].sum().sort_values(ascending=False)"
   ]
  },
  {
   "cell_type": "markdown",
   "metadata": {},
   "source": [
    "<div class=\"alert alert-success\">\n",
    "    \n",
    "2. Encontrar el tiempo promedio de los incendios por estado, ordenando los datos de mayor a menor\n",
    "    \n",
    "</div> "
   ]
  },
  {
   "cell_type": "code",
   "execution_count": 41,
   "metadata": {},
   "outputs": [
    {
     "name": "stdout",
     "output_type": "stream",
     "text": [
      "El tiempo promedio de los incendios por estado está dado por la siguiente tabla:\n"
     ]
    },
    {
     "data": {
      "text/plain": [
       "Estado\n",
       "Tamaulipas             11.441176\n",
       "Sinaloa                11.405870\n",
       "Sonora                 11.177286\n",
       "Chiapas                10.777897\n",
       "Nayarit                10.327909\n",
       "Oaxaca                  9.135556\n",
       "Guanajuato              8.970185\n",
       "Tabasco                 8.933500\n",
       "Guerrero                8.809113\n",
       "Jalisco                 8.664519\n",
       "San Luis Potosí         8.568452\n",
       "Durango                 8.498481\n",
       "Quintana Roo            8.468750\n",
       "Nuevo León              8.028298\n",
       "Campeche                7.896552\n",
       "Zacatecas               7.497907\n",
       "Coahuila                7.068377\n",
       "Colima                  7.063452\n",
       "Querétaro               6.407778\n",
       "Aguascalientes          6.359241\n",
       "Michoacán               6.262907\n",
       "Veracruz                6.253992\n",
       "Yucatán                 6.250000\n",
       "Chihuahua               6.187698\n",
       "Puebla                  5.942788\n",
       "Baja California         5.672073\n",
       "Hidalgo                 4.665182\n",
       "Morelos                 4.315219\n",
       "Baja California Sur     3.868571\n",
       "Ciudad de México        3.497871\n",
       "México                  3.189738\n",
       "Tlaxcala                3.097314\n",
       "Name: Duracion H, dtype: float64"
      ]
     },
     "execution_count": 41,
     "metadata": {},
     "output_type": "execute_result"
    }
   ],
   "source": [
    "print('El tiempo promedio de los incendios por estado está dado por la siguiente tabla:')\n",
    "df.groupby('Estado')['Duracion H'].mean().sort_values(ascending=False)"
   ]
  },
  {
   "cell_type": "markdown",
   "metadata": {},
   "source": [
    "<div class=\"alert alert-success\">\n",
    "    \n",
    "3. ¿Cuáles son los diferentes tipos de causas de incendios según los datos?\n",
    "    \n",
    "</div> "
   ]
  },
  {
   "cell_type": "code",
   "execution_count": 46,
   "metadata": {},
   "outputs": [
    {
     "name": "stdout",
     "output_type": "stream",
     "text": [
      "Las causas de los incendios son:\n",
      "INTENCIONAL\n",
      "ACTIVIDADES AGROPECUARIAS\n",
      "FOGATAS\n",
      "FUMADORES\n",
      "OTRAS CAUSAS\n",
      "CAZADORES\n",
      "LIMPIAS DE DERECHO DE VÍA\n",
      "NATURALES\n",
      "QUEMA DE BASUREROS\n",
      "RESIDUOS DE APROVECHAMIENTO FORESTAL\n",
      "FESTIVIDADES Y RITUALES\n",
      "OTRAS ACTIVIDADES PRODUCTIVAS\n",
      "TRANSPORTES\n",
      "ACTIVIDADES \n",
      "AGROPECUARIAS\n",
      "FOGATAS \n"
     ]
    }
   ],
   "source": [
    "print('Las causas de los incendios son:')\n",
    "for causa in df['Causa'].unique():\n",
    "    print(causa)"
   ]
  },
  {
   "cell_type": "markdown",
   "metadata": {},
   "source": [
    "<div class=\"alert alert-success\">\n",
    "    \n",
    "4. ¿Cuál es el total de Hectáreas afectadas según las causas de los incendios? Ordenar los datos de mayor a menor\n",
    "\n",
    "    \n",
    "</div> "
   ]
  },
  {
   "cell_type": "code",
   "execution_count": 48,
   "metadata": {},
   "outputs": [
    {
     "name": "stdout",
     "output_type": "stream",
     "text": [
      "El número de hectareas afectadas por causa está dado por la siguiente tabla:\n"
     ]
    },
    {
     "data": {
      "text/plain": [
       "Causa\n",
       "OTRAS CAUSAS                            214272\n",
       "ACTIVIDADES AGROPECUARIAS               201373\n",
       "INTENCIONAL                              85343\n",
       "NATURALES                                79308\n",
       "FUMADORES                                46786\n",
       "FOGATAS                                  36452\n",
       "CAZADORES                                21384\n",
       "QUEMA DE BASUREROS                       17302\n",
       "LIMPIAS DE DERECHO DE VÍA                11168\n",
       "OTRAS ACTIVIDADES PRODUCTIVAS             7669\n",
       "RESIDUOS DE APROVECHAMIENTO FORESTAL       747\n",
       "TRANSPORTES                                294\n",
       "FESTIVIDADES Y RITUALES                    157\n",
       "ACTIVIDADES \\nAGROPECUARIAS                 11\n",
       "FOGATAS                                      2\n",
       "Name: Total Hectareas, dtype: int64"
      ]
     },
     "execution_count": 48,
     "metadata": {},
     "output_type": "execute_result"
    }
   ],
   "source": [
    "print('El número de hectareas afectadas por causa está dado por la siguiente tabla:')\n",
    "df.groupby('Causa')['Total Hectareas'].sum().sort_values(ascending=False)"
   ]
  },
  {
   "cell_type": "markdown",
   "metadata": {},
   "source": [
    "<div class=\"alert alert-success\">\n",
    "    \n",
    "5. ¿Cuáles son los diferentes tipos de impactos según los datos?\n",
    "    \n",
    "</div> "
   ]
  },
  {
   "cell_type": "code",
   "execution_count": 57,
   "metadata": {},
   "outputs": [
    {
     "name": "stdout",
     "output_type": "stream",
     "text": [
      "Los tipos de impacto son:\n",
      "IMPACTO MÍNIMO\n",
      "IMPACTO MODERADO\n",
      "IMPACTO SEVERO\n"
     ]
    }
   ],
   "source": [
    "print('Los tipos de impacto son:')\n",
    "for causa in df['Tipo Impacto'].unique():\n",
    "    print(causa)"
   ]
  },
  {
   "cell_type": "markdown",
   "metadata": {},
   "source": [
    "<div class=\"alert alert-success\">\n",
    "    \n",
    "6. ¿Cuáles es el total de costos por cada tipo de impacto ?\n",
    "    \n",
    "</div> "
   ]
  },
  {
   "cell_type": "code",
   "execution_count": 64,
   "metadata": {},
   "outputs": [
    {
     "name": "stdout",
     "output_type": "stream",
     "text": [
      "El total de pesos mexicanos que costaron los incendios, agrupados por tipo de impacto, son:\n"
     ]
    },
    {
     "data": {
      "text/plain": [
       "Tipo Impacto\n",
       "IMPACTO MODERADO    3.820436e+07\n",
       "IMPACTO MÍNIMO      1.057902e+08\n",
       "IMPACTO SEVERO      7.957767e+06\n",
       "Name: Costos MXN, dtype: float64"
      ]
     },
     "execution_count": 64,
     "metadata": {},
     "output_type": "execute_result"
    }
   ],
   "source": [
    "print('El total de pesos mexicanos que costaron los incendios, agrupados por tipo de impacto, son:')\n",
    "df.groupby('Tipo Impacto')['Costos MXN'].sum()"
   ]
  },
  {
   "cell_type": "markdown",
   "metadata": {},
   "source": [
    "<div class=\"alert alert-success\">\n",
    "    \n",
    "7. Muestre los 10 estados con mayor superficie afectada (Total Hectareas). ¿En que lugar esta Yucatán?\n",
    "    \n",
    "</div> "
   ]
  },
  {
   "cell_type": "code",
   "execution_count": 67,
   "metadata": {},
   "outputs": [
    {
     "name": "stdout",
     "output_type": "stream",
     "text": [
      "Los estados con mayor superficie afectada son:\n"
     ]
    },
    {
     "data": {
      "text/plain": [
       "Estado\n",
       "Jalisco            189816\n",
       "Sonora             101072\n",
       "Chihuahua           87285\n",
       "Baja California     50957\n",
       "Oaxaca              41718\n",
       "Durango             40323\n",
       "Nayarit             32299\n",
       "Guerrero            24079\n",
       "Zacatecas           16309\n",
       "Michoacán           14452\n",
       "Name: Total Hectareas, dtype: int64"
      ]
     },
     "execution_count": 67,
     "metadata": {},
     "output_type": "execute_result"
    }
   ],
   "source": [
    "print('Los estados con mayor superficie afectada son:')\n",
    "df.groupby('Estado')['Total Hectareas'].sum().sort_values(ascending=False).head(10)"
   ]
  },
  {
   "cell_type": "code",
   "execution_count": 84,
   "metadata": {},
   "outputs": [
    {
     "name": "stdout",
     "output_type": "stream",
     "text": [
      "Yucatán está en la posición número:\n"
     ]
    },
    {
     "data": {
      "text/plain": [
       "14"
      ]
     },
     "execution_count": 84,
     "metadata": {},
     "output_type": "execute_result"
    }
   ],
   "source": [
    "print('Yucatán está en la posición número:')\n",
    "df.groupby('Estado')['Total Hectareas'].sum().sort_values(ascending=False).keys().tolist().index('Yucatán') + 1"
   ]
  },
  {
   "cell_type": "markdown",
   "metadata": {},
   "source": [
    "<div class=\"alert alert-success\">\n",
    "    \n",
    "8. Definir un nuevo *DataFrame* llamado df_yucatan el cual solo tenga datos de Yucatan.  Muestre la efectación total de superficie (Total Hectareas) en los diferentes municipios en Yucatán\n",
    "    \n",
    "</div> "
   ]
  },
  {
   "cell_type": "code",
   "execution_count": 87,
   "metadata": {},
   "outputs": [
    {
     "data": {
      "text/html": [
       "<div>\n",
       "<style scoped>\n",
       "    .dataframe tbody tr th:only-of-type {\n",
       "        vertical-align: middle;\n",
       "    }\n",
       "\n",
       "    .dataframe tbody tr th {\n",
       "        vertical-align: top;\n",
       "    }\n",
       "\n",
       "    .dataframe thead th {\n",
       "        text-align: right;\n",
       "    }\n",
       "</style>\n",
       "<table border=\"1\" class=\"dataframe\">\n",
       "  <thead>\n",
       "    <tr style=\"text-align: right;\">\n",
       "      <th></th>\n",
       "      <th>Número de Incendio</th>\n",
       "      <th>Clave del incendio</th>\n",
       "      <th>Grados</th>\n",
       "      <th>Minutos</th>\n",
       "      <th>Segundos</th>\n",
       "      <th>Grados.1</th>\n",
       "      <th>Minutos.1</th>\n",
       "      <th>Segundos.1</th>\n",
       "      <th>Clave municipio</th>\n",
       "      <th>Estado</th>\n",
       "      <th>...</th>\n",
       "      <th>Tamaño</th>\n",
       "      <th>Deteccion</th>\n",
       "      <th>Llegada</th>\n",
       "      <th>Duracion HMS</th>\n",
       "      <th>Duracion H</th>\n",
       "      <th>Costos MXN</th>\n",
       "      <th>Superficie Salvada</th>\n",
       "      <th>CO2 emitido</th>\n",
       "      <th>CO2 Evito emitir</th>\n",
       "      <th>Region</th>\n",
       "    </tr>\n",
       "  </thead>\n",
       "  <tbody>\n",
       "    <tr>\n",
       "      <th>22</th>\n",
       "      <td>39</td>\n",
       "      <td>17-31-0039</td>\n",
       "      <td>21</td>\n",
       "      <td>27</td>\n",
       "      <td>20.20</td>\n",
       "      <td>87</td>\n",
       "      <td>41</td>\n",
       "      <td>48.50</td>\n",
       "      <td>96</td>\n",
       "      <td>Yucatán</td>\n",
       "      <td>...</td>\n",
       "      <td>Mayor a 100 Hectáreas</td>\n",
       "      <td>14:05:00</td>\n",
       "      <td>04:20:00</td>\n",
       "      <td>23:36:00</td>\n",
       "      <td>23.6</td>\n",
       "      <td>274550.0</td>\n",
       "      <td>1844.28</td>\n",
       "      <td>924.74</td>\n",
       "      <td>53296.43</td>\n",
       "      <td>Sureste</td>\n",
       "    </tr>\n",
       "    <tr>\n",
       "      <th>281</th>\n",
       "      <td>26</td>\n",
       "      <td>17-31-0026</td>\n",
       "      <td>19</td>\n",
       "      <td>42</td>\n",
       "      <td>35.90</td>\n",
       "      <td>89</td>\n",
       "      <td>27</td>\n",
       "      <td>31.80</td>\n",
       "      <td>79</td>\n",
       "      <td>Yucatán</td>\n",
       "      <td>...</td>\n",
       "      <td>Mayor a 100 Hectáreas</td>\n",
       "      <td>66:00:00</td>\n",
       "      <td>17:00:00</td>\n",
       "      <td>22:00:00</td>\n",
       "      <td>22.0</td>\n",
       "      <td>53553.0</td>\n",
       "      <td>2133.88</td>\n",
       "      <td>1155.93</td>\n",
       "      <td>61665.29</td>\n",
       "      <td>Sureste</td>\n",
       "    </tr>\n",
       "    <tr>\n",
       "      <th>302</th>\n",
       "      <td>103</td>\n",
       "      <td>17-31-0103</td>\n",
       "      <td>19</td>\n",
       "      <td>55</td>\n",
       "      <td>10.98</td>\n",
       "      <td>89</td>\n",
       "      <td>30</td>\n",
       "      <td>16.76</td>\n",
       "      <td>79</td>\n",
       "      <td>Yucatán</td>\n",
       "      <td>...</td>\n",
       "      <td>11 a 20 Hectáreas</td>\n",
       "      <td>00:30:00</td>\n",
       "      <td>02:00:00</td>\n",
       "      <td>22:00:00</td>\n",
       "      <td>22.0</td>\n",
       "      <td>8130.0</td>\n",
       "      <td>167.66</td>\n",
       "      <td>317.88</td>\n",
       "      <td>4845.13</td>\n",
       "      <td>Sureste</td>\n",
       "    </tr>\n",
       "    <tr>\n",
       "      <th>414</th>\n",
       "      <td>102</td>\n",
       "      <td>17-31-0102</td>\n",
       "      <td>20</td>\n",
       "      <td>9</td>\n",
       "      <td>44.11</td>\n",
       "      <td>89</td>\n",
       "      <td>20</td>\n",
       "      <td>58.82</td>\n",
       "      <td>79</td>\n",
       "      <td>Yucatán</td>\n",
       "      <td>...</td>\n",
       "      <td>21 a 50 Hectáreas</td>\n",
       "      <td>00:20:00</td>\n",
       "      <td>01:10:00</td>\n",
       "      <td>21:00:00</td>\n",
       "      <td>21.0</td>\n",
       "      <td>12850.0</td>\n",
       "      <td>506.03</td>\n",
       "      <td>959.42</td>\n",
       "      <td>14623.48</td>\n",
       "      <td>Sureste</td>\n",
       "    </tr>\n",
       "    <tr>\n",
       "      <th>526</th>\n",
       "      <td>31</td>\n",
       "      <td>17-31-0031</td>\n",
       "      <td>21</td>\n",
       "      <td>34</td>\n",
       "      <td>25.45</td>\n",
       "      <td>88</td>\n",
       "      <td>5</td>\n",
       "      <td>1.84</td>\n",
       "      <td>61</td>\n",
       "      <td>Yucatán</td>\n",
       "      <td>...</td>\n",
       "      <td>Mayor a 100 Hectáreas</td>\n",
       "      <td>02:00:00</td>\n",
       "      <td>06:00:00</td>\n",
       "      <td>20:00:00</td>\n",
       "      <td>20.0</td>\n",
       "      <td>76520.0</td>\n",
       "      <td>19875.57</td>\n",
       "      <td>16195.81</td>\n",
       "      <td>246856.54</td>\n",
       "      <td>Sureste</td>\n",
       "    </tr>\n",
       "  </tbody>\n",
       "</table>\n",
       "<p>5 rows × 37 columns</p>\n",
       "</div>"
      ],
      "text/plain": [
       "     Número de Incendio Clave del incendio Grados  Minutos  Segundos  \\\n",
       "22                   39         17-31-0039     21       27     20.20   \n",
       "281                  26         17-31-0026     19       42     35.90   \n",
       "302                 103         17-31-0103     19       55     10.98   \n",
       "414                 102         17-31-0102     20        9     44.11   \n",
       "526                  31         17-31-0031     21       34     25.45   \n",
       "\n",
       "     Grados.1  Minutos.1  Segundos.1  Clave municipio   Estado  ...  \\\n",
       "22         87         41       48.50               96  Yucatán  ...   \n",
       "281        89         27       31.80               79  Yucatán  ...   \n",
       "302        89         30       16.76               79  Yucatán  ...   \n",
       "414        89         20       58.82               79  Yucatán  ...   \n",
       "526        88          5        1.84               61  Yucatán  ...   \n",
       "\n",
       "                    Tamaño Deteccion   Llegada Duracion HMS Duracion H  \\\n",
       "22   Mayor a 100 Hectáreas  14:05:00  04:20:00     23:36:00       23.6   \n",
       "281  Mayor a 100 Hectáreas  66:00:00  17:00:00     22:00:00       22.0   \n",
       "302      11 a 20 Hectáreas  00:30:00  02:00:00     22:00:00       22.0   \n",
       "414      21 a 50 Hectáreas  00:20:00  01:10:00     21:00:00       21.0   \n",
       "526  Mayor a 100 Hectáreas  02:00:00  06:00:00     20:00:00       20.0   \n",
       "\n",
       "    Costos MXN Superficie Salvada CO2 emitido CO2 Evito emitir   Region  \n",
       "22    274550.0            1844.28      924.74         53296.43  Sureste  \n",
       "281    53553.0            2133.88     1155.93         61665.29  Sureste  \n",
       "302     8130.0             167.66      317.88          4845.13  Sureste  \n",
       "414    12850.0             506.03      959.42         14623.48  Sureste  \n",
       "526    76520.0           19875.57    16195.81        246856.54  Sureste  \n",
       "\n",
       "[5 rows x 37 columns]"
      ]
     },
     "execution_count": 87,
     "metadata": {},
     "output_type": "execute_result"
    }
   ],
   "source": [
    "df_yucatan = df[df['Estado'] == 'Yucatán']\n",
    "df_yucatan.head()"
   ]
  },
  {
   "cell_type": "code",
   "execution_count": 89,
   "metadata": {},
   "outputs": [
    {
     "name": "stdout",
     "output_type": "stream",
     "text": [
      "El total de hectareas afectadas por municipio son:\n"
     ]
    },
    {
     "data": {
      "text/plain": [
       "Municipio\n",
       "Abalá               308\n",
       "Cacalchén           900\n",
       "Calotmul             60\n",
       "Celestún              2\n",
       "Chemax               94\n",
       "Dzilam de Bravo     904\n",
       "Hunucmá            1643\n",
       "Izamal              331\n",
       "Mocochá             110\n",
       "Motul                87\n",
       "Oxkutzcab            20\n",
       "Río Lagartos       1304\n",
       "Sacalum             243\n",
       "TEKAX                 3\n",
       "Tekax               628\n",
       "Tekit               575\n",
       "Temozón              23\n",
       "Tetiz                35\n",
       "Tixkokob           1031\n",
       "Tizimín            1654\n",
       "Tzucacab            611\n",
       "Valladolid           63\n",
       "Yaxcabá             383\n",
       "Name: Total Hectareas, dtype: int64"
      ]
     },
     "execution_count": 89,
     "metadata": {},
     "output_type": "execute_result"
    }
   ],
   "source": [
    "print('El total de hectareas afectadas por municipio son:')\n",
    "df_yucatan.groupby('Municipio')['Total Hectareas'].sum()"
   ]
  },
  {
   "cell_type": "markdown",
   "metadata": {},
   "source": [
    "<div class=\"alert alert-success\">\n",
    "    \n",
    "9. Utilizando *DataFrame* \"df_yucatan\", muestre la afectación total de superficie en los diferentes meses (Mes Acontecimiento) ordenado de Mayor a menor. ¿Cuál es el mes más propenso a los incendios?\n",
    "    \n",
    "</div> "
   ]
  },
  {
   "cell_type": "code",
   "execution_count": 93,
   "metadata": {},
   "outputs": [
    {
     "name": "stdout",
     "output_type": "stream",
     "text": [
      "El total de hectareas afectadas divididas por mes es:\n"
     ]
    },
    {
     "data": {
      "text/plain": [
       "Mes Acontecimiento\n",
       "marzo      4324\n",
       "mayo       1943\n",
       "agosto     1928\n",
       "febrero    1566\n",
       "abril       975\n",
       "enero       276\n",
       "Name: Total Hectareas, dtype: int64"
      ]
     },
     "execution_count": 93,
     "metadata": {},
     "output_type": "execute_result"
    }
   ],
   "source": [
    "print('El total de hectareas afectadas divididas por mes es:')\n",
    "df_yucatan.groupby('Mes Acontecimiento')['Total Hectareas'].sum().sort_values(ascending=False)"
   ]
  },
  {
   "cell_type": "code",
   "execution_count": 97,
   "metadata": {},
   "outputs": [
    {
     "name": "stdout",
     "output_type": "stream",
     "text": [
      "En donde se observa que el mes más propenso a los incendios es: marzo\n"
     ]
    }
   ],
   "source": [
    "print('En donde se observa que el mes más propenso a los incendios es:', \n",
    "      df_yucatan.groupby('Mes Acontecimiento')['Total Hectareas'].sum().sort_values(ascending=False).index[0])"
   ]
  },
  {
   "cell_type": "markdown",
   "metadata": {},
   "source": [
    "<div class=\"alert alert-success\">\n",
    "    \n",
    "10. Utilizando el *DataFrame* \"df_yucatan\", muestre los costos de los incendios en los diferentes municipios en Yucatán\n",
    "    \n",
    "</div> \n",
    "    \n",
    "</div> "
   ]
  },
  {
   "cell_type": "code",
   "execution_count": 100,
   "metadata": {},
   "outputs": [
    {
     "name": "stdout",
     "output_type": "stream",
     "text": [
      "El total de pesos mexicanos que costaron los incendios, agrupados por municipio, son:\n"
     ]
    },
    {
     "data": {
      "text/plain": [
       "Municipio\n",
       "Abalá               184965.0\n",
       "Cacalchén           744736.0\n",
       "Calotmul            106200.0\n",
       "Celestún              2300.0\n",
       "Chemax               62510.0\n",
       "Dzilam de Bravo     384021.0\n",
       "Hunucmá            1216936.0\n",
       "Izamal               37260.0\n",
       "Mocochá              73432.0\n",
       "Motul                52540.0\n",
       "Oxkutzcab            70130.0\n",
       "Río Lagartos         76520.0\n",
       "Sacalum             177590.0\n",
       "TEKAX                12595.0\n",
       "Tekax               292368.0\n",
       "Tekit               199360.0\n",
       "Temozón               7980.0\n",
       "Tetiz                13200.0\n",
       "Tixkokob            789645.0\n",
       "Tizimín             405535.0\n",
       "Tzucacab            234890.0\n",
       "Valladolid           46820.0\n",
       "Yaxcabá              22890.0\n",
       "Name: Costos MXN, dtype: float64"
      ]
     },
     "execution_count": 100,
     "metadata": {},
     "output_type": "execute_result"
    }
   ],
   "source": [
    "print('El total de pesos mexicanos que costaron los incendios, agrupados por municipio, son:')\n",
    "df_yucatan.groupby('Municipio')['Costos MXN'].sum()"
   ]
  }
 ],
 "metadata": {
  "kernelspec": {
   "display_name": "Python 3 (ipykernel)",
   "language": "python",
   "name": "python3"
  },
  "language_info": {
   "codemirror_mode": {
    "name": "ipython",
    "version": 3
   },
   "file_extension": ".py",
   "mimetype": "text/x-python",
   "name": "python",
   "nbconvert_exporter": "python",
   "pygments_lexer": "ipython3",
   "version": "3.11.4"
  }
 },
 "nbformat": 4,
 "nbformat_minor": 4
}
