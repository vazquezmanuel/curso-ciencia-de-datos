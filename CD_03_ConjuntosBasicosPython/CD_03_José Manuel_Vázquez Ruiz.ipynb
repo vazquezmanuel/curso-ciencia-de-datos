{
 "cells": [
  {
   "cell_type": "markdown",
   "metadata": {},
   "source": [
    "<!--Información del curso-->\n",
    "<img align=\"left\" style=\"padding-right:10px;\" src=\"figuras/logo_ciencia_datos.png\">"
   ]
  },
  {
   "cell_type": "markdown",
   "metadata": {},
   "source": [
    "<center><h1 style=\"font-size:2em;color:#2467C0\">  Caso de estudio </h1></center>\n",
    "\n",
    "<center><h4 style=\"font-size:2em;color:#840700\">  Incendios forestales  </h4></center>\n",
    "\n",
    "<br>\n",
    "<table>\n",
    "<col width=\"550\">\n",
    "<col width=\"450\">\n",
    "<tr>\n",
    "<td><img src=\"figuras/Incendio.jpg\" align=\"middle\" style=\"width:500px\"/></td>\n",
    "<td align=\"left-align\">\n",
    "\n",
    "En México, se registran anualmente un promedio de 8 mil incendios forestales que afectan los diferentes ecosistemas terrestres en diversos grados. El año de 1998 ha sido considerado el de mayor desastre a nivel nacional, con 14 mil 428 incendios y 848 mil 960 hectáreas afectadas.  \n",
    "\n",
    "https://datos.gob.mx/busca/dataset/incendios-forestales\n",
    "\n",
    " <br>\n",
    "</td>\n",
    "</tr>\n",
    "</table>"
   ]
  },
  {
   "cell_type": "markdown",
   "metadata": {},
   "source": [
    "# Librerías"
   ]
  },
  {
   "cell_type": "markdown",
   "metadata": {
    "collapsed": true,
    "jupyter": {
     "outputs_hidden": true
    }
   },
   "source": [
    "Cargamos las bibliotecas que necesitamos "
   ]
  },
  {
   "cell_type": "code",
   "execution_count": 1,
   "metadata": {},
   "outputs": [],
   "source": [
    "import csv\n",
    "import matplotlib.pyplot as plt"
   ]
  },
  {
   "cell_type": "markdown",
   "metadata": {},
   "source": [
    "# Información de los datos\n",
    "\n",
    "Fuente:\n",
    "https://datos.gob.mx/busca/dataset/incendios-forestales"
   ]
  },
  {
   "cell_type": "code",
   "execution_count": 2,
   "metadata": {},
   "outputs": [
    {
     "name": "stdout",
     "output_type": "stream",
     "text": [
      "[['Año', 'Clave del incendio', 'latitud_grados', 'latitud_minutos', 'latitud_segundos', 'Latitud', 'longitud_grados', 'longitud_minutos', 'longitud_segundos', 'Longitud', 'Clave Municipio', 'Estado', 'Municipio', 'CVE_ENT', 'CVE_MUN', 'CVEGEO', 'Región', 'Predio', 'Causa', 'Causa especifica', 'Fecha Inicio', 'Fecha Termino', 'Duración días', 'Tipo de incendio', 'Tipo Vegetación', 'Régimen de fuego', 'Tipo impacto', 'Arbolado Adulto', 'Renuevo', 'Arbustivo', 'Herbáceo', 'Hojarasca', 'Total hectáreas', 'Tamaño', 'Detección', 'Llegada', 'Duración'], ['2021', '21-01-0001', '21', '59', '53.79', '21.998275', '102', '13', '53.7', '-102.2315833', '11', 'Aguascalientes', 'San Francisco de los Romo', '1', '11', '1011', 'Occidente', 'La Reserva de Mezquite', 'Fumadores', 'Ninguna / No aplica', '44200', '44200', '1 Día', 'Superficial', 'Matorral Crasicaule', 'Otros', 'Impacto Mínimo', '0', '0', '0', '10.15', '0', '10.15', '11 a 20 Hectáreas', '0.006944444', '0.003472222', '0.131944444']]\n"
     ]
    }
   ],
   "source": [
    "#  En caso de error, cerrar y colocar en el CMD\n",
    "#  jupyter notebook --NotebookApp.iopub_data_rate_limit=1e10\n",
    "\n",
    "with open('datos/BD_IncendiosSNIF_2021.csv', encoding='ISO-8859-1') as archivo_csv:\n",
    "    datos_csv = csv.reader(archivo_csv)\n",
    "    # print(list(datos_csv))\n",
    "    print(list(datos_csv)[0:2])"
   ]
  },
  {
   "cell_type": "code",
   "execution_count": 3,
   "metadata": {},
   "outputs": [
    {
     "name": "stdout",
     "output_type": "stream",
     "text": [
      "0 Año\n",
      "1 Clave del incendio\n",
      "2 latitud_grados\n",
      "3 latitud_minutos\n",
      "4 latitud_segundos\n",
      "5 Latitud\n",
      "6 longitud_grados\n",
      "7 longitud_minutos\n",
      "8 longitud_segundos\n",
      "9 Longitud\n",
      "10 Clave Municipio\n",
      "11 Estado\n",
      "12 Municipio\n",
      "13 CVE_ENT\n",
      "14 CVE_MUN\n",
      "15 CVEGEO\n",
      "16 Región\n",
      "17 Predio\n",
      "18 Causa\n",
      "19 Causa especifica\n",
      "20 Fecha Inicio\n",
      "21 Fecha Termino\n",
      "22 Duración días\n",
      "23 Tipo de incendio\n",
      "24 Tipo Vegetación\n",
      "25 Régimen de fuego\n",
      "26 Tipo impacto\n",
      "27 Arbolado Adulto\n",
      "28 Renuevo\n",
      "29 Arbustivo\n",
      "30 Herbáceo\n",
      "31 Hojarasca\n",
      "32 Total hectáreas\n",
      "33 Tamaño\n",
      "34 Detección\n",
      "35 Llegada\n",
      "36 Duración\n"
     ]
    }
   ],
   "source": [
    "# Obtener los índices\n",
    "i = 0\n",
    "with open('datos/BD_IncendiosSNIF_2021.csv', encoding='ISO-8859-1') as archivo_csv:\n",
    "    datos_csv = list(csv.reader(archivo_csv))\n",
    "    for dato in datos_csv[0]:\n",
    "        print(i, dato)\n",
    "        i += 1"
   ]
  },
  {
   "cell_type": "markdown",
   "metadata": {},
   "source": [
    "# TAREA"
   ]
  },
  {
   "cell_type": "markdown",
   "metadata": {},
   "source": [
    "<div class=\"alert alert-success\">\n",
    " <ul>\n",
    "  <li>1. Encuentre el total  de hectáreas afectadas </li>\n",
    "\n",
    "</ul> \n",
    "\n",
    "</div>"
   ]
  },
  {
   "cell_type": "code",
   "execution_count": 4,
   "metadata": {},
   "outputs": [
    {
     "name": "stdout",
     "output_type": "stream",
     "text": [
      "Fueron afectadas 660734.5697619981 hectareas.\n"
     ]
    }
   ],
   "source": [
    "hectareas = 0\n",
    "\n",
    "with open('datos/BD_IncendiosSNIF_2021.csv', encoding='ISO-8859-1') as archivo_csv:\n",
    "    next(archivo_csv)\n",
    "    datos_csv = list(csv.reader(archivo_csv))\n",
    "    \n",
    "for dato in datos_csv:\n",
    "    hectareas += float(dato[32])\n",
    "\n",
    "print(f'Fueron afectadas {hectareas} hectareas.')"
   ]
  },
  {
   "cell_type": "markdown",
   "metadata": {},
   "source": [
    "<div class=\"alert alert-success\">\n",
    " <ul>\n",
    "  <li>2. ¿En donde fue (estado y municipio) el incendio con mayor número de hectáreas afectadas y cuantas fueron  ?</li>\n",
    "\n",
    "</ul> \n",
    "\n",
    "</div>"
   ]
  },
  {
   "cell_type": "code",
   "execution_count": 5,
   "metadata": {},
   "outputs": [
    {
     "name": "stdout",
     "output_type": "stream",
     "text": [
      "En Coyuca de Catalán, Guerrero se obtuvo el incendio con mayor número de hectareas afectadas, con un total de 19102.32 hectareas.\n"
     ]
    }
   ],
   "source": [
    "lista_hectareas = []\n",
    "\n",
    "with open('datos/BD_IncendiosSNIF_2021.csv', encoding='ISO-8859-1') as archivo_csv:\n",
    "    next(archivo_csv)\n",
    "    datos_csv = list(csv.reader(archivo_csv))\n",
    "\n",
    "for dato in datos_csv:\n",
    "    lista_hectareas.append(float(dato[32]))\n",
    "\n",
    "max_hectareas = max(lista_hectareas)\n",
    "\n",
    "for dato in datos_csv:\n",
    "    if max_hectareas == float(dato[32]):\n",
    "        print(f'En {dato[12]}, {dato[11]} se obtuvo el incendio con mayor número de hectareas afectadas, con un total de {max_hectareas} hectareas.')\n",
    "        break"
   ]
  },
  {
   "cell_type": "markdown",
   "metadata": {},
   "source": [
    "<div class=\"alert alert-success\">\n",
    " <ul>\n",
    "  <li>3. Encuentre el número de incendios por tipo </li>\n",
    "     \n",
    "* De copa\n",
    "* Mixto\n",
    "* Subterráneo\n",
    "* Superficial\n",
    "\n",
    "</ul> \n",
    "\n",
    "</div>"
   ]
  },
  {
   "cell_type": "code",
   "execution_count": 6,
   "metadata": {},
   "outputs": [
    {
     "name": "stdout",
     "output_type": "stream",
     "text": [
      "En total, los números de incendios, clasificados por su tipo, son:\n",
      "Superficial: 6971\n",
      "Mixto: 353\n",
      "De copa: 1\n",
      "Subterráneo: 11\n",
      "superficial: 1\n"
     ]
    }
   ],
   "source": [
    "tipos_incendio = {}\n",
    "\n",
    "with open('datos/BD_IncendiosSNIF_2021.csv', encoding='ISO-8859-1') as archivo_csv:\n",
    "    next(archivo_csv)\n",
    "    datos_csv = list(csv.reader(archivo_csv))\n",
    "    \n",
    "for dato in datos_csv:\n",
    "    tipos_incendio[dato[23]] = tipos_incendio.get(dato[23], 0) + 1\n",
    "\n",
    "print('En total, los números de incendios, clasificados por su tipo, son:')\n",
    "for key, value in tipos_incendio.items():\n",
    "    print(key + ':', value)"
   ]
  },
  {
   "cell_type": "markdown",
   "metadata": {},
   "source": [
    "\n",
    "\n",
    "\n",
    "NOTA: En el dataset hay un dato cuyo tipo de incendio no inicia en mayúscula, esto se puede arreglar poniendo la palabra en minúsculas o en mayúsculas, quedando:"
   ]
  },
  {
   "cell_type": "code",
   "execution_count": 7,
   "metadata": {},
   "outputs": [
    {
     "name": "stdout",
     "output_type": "stream",
     "text": [
      "En total, los números de incendios, clasificados por su tipo, son:\n",
      "SUPERFICIAL: 6972\n",
      "MIXTO: 353\n",
      "DE COPA: 1\n",
      "SUBTERRÁNEO: 11\n"
     ]
    }
   ],
   "source": [
    "tipos_incendio = {}\n",
    "\n",
    "with open('datos/BD_IncendiosSNIF_2021.csv', encoding='ISO-8859-1') as archivo_csv:\n",
    "    next(archivo_csv)\n",
    "    datos_csv = list(csv.reader(archivo_csv))\n",
    "    \n",
    "for dato in datos_csv:\n",
    "    tipos_incendio[dato[23].upper()] = tipos_incendio.get(dato[23].upper(), 0) + 1\n",
    "\n",
    "print('En total, los números de incendios, clasificados por su tipo, son:')\n",
    "for key, value in tipos_incendio.items():\n",
    "    print(key + ':', value)"
   ]
  },
  {
   "cell_type": "markdown",
   "metadata": {},
   "source": [
    "<div class=\"alert alert-success\">\n",
    " <ul>\n",
    "  <li>4. Encuentre el número de incendios reportados por estado </li>\n",
    "     \n",
    "</ul> \n",
    "\n",
    "</div>"
   ]
  },
  {
   "cell_type": "code",
   "execution_count": 8,
   "metadata": {},
   "outputs": [
    {
     "name": "stdout",
     "output_type": "stream",
     "text": [
      "En total, los números de incendios, por estado, son:\n",
      "Aguascalientes: 37\n",
      "Baja California: 79\n",
      "Baja California Sur: 5\n",
      "Campeche: 5\n",
      "Chiapas: 278\n",
      "Chihuahua: 657\n",
      "Ciudad de México: 896\n",
      "Coahuila: 53\n",
      "Colima: 38\n",
      "Durango: 270\n",
      "Guanajuato: 25\n",
      "Guerrero: 198\n",
      "Hidalgo: 70\n",
      "Jalisco: 1031\n",
      "México: 1494\n",
      "Michoacán: 636\n",
      "Morelos: 154\n",
      "Nayarit: 103\n",
      "Nuevo León: 51\n",
      "Oaxaca: 151\n",
      "Puebla: 313\n",
      "Querétaro: 51\n",
      "Quintana Roo: 33\n",
      "San Luis Potosí: 78\n",
      "Sinaloa: 23\n",
      "Sonora: 31\n",
      "Tabasco: 12\n",
      "Tamaulipas: 25\n",
      "Tlaxcala: 275\n",
      "Veracruz: 158\n",
      "Yucatán: 15\n",
      "Zacatecas: 92\n"
     ]
    }
   ],
   "source": [
    "estados = {}\n",
    "\n",
    "with open('datos/BD_IncendiosSNIF_2021.csv', encoding='ISO-8859-1') as archivo_csv:\n",
    "    next(archivo_csv)\n",
    "    datos_csv = list(csv.reader(archivo_csv))\n",
    "\n",
    "for dato in datos_csv:\n",
    "    estados[dato[11]] = estados.get(dato[11], 0) + 1\n",
    "\n",
    "print('En total, los números de incendios, por estado, son:')\n",
    "for key, value in estados.items():\n",
    "    print(key + ':', value)"
   ]
  },
  {
   "cell_type": "markdown",
   "metadata": {},
   "source": [
    "<div class=\"alert alert-success\">\n",
    " <ul>\n",
    "  <li> 5. Encuentre el número de incendios reportados en los municipios de Yucatán </li>\n",
    "</ul> \n",
    "\n",
    "</div>"
   ]
  },
  {
   "cell_type": "code",
   "execution_count": 9,
   "metadata": {},
   "outputs": [
    {
     "name": "stdout",
     "output_type": "stream",
     "text": [
      "En Yucatán, hubieron 15 incendios. Los municipios afectados fueron:\n",
      "Progreso: 1\n",
      "Maxcanú: 1\n",
      "Dzemul: 2\n",
      "Halachó: 1\n",
      "Conkal: 1\n",
      "Yaxkukul: 1\n",
      "Chemax: 4\n",
      "Chocholá: 1\n",
      "Tixkokob: 1\n",
      "Umán: 1\n",
      "Tekax: 1\n"
     ]
    }
   ],
   "source": [
    "municipios = {}\n",
    "incendios = 0\n",
    "\n",
    "with open('datos/BD_IncendiosSNIF_2021.csv', encoding='ISO-8859-1') as archivo_csv:\n",
    "    next(archivo_csv)\n",
    "    datos_csv = list(csv.reader(archivo_csv))\n",
    "\n",
    "for dato in datos_csv:\n",
    "    if dato[11] == 'Yucatán':\n",
    "        incendios += 1\n",
    "        municipios[dato[12]] = municipios.get(dato[12], 0) + 1\n",
    "\n",
    "print(f'En Yucatán, hubieron {incendios} incendios. Los municipios afectados fueron:')\n",
    "for key, value in municipios.items():\n",
    "    print(key + ':', value)"
   ]
  }
 ],
 "metadata": {
  "kernelspec": {
   "display_name": "Python 3 (ipykernel)",
   "language": "python",
   "name": "python3"
  },
  "language_info": {
   "codemirror_mode": {
    "name": "ipython",
    "version": 3
   },
   "file_extension": ".py",
   "mimetype": "text/x-python",
   "name": "python",
   "nbconvert_exporter": "python",
   "pygments_lexer": "ipython3",
   "version": "3.11.4"
  }
 },
 "nbformat": 4,
 "nbformat_minor": 4
}
