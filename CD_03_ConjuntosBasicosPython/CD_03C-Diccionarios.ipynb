{
 "cells": [
  {
   "cell_type": "markdown",
   "metadata": {},
   "source": [
    "<!--Información del curso-->\n",
    "<img align=\"left\" style=\"padding-right:10px;\" src=\"figuras/logo_cd.png\">"
   ]
  },
  {
   "cell_type": "markdown",
   "metadata": {},
   "source": [
    "<center><h1 style=\"font-size:2em;color:#2467C0\"> Diccionarios </h1></center>\n",
    "<br>\n",
    "<table>\n",
    "<col width=\"550\">\n",
    "<col width=\"450\">\n",
    "<tr>\n",
    "<td><img src=\"figuras/diccionarios_listas.png\" align=\"middle\" style=\"width:600px\"/></td>\n",
    "<td>\n",
    "    \n",
    "\n",
    "Un **Diccionario** es una estructura de datos y un tipo de dato en Python con características especiales que nos permite almacenar cualquier tipo de valor como enteros, cadenas, listas e incluso otras funciones. Estos diccionarios nos permiten además identificar cada elemento por una clave (*Key*).    \n",
    "\n",
    "    \n",
    "</td>\n",
    "</tr>\n",
    "</table>"
   ]
  },
  {
   "cell_type": "markdown",
   "metadata": {},
   "source": [
    "# Introducción "
   ]
  },
  {
   "cell_type": "markdown",
   "metadata": {},
   "source": [
    "## ¿Que es una colección? \n",
    "\n",
    "* Es una variable que contiene diferentes elementos\n",
    "\n",
    "* Tiene una forma de indexar, de buscar y manipular a los elementos contenidos.\n",
    "\n",
    "## ¿Que no es una“Coleccion”? \n",
    "\n",
    "* Variables que tienen solo un valor\n",
    "\n",
    "```python\n",
    ">>> x = 2\n",
    ">>> x = 4\n",
    ">>> print(x)\n",
    "4\n",
    "``` \n",
    "\n",
    "## Dos tipos de colecciones:\n",
    "\n",
    "**Lista**\n",
    "* Una colección lineal de valores que se mantienen en orden.\n",
    "\n",
    "**Diccionario**\n",
    "\n",
    "* Una “mochila personal”, con objetos donde cada  uno tiene  su propia etiqueta.\n",
    "* Los diccionarios son la colección de datos más poderosa de Python.\n",
    "* Los diccionarios nos permiten realizar operaciones rápidas similares a bases de datos\n",
    "\n",
    "\n",
    "<img align=\"left\" width=\"300\"  float= \"none\" align=\"middle\" src=\"figuras/mochila.png\">\n",
    "\n"
   ]
  },
  {
   "cell_type": "markdown",
   "metadata": {},
   "source": [
    "\n",
    "\n",
    "## Listas Vs Diccionarios\n",
    "\n",
    "En Python, tanto las listas como los diccionarios son tipos de datos que se utilizan para almacenar y organizar elementos. Sin embargo, hay diferencias importantes entre ellos en cuanto a su estructura y forma de acceso a los elementos.\n",
    "\n",
    "* Estructura y orden: Una lista en Python es una colección ordenada de elementos, lo que significa que los elementos se almacenan en un orden específico y se accede a ellos mediante índices numéricos. Por otro lado, un diccionario es una colección no ordenada de pares clave-valor, donde cada elemento se almacena como un par de clave y valor asociados. Los elementos en un diccionario no tienen un orden definido y se accede a ellos a través de sus claves en lugar de índices.\n",
    "\n",
    "* Acceso a los elementos: En una lista, los elementos se acceden mediante índices numéricos, comenzando desde 0. Por ejemplo, **mi_lista[0]** accedería al primer elemento de la lista. En cambio, en un diccionario, los elementos se acceden mediante sus claves. Por ejemplo, **mi_diccionario['clave']** devolvería el valor asociado a la clave 'clave'. Las claves en un diccionario deben ser únicas, lo que permite una búsqueda eficiente de elementos según su clave.\n",
    "\n",
    "* Mutabilidad: Tanto las listas como los diccionarios son mutables, lo que significa que se pueden modificar después de su creación. En una lista, puedes cambiar, agregar o eliminar elementos mediante métodos como *append(), insert(), remove()*, entre otros. En un diccionario, puedes modificar el valor asociado a una clave existente, agregar nuevas claves y valores, o eliminar elementos mediante operaciones como la asignación directa de valores o el uso de los métodos *update() y del*.\n",
    "\n",
    "Aquí tienes un ejemplo que ilustra las diferencias entre una lista y un diccionario:\n",
    "\n",
    "```python\n",
    "# Ejemplo de una lista\n",
    "mi_lista = ['manzana', 'banana', 'naranja']\n",
    "print(mi_lista[0])  # Acceso a elementos por índice\n",
    "\n",
    "# Ejemplo de un diccionario\n",
    "mi_diccionario = {'fruta1': 'manzana', 'fruta2': 'banana', 'fruta3': 'naranja'}\n",
    "print(mi_diccionario['fruta1'])  # Acceso a elementos por clave\n",
    "```    \n",
    "\n",
    "En resumen, una lista es una colección ordenada de elementos accesibles mediante índices numéricos, mientras que un diccionario es una colección no ordenada de pares clave-valor, donde los elementos se acceden mediante sus claves. Las listas son útiles cuando se necesita un orden específico y se accede a los elementos principalmente por su posición, mientras que los diccionarios son útiles cuando se necesita una búsqueda eficiente de elementos por sus claves.\n",
    "\n",
    "\n"
   ]
  },
  {
   "cell_type": "code",
   "execution_count": 1,
   "metadata": {},
   "outputs": [
    {
     "name": "stdout",
     "output_type": "stream",
     "text": [
      "<class 'dict'>\n",
      "{}\n"
     ]
    }
   ],
   "source": [
    "#Ejemplo de creación de un diccionario\n",
    "mochila = {}\n",
    "print(type(mochila))\n",
    "print(mochila)"
   ]
  },
  {
   "cell_type": "code",
   "execution_count": 2,
   "metadata": {},
   "outputs": [],
   "source": [
    "mochila['dinero'] = 120\n",
    "mochila['chicles'] = 'Menta'\n",
    "mochila['llaves'] = True"
   ]
  },
  {
   "cell_type": "code",
   "execution_count": 3,
   "metadata": {},
   "outputs": [
    {
     "name": "stdout",
     "output_type": "stream",
     "text": [
      "{'dinero': 120, 'chicles': 'Menta', 'llaves': True}\n"
     ]
    }
   ],
   "source": [
    "#Mostrando todo el contenido\n",
    "print(mochila)\n"
   ]
  },
  {
   "cell_type": "code",
   "execution_count": 4,
   "metadata": {},
   "outputs": [
    {
     "name": "stdout",
     "output_type": "stream",
     "text": [
      "Menta\n"
     ]
    }
   ],
   "source": [
    "print(mochila['chicles'])\n"
   ]
  },
  {
   "cell_type": "code",
   "execution_count": 5,
   "metadata": {},
   "outputs": [],
   "source": [
    "mochila['dinero'] = mochila['dinero'] -50\n"
   ]
  },
  {
   "cell_type": "code",
   "execution_count": 6,
   "metadata": {},
   "outputs": [
    {
     "name": "stdout",
     "output_type": "stream",
     "text": [
      "{'dinero': 70, 'chicles': 'Menta', 'llaves': True}\n"
     ]
    }
   ],
   "source": [
    "print(mochila)\n"
   ]
  },
  {
   "cell_type": "markdown",
   "metadata": {},
   "source": [
    "**Diccionario Vs Lista**\n",
    "* En las listas, cada entrada tiene un  índice y esta basada en su posición\n",
    "\n",
    "* En los Diccionarios  no existe un orden.\n",
    "\n",
    "* En los Diccionarios cada elemento esta referenciado a través de una etiqueta o una key.\n",
    "\n",
    "* Diccionarios son como las listas excepto que usan etiquetas en lugar de números (índices numericos)  para buscar valores\n",
    "\n"
   ]
  },
  {
   "cell_type": "code",
   "execution_count": 7,
   "metadata": {},
   "outputs": [
    {
     "name": "stdout",
     "output_type": "stream",
     "text": [
      "[21, 183, 62]\n"
     ]
    }
   ],
   "source": [
    "numeros = []\n",
    "numeros.append(21)\n",
    "numeros.append(183)\n",
    "numeros.append(62)\n",
    "print(numeros)"
   ]
  },
  {
   "cell_type": "code",
   "execution_count": 8,
   "metadata": {},
   "outputs": [
    {
     "name": "stdout",
     "output_type": "stream",
     "text": [
      "{'nombre': 'Juan', 'edad': 20, 'curso': 'ICD', 'semestre': 6}\n"
     ]
    }
   ],
   "source": [
    "estudiante = {}\n",
    "\n",
    "estudiante['nombre'] = 'Juan'\n",
    "estudiante['edad'] = 20\n",
    "estudiante['curso'] = 'ICD'\n",
    "estudiante['semestre'] = 6\n",
    "print(estudiante)\n"
   ]
  },
  {
   "cell_type": "code",
   "execution_count": 9,
   "metadata": {},
   "outputs": [],
   "source": [
    "# Construcción de un diccionario de estudiantes\n",
    "estudiantes = {\n",
    " 'estudiante_1':{'nombre': 'Juan', 'edad': 20, 'curso': 'Fisica 3', 'semestre': 6} ,\n",
    " 'estudiante_2':{'nombre': 'Pedro', 'edad': 21, 'curso': 'Fisica 4', 'semestre': 7} ,\n",
    " 'estudiante_3':{'nombre': 'Ana', 'edad': 20, 'curso': 'Fisica 3', 'semestre': 6},\n",
    " 'estudiante_4':{'nombre': 'Luis', 'edad': 19, 'curso': 'Proyectos', 'semestre': 8}              \n",
    "              }\n",
    " "
   ]
  },
  {
   "cell_type": "code",
   "execution_count": 10,
   "metadata": {},
   "outputs": [
    {
     "data": {
      "text/plain": [
       "{'estudiante_1': {'nombre': 'Juan',\n",
       "  'edad': 20,\n",
       "  'curso': 'Fisica 3',\n",
       "  'semestre': 6},\n",
       " 'estudiante_2': {'nombre': 'Pedro',\n",
       "  'edad': 21,\n",
       "  'curso': 'Fisica 4',\n",
       "  'semestre': 7},\n",
       " 'estudiante_3': {'nombre': 'Ana',\n",
       "  'edad': 20,\n",
       "  'curso': 'Fisica 3',\n",
       "  'semestre': 6},\n",
       " 'estudiante_4': {'nombre': 'Luis',\n",
       "  'edad': 19,\n",
       "  'curso': 'Proyectos',\n",
       "  'semestre': 8}}"
      ]
     },
     "execution_count": 10,
     "metadata": {},
     "output_type": "execute_result"
    }
   ],
   "source": [
    "#información total\n",
    "estudiantes"
   ]
  },
  {
   "cell_type": "code",
   "execution_count": 11,
   "metadata": {},
   "outputs": [
    {
     "data": {
      "text/plain": [
       "{'nombre': 'Juan', 'edad': 20, 'curso': 'Fisica 3', 'semestre': 6}"
      ]
     },
     "execution_count": 11,
     "metadata": {},
     "output_type": "execute_result"
    }
   ],
   "source": [
    "#información del estudiante 1\n",
    "estudiantes['estudiante_1']"
   ]
  },
  {
   "cell_type": "code",
   "execution_count": 12,
   "metadata": {},
   "outputs": [
    {
     "data": {
      "text/plain": [
       "'Juan'"
      ]
     },
     "execution_count": 12,
     "metadata": {},
     "output_type": "execute_result"
    }
   ],
   "source": [
    "#Nombre del estudiante 1\n",
    "estudiantes['estudiante_1']['nombre']"
   ]
  },
  {
   "cell_type": "markdown",
   "metadata": {},
   "source": [
    "# Creando un diccionario\n"
   ]
  },
  {
   "cell_type": "markdown",
   "metadata": {},
   "source": [
    "1. Para definir un diccionario, se encierra el listado de valores entre llaves. Las parejas de clave y valor se separan con comas, y la clave y el valor se separan con dos puntos."
   ]
  },
  {
   "cell_type": "code",
   "execution_count": 13,
   "metadata": {},
   "outputs": [],
   "source": [
    "diccionario = {'nombre' : 'Juan', 'edad' : 22, 'cursos': ['ICD','Electronica','Mecanica'] }\n"
   ]
  },
  {
   "cell_type": "markdown",
   "metadata": {},
   "source": [
    "2. Podemos acceder al elemento de un Diccionario mediante la clave o *key* de este elemento, como veremos a continuación:"
   ]
  },
  {
   "cell_type": "code",
   "execution_count": 14,
   "metadata": {},
   "outputs": [
    {
     "name": "stdout",
     "output_type": "stream",
     "text": [
      "Juan\n",
      "22\n",
      "['ICD', 'Electronica', 'Mecanica']\n",
      "Juan\n",
      "22\n",
      "['ICD', 'Electronica', 'Mecanica']\n"
     ]
    }
   ],
   "source": [
    "#Juan , 22 ,  ['ICD','Electronica','Mecanica']\n",
    "print(diccionario['nombre'])\n",
    "print(diccionario['edad'])\n",
    "print(diccionario['cursos'])\n",
    "\n",
    "for key in diccionario:\n",
    "    print(diccionario[key])"
   ]
  },
  {
   "cell_type": "markdown",
   "metadata": {},
   "source": [
    "3. También es posible insertar una lista dentro de un diccionario. Para acceder a cada uno de los cursos usamos los índices:"
   ]
  },
  {
   "cell_type": "code",
   "execution_count": 15,
   "metadata": {},
   "outputs": [
    {
     "data": {
      "text/plain": [
       "'ICD'"
      ]
     },
     "execution_count": 15,
     "metadata": {},
     "output_type": "execute_result"
    }
   ],
   "source": [
    "diccionario['cursos'][0]"
   ]
  },
  {
   "cell_type": "markdown",
   "metadata": {},
   "source": [
    "4. Para recorrer todo el Diccionario, podemos hacer uso de la estructura for:\n",
    "\n"
   ]
  },
  {
   "cell_type": "code",
   "execution_count": 16,
   "metadata": {},
   "outputs": [
    {
     "name": "stdout",
     "output_type": "stream",
     "text": [
      "nombre: Juan\n",
      "edad: 22\n",
      "cursos: ['ICD', 'Electronica', 'Mecanica']\n"
     ]
    }
   ],
   "source": [
    "for key in diccionario:\n",
    "    print(key + ':', diccionario[key])"
   ]
  },
  {
   "cell_type": "markdown",
   "metadata": {},
   "source": [
    "<div class=\"alert alert-success\">\n",
    "    \n",
    "**Ejericicio**\n",
    "Utilizando el diccionario \"estudiantes\", mostrar los siguientes elementos\n",
    "1. Los nombres de los estudiantes\n",
    "2. El semestre\n",
    "\n",
    "</div>\n",
    "\n",
    "```python\n",
    "estudiantes = {\n",
    " 'estudiante_1':{'nombre': 'Juan', 'edad': 20, 'curso': 'ICD', 'semestre': 6} ,\n",
    " 'estudiante_2':{'nombre': 'Pedro', 'edad': 21, 'curso': 'ICD', 'semestre': 7} ,\n",
    " 'estudiante_3':{'nombre': 'Ana', 'edad': 20, 'curso': 'ICD', 'semestre': 6},\n",
    " 'estudiante_4':{'nombre': 'Luis', 'edad': 19, 'curso': 'ICD', 'semestre': 8}              \n",
    "              }\n",
    "```\n",
    "\n",
    "\n"
   ]
  },
  {
   "cell_type": "code",
   "execution_count": 17,
   "metadata": {},
   "outputs": [],
   "source": [
    "estudiantes = {\n",
    " 'estudiante_1':{'nombre': 'Juan', 'edad': 20, 'curso': 'ICD', 'semestre': 6} ,\n",
    " 'estudiante_2':{'nombre': 'Pedro', 'edad': 21, 'curso': 'ICD', 'semestre': 7} ,\n",
    " 'estudiante_3':{'nombre': 'Ana', 'edad': 20, 'curso': 'ICD', 'semestre': 6},\n",
    " 'estudiante_4':{'nombre': 'Luis', 'edad': 19, 'curso': 'ICD', 'semestre': 8}              \n",
    "              }"
   ]
  },
  {
   "cell_type": "code",
   "execution_count": 18,
   "metadata": {},
   "outputs": [
    {
     "name": "stdout",
     "output_type": "stream",
     "text": [
      "Juan\n",
      "Pedro\n",
      "Ana\n",
      "Luis\n"
     ]
    }
   ],
   "source": [
    "for key in estudiantes:\n",
    "    print(estudiantes[key]['nombre'])"
   ]
  },
  {
   "cell_type": "code",
   "execution_count": 19,
   "metadata": {},
   "outputs": [
    {
     "name": "stdout",
     "output_type": "stream",
     "text": [
      "6\n",
      "7\n",
      "6\n",
      "8\n"
     ]
    }
   ],
   "source": [
    "for key in estudiantes:\n",
    "    print(estudiantes[key]['semestre'])"
   ]
  },
  {
   "cell_type": "markdown",
   "metadata": {},
   "source": [
    "## Métodos de los Diccionarios\n"
   ]
  },
  {
   "cell_type": "markdown",
   "metadata": {},
   "source": [
    "* items()\n",
    "\n",
    "Devuelve una lista de tuplas, cada tupla se compone de dos elementos: el primero será la clave y el segundo su valor (**'Key':Value**).\n"
   ]
  },
  {
   "cell_type": "code",
   "execution_count": 20,
   "metadata": {},
   "outputs": [
    {
     "name": "stdout",
     "output_type": "stream",
     "text": [
      "dict_items([('a', 1), ('b', 2), ('c', 3), ('d', 4)])\n"
     ]
    }
   ],
   "source": [
    "dic =   {'a' : 1,  'b' : 2, 'c' : 3 , 'd' : 4}\n",
    "items = dic.items()\n",
    "\n",
    "print(items)"
   ]
  },
  {
   "cell_type": "markdown",
   "metadata": {},
   "source": [
    "* keys()\n",
    "\n",
    "Retorna una lista de elementos, los cuales serán las claves de nuestro diccionario."
   ]
  },
  {
   "cell_type": "code",
   "execution_count": 21,
   "metadata": {},
   "outputs": [
    {
     "name": "stdout",
     "output_type": "stream",
     "text": [
      "dict_keys(['a', 'b', 'c', 'd'])\n"
     ]
    }
   ],
   "source": [
    "dic =   {'a' : 1,  'b' : 2, 'c' : 3 , 'd' : 4}\n",
    "keys = dic.keys()\n",
    "\n",
    "print(keys)"
   ]
  },
  {
   "cell_type": "markdown",
   "metadata": {},
   "source": [
    "* values()\n",
    "\n",
    "Retorna una lista de elementos, que serán los valores de nuestro diccionario."
   ]
  },
  {
   "cell_type": "code",
   "execution_count": 22,
   "metadata": {},
   "outputs": [
    {
     "name": "stdout",
     "output_type": "stream",
     "text": [
      "dict_values([1, 2, 3, 4])\n"
     ]
    }
   ],
   "source": [
    "dic =   {'a' : 1,  'b' : 2, 'c' : 3 , 'd' : 4}\n",
    "values= dic.values()\n",
    "\n",
    "print(values)"
   ]
  },
  {
   "cell_type": "markdown",
   "metadata": {},
   "source": [
    "* get()\n",
    "\n",
    "Recibe como parámetro una clave, devuelve el valor de la clave. Si no lo encuentra, devuelve un objeto none."
   ]
  },
  {
   "cell_type": "code",
   "execution_count": 23,
   "metadata": {},
   "outputs": [
    {
     "name": "stdout",
     "output_type": "stream",
     "text": [
      "2\n"
     ]
    }
   ],
   "source": [
    "dic =   {'a' : 1,  'b' : 2, 'c' : 3 , 'd' : 4}\n",
    "valor_b = dic.get('b')\n",
    "\n",
    "print(valor_b)"
   ]
  },
  {
   "cell_type": "code",
   "execution_count": 24,
   "metadata": {},
   "outputs": [
    {
     "name": "stdout",
     "output_type": "stream",
     "text": [
      "None\n"
     ]
    }
   ],
   "source": [
    "dic =   {'a' : 1,  'b' : 2, 'c' : 3 , 'd' : 4}\n",
    "valor_e = dic.get('e')\n",
    "\n",
    "print(valor_e)"
   ]
  },
  {
   "cell_type": "code",
   "execution_count": 25,
   "metadata": {},
   "outputs": [
    {
     "name": "stdout",
     "output_type": "stream",
     "text": [
      "0\n"
     ]
    }
   ],
   "source": [
    "dic =   {'a' : 1,  'b' : 2, 'c' : 3 , 'd' : 4}\n",
    "valor_e = dic.get('e',0)\n",
    "\n",
    "print(valor_e)"
   ]
  },
  {
   "cell_type": "markdown",
   "metadata": {},
   "source": [
    "# Ejemplo: Contando elementos con diccionarios\n",
    "\n",
    "Un uso común de los diccionarios es contar que tan frecuente aparece algo\n"
   ]
  },
  {
   "cell_type": "code",
   "execution_count": 26,
   "metadata": {},
   "outputs": [],
   "source": [
    "conteo = dict()"
   ]
  },
  {
   "cell_type": "code",
   "execution_count": 27,
   "metadata": {},
   "outputs": [],
   "source": [
    "conteo['Enrique'] = 1"
   ]
  },
  {
   "cell_type": "code",
   "execution_count": 28,
   "metadata": {},
   "outputs": [],
   "source": [
    "conteo['Jose'] = 1"
   ]
  },
  {
   "cell_type": "code",
   "execution_count": 29,
   "metadata": {},
   "outputs": [
    {
     "name": "stdout",
     "output_type": "stream",
     "text": [
      "{'Enrique': 1, 'Jose': 1}\n"
     ]
    }
   ],
   "source": [
    "print(conteo)"
   ]
  },
  {
   "cell_type": "code",
   "execution_count": 30,
   "metadata": {},
   "outputs": [],
   "source": [
    "conteo['Jose'] = conteo['Jose'] + 1"
   ]
  },
  {
   "cell_type": "code",
   "execution_count": 31,
   "metadata": {},
   "outputs": [
    {
     "name": "stdout",
     "output_type": "stream",
     "text": [
      "{'Enrique': 1, 'Jose': 2}\n"
     ]
    }
   ],
   "source": [
    "print(conteo)"
   ]
  },
  {
   "cell_type": "code",
   "execution_count": 41,
   "metadata": {},
   "outputs": [],
   "source": [
    "conteo = {}\n",
    "nombres = ['Enrique', 'Jose', 'Jose', 'Alejandro', \n",
    "           'Maria', 'Ivan', 'Maria', 'Alberto', 'Pablo', 'Omar', \n",
    "           'Jose',  'Guadalupe', 'Jose', 'Guadalupe', 'Ivan', \n",
    "           'Alberto', 'Guadalupe', 'Maria', 'Enrique', 'Juan', \n",
    "           'Jose', 'Jose', 'Alberto']"
   ]
  },
  {
   "cell_type": "code",
   "execution_count": 42,
   "metadata": {},
   "outputs": [
    {
     "data": {
      "text/plain": [
       "{'Enrique': 2,\n",
       " 'Jose': 6,\n",
       " 'Alejandro': 1,\n",
       " 'Maria': 3,\n",
       " 'Ivan': 2,\n",
       " 'Alberto': 3,\n",
       " 'Pablo': 1,\n",
       " 'Omar': 1,\n",
       " 'Guadalupe': 3,\n",
       " 'Juan': 1}"
      ]
     },
     "execution_count": 42,
     "metadata": {},
     "output_type": "execute_result"
    }
   ],
   "source": [
    "#iterando con for\n",
    "for nombre in nombres:\n",
    "    if nombre in conteo:\n",
    "        conteo[nombre] += 1\n",
    "    else:\n",
    "        conteo[nombre] = 1\n",
    "conteo"
   ]
  },
  {
   "cell_type": "code",
   "execution_count": 43,
   "metadata": {},
   "outputs": [
    {
     "data": {
      "image/png": "[encoded data removed]",
      "text/plain": [
       "<Figure size 1200x300 with 1 Axes>"
      ]
     },
     "metadata": {},
     "output_type": "display_data"
    }
   ],
   "source": [
    "import matplotlib.pyplot as plt\n",
    "\n",
    "plt.subplots(figsize=(12, 3))\n",
    "plt.bar(range(len(conteo)), conteo.values(), align='center')\n",
    "plt.xticks(range(len(conteo)), list(conteo.keys()))\n",
    "\n",
    "plt.show()\n"
   ]
  },
  {
   "cell_type": "markdown",
   "metadata": {},
   "source": [
    "##  Simplificando el conteo con get()\n",
    "\n",
    "Los pasos:\n",
    "\n",
    "```python\n",
    "    if nombre in conteo:\n",
    "       x = conteo[nombre]\n",
    "    else :\n",
    "       x = 0\n",
    "``` \n",
    "Son equivalentes a\n",
    "\n",
    "```python\n",
    "   x = conteo.get(nombre, 0)\n",
    "``` \n",
    "\n"
   ]
  },
  {
   "cell_type": "code",
   "execution_count": 35,
   "metadata": {},
   "outputs": [],
   "source": [
    "conteo = {}\n",
    "nombres = ['Enrique', 'Jose', 'Jose', 'Alejandro', \n",
    "           'Maria', 'Ivan', 'Maria', 'Alberto', 'Pablo', 'Omar', \n",
    "           'Jose',  'Guadalupe', 'Jose', 'Guadalupe', 'Ivan', \n",
    "           'Alberto', 'Guadalupe', 'Maria', 'Enrique', 'Juan', \n",
    "           'Jose', 'Jose', 'Alberto']"
   ]
  },
  {
   "cell_type": "code",
   "execution_count": 36,
   "metadata": {},
   "outputs": [
    {
     "data": {
      "text/plain": [
       "{'Enrique': 2,\n",
       " 'Jose': 6,\n",
       " 'Alejandro': 1,\n",
       " 'Maria': 3,\n",
       " 'Ivan': 2,\n",
       " 'Alberto': 3,\n",
       " 'Pablo': 1,\n",
       " 'Omar': 1,\n",
       " 'Guadalupe': 3,\n",
       " 'Juan': 1}"
      ]
     },
     "execution_count": 36,
     "metadata": {},
     "output_type": "execute_result"
    }
   ],
   "source": [
    "#Utilizando get\n",
    "for nombre in nombres:\n",
    "    conteo[nombre] = conteo.get(nombre, 0) + 1\n",
    "conteo"
   ]
  },
  {
   "cell_type": "markdown",
   "metadata": {},
   "source": [
    "## Contando etiquetas\n",
    "\n",
    "La forma más general para contar las palabras en una línea de texto es la de dividir (split) la línea en palabras (lista), a continuación, recorrer las palabras y a través de un diccionario,  encontrar el recuento (get) de cada palabra de manera independiente.\n",
    "\n",
    "``` \n",
    "tres tristes tigres tragaban trigo en un trigal en tres tristes trastos en tres tristes trastos tragaban trigo en un trigal  tres tristes tigres tres\n",
    "``` \n",
    "\n",
    "<img align=\"left\" width=\"200\"  float= \"none\" align=\"middle\" src=\"figuras/tigres.png\">\n",
    "\n",
    "\n"
   ]
  },
  {
   "cell_type": "code",
   "execution_count": 37,
   "metadata": {},
   "outputs": [],
   "source": [
    "conteo = dict()\n",
    "linea = 'tres tristes tigres tragaban trigo en un trigal en tres tristes trastos en tres tristes trastos tragaban trigo en un trigal  tres tristes tigres tres'"
   ]
  },
  {
   "cell_type": "code",
   "execution_count": 38,
   "metadata": {},
   "outputs": [
    {
     "name": "stdout",
     "output_type": "stream",
     "text": [
      "Palabras: ['tres', 'tristes', 'tigres', 'tragaban', 'trigo', 'en', 'un', 'trigal', 'en', 'tres', 'tristes', 'trastos', 'en', 'tres', 'tristes', 'trastos', 'tragaban', 'trigo', 'en', 'un', 'trigal', 'tres', 'tristes', 'tigres', 'tres']\n",
      "Comenzando a contar...\n"
     ]
    }
   ],
   "source": [
    "palabras = linea.split()\n",
    "\n",
    "print('Palabras:', palabras)\n",
    "print('Comenzando a contar...')\n",
    "\n"
   ]
  },
  {
   "cell_type": "code",
   "execution_count": 39,
   "metadata": {},
   "outputs": [
    {
     "data": {
      "text/plain": [
       "{'tres': 5,\n",
       " 'tristes': 4,\n",
       " 'tigres': 2,\n",
       " 'tragaban': 2,\n",
       " 'trigo': 2,\n",
       " 'en': 4,\n",
       " 'un': 2,\n",
       " 'trigal': 2,\n",
       " 'trastos': 2}"
      ]
     },
     "execution_count": 39,
     "metadata": {},
     "output_type": "execute_result"
    }
   ],
   "source": [
    "for palabra in palabras:\n",
    "    conteo[palabra] = conteo.get(palabra, 0) + 1\n",
    "conteo"
   ]
  }
 ],
 "metadata": {
  "kernelspec": {
   "display_name": "Python 3 (ipykernel)",
   "language": "python",
   "name": "python3"
  },
  "language_info": {
   "codemirror_mode": {
    "name": "ipython",
    "version": 3
   },
   "file_extension": ".py",
   "mimetype": "text/x-python",
   "name": "python",
   "nbconvert_exporter": "python",
   "pygments_lexer": "ipython3",
   "version": "3.11.4"
  }
 },
 "nbformat": 4,
 "nbformat_minor": 4
}
