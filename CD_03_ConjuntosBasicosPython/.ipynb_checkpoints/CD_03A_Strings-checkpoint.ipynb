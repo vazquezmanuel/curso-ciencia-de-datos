{
 "cells": [
  {
   "cell_type": "markdown",
   "metadata": {},
   "source": [
    "<!--Información del curso-->\n",
    "<img align=\"left\" style=\"padding-right:10px;\" src=\"figuras/logo_cd.png\">"
   ]
  },
  {
   "cell_type": "markdown",
   "metadata": {},
   "source": [
    "<center><h1 style=\"font-size:2em;color:#2467C0\"> Strings  </h1></center>\n",
    "<br>\n",
    "<table>\n",
    "<col width=\"550\">\n",
    "<col width=\"450\">\n",
    "<tr>\n",
    "<td><img src=\"figuras/hello.png\" align=\"middle\" style=\"width:300px\"/></td>\n",
    "<td>\n",
    "    \n",
    "    \n",
    "El tipo *string* es una secuencia inmutable de caracteres, es decir no se puede modificar después de haber sido creado. Como el resto de tipos secuencia en Python, podemos acceder a los caracteres de un *string* a través de un índice numérico\n",
    "\n",
    "</td>\n",
    "</tr>\n",
    "</table>"
   ]
  },
  {
   "cell_type": "markdown",
   "metadata": {},
   "source": [
    "# Strings en python\n",
    "\n",
    "La clase `str` en Python se utiliza para representar texto, más conocido en el mundo de la programación como *string* o *cadena de caracteres*.\n"
   ]
  },
  {
   "cell_type": "markdown",
   "metadata": {},
   "source": [
    "## 1. ¿Cómo crear una cadena en Python?\n",
    "\n",
    "Crear una cadena de texto en Python simplemente encierra una secuencia de caracteres entre comillas simples '' o dobles \"\".\n",
    "\n",
    "\n",
    "```python\n",
    "saludo = 'Hola Mundo'\n",
    "type(saludo)\n",
    "```\n",
    "\n"
   ]
  },
  {
   "cell_type": "code",
   "execution_count": null,
   "metadata": {},
   "outputs": [],
   "source": []
  },
  {
   "cell_type": "markdown",
   "metadata": {},
   "source": [
    "## 2. Cómo acceder a los caracteres de un string en Python\n",
    "\n",
    "Como el resto de tipos secuencia, podemos acceder a los caracteres de una cadena a través de un índice numérico. Un índice es un número entero que indica la posición de un carácter en la cadena. Siempre el primer carácter de la secuencia tiene como índice 0. \n",
    "Los índices también puede ser negativos. En este caso, el índice -1 hace referencia al último carácter, -2 al penúltimo, y así, sucesivamente.\n",
    "\n"
   ]
  },
  {
   "cell_type": "markdown",
   "metadata": {},
   "source": [
    "<img src=\"figuras/hello.png\" align=\"middle\" style=\"width:450px\"/>\n"
   ]
  },
  {
   "cell_type": "code",
   "execution_count": null,
   "metadata": {},
   "outputs": [],
   "source": [
    "saludo = 'Hello'"
   ]
  },
  {
   "cell_type": "code",
   "execution_count": null,
   "metadata": {},
   "outputs": [],
   "source": [
    "# probar indice 0\n"
   ]
  },
  {
   "cell_type": "code",
   "execution_count": null,
   "metadata": {},
   "outputs": [],
   "source": [
    "# probar indice 4\n"
   ]
  },
  {
   "cell_type": "code",
   "execution_count": null,
   "metadata": {},
   "outputs": [],
   "source": [
    "# probar indice -4\n"
   ]
  },
  {
   "cell_type": "code",
   "execution_count": null,
   "metadata": {},
   "outputs": [],
   "source": [
    "# probar indice -1\n"
   ]
  },
  {
   "cell_type": "code",
   "execution_count": null,
   "metadata": {},
   "outputs": [],
   "source": [
    "# probar indice 6\n"
   ]
  },
  {
   "cell_type": "markdown",
   "metadata": {},
   "source": [
    "## 3. Longitud de la string \n",
    "\n",
    "Como con cualquier secuencia en Python, para obtener la longitud de una cadena se debe utilizar la función de Python `len()`. A esta función se le pasa como argumento la cadena en cuestión y nos devolverá el número de caracteres que tiene.\n",
    "\n"
   ]
  },
  {
   "cell_type": "code",
   "execution_count": null,
   "metadata": {},
   "outputs": [],
   "source": [
    "saludo = 'Hello'"
   ]
  },
  {
   "cell_type": "code",
   "execution_count": null,
   "metadata": {},
   "outputs": [],
   "source": []
  },
  {
   "cell_type": "code",
   "execution_count": null,
   "metadata": {},
   "outputs": [],
   "source": []
  },
  {
   "cell_type": "markdown",
   "metadata": {},
   "source": [
    " ## 4. Recorrer los caracteres de un string"
   ]
  },
  {
   "cell_type": "markdown",
   "metadata": {},
   "source": [
    "### Con el ciclo _for_\n",
    "En Python es posible recorrer todos los caracteres de una cadena usando la sentencia *for*. Para ello, lo más fácil es seguir la siguiente plantilla:\n",
    "\n",
    "```python\n",
    "saludo = 'Hola Mundo'\n",
    "for letra in saludo:\n",
    "    print(letra)\n",
    "```\n",
    "\n"
   ]
  },
  {
   "cell_type": "code",
   "execution_count": null,
   "metadata": {},
   "outputs": [],
   "source": [
    "\n"
   ]
  },
  {
   "cell_type": "markdown",
   "metadata": {},
   "source": [
    "\n"
   ]
  },
  {
   "cell_type": "markdown",
   "metadata": {},
   "source": [
    "## 5. Más operaciones con strings"
   ]
  },
  {
   "cell_type": "markdown",
   "metadata": {},
   "source": [
    "### Concatenación de strings\n",
    "\n",
    "En Python existen varias formas de concatenar dos o más objetos de tipo string. La más sencilla es usar el operador `+` Concatenar dos o más strings con el operador `+` da como resultado un nuevo *string*.\n",
    "\n",
    "\n",
    "```python\n",
    "a = 'Hello'\n",
    "b = a + 'World' \n",
    "print(b)\n",
    "```\n",
    "\n"
   ]
  },
  {
   "cell_type": "code",
   "execution_count": null,
   "metadata": {},
   "outputs": [],
   "source": []
  },
  {
   "cell_type": "code",
   "execution_count": null,
   "metadata": {},
   "outputs": [],
   "source": []
  },
  {
   "cell_type": "code",
   "execution_count": null,
   "metadata": {},
   "outputs": [],
   "source": []
  },
  {
   "cell_type": "markdown",
   "metadata": {},
   "source": [
    "### Comprobar si un carácter está en una cadena en Python\n",
    "\n",
    "Para comprobar si un carácter está contenido en una cadena, utiliza el operador de pertenencia `in`. Esto nos devolverá `True` si al menos hay una ocurrencia del carácter en el string o `False` en caso contrario."
   ]
  },
  {
   "cell_type": "code",
   "execution_count": null,
   "metadata": {},
   "outputs": [],
   "source": [
    "fruta = 'banana'"
   ]
  },
  {
   "cell_type": "code",
   "execution_count": null,
   "metadata": {},
   "outputs": [],
   "source": [
    "#Probar 'a'\n"
   ]
  },
  {
   "cell_type": "code",
   "execution_count": null,
   "metadata": {},
   "outputs": [],
   "source": [
    "#Probar 'ma'\n"
   ]
  },
  {
   "cell_type": "code",
   "execution_count": null,
   "metadata": {},
   "outputs": [],
   "source": [
    "#Probar 'BA'\n"
   ]
  },
  {
   "cell_type": "code",
   "execution_count": null,
   "metadata": {},
   "outputs": [],
   "source": [
    "#Probar 'ban'\n"
   ]
  },
  {
   "cell_type": "markdown",
   "metadata": {},
   "source": [
    "<div class=\"alert alert-success\">\n",
    "    \n",
    "**Ejericicio**\n",
    "    \n",
    "Hacer un codigo que imprima \"Si se encuentra!\"  en caso de encontrar el string \"san\".\n",
    "    \n",
    "Input:  \n",
    "fruta = 'sandia'\n",
    "    \n",
    "Output:\n",
    "    \n",
    "Si se encuentra!\n",
    "\n",
    "    \n",
    "</div>\n",
    "\n"
   ]
  },
  {
   "cell_type": "code",
   "execution_count": null,
   "metadata": {},
   "outputs": [],
   "source": []
  },
  {
   "cell_type": "markdown",
   "metadata": {},
   "source": [
    "### Funciones find y split\n",
    "\n",
    "La función `find()` se utiliza para buscar la primera aparición de un subtexto dentro de una cadena. Devuelve el índice de la posición en la que se encuentra la primera ocurrencia del subtexto, o devuelve -1 si no se encuentra en la cadena.\n"
   ]
  },
  {
   "cell_type": "code",
   "execution_count": null,
   "metadata": {},
   "outputs": [],
   "source": [
    "saludo = 'Hola , Mundo - ABCD , Python , XYZ - diplomado'"
   ]
  },
  {
   "cell_type": "code",
   "execution_count": null,
   "metadata": {},
   "outputs": [],
   "source": [
    "#probar 'u'\n"
   ]
  },
  {
   "cell_type": "code",
   "execution_count": null,
   "metadata": {},
   "outputs": [],
   "source": [
    "#Probar 'Mun'\n"
   ]
  },
  {
   "cell_type": "code",
   "execution_count": null,
   "metadata": {},
   "outputs": [],
   "source": [
    "#Probar 'w'\n"
   ]
  },
  {
   "cell_type": "markdown",
   "metadata": {},
   "source": [
    "La función `split()` se utiliza para dividir una cadena en una lista de subcadenas, utilizando un carácter delimitador como referencia. El carácter delimitador se utiliza para separar la cadena en diferentes partes."
   ]
  },
  {
   "cell_type": "code",
   "execution_count": null,
   "metadata": {},
   "outputs": [],
   "source": [
    "# Probar split() en saludo\n",
    "saludo = 'Hola , Mundo - ABCD , Python , XYZ - diplomado'"
   ]
  },
  {
   "cell_type": "code",
   "execution_count": null,
   "metadata": {},
   "outputs": [],
   "source": [
    "# Probar split(',') en saludo\n"
   ]
  },
  {
   "cell_type": "code",
   "execution_count": null,
   "metadata": {},
   "outputs": [],
   "source": [
    "# Probar split('-') en saludo\n"
   ]
  },
  {
   "cell_type": "code",
   "execution_count": null,
   "metadata": {},
   "outputs": [],
   "source": [
    "# Probar split('o') en saludo\n"
   ]
  },
  {
   "cell_type": "markdown",
   "metadata": {},
   "source": [
    "<div class=\"alert alert-success\">\n",
    "    \n",
    "**Ejericicio**\n",
    "    \n",
    "Encontrar el host de los corres de llegada a una empresa \n",
    "\n",
    "\n",
    "    \n",
    "</div>\n",
    "\n",
    "\n",
    "```html\n",
    "input:\n",
    "From enrique.camacho@uady.com Sat Jan  5 09:14:16 2023\n",
    "\n",
    "output 1:\n",
    "uady.com\n",
    "\n",
    "output 2:\n",
    "uady \n",
    "\n",
    "``` \n",
    "\n"
   ]
  },
  {
   "cell_type": "code",
   "execution_count": null,
   "metadata": {},
   "outputs": [],
   "source": [
    "data = 'From enrique.camacho@uady.com Sat Jan  5 09:14:16 2023'"
   ]
  },
  {
   "cell_type": "code",
   "execution_count": null,
   "metadata": {},
   "outputs": [],
   "source": []
  },
  {
   "cell_type": "code",
   "execution_count": null,
   "metadata": {},
   "outputs": [],
   "source": []
  },
  {
   "cell_type": "code",
   "execution_count": null,
   "metadata": {},
   "outputs": [],
   "source": []
  }
 ],
 "metadata": {
  "kernelspec": {
   "display_name": "Python 3 (ipykernel)",
   "language": "python",
   "name": "python3"
  },
  "language_info": {
   "codemirror_mode": {
    "name": "ipython",
    "version": 3
   },
   "file_extension": ".py",
   "mimetype": "text/x-python",
   "name": "python",
   "nbconvert_exporter": "python",
   "pygments_lexer": "ipython3",
   "version": "3.10.7"
  }
 },
 "nbformat": 4,
 "nbformat_minor": 4
}
