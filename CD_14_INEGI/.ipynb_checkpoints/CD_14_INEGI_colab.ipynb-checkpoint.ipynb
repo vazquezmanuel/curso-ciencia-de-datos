{
 "cells": [
  {
   "cell_type": "markdown",
   "metadata": {
    "id": "47-pl1Rl1q7D"
   },
   "source": [
    "![Imagen](https://docs.google.com/uc?export=download&id=1rrUwI409dtetYdANj5ZhL1Z8O1Xj3IQK)  \n"
   ]
  },
  {
   "cell_type": "markdown",
   "metadata": {
    "id": "6bim-8S-1wea"
   },
   "source": [
    "    \n",
    "El **INEGI** es un organismo público autónomo responsable de normar y coordinar el Sistema Nacional de Información Estadística y Geográfica, así como de captar y difundir información de México en cuanto al territorio, los recursos, la población y economía, que permita dar a conocer las características de nuestro país y ayudar a la toma de decisiones."
   ]
  },
  {
   "cell_type": "markdown",
   "metadata": {
    "id": "oNjKtJSp2Eja"
   },
   "source": [
    "#  Historico de Población en México"
   ]
  },
  {
   "cell_type": "markdown",
   "metadata": {
    "id": "CglylwxU2EX5"
   },
   "source": [
    "## 1. Graficar el crecimiento de la población total, así como el de hombres y mujeres\n"
   ]
  },
  {
   "cell_type": "code",
   "execution_count": 1,
   "metadata": {
    "executionInfo": {
     "elapsed": 1644,
     "status": "ok",
     "timestamp": 1696509510368,
     "user": {
      "displayName": "Enrique Camacho",
      "userId": "10085043428175880734"
     },
     "user_tz": 360
    },
    "id": "utvjYCXC1vpZ"
   },
   "outputs": [],
   "source": [
    "import matplotlib.pyplot as plt\n",
    "import numpy as np\n",
    "import pandas as pd\n",
    "import requests\n",
    "import json"
   ]
  },
  {
   "cell_type": "code",
   "execution_count": 2,
   "metadata": {},
   "outputs": [],
   "source": [
    "token = 'b63c08db-7500-74c9-6286-5e34d76ca5ff'"
   ]
  },
  {
   "cell_type": "code",
   "execution_count": 3,
   "metadata": {
    "colab": {
     "base_uri": "https://localhost:8080/"
    },
    "executionInfo": {
     "elapsed": 1350,
     "status": "ok",
     "timestamp": 1696509520468,
     "user": {
      "displayName": "Enrique Camacho",
      "userId": "10085043428175880734"
     },
     "user_tz": 360
    },
    "id": "FRSjYNX6zxiF",
    "outputId": "5054ec8f-d21c-438c-d40f-0d87308722aa"
   },
   "outputs": [
    {
     "data": {
      "text/plain": [
       "200"
      ]
     },
     "execution_count": 3,
     "metadata": {},
     "output_type": "execute_result"
    }
   ],
   "source": [
    "#Llamado al API\n",
    "url = f'https://www.inegi.org.mx/app/api/indicadores/desarrolladores/jsonxml/INDICATOR/1002000002/es/0700/false/BISE/2.0/{token}?type=json'\n",
    "respuesta = requests.get(url)\n",
    "respuesta.status_code"
   ]
  },
  {
   "cell_type": "code",
   "execution_count": 4,
   "metadata": {
    "executionInfo": {
     "elapsed": 851,
     "status": "ok",
     "timestamp": 1696509537639,
     "user": {
      "displayName": "Enrique Camacho",
      "userId": "10085043428175880734"
     },
     "user_tz": 360
    },
    "id": "GtacGpiy1oRE"
   },
   "outputs": [],
   "source": [
    "url = f'https://www.inegi.org.mx/app/api/indicadores/desarrolladores/jsonxml/INDICATOR/1002000002/es/0700/false/BISE/2.0/{token}?type=json'\n",
    "respuesta = requests.get(url)\n",
    "if respuesta.status_code == 200:\n",
    "    # print(respuesta.content)\n",
    "    contenido = json.loads(respuesta.content)\n",
    "\n",
    "datos_hombres = contenido['Series'][0]['OBSERVATIONS']"
   ]
  },
  {
   "cell_type": "code",
   "execution_count": 5,
   "metadata": {},
   "outputs": [
    {
     "name": "stdout",
     "output_type": "stream",
     "text": [
      "[1910, 1921, 1930, 1940, 1950, 1960, 1970, 1980, 1990, 1995, 2000, 2005, 2010, 2020]\n",
      "[7504471, 7003785, 8119004, 9695787, 12696935, 17415320, 24065614, 33039307, 39893969, 44900499, 47592253, 50249955, 54855231, 61473390]\n"
     ]
    }
   ],
   "source": [
    "poblacion_hombres = []\n",
    "periodo = []\n",
    "for dato in datos_hombres:\n",
    "    periodo.append(int(dato['TIME_PERIOD']))\n",
    "    poblacion_hombres.append(int(float(dato['OBS_VALUE'])))\n",
    "\n",
    "print(periodo)\n",
    "print(poblacion_hombres)"
   ]
  },
  {
   "cell_type": "code",
   "execution_count": 6,
   "metadata": {},
   "outputs": [
    {
     "name": "stdout",
     "output_type": "stream",
     "text": [
      "[7655898, 7330995, 8433718, 9957765, 13094082, 17507809, 24159624, 33807526, 41355676, 46257791, 49891159, 53013433, 57481307, 64540634]\n",
      "[1910, 1921, 1930, 1940, 1950, 1960, 1970, 1980, 1990, 1995, 2000, 2005, 2010, 2020]\n"
     ]
    }
   ],
   "source": [
    "url = f'https://www.inegi.org.mx/app/api/indicadores/desarrolladores/jsonxml/INDICATOR/1002000003/es/0700/false/BISE/2.0/{token}?type=json'\n",
    "respuesta = requests.get(url)\n",
    "if respuesta.status_code == 200:\n",
    "    #print(respuesta.content)\n",
    "    contenido =  json.loads(respuesta.content)\n",
    "\n",
    "\n",
    "datos_mujeres = contenido['Series'][0]['OBSERVATIONS']\n",
    "poblacion_mujeres=[]\n",
    "periodo=[]\n",
    "for dato in datos_mujeres:\n",
    "    poblacion_mujeres.append(int(float(dato['OBS_VALUE']) ) )\n",
    "    periodo.append(int(dato['TIME_PERIOD'])  )\n",
    "\n",
    "print(poblacion_mujeres)\n",
    "print(periodo)"
   ]
  },
  {
   "cell_type": "code",
   "execution_count": 7,
   "metadata": {},
   "outputs": [
    {
     "data": {
      "text/html": [
       "<div>\n",
       "<style scoped>\n",
       "    .dataframe tbody tr th:only-of-type {\n",
       "        vertical-align: middle;\n",
       "    }\n",
       "\n",
       "    .dataframe tbody tr th {\n",
       "        vertical-align: top;\n",
       "    }\n",
       "\n",
       "    .dataframe thead th {\n",
       "        text-align: right;\n",
       "    }\n",
       "</style>\n",
       "<table border=\"1\" class=\"dataframe\">\n",
       "  <thead>\n",
       "    <tr style=\"text-align: right;\">\n",
       "      <th></th>\n",
       "      <th>Periodo</th>\n",
       "      <th>Hombres</th>\n",
       "      <th>Mujeres</th>\n",
       "      <th>Total</th>\n",
       "    </tr>\n",
       "  </thead>\n",
       "  <tbody>\n",
       "    <tr>\n",
       "      <th>0</th>\n",
       "      <td>1910</td>\n",
       "      <td>7504471</td>\n",
       "      <td>7655898</td>\n",
       "      <td>15160369</td>\n",
       "    </tr>\n",
       "    <tr>\n",
       "      <th>1</th>\n",
       "      <td>1921</td>\n",
       "      <td>7003785</td>\n",
       "      <td>7330995</td>\n",
       "      <td>14334780</td>\n",
       "    </tr>\n",
       "    <tr>\n",
       "      <th>2</th>\n",
       "      <td>1930</td>\n",
       "      <td>8119004</td>\n",
       "      <td>8433718</td>\n",
       "      <td>16552722</td>\n",
       "    </tr>\n",
       "    <tr>\n",
       "      <th>3</th>\n",
       "      <td>1940</td>\n",
       "      <td>9695787</td>\n",
       "      <td>9957765</td>\n",
       "      <td>19653552</td>\n",
       "    </tr>\n",
       "    <tr>\n",
       "      <th>4</th>\n",
       "      <td>1950</td>\n",
       "      <td>12696935</td>\n",
       "      <td>13094082</td>\n",
       "      <td>25791017</td>\n",
       "    </tr>\n",
       "    <tr>\n",
       "      <th>5</th>\n",
       "      <td>1960</td>\n",
       "      <td>17415320</td>\n",
       "      <td>17507809</td>\n",
       "      <td>34923129</td>\n",
       "    </tr>\n",
       "    <tr>\n",
       "      <th>6</th>\n",
       "      <td>1970</td>\n",
       "      <td>24065614</td>\n",
       "      <td>24159624</td>\n",
       "      <td>48225238</td>\n",
       "    </tr>\n",
       "    <tr>\n",
       "      <th>7</th>\n",
       "      <td>1980</td>\n",
       "      <td>33039307</td>\n",
       "      <td>33807526</td>\n",
       "      <td>66846833</td>\n",
       "    </tr>\n",
       "    <tr>\n",
       "      <th>8</th>\n",
       "      <td>1990</td>\n",
       "      <td>39893969</td>\n",
       "      <td>41355676</td>\n",
       "      <td>81249645</td>\n",
       "    </tr>\n",
       "    <tr>\n",
       "      <th>9</th>\n",
       "      <td>1995</td>\n",
       "      <td>44900499</td>\n",
       "      <td>46257791</td>\n",
       "      <td>91158290</td>\n",
       "    </tr>\n",
       "    <tr>\n",
       "      <th>10</th>\n",
       "      <td>2000</td>\n",
       "      <td>47592253</td>\n",
       "      <td>49891159</td>\n",
       "      <td>97483412</td>\n",
       "    </tr>\n",
       "    <tr>\n",
       "      <th>11</th>\n",
       "      <td>2005</td>\n",
       "      <td>50249955</td>\n",
       "      <td>53013433</td>\n",
       "      <td>103263388</td>\n",
       "    </tr>\n",
       "    <tr>\n",
       "      <th>12</th>\n",
       "      <td>2010</td>\n",
       "      <td>54855231</td>\n",
       "      <td>57481307</td>\n",
       "      <td>112336538</td>\n",
       "    </tr>\n",
       "    <tr>\n",
       "      <th>13</th>\n",
       "      <td>2020</td>\n",
       "      <td>61473390</td>\n",
       "      <td>64540634</td>\n",
       "      <td>126014024</td>\n",
       "    </tr>\n",
       "  </tbody>\n",
       "</table>\n",
       "</div>"
      ],
      "text/plain": [
       "    Periodo   Hombres   Mujeres      Total\n",
       "0      1910   7504471   7655898   15160369\n",
       "1      1921   7003785   7330995   14334780\n",
       "2      1930   8119004   8433718   16552722\n",
       "3      1940   9695787   9957765   19653552\n",
       "4      1950  12696935  13094082   25791017\n",
       "5      1960  17415320  17507809   34923129\n",
       "6      1970  24065614  24159624   48225238\n",
       "7      1980  33039307  33807526   66846833\n",
       "8      1990  39893969  41355676   81249645\n",
       "9      1995  44900499  46257791   91158290\n",
       "10     2000  47592253  49891159   97483412\n",
       "11     2005  50249955  53013433  103263388\n",
       "12     2010  54855231  57481307  112336538\n",
       "13     2020  61473390  64540634  126014024"
      ]
     },
     "execution_count": 7,
     "metadata": {},
     "output_type": "execute_result"
    }
   ],
   "source": [
    "df_poblacion = pd.DataFrame()\n",
    "df_poblacion['Periodo'] = periodo\n",
    "df_poblacion['Hombres'] = poblacion_hombres\n",
    "df_poblacion['Mujeres'] = poblacion_mujeres\n",
    "df_poblacion['Total'] = df_poblacion['Hombres'] + df_poblacion['Mujeres']\n",
    "df_poblacion"
   ]
  },
  {
   "cell_type": "code",
   "execution_count": 9,
   "metadata": {},
   "outputs": [
    {
     "data": {
      "image/png": "[encoded data removed]",
      "text/plain": [
       "<Figure size 640x480 with 1 Axes>"
      ]
     },
     "metadata": {},
     "output_type": "display_data"
    }
   ],
   "source": [
    "plt.plot(df_poblacion['Periodo'] , df_poblacion['Total'] , \n",
    "         'k-', label='Total')\n",
    "plt.plot(df_poblacion['Periodo'] , df_poblacion['Mujeres'] , \n",
    "         'r:', label='Mujeres')\n",
    "plt.plot(df_poblacion['Periodo'] , df_poblacion['Hombres'] , \n",
    "         'b-.', label='Hombres')\n",
    "plt.legend()\n",
    "plt.show()"
   ]
  },
  {
   "cell_type": "code",
   "execution_count": 12,
   "metadata": {},
   "outputs": [
    {
     "data": {
      "text/html": [
       "<div>\n",
       "<style scoped>\n",
       "    .dataframe tbody tr th:only-of-type {\n",
       "        vertical-align: middle;\n",
       "    }\n",
       "\n",
       "    .dataframe tbody tr th {\n",
       "        vertical-align: top;\n",
       "    }\n",
       "\n",
       "    .dataframe thead th {\n",
       "        text-align: right;\n",
       "    }\n",
       "</style>\n",
       "<table border=\"1\" class=\"dataframe\">\n",
       "  <thead>\n",
       "    <tr style=\"text-align: right;\">\n",
       "      <th></th>\n",
       "      <th>Periodo</th>\n",
       "      <th>Categoria</th>\n",
       "      <th>Poblacion</th>\n",
       "    </tr>\n",
       "  </thead>\n",
       "  <tbody>\n",
       "    <tr>\n",
       "      <th>0</th>\n",
       "      <td>1910</td>\n",
       "      <td>Hombres</td>\n",
       "      <td>7504471</td>\n",
       "    </tr>\n",
       "    <tr>\n",
       "      <th>1</th>\n",
       "      <td>1921</td>\n",
       "      <td>Hombres</td>\n",
       "      <td>7003785</td>\n",
       "    </tr>\n",
       "    <tr>\n",
       "      <th>2</th>\n",
       "      <td>1930</td>\n",
       "      <td>Hombres</td>\n",
       "      <td>8119004</td>\n",
       "    </tr>\n",
       "    <tr>\n",
       "      <th>3</th>\n",
       "      <td>1940</td>\n",
       "      <td>Hombres</td>\n",
       "      <td>9695787</td>\n",
       "    </tr>\n",
       "    <tr>\n",
       "      <th>4</th>\n",
       "      <td>1950</td>\n",
       "      <td>Hombres</td>\n",
       "      <td>12696935</td>\n",
       "    </tr>\n",
       "    <tr>\n",
       "      <th>5</th>\n",
       "      <td>1960</td>\n",
       "      <td>Hombres</td>\n",
       "      <td>17415320</td>\n",
       "    </tr>\n",
       "    <tr>\n",
       "      <th>6</th>\n",
       "      <td>1970</td>\n",
       "      <td>Hombres</td>\n",
       "      <td>24065614</td>\n",
       "    </tr>\n",
       "    <tr>\n",
       "      <th>7</th>\n",
       "      <td>1980</td>\n",
       "      <td>Hombres</td>\n",
       "      <td>33039307</td>\n",
       "    </tr>\n",
       "    <tr>\n",
       "      <th>8</th>\n",
       "      <td>1990</td>\n",
       "      <td>Hombres</td>\n",
       "      <td>39893969</td>\n",
       "    </tr>\n",
       "    <tr>\n",
       "      <th>9</th>\n",
       "      <td>1995</td>\n",
       "      <td>Hombres</td>\n",
       "      <td>44900499</td>\n",
       "    </tr>\n",
       "    <tr>\n",
       "      <th>10</th>\n",
       "      <td>2000</td>\n",
       "      <td>Hombres</td>\n",
       "      <td>47592253</td>\n",
       "    </tr>\n",
       "    <tr>\n",
       "      <th>11</th>\n",
       "      <td>2005</td>\n",
       "      <td>Hombres</td>\n",
       "      <td>50249955</td>\n",
       "    </tr>\n",
       "    <tr>\n",
       "      <th>12</th>\n",
       "      <td>2010</td>\n",
       "      <td>Hombres</td>\n",
       "      <td>54855231</td>\n",
       "    </tr>\n",
       "    <tr>\n",
       "      <th>13</th>\n",
       "      <td>2020</td>\n",
       "      <td>Hombres</td>\n",
       "      <td>61473390</td>\n",
       "    </tr>\n",
       "    <tr>\n",
       "      <th>14</th>\n",
       "      <td>1910</td>\n",
       "      <td>Mujeres</td>\n",
       "      <td>7655898</td>\n",
       "    </tr>\n",
       "    <tr>\n",
       "      <th>15</th>\n",
       "      <td>1921</td>\n",
       "      <td>Mujeres</td>\n",
       "      <td>7330995</td>\n",
       "    </tr>\n",
       "    <tr>\n",
       "      <th>16</th>\n",
       "      <td>1930</td>\n",
       "      <td>Mujeres</td>\n",
       "      <td>8433718</td>\n",
       "    </tr>\n",
       "    <tr>\n",
       "      <th>17</th>\n",
       "      <td>1940</td>\n",
       "      <td>Mujeres</td>\n",
       "      <td>9957765</td>\n",
       "    </tr>\n",
       "    <tr>\n",
       "      <th>18</th>\n",
       "      <td>1950</td>\n",
       "      <td>Mujeres</td>\n",
       "      <td>13094082</td>\n",
       "    </tr>\n",
       "    <tr>\n",
       "      <th>19</th>\n",
       "      <td>1960</td>\n",
       "      <td>Mujeres</td>\n",
       "      <td>17507809</td>\n",
       "    </tr>\n",
       "    <tr>\n",
       "      <th>20</th>\n",
       "      <td>1970</td>\n",
       "      <td>Mujeres</td>\n",
       "      <td>24159624</td>\n",
       "    </tr>\n",
       "    <tr>\n",
       "      <th>21</th>\n",
       "      <td>1980</td>\n",
       "      <td>Mujeres</td>\n",
       "      <td>33807526</td>\n",
       "    </tr>\n",
       "    <tr>\n",
       "      <th>22</th>\n",
       "      <td>1990</td>\n",
       "      <td>Mujeres</td>\n",
       "      <td>41355676</td>\n",
       "    </tr>\n",
       "    <tr>\n",
       "      <th>23</th>\n",
       "      <td>1995</td>\n",
       "      <td>Mujeres</td>\n",
       "      <td>46257791</td>\n",
       "    </tr>\n",
       "    <tr>\n",
       "      <th>24</th>\n",
       "      <td>2000</td>\n",
       "      <td>Mujeres</td>\n",
       "      <td>49891159</td>\n",
       "    </tr>\n",
       "    <tr>\n",
       "      <th>25</th>\n",
       "      <td>2005</td>\n",
       "      <td>Mujeres</td>\n",
       "      <td>53013433</td>\n",
       "    </tr>\n",
       "    <tr>\n",
       "      <th>26</th>\n",
       "      <td>2010</td>\n",
       "      <td>Mujeres</td>\n",
       "      <td>57481307</td>\n",
       "    </tr>\n",
       "    <tr>\n",
       "      <th>27</th>\n",
       "      <td>2020</td>\n",
       "      <td>Mujeres</td>\n",
       "      <td>64540634</td>\n",
       "    </tr>\n",
       "    <tr>\n",
       "      <th>28</th>\n",
       "      <td>1910</td>\n",
       "      <td>Total</td>\n",
       "      <td>15160369</td>\n",
       "    </tr>\n",
       "    <tr>\n",
       "      <th>29</th>\n",
       "      <td>1921</td>\n",
       "      <td>Total</td>\n",
       "      <td>14334780</td>\n",
       "    </tr>\n",
       "    <tr>\n",
       "      <th>30</th>\n",
       "      <td>1930</td>\n",
       "      <td>Total</td>\n",
       "      <td>16552722</td>\n",
       "    </tr>\n",
       "    <tr>\n",
       "      <th>31</th>\n",
       "      <td>1940</td>\n",
       "      <td>Total</td>\n",
       "      <td>19653552</td>\n",
       "    </tr>\n",
       "    <tr>\n",
       "      <th>32</th>\n",
       "      <td>1950</td>\n",
       "      <td>Total</td>\n",
       "      <td>25791017</td>\n",
       "    </tr>\n",
       "    <tr>\n",
       "      <th>33</th>\n",
       "      <td>1960</td>\n",
       "      <td>Total</td>\n",
       "      <td>34923129</td>\n",
       "    </tr>\n",
       "    <tr>\n",
       "      <th>34</th>\n",
       "      <td>1970</td>\n",
       "      <td>Total</td>\n",
       "      <td>48225238</td>\n",
       "    </tr>\n",
       "    <tr>\n",
       "      <th>35</th>\n",
       "      <td>1980</td>\n",
       "      <td>Total</td>\n",
       "      <td>66846833</td>\n",
       "    </tr>\n",
       "    <tr>\n",
       "      <th>36</th>\n",
       "      <td>1990</td>\n",
       "      <td>Total</td>\n",
       "      <td>81249645</td>\n",
       "    </tr>\n",
       "    <tr>\n",
       "      <th>37</th>\n",
       "      <td>1995</td>\n",
       "      <td>Total</td>\n",
       "      <td>91158290</td>\n",
       "    </tr>\n",
       "    <tr>\n",
       "      <th>38</th>\n",
       "      <td>2000</td>\n",
       "      <td>Total</td>\n",
       "      <td>97483412</td>\n",
       "    </tr>\n",
       "    <tr>\n",
       "      <th>39</th>\n",
       "      <td>2005</td>\n",
       "      <td>Total</td>\n",
       "      <td>103263388</td>\n",
       "    </tr>\n",
       "    <tr>\n",
       "      <th>40</th>\n",
       "      <td>2010</td>\n",
       "      <td>Total</td>\n",
       "      <td>112336538</td>\n",
       "    </tr>\n",
       "    <tr>\n",
       "      <th>41</th>\n",
       "      <td>2020</td>\n",
       "      <td>Total</td>\n",
       "      <td>126014024</td>\n",
       "    </tr>\n",
       "  </tbody>\n",
       "</table>\n",
       "</div>"
      ],
      "text/plain": [
       "    Periodo Categoria  Poblacion\n",
       "0      1910   Hombres    7504471\n",
       "1      1921   Hombres    7003785\n",
       "2      1930   Hombres    8119004\n",
       "3      1940   Hombres    9695787\n",
       "4      1950   Hombres   12696935\n",
       "5      1960   Hombres   17415320\n",
       "6      1970   Hombres   24065614\n",
       "7      1980   Hombres   33039307\n",
       "8      1990   Hombres   39893969\n",
       "9      1995   Hombres   44900499\n",
       "10     2000   Hombres   47592253\n",
       "11     2005   Hombres   50249955\n",
       "12     2010   Hombres   54855231\n",
       "13     2020   Hombres   61473390\n",
       "14     1910   Mujeres    7655898\n",
       "15     1921   Mujeres    7330995\n",
       "16     1930   Mujeres    8433718\n",
       "17     1940   Mujeres    9957765\n",
       "18     1950   Mujeres   13094082\n",
       "19     1960   Mujeres   17507809\n",
       "20     1970   Mujeres   24159624\n",
       "21     1980   Mujeres   33807526\n",
       "22     1990   Mujeres   41355676\n",
       "23     1995   Mujeres   46257791\n",
       "24     2000   Mujeres   49891159\n",
       "25     2005   Mujeres   53013433\n",
       "26     2010   Mujeres   57481307\n",
       "27     2020   Mujeres   64540634\n",
       "28     1910     Total   15160369\n",
       "29     1921     Total   14334780\n",
       "30     1930     Total   16552722\n",
       "31     1940     Total   19653552\n",
       "32     1950     Total   25791017\n",
       "33     1960     Total   34923129\n",
       "34     1970     Total   48225238\n",
       "35     1980     Total   66846833\n",
       "36     1990     Total   81249645\n",
       "37     1995     Total   91158290\n",
       "38     2000     Total   97483412\n",
       "39     2005     Total  103263388\n",
       "40     2010     Total  112336538\n",
       "41     2020     Total  126014024"
      ]
     },
     "execution_count": 12,
     "metadata": {},
     "output_type": "execute_result"
    }
   ],
   "source": [
    "df = pd.melt(df_poblacion, id_vars='Periodo',\n",
    "            var_name='Categoria', value_name='Poblacion')\n",
    "df"
   ]
  },
  {
   "cell_type": "code",
   "execution_count": 13,
   "metadata": {},
   "outputs": [
    {
     "data": {
      "image/png": "[encoded data removed]",
      "text/plain": [
       "<Figure size 1500x800 with 1 Axes>"
      ]
     },
     "metadata": {},
     "output_type": "display_data"
    }
   ],
   "source": [
    "import seaborn as sns\n",
    "plt.figure(figsize=(15,8))\n",
    "plt.title('Population growth in Mexico')\n",
    "sns.barplot(x='Periodo', y='Poblacion', data=df, hue='Categoria', palette=[\"#66053A\",\"#0B50D3\",\"#D30B57\"])\n",
    "plt.gca().legend().set_title('Gender')\n",
    "plt.xticks(rotation=90)\n",
    "plt.ylabel(\"Population (in hundreds of millions)\")\n",
    "plt.show()"
   ]
  },
  {
   "cell_type": "markdown",
   "metadata": {
    "id": "u6o_YtR035iS"
   },
   "source": [
    "## 2. Mostrar en un mapa  el porcentaje de población de 12 años y más económicamente activa por estados.\n",
    "Utilizar alguna gama de color que a continuación se presenta.\n"
   ]
  },
  {
   "cell_type": "markdown",
   "metadata": {
    "id": "GUgkp3174B17"
   },
   "source": [
    "![Imagen](https://docs.google.com/uc?export=download&id=1ttSMxLfUH5-WweB4_US27c4eU_Q7FUH2)  \n"
   ]
  },
  {
   "cell_type": "code",
   "execution_count": null,
   "metadata": {
    "id": "B4hBpuOi35OK"
   },
   "outputs": [],
   "source": []
  }
 ],
 "metadata": {
  "colab": {
   "authorship_tag": "ABX9TyO7Bu/0L3woWpfkvb2XXlzo",
   "provenance": []
  },
  "kernelspec": {
   "display_name": "Python 3 (ipykernel)",
   "language": "python",
   "name": "python3"
  },
  "language_info": {
   "codemirror_mode": {
    "name": "ipython",
    "version": 3
   },
   "file_extension": ".py",
   "mimetype": "text/x-python",
   "name": "python",
   "nbconvert_exporter": "python",
   "pygments_lexer": "ipython3",
   "version": "3.11.4"
  }
 },
 "nbformat": 4,
 "nbformat_minor": 4
}
