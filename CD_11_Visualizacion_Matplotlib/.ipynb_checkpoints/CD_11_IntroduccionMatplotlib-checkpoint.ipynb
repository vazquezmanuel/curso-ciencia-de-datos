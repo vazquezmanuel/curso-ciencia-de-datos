{
 "cells": [
  {
   "cell_type": "markdown",
   "metadata": {},
   "source": [
    "<!--Información del curso-->\n",
    "<img align=\"left\" style=\"padding-right:10px;\" src=\"figuras/logo_ciencia_datos.png\">"
   ]
  },
  {
   "cell_type": "markdown",
   "metadata": {},
   "source": [
    "<center><h1 style=\"font-size:2em;color:#2467C0\"> Visualización - Parte 1  </h1></center>\n",
    "\n",
    "<center><h2 style=\"font-size:2em;color:#840700\">   Introducción a matplotlib  </h4></center>\n",
    "\n",
    "<br>\n",
    "<table>\n",
    "<col width=\"550\">\n",
    "<col width=\"450\">\n",
    "<tr>\n",
    "<td><img src=\"figuras/data_visualizacion.png\" align=\"left\" style=\"width:400px\"/></td>\n",
    "<td>\n",
    "\n",
    "\"Visualizar información puede darnos una solución muy rápida a los problemas. Podemos obtener claridad o la respuesta a un problema simple muy rápidamente\". David McCandless\n",
    "    \n",
    "\"Visualizing information can give us a very quick solution to problems. We can get clarity or the answer to a simple problem very quickly.” David McCandless   \n",
    "    \n",
    "<br>\n",
    "</td>\n",
    "</tr>\n",
    "</table>"
   ]
  },
  {
   "cell_type": "markdown",
   "metadata": {},
   "source": [
    "# Librerías\n",
    "\n",
    "Cargando las bibliotecas que necesitamos \n"
   ]
  },
  {
   "cell_type": "code",
   "execution_count": null,
   "metadata": {},
   "outputs": [],
   "source": [
    "import pandas as pd\n",
    "import numpy as np\n",
    "import matplotlib.pyplot as plt"
   ]
  },
  {
   "cell_type": "markdown",
   "metadata": {},
   "source": [
    "# Introducción"
   ]
  },
  {
   "cell_type": "markdown",
   "metadata": {},
   "source": [
    "La visualización de datos es una técnica para presentar los datos en un formato **pictórico** y **gráfico**. Mediante el uso de elementos visuales  **gráficas** y **mapas**, la visualización de datos proporciona una forma accesible de ver y comprender **tendencias**, **valores atípicos** y **patrones** en los datos.\n",
    "\n",
    "Somos un mundo _inherentemente visual_, donde las imágenes hablan más que las palabras. Nuestros ojos se sienten atraídos por _colores y patrones_. Podemos identificar rápidamente el rojo del azul, el cuadrado del círculo. Nuestra cultura es _visual_, lo que incluye todo, desde arte y publicidad hasta televisión y películas. La _visualización de datos_ es especialmente importante cuando se trata de **grandes datos** y **proyectos de análisis de datos**.\n",
    "\n",
    "\n",
    "Hoy en día, cada vez más empresas utilizan el aprendizaje automático para recopilar cantidades masivas de datos. Si bien es genial que puedan hacer esto de manera tan rápida y efectiva, también requiere una forma de clasificar, comprender y explicar estos datos de una manera que tenga sentido tanto para los propietarios de negocios como para las partes interesadas.\n",
    "\n",
    "\n",
    "Cuando los _científicos de datos_ se encuentran en medio de un proyecto complejo, necesitan una forma de comprender los datos que se recopilan para poder monitorear y ajustar su proceso para asegurarse de que funciona como debería. Los resultados de algoritmos complejos son mucho más fáciles de entender en un _formato visual_ en lugar de líneas y líneas de texto y números.\n"
   ]
  },
  {
   "cell_type": "markdown",
   "metadata": {},
   "source": [
    "## Libreria matplotlib"
   ]
  },
  {
   "cell_type": "markdown",
   "metadata": {},
   "source": [
    "<img align=\"left\" width=\"400\"  float= \"none\" align=\"middle\" src=\"figuras/matplotlib.png\">"
   ]
  },
  {
   "cell_type": "markdown",
   "metadata": {},
   "source": [
    "**Matplotlib** es la biblioteca para hacer graficas más popular en Python. Con **matplotlib**, puede crear prácticamente cualquier tipo de gráfico. Sin embargo, a medida que sus gráficos se vuelven más complejos, la curva de aprendizaje puede volverse más pronunciada.\n",
    "\n",
    "La clave de **matplotlib** se encuentra en la estructura de la visualización. Y puede utilizarse de dos formas:\n",
    "* 1. _**Estilo orientado a objetos**_. Creando una figura que representa al gráfico, indicando el número de `axes` y después, mostrando la `figure`. Esto se conoce como *Object-oriented style*.\n",
    "* 2. _**Estilo Matlab**_. Dejando que sea la propia librería la que configure el gráfico automáticamente al estilo de Matlab.\n",
    "\n",
    "Conforme se avance en esta lección se mostrarán sus diferencias."
   ]
  },
  {
   "cell_type": "markdown",
   "metadata": {},
   "source": [
    "## Gráfica de dispersión básica\n"
   ]
  },
  {
   "cell_type": "markdown",
   "metadata": {},
   "source": [
    "El siguiente fragmento de código se encuentra en prácticamente cualquier código de Python que tenga gráficos de matplotlib."
   ]
  },
  {
   "cell_type": "code",
   "execution_count": null,
   "metadata": {},
   "outputs": [],
   "source": [
    "# importar matplotlib.pyplot como plt\n",
    "import matplotlib.pyplot as plt\n"
   ]
  },
  {
   "cell_type": "markdown",
   "metadata": {},
   "source": [
    "`matplotlib.pyplot` generalmente se importa como `plt`. Es el *objeto* principal que contiene las funciones para crear todo tipo de gráficos y características en un gráfico.\n",
    "\n",
    "Comencemos por hacer un diagrama de dispersión simple pero con todas las funciones y partamos de ahí. Veamos el resultado de `plt.plot()` si tiene una secuencia arbitraria de números."
   ]
  },
  {
   "cell_type": "code",
   "execution_count": null,
   "metadata": {},
   "outputs": [],
   "source": [
    "import matplotlib.pyplot as plt\n",
    "\n",
    "# Plot\n",
    "plt.plot([1,5,3,4,10])"
   ]
  },
  {
   "cell_type": "markdown",
   "metadata": {},
   "source": [
    "Solo se le dio una lista de números a `plt.plot()` y dibujó un gráfico de líneas automáticamente. Asumió que los valores del eje X comenzaban desde cero y llegaban hasta tantos elementos en los datos.\n",
    "\n",
    "_**¿Observa la línea matplotlib.lines.Line2D en la salida del código?**_\n",
    "\n",
    "Esto se debe a que Matplotlib devuelve el objeto de la grafica en sí, además de dibujar la grafica.  Si solo desea ver el gráfico, es necesario `plt.show()` al final y ejecute todas las líneas de una vez."
   ]
  },
  {
   "cell_type": "code",
   "execution_count": null,
   "metadata": {},
   "outputs": [],
   "source": [
    "import matplotlib.pyplot as plt\n",
    "\n",
    "# Plot\n",
    "plt.plot([1,5,3,4,10])\n",
    "plt.show()"
   ]
  },
  {
   "cell_type": "markdown",
   "metadata": {},
   "source": [
    "Observe que en lugar del diagrama de dispersión previsto, `plt.plot` dibujó un diagrama de líneas. Eso se debe al comportamiento predeterminado. Entonces, __*¿cómo dibujar un diagrama de dispersión en su lugar?*__ . Para hacer eso, entendamos un poco más sobre los argumentos que espera `plt.plot()`  acepta 3 argumentos básicos en el siguiente orden: \n",
    "\n",
    "**(formato x, y)** : Este formato es una combinación abreviada de `{color}` `{marker}` `{line}`.\n",
    "\n",
    "Por ejemplo, el formato `go-` tiene 3 caracteres que representan: \"puntos de color verde con línea continua\". Si omite la parte de la línea (`-`) al final, quedará solo con puntos verdes (`go`), lo que hace que se dibuje un diagrama de dispersión.\n",
    "\n",
    "Algunos ejemplos de formato de mano corta de uso común son:\n",
    "* `r*--`: estrellas rojas con líneas discontinuas\n",
    "* `ks.` : Cuadrados negros con línea de puntos (`k` significa negro)\n",
    "* `bD-.` : Diamantes azules con línea de puntos y guiones.\n",
    "\n",
    "Dibujemos una gráfica de dispersión con puntos verdes."
   ]
  },
  {
   "cell_type": "code",
   "execution_count": null,
   "metadata": {},
   "outputs": [],
   "source": [
    "plt.plot([1,2,3,4,5], [1,2,3,4,10], 'go')\n",
    "plt.show()"
   ]
  },
  {
   "cell_type": "markdown",
   "metadata": {},
   "source": [
    "##  ¿Cómo dibujar dos conjuntos de diagramas de dispersión en el mismo diagrama ?\n",
    "\n",
    "Simplemente hay que llamar a `plt.plot()` nuevamente y se agregarán esos puntos a la misma imagen. Quizás se pregunte, ¿por qué no dibuja estos puntos en un panel nuevo por completo? Esto se dicutirá en la  la siguiente sección.\n"
   ]
  },
  {
   "cell_type": "code",
   "execution_count": null,
   "metadata": {},
   "outputs": [],
   "source": [
    "# Dibuja dos conjuntos de puntos\n",
    "plt.plot([1,2,3,4,5], [1,2,3,4,10], 'go')  # puntos verdes\n",
    "plt.plot([1,2,3,4,5], [2,3,4,5,11], 'b*')  # estrellas azules\n",
    "plt.show()"
   ]
  },
  {
   "cell_type": "markdown",
   "metadata": {},
   "source": [
    "Ahora agreguemos las características básicas de la grafica: *título*, *leyenda*, *etiquetas de los ejes X e Y*. ¿Como hacer eso? \n",
    "El objeto `plt` tiene métodos correspondientes para agregar cada uno de estos."
   ]
  },
  {
   "cell_type": "code",
   "execution_count": null,
   "metadata": {},
   "outputs": [],
   "source": [
    "plt.plot([1,2,3,4,5], [1,2,3,4,10], 'go', label='GreenDots')\n",
    "plt.plot([1,2,3,4,5], [2,3,4,5,11], 'b*', label='Bluestars')\n",
    "plt.title('A Simple Scatterplot')\n",
    "plt.xlabel('X')\n",
    "plt.ylabel('Y')\n",
    "plt.legend(loc='upper left') \n",
    "plt.show()"
   ]
  },
  {
   "cell_type": "markdown",
   "metadata": {},
   "source": [
    "Ahora bien, ¿cómo aumentar el tamaño del grafico? La manera fácil de hacerlo es configurando el método `figsize` dentro de `plt.figure()`."
   ]
  },
  {
   "cell_type": "code",
   "execution_count": null,
   "metadata": {},
   "outputs": [],
   "source": [
    "plt.figure(figsize=(10,7)) # 10 de ancho, 7 altura\n",
    "plt.plot([1,2,3,4,5], [1,2,3,4,10], 'go', label='GreenDots')  # green dots\n",
    "plt.plot([1,2,3,4,5], [2,3,4,5,11], 'b*', label='Bluestars')  # blue stars\n",
    "plt.title('A Simple Scatterplot')  \n",
    "plt.xlabel('X')\n",
    "plt.ylabel('Y')\n",
    "plt.xlim(0, 6)\n",
    "plt.ylim(0, 12)\n",
    "plt.legend(loc='best')\n",
    "plt.show()"
   ]
  },
  {
   "cell_type": "markdown",
   "metadata": {},
   "source": [
    "**¿Qué hace plt.figure?** \n",
    "Cada grafica que hace **matplotlib** se dibuja en algo llamado `figure`. Puede pensar en el objeto `figure` como un lienzo que contiene todas las subgraficas y otros elementos dentro de él.\n",
    "\n",
    "\n",
    "<img align=\"left\" width=\"700\"  float= \"none\" align=\"middle\" src=\"figuras/figure.png\">\n",
    "\n"
   ]
  },
  {
   "cell_type": "markdown",
   "metadata": {},
   "source": [
    "Importante: `figure` puede tener una o más subgraficas dentro de ella llamadas `axes`, organizadas en filas y columnas. Cada `figure` tiene al menos un `axes`. (No confunda estos `axes` con los ejes X e Y, son diferentes)."
   ]
  },
  {
   "cell_type": "markdown",
   "metadata": {},
   "source": [
    "## Cómo dibujar 2 diagramas de dispersión en diferentes paneles\n",
    "\n",
    "Entendamos la `figure` y los `axes` con un poco más de detalle.  Supongamos que se quiere dibujar los dos conjuntos de puntos (círculos verdes y estrellas azules) en dos gráficos separados uno al lado del otro en lugar del mismo gráfico. ¿Cómo se podria hacer?\n",
    "\n",
    "Se puede hacer creando dos subgraficas separadas, también conocidas como `axes`, usando `plt.subplots(1, 2)`. Esto crea y devuelve dos objetos:\n",
    "* `figure`\n",
    "* `axes` (subgraficas) "
   ]
  },
  {
   "cell_type": "markdown",
   "metadata": {},
   "source": [
    "Anteriormente, se llamo a  `plt.plot()` para dibujar los puntos. Como solo había un `axes` por defecto, dibujó los puntos en ese `axes`. Pero ahora, dado que desea que los puntos se dibujen en diferentes subgraficas (`axes`), debe llamar a la función en sus `axes` respectivos (*ax1* y *ax2* en el código de abajo) en lugar de `plt`.\n",
    "\n",
    "Observe que en el código siguiente, es utilizado `ax1.plot()` y `ax2.plot()` en lugar de llamar a `plt.plot()` dos veces."
   ]
  },
  {
   "cell_type": "code",
   "execution_count": null,
   "metadata": {},
   "outputs": [],
   "source": [
    "# Create Figure and Subplots\n",
    "fig, (ax0, ax1) = plt.subplots(1,2, figsize=(8,3), sharey=True, dpi=120)\n",
    "#fig, (ax0, ax1) = plt.subplots(1,2)\n",
    "\n",
    "# Plot\n",
    "ax0.plot([1,2,3,4,5], [1,2,3,4,10], 'go')  # greendots\n",
    "ax1.plot([1,2,3,4,5], [2,3,4,5,11], 'b*')  # bluestart\n",
    "\n",
    "# Title, X and Y labels, X and Y Lim\n",
    "ax0.set_title('Scatterplot Greendots')\n",
    "ax1.set_title('Scatterplot Bluestars')\n",
    "ax0.set_xlabel('X')  # x label \n",
    "ax1.set_xlabel('X')  # x label\n",
    "ax0.set_ylabel('Y')  # y label\n",
    "ax1.set_ylabel('Y')  # y label\n",
    "ax0.set_xlim(0, 6)   # x axis limits\n",
    "ax1.set_xlim(0, 6)   # x axis limits\n",
    "ax0.set_ylim(0, 12)  # y axis limits \n",
    "ax1.set_ylim(0, 12)  # y axis limits\n",
    "\n",
    "plt.show()"
   ]
  },
  {
   "cell_type": "markdown",
   "metadata": {},
   "source": [
    "Establecer `sharey = True` en `plt.subplots()` permite comparit el mismo *eje Y* entre las dos subgraficas. Y `ppp = 120` aumenta la cantidad de puntos por pulgada del gráfico para que se vea más nítido y claro. Se notará una mejora en la claridad al aumentar los `ppp`.\n",
    "\n",
    "Los objetos `ax1` y `ax2`, como `plt`, tienen funciones `set_title`, `set_xlabel` y `set_ylabel` equivalentes. De hecho, `plt.title()` realmente llama a los `axes` actuales `set_title()` para hacer el trabajo."
   ]
  },
  {
   "cell_type": "markdown",
   "metadata": {},
   "source": [
    "* plt.xlabel() --> ax.set_xlabel()\n",
    "* plt.ylabel() --> ax.set_ylabel()\n",
    "* plt.xlim() --> ax.set_xlim()\n",
    "* plt.ylim() --> ax.set_ylim()\n",
    "* plt.title() --> ax.set_title()"
   ]
  },
  {
   "cell_type": "markdown",
   "metadata": {},
   "source": [
    "Alternativamente, puede configurar varias cosas a la vez usando `ax.set()`."
   ]
  },
  {
   "cell_type": "code",
   "execution_count": null,
   "metadata": {},
   "outputs": [],
   "source": [
    "# Create Figure and Subplots\n",
    "fig, (ax0, ax1) = plt.subplots(1,2, figsize=(8,3), sharey=True, dpi=120)\n",
    "\n",
    "# Plot\n",
    "ax0.plot([1,2,3,4,5], [1,2,3,4,10], 'go')  # greendots\n",
    "ax1.plot([1,2,3,4,5], [2,3,4,5,11], 'b*')  # bluestart\n",
    "ax0.set(title='Scatterplot Greendots', xlabel='X', ylabel='Y', xlim=(0,6), ylim=(0,12))\n",
    "ax1.set(title='Scatterplot Bluestars', xlabel='X', ylabel='Y', xlim=(0,6), ylim=(0,12))\n",
    "plt.show()"
   ]
  },
  {
   "cell_type": "markdown",
   "metadata": {},
   "source": [
    "Un segundo método, con el estilo Orientado a Objetos, es utilizando **ax = ( ax[0]  , ax[1] )**"
   ]
  },
  {
   "cell_type": "code",
   "execution_count": null,
   "metadata": {},
   "outputs": [],
   "source": [
    "# Create Figure and Subplots\n",
    "fig, ax = plt.subplots(1,2, figsize=(8,3), sharey=True, dpi=120)\n",
    "\n",
    "# Plot\n",
    "ax[0].plot([1,2,3,4,5], [1,2,3,4,10], 'go')  # greendots\n",
    "ax[1].plot([1,2,3,4,5], [2,3,4,5,11], 'b*')  # bluestart\n",
    "ax[0].set(title='Scatterplot Greendots', xlabel='X', ylabel='Y', xlim=(0,6), ylim=(0,12))\n",
    "ax[1].set(title='Scatterplot Bluestars', xlabel='X', ylabel='Y', xlim=(0,6), ylim=(0,12))\n",
    "plt.show()"
   ]
  },
  {
   "cell_type": "markdown",
   "metadata": {},
   "source": [
    "## stilo Orientado a Objetos vs Estilo Matlab\n",
    "\n",
    "Un _\"problema\"_ conocido con el aprendizaje de matplotlib es que tiene dos estilos de codificación:\n",
    "\n",
    "* _**Estilo Matlab**_\n",
    "* _**Estilo orientado a objetos**_\n",
    "\n",
    "\n",
    "Esta es en parte la razón por la que **matplotlib** no tiene una forma consistente de lograr el mismo resultado dado, lo que hace que sea un poco difícil de entender las primeras veces que se utiliza.\n",
    "\n",
    "La sintaxis o estilo que se ha visto hasta ahora es la *sintaxis orientada a objetos*, sin embargo, dado que el propósito original de **matplotlib** era recrear las funciones de _**Matlab**_ en *python*, la sintaxis de _**Matlab**_ se conserva y aún funciona. La sintaxis de matlab es \"stateful\", esto significa que `plt` realiza un seguimiento de cuáles son los `axes` actuales. Entonces, lo que sea que dibuje con `plt`(cualquier cosa) se reflejará solo en la grafica actual.\n",
    "\n",
    "En términos prácticos, la principal diferencia entre los dos estilos es que, en el *estilo de matlab*, todo el proceso para hacer las graficas se realiza utilizando funciones de `plt` en lugar de funciones para los `axes`, como en el *estilo orientado a objetos*.\n",
    "\n",
    "Entonces, **¿cómo recrear múltiples subgraficas usando una *sintaxis de matlab*?**\n",
    "\n",
    "El procedimiento general es: \n",
    "* Crear manualmente una subgrafica a la vez (usando `plt.subplot`) \n",
    "* inmediatamente llamar a `plt.plot()` \n",
    "Cualquier método que llame usando plt se dibujará en los ejes actuales. El siguiente código muestra esto en la práctica."
   ]
  },
  {
   "cell_type": "code",
   "execution_count": null,
   "metadata": {},
   "outputs": [],
   "source": [
    "plt.figure(figsize=(10,4), dpi=120) # 10 is width, 4 is height\n",
    "\n",
    "# Left hand side plot\n",
    "plt.subplot(1,2,1)  # (nRows, nColumns, axes number to plot)\n",
    "plt.plot([1,2,3,4,5], [1,2,3,4,10], 'go')  # green dots\n",
    "plt.title('Scatterplot Greendots')  \n",
    "plt.xlabel('X')\n",
    "plt.ylabel('Y')\n",
    "plt.xlim(0, 6)\n",
    "plt.ylim(0, 12)\n",
    "\n",
    "# Right hand side plot\n",
    "plt.subplot(1,2,2)\n",
    "plt.plot([1,2,3,4,5], [2,3,4,5,11], 'b*')  # blue stars\n",
    "plt.title('Scatterplot Bluestars')  \n",
    "plt.xlabel('X')\n",
    "plt.ylabel('Y')\n",
    "plt.xlim(0, 6)\n",
    "plt.ylim(0, 12)\n",
    "plt.show()"
   ]
  },
  {
   "cell_type": "markdown",
   "metadata": {},
   "source": [
    "En `plt.subplot (1,2,1)`, los dos primeros valores, es decir \"1,2\", especifican el número de filas =1 y columnas=2 y el tercer parámetro, \"1\", especifica la posición de la subgrafica actual. Las funciones `plt` subsiguientes siempre se basarán la subgrafica en la que se encuentre.\n",
    "Comparando el código anterior con la versión orientada a objetos(OO). La versión OO puede parecer un poco confusa porque tiene una combinación de comandos `ax1` y `plt`. Sin embargo, existe una ventaja significativa con el enfoque de los `axes`. Es decir, dado que `plt.subplots` devuelve todos los ejes como objetos separados, puede evitar escribir código repetitivo recorriendo los ejes.\n",
    "\n",
    "*Recuerde siempre*: `plt.plot()` o `plt.{Cualquier cosa}` siempre actuará sobre la gráfica en los `axes` actuales, mientras que, `ax.{Cualquier cosa}` modificará la gráfica dentro de ese `ax` específico."
   ]
  },
  {
   "cell_type": "code",
   "execution_count": null,
   "metadata": {},
   "outputs": [],
   "source": []
  }
 ],
 "metadata": {
  "kernelspec": {
   "display_name": "Python 3",
   "language": "python",
   "name": "python3"
  },
  "language_info": {
   "codemirror_mode": {
    "name": "ipython",
    "version": 3
   },
   "file_extension": ".py",
   "mimetype": "text/x-python",
   "name": "python",
   "nbconvert_exporter": "python",
   "pygments_lexer": "ipython3",
   "version": "3.6.2"
  }
 },
 "nbformat": 4,
 "nbformat_minor": 4
}
