{
 "cells": [
  {
   "cell_type": "markdown",
   "metadata": {},
   "source": [
    "<!--Información del curso-->\n",
    "<img align=\"left\" style=\"padding-right:10px;\" src=\"figuras/logo_ciencia_datos.png\">"
   ]
  },
  {
   "cell_type": "markdown",
   "metadata": {},
   "source": [
    "<br><br><center><h1 style=\"font-size:2em;color:#2467C0\">Caso de estudio: Indicadores de Desarrollo Mundial</h1></center>\n",
    "<br>\n",
    "<table>\n",
    "<col width=\"550\">\n",
    "<col width=\"450\">\n",
    "<tr>\n",
    "<td><img src=\"figuras/North_South_divide.svg\" align=\"middle\" style=\"width:550px;height:360px;\"/></td>\n",
    "<td>\n",
    "El conjunto de  Indicadores del desarrollo mundial  obtenido del Banco Mundial  contiene más de mil indicadores anuales de desarrollo económico de cientos de países de todo el mundo.<br>\n",
    "</td>\n",
    "</tr>\n",
    "</table>"
   ]
  },
  {
   "cell_type": "markdown",
   "metadata": {},
   "source": [
    "#  1: Exploración inicial del conjunto de datos"
   ]
  },
  {
   "cell_type": "code",
   "execution_count": null,
   "metadata": {},
   "outputs": [],
   "source": [
    "import pandas as pd\n",
    "import numpy as np\n",
    "import matplotlib.pyplot as plt\n",
    "#plt.style.use('seaborn-whitegrid')"
   ]
  },
  {
   "cell_type": "code",
   "execution_count": null,
   "metadata": {},
   "outputs": [],
   "source": [
    "#Cargar el archivo datos/Indicators.csv\n",
    "data = pd.read_csv('datos/Indicators.csv')"
   ]
  },
  {
   "cell_type": "markdown",
   "metadata": {},
   "source": [
    "<div class=\"alert alert-success\">\n",
    "¿Cuántas filas y columnas tiene el archivo?\n",
    "</div>"
   ]
  },
  {
   "cell_type": "code",
   "execution_count": null,
   "metadata": {},
   "outputs": [],
   "source": [
    "data.shape"
   ]
  },
  {
   "cell_type": "markdown",
   "metadata": {},
   "source": [
    "<div class=\"alert alert-success\">\n",
    "Muestre las primeras 10 filas para tener una idea de los datos\n",
    "</div>"
   ]
  },
  {
   "cell_type": "code",
   "execution_count": null,
   "metadata": {},
   "outputs": [],
   "source": [
    "data.tail(10)"
   ]
  },
  {
   "cell_type": "markdown",
   "metadata": {},
   "source": [
    "Looks like it has different indicators for different countries with the year and value of the indicator. "
   ]
  },
  {
   "cell_type": "markdown",
   "metadata": {},
   "source": [
    "<div class=\"alert alert-success\">\n",
    "¿Cuántos países diferentes hay en la lista? \n",
    "</div>"
   ]
  },
  {
   "cell_type": "code",
   "execution_count": null,
   "metadata": {},
   "outputs": [],
   "source": [
    "len(data['CountryName'].unique())"
   ]
  },
  {
   "cell_type": "markdown",
   "metadata": {},
   "source": [
    "<div class=\"alert alert-success\">\n",
    "¿Son el mismo número de codigos que el de los países? \n",
    "</div>"
   ]
  },
  {
   "cell_type": "code",
   "execution_count": null,
   "metadata": {},
   "outputs": [],
   "source": [
    "len( data['CountryCode'].unique())"
   ]
  },
  {
   "cell_type": "markdown",
   "metadata": {},
   "source": [
    "<div class=\"alert alert-success\">\n",
    "¿Cuántos indicadores hay? \n",
    "</div>"
   ]
  },
  {
   "cell_type": "code",
   "execution_count": null,
   "metadata": {},
   "outputs": [],
   "source": [
    "len( data['IndicatorName'].unique())"
   ]
  },
  {
   "cell_type": "markdown",
   "metadata": {},
   "source": [
    "<div class=\"alert alert-success\">\n",
    "¿Cuántos años de datos se tienen? \n",
    "</div>"
   ]
  },
  {
   "cell_type": "code",
   "execution_count": null,
   "metadata": {},
   "outputs": [],
   "source": [
    "len(data['Year'].unique())"
   ]
  },
  {
   "cell_type": "markdown",
   "metadata": {},
   "source": [
    "<div class=\"alert alert-success\">\n",
    "¿Cuál es el rango de años?\n",
    "</div>"
   ]
  },
  {
   "cell_type": "code",
   "execution_count": null,
   "metadata": {},
   "outputs": [],
   "source": [
    "print(data['Year'].min(),\" to \",data['Year'].max())"
   ]
  },
  {
   "cell_type": "markdown",
   "metadata": {},
   "source": [
    "\n",
    "#  2: Gráficas  básicas con Matplotlib\n"
   ]
  },
  {
   "cell_type": "markdown",
   "metadata": {},
   "source": [
    "<div class=\"alert alert-success\">\n",
    "Hacer una máscara para seleccionar el indicador CO2 emissions (metric tons per capita), una para Estados Unidos y una para México\n",
    "</div>"
   ]
  },
  {
   "cell_type": "code",
   "execution_count": null,
   "metadata": {},
   "outputs": [],
   "source": [
    "#Definir primero los strings que deben contener las columnas str_indicator, str_USA y str_MX\n",
    "#NOTA: es necesio usar el simbolo \"\\\" antes de \"(\"\n",
    "str_indicator = 'CO2 emissions \\(metric'\n",
    "str_USA = 'USA'\n",
    "str_MEX = 'MEX'\n"
   ]
  },
  {
   "cell_type": "code",
   "execution_count": null,
   "metadata": {},
   "outputs": [],
   "source": [
    "#Definir las máscaras  mask_indicator , mask_USA y mask_MX\n",
    "# .str.contains -> prueba si el patrón se encuentra contenidos en una cadena de una serie.\n",
    "mask_indicator = data['IndicatorName'].str.contains(str_indicator) \n",
    "mask_USA = data['CountryCode'].str.contains(str_USA)\n",
    "mask_MEX = data['CountryCode'].str.contains(str_MEX)"
   ]
  },
  {
   "cell_type": "code",
   "execution_count": null,
   "metadata": {},
   "outputs": [],
   "source": [
    "# Aplicar las máscaras para encontrar los datos para USA (data_USA_C02) y MX (data_MX_C02)\n",
    "data_USA_C02 = data[(mask_indicator) & (mask_USA) ]\n",
    "data_USA_C02.head()"
   ]
  },
  {
   "cell_type": "code",
   "execution_count": null,
   "metadata": {},
   "outputs": [],
   "source": [
    "data_MEX_C02 = data[ (mask_indicator) & (mask_MEX) ]\n",
    "data_MEX_C02.head()"
   ]
  },
  {
   "cell_type": "markdown",
   "metadata": {},
   "source": [
    "<div class=\"alert alert-success\">\n",
    "Hacer una grafica para mostrar como ha cambiado el indicador durante los años para USA\n",
    "</div>"
   ]
  },
  {
   "cell_type": "code",
   "execution_count": null,
   "metadata": {},
   "outputs": [],
   "source": [
    "# Obtener los valores de los años\n",
    "años_USA = data_USA_C02['Year'].values\n",
    "# Obtener los valores del indicador\n",
    "co2_USA = data_USA_C02['Value'].values"
   ]
  },
  {
   "cell_type": "markdown",
   "metadata": {},
   "source": [
    "Se observará que las emisiones per cápita se han reducido un poco con el tiempo."
   ]
  },
  {
   "cell_type": "code",
   "execution_count": null,
   "metadata": {},
   "outputs": [],
   "source": []
  },
  {
   "cell_type": "code",
   "execution_count": null,
   "metadata": {},
   "outputs": [],
   "source": [
    "#Estilo Matlab\n",
    "\n",
    "plt.figure(figsize=(6,3))  \n",
    "plt.plot(años_USA, co2_USA )\n",
    "\n",
    "# Etiqueta de los ejes\n",
    "plt.xlabel('Año')\n",
    "plt.ylabel('Emisiones de CO2 (toneladas métricas per cápita)')\n",
    "\n",
    "#Titulo de la figura\n",
    "plt.title('Emisiones de C02 en Estados Unidos')\n",
    "\n",
    "# Comenzar en 0\n",
    "plt.axis([1959, 2011,0,25])\n",
    "\n",
    "plt.show()"
   ]
  },
  {
   "cell_type": "code",
   "execution_count": null,
   "metadata": {},
   "outputs": [],
   "source": [
    "# Estilo orientado a objetos. \n",
    "\n",
    "# Crear una figura(fig)  y el espacio (ax) para graficar\n",
    "fig, ax = plt.subplots(figsize=(6,3), dpi=100)\n",
    "\n",
    "# Crear la grafica\n",
    "ax.plot(años_USA, co2_USA )\n",
    "\n",
    "#Opciones de visualización\n",
    "ax.set(title='Emisiones de C02 en Estados Unidos', xlabel='Año', ylabel='Emisiones de CO2 (toneladas métricas per cápita)', \n",
    "       xlim=(1959, 2011), ylim=(0,25))\n",
    "\n",
    "plt.show()"
   ]
  },
  {
   "cell_type": "markdown",
   "metadata": {},
   "source": [
    "<div class=\"alert alert-success\">\n",
    "Hacer una grafica para mostrar como ha cambiado el indicador durante los años para México\n",
    "</div>"
   ]
  },
  {
   "cell_type": "code",
   "execution_count": null,
   "metadata": {},
   "outputs": [],
   "source": [
    "# Obtener los valores de los años\n",
    "años_MEX = data_MEX_C02['Year'].values\n",
    "# Obtener los valores del indicador\n",
    "co2_MEX = data_MEX_C02['Value'].values\n"
   ]
  },
  {
   "cell_type": "code",
   "execution_count": null,
   "metadata": {},
   "outputs": [],
   "source": [
    "# Estilo Matlab.\n",
    "\n",
    "plt.figure(figsize=(6,3))  \n",
    "plt.plot(años_MEX, co2_MEX )\n",
    "\n",
    "# Etiqueta de los ejes\n",
    "plt.xlabel('Año')\n",
    "plt.ylabel('Emisiones de CO2 (toneladas métricas per cápita)')\n",
    "\n",
    "#Titulo de la figura\n",
    "plt.title('Emisiones de C02 en México')\n",
    "\n",
    "# Comenzar en 0\n",
    "plt.axis([1959, 2011,0,25])\n",
    "\n",
    "plt.show()"
   ]
  },
  {
   "cell_type": "code",
   "execution_count": null,
   "metadata": {},
   "outputs": [],
   "source": [
    "# Estilo orientado a objetos. \n",
    "\n",
    "# Crear una figura(fig)  y el espacio (ax) para graficar\n",
    "fig, ax = plt.subplots(figsize=(6,3), sharex=True, dpi=100)\n",
    "# Call plot() method on the appropriate object\n",
    "ax.plot(años_MEX, co2_MEX )\n",
    "\n",
    "ax.set(title='Emisiones de C02 en México', xlabel='Año', ylabel='Emisiones de CO2 (toneladas métricas per cápita)', \n",
    "       xlim=(1959, 2011), ylim=(0,25))\n",
    "\n",
    "plt.show()"
   ]
  },
  {
   "cell_type": "markdown",
   "metadata": {},
   "source": [
    "<div class=\"alert alert-success\">\n",
    "Hacer ambas graficas en una misma figura pero separadas\n",
    "</div>"
   ]
  },
  {
   "cell_type": "markdown",
   "metadata": {},
   "source": [
    "#####  Estilo Matlab"
   ]
  },
  {
   "cell_type": "code",
   "execution_count": null,
   "metadata": {},
   "outputs": [],
   "source": [
    "# Crear la figura para graficar\n",
    "plt.figure(figsize=(8,3))  \n",
    "\n",
    "# Crear cada uno de los espacios para graficar\n",
    "# Use subplot(2, 1, 1) -> (filas, columns, número de espacio actual)\n",
    "plt.subplot(2, 1, 1)\n",
    "plt.plot(años_USA, co2_USA)\n",
    "\n",
    "# create the second panel and set current axis\n",
    "plt.subplot(2, 1, 2)\n",
    "plt.plot(años_MEX, co2_MEX)\n",
    "plt.show()"
   ]
  },
  {
   "cell_type": "code",
   "execution_count": null,
   "metadata": {},
   "outputs": [],
   "source": [
    "# Crear la figura para graficar\n",
    "plt.figure(figsize=(8,3))  \n",
    "\n",
    "# Crear cada uno de los espacios para graficar\n",
    "# Use subplot(1, 2, 1) -> (filas, columns, número de espacio actual)\n",
    "plt.subplot(1, 2, 1)\n",
    "plt.plot(años_USA, co2_USA)\n",
    "\n",
    "# create the second panel and set current axis\n",
    "plt.subplot(1, 2, 2)\n",
    "plt.plot(años_MEX, co2_MEX)\n",
    "plt.show()"
   ]
  },
  {
   "cell_type": "markdown",
   "metadata": {},
   "source": [
    "#####  Estilo orientado a objetos "
   ]
  },
  {
   "cell_type": "code",
   "execution_count": null,
   "metadata": {},
   "outputs": [],
   "source": [
    "# Crear una figura(fig)  con dos espacios(ax) para graficar\n",
    "fig, ax = plt.subplots(2,1, figsize=(6,3), sharex=True, dpi=100)\n",
    "# Call plot() method on the appropriate object\n",
    "ax[0].plot(años_USA, co2_USA )\n",
    "ax[1].plot(años_MEX, co2_MEX )\n",
    "plt.show()"
   ]
  },
  {
   "cell_type": "code",
   "execution_count": null,
   "metadata": {},
   "outputs": [],
   "source": [
    "# Crear una figura(fig)  con dos espacios(ax) para graficar\n",
    "fig, ax = plt.subplots(1,2, figsize=(8,3), sharey=True, dpi=100)\n",
    "# Call plot() method on the appropriate object\n",
    "ax[0].plot(años_USA, co2_USA )\n",
    "ax[1].plot(años_MEX, co2_MEX )\n",
    "plt.show()"
   ]
  },
  {
   "cell_type": "markdown",
   "metadata": {},
   "source": [
    "<div class=\"alert alert-success\">\n",
    "Combinar las cuarvas  anteriores en una sola grafica\n",
    "</div>"
   ]
  },
  {
   "cell_type": "code",
   "execution_count": null,
   "metadata": {},
   "outputs": [],
   "source": [
    "plt.figure(figsize=(8,3))  \n",
    "plt.plot(años_MEX, co2_MEX)\n",
    "plt.plot(años_USA, co2_USA)\n",
    "plt.show()"
   ]
  },
  {
   "cell_type": "code",
   "execution_count": null,
   "metadata": {},
   "outputs": [],
   "source": [
    "# Crear una figura(fig)  y el espacio (ax) para graficar\n",
    "fig, ax = plt.subplots(figsize=(6,3), sharex=True, dpi=100)\n",
    "# Call plot() method on the appropriate object\n",
    "ax.plot(años_USA, co2_USA )\n",
    "ax.plot(años_MEX, co2_MEX )\n",
    "plt.show()"
   ]
  },
  {
   "cell_type": "markdown",
   "metadata": {},
   "source": [
    "<div class=\"alert alert-success\">\n",
    "Utilizar opciones de visualización\n",
    "</div>"
   ]
  },
  {
   "cell_type": "markdown",
   "metadata": {},
   "source": [
    "#### Color y estilo de linea\n"
   ]
  },
  {
   "cell_type": "markdown",
   "metadata": {},
   "source": [
    "Ejemplos de tipo de color \n",
    "* **color='blue'**           # nombre\n",
    "* **color='g'**              # codigo corto (rgbcmyk)\n",
    "* **color='0.75'**          # Escala de grises 0 a 1\n",
    "* **color='#FFDD44'**     # Codigo HEX (RRGGBB from 00 to FF)\n",
    "* **color=(1.0,0.2,0.3)**   # RGB, de 0 a 1\n",
    "* **color='chartreuse'**     # nombres de colores en HTML\n",
    "\n",
    "\n",
    "Ejemplos de estilo de linea \n",
    "\n",
    "* **linestyle='solid'**\n",
    "* **linestyle='dashed'**\n",
    "* **linestyle='dashdot'** \n",
    "* **linestyle='dotted'** \n",
    "\n",
    "Ejemplos de estilo de linea (manera corta)\n",
    "* **linestyle='-'**  # solid\n",
    "* **linestyle='--'** # dashed\n",
    "* **linestyle='-.'** # dashdot\n",
    "* **linestyle=':'**  # dotted\n",
    "\n",
    "Combinación de tipo de linea y color\n",
    "\n",
    "* **'-g'**   # solid green\n",
    "* **'--c'** # dashed cyan\n",
    "* **'-.k'** # dashdot black\n",
    "* **':r'**  # dotted red"
   ]
  },
  {
   "cell_type": "markdown",
   "metadata": {},
   "source": [
    "Leyendas:"
   ]
  },
  {
   "cell_type": "markdown",
   "metadata": {},
   "source": [
    "<img align=\"left\" style=\"padding-right:10px;\" src=\"figuras/leyenda_opciones.png\">"
   ]
  },
  {
   "cell_type": "markdown",
   "metadata": {},
   "source": [
    "Tipos de marcadores:"
   ]
  },
  {
   "cell_type": "markdown",
   "metadata": {},
   "source": [
    "<img align=\"left\" style=\"padding-right:10px;\" src=\"figuras/marcadores.png\">"
   ]
  },
  {
   "cell_type": "code",
   "execution_count": null,
   "metadata": {},
   "outputs": [],
   "source": [
    "#Estilo Matlab\n",
    "\n",
    "plt.figure(figsize=(6,5))  \n",
    "\n",
    "plt.plot(años_MEX, co2_MEX, linestyle='solid', color='green', markersize=7, linewidth=4,\n",
    "         markerfacecolor='white', markeredgecolor='green', markeredgewidth=2 , marker='D', label='Mexico')\n",
    "\n",
    "plt.plot(años_USA, co2_USA, linestyle='solid',color='red', markersize=7, linewidth=4,\n",
    "         markerfacecolor='pink', markeredgecolor='red', markeredgewidth=2 , marker='p', label='Estados Unidos')\n",
    "\n",
    "# Etiqueta de los ejes\n",
    "plt.xlabel('Año')\n",
    "plt.ylabel('Emisiones de CO2 (toneladas métricas per cápita)')\n",
    "\n",
    "#Titulo de la figura\n",
    "plt.title('Emisiones de C02')\n",
    "\n",
    "#Leyenda\n",
    "plt.legend(loc='center right');\n",
    "\n",
    "# Comenzar en 0\n",
    "plt.axis([1959, 2011,0,25])\n",
    "plt.show()"
   ]
  },
  {
   "cell_type": "code",
   "execution_count": null,
   "metadata": {},
   "outputs": [],
   "source": [
    "#Estilo orientado a objetos\n",
    "\n",
    "fig, ax = plt.subplots(figsize=(6,3), dpi=100)\n",
    "\n",
    "ax.plot(años_MEX, co2_MEX, linestyle='solid', color='green', markersize=7, linewidth=4,\n",
    "         markerfacecolor='white', markeredgecolor='green', markeredgewidth=2 , marker='D', label='Mexico')\n",
    "\n",
    "ax.plot(años_USA, co2_USA, linestyle='solid',color='red', markersize=7, linewidth=4,\n",
    "         markerfacecolor='pink', markeredgecolor='red', markeredgewidth=2 , marker='p', label='Estados Unidos')\n",
    "\n",
    "ax.set(title='Emisiones de C02 en México', xlabel='Año', ylabel='Emisiones de CO2 (toneladas métricas per cápita)', \n",
    "       xlim=(1959, 2011), ylim=(0,25))\n",
    "\n",
    "#Leyenda\n",
    "ax.legend(loc='center right');\n",
    "\n"
   ]
  },
  {
   "cell_type": "markdown",
   "metadata": {},
   "source": [
    "<div class=\"alert alert-success\">\n",
    "Hacer  un histograma de las cantidades de emisión de C02  para Estados Unidos (estilo Matlab ) y México (estilo Orientado a Objetos) por separado\n",
    "</div>"
   ]
  },
  {
   "cell_type": "code",
   "execution_count": null,
   "metadata": {},
   "outputs": [],
   "source": [
    "# Datos USA\n",
    "hist_data_USA = data_USA_C02['Value'].values"
   ]
  },
  {
   "cell_type": "code",
   "execution_count": null,
   "metadata": {},
   "outputs": [],
   "source": [
    "print(hist_data_USA)"
   ]
  },
  {
   "cell_type": "code",
   "execution_count": null,
   "metadata": {
    "scrolled": true
   },
   "outputs": [],
   "source": [
    "plt.figure(figsize=(6,5))  \n",
    "plt.hist(hist_data_USA, 10, density=False, facecolor='red')\n",
    "\n",
    "plt.xlabel(data_USA_C02['IndicatorName'].iloc[0] )\n",
    "plt.ylabel('# of Years')\n",
    "plt.title('Histograma de emesiones de C02 de Estados Unidos')\n",
    "\n",
    "plt.grid(True)\n",
    "\n",
    "plt.show()"
   ]
  },
  {
   "cell_type": "code",
   "execution_count": null,
   "metadata": {},
   "outputs": [],
   "source": [
    "hist_data_MEX = data_MEX_C02['Value'].values\n",
    "hist_data_MEX"
   ]
  },
  {
   "cell_type": "code",
   "execution_count": null,
   "metadata": {},
   "outputs": [],
   "source": [
    "# Otherwise, let's look at all the data\n",
    "hist_data_MEX = data_MEX_C02['Value'].values"
   ]
  },
  {
   "cell_type": "code",
   "execution_count": null,
   "metadata": {},
   "outputs": [],
   "source": [
    "fig, ax = plt.subplots(figsize=(6,5), dpi=100)\n",
    "\n",
    "# the histogram of the data\n",
    "ax.hist(hist_data_MEX,10, density=False, facecolor='green')\n",
    "\n",
    "ax.set(title='Histograma de emesiones de C02 de Mexico', xlabel= data_MEX_C02['IndicatorName'].iloc[0] , \n",
    "       ylabel='# of Years')\n",
    "\n",
    "ax.grid(True)\n",
    "\n",
    "plt.show()"
   ]
  },
  {
   "cell_type": "markdown",
   "metadata": {},
   "source": [
    "<div class=\"alert alert-success\">\n",
    "Hacer un histograma de las cantidades de emisión de C02  para Estados Unidos y México juntos\n",
    "</div>"
   ]
  },
  {
   "cell_type": "code",
   "execution_count": null,
   "metadata": {},
   "outputs": [],
   "source": [
    "plt.figure(figsize=(6,5))  \n",
    "\n",
    "plt.hist(hist_data_USA, 10, density=False, facecolor='red')\n",
    "plt.hist(hist_data_MEX, 10, density=False, facecolor='green')\n",
    "\n",
    "plt.xlabel(data_MEX_C02['IndicatorName'].iloc[0] )\n",
    "plt.ylabel('# of Years')\n",
    "plt.title('Histograma de emesiones de C02 ')\n",
    "\n",
    "plt.grid(True)\n",
    "plt.show()"
   ]
  },
  {
   "cell_type": "code",
   "execution_count": null,
   "metadata": {},
   "outputs": [],
   "source": [
    "# subplots returns a touple with the figure, axis attributes.\n",
    "fig, ax = plt.subplots(figsize=(6,3), dpi=100)\n",
    "\n",
    "ax.hist(hist_data_USA, 20, density=False, facecolor='red')\n",
    "ax.hist(hist_data_MEX, 20, density=False, facecolor='green')\n",
    "\n",
    "ax.set(title='Histograma de emesiones de C02 de Mexico', xlabel= data_MEX_C02['IndicatorName'].iloc[0] , \n",
    "       ylabel='# of Years')\n",
    "\n",
    "ax.grid(True)\n",
    "plt.show()"
   ]
  },
  {
   "cell_type": "markdown",
   "metadata": {},
   "source": [
    "Algunas variaciones utilizando el estilo Orientado a Objetos"
   ]
  },
  {
   "cell_type": "code",
   "execution_count": null,
   "metadata": {},
   "outputs": [],
   "source": [
    "# subplots returns a touple with the figure, axis attributes.\n",
    "fig, ax = plt.subplots(figsize=(6,3), dpi=100)\n",
    "\n",
    "ax.annotate(\"USA\",\n",
    "            xy=(18, 5), \n",
    "            xytext=(16, 11), \n",
    "            arrowprops=dict(arrowstyle=\"->\",\n",
    "                            connectionstyle=\"arc3\"),\n",
    "            )\n",
    "\n",
    "ax.annotate(\"MEX\",\n",
    "            xy=(5, 4), \n",
    "            xytext=(8, 11), \n",
    "            arrowprops=dict(arrowstyle=\"->\",\n",
    "                            connectionstyle=\"arc3\"),\n",
    "            )\n",
    "\n",
    "\n",
    "ax.hist(hist_data_USA, 20, density=False, facecolor='red')\n",
    "ax.hist(hist_data_MEX, 20, density=False, facecolor='green')\n",
    "\n",
    "ax.set(title='Histograma de emesiones de C02 de Mexico', xlabel= data_MEX_C02['IndicatorName'].iloc[0] , \n",
    "       ylabel='# of Years')\n",
    "\n",
    "ax.grid(True)\n",
    "\n",
    "plt.show()"
   ]
  },
  {
   "cell_type": "code",
   "execution_count": null,
   "metadata": {},
   "outputs": [],
   "source": [
    "fig = plt.figure()\n",
    "ax0 = fig.add_axes([0,0,1,1])\n",
    "ax1 = fig.add_axes([0.1, 0.6, 0.3, 0.3])\n",
    "\n",
    "ax0.hist(hist_data_USA, 20, density=False, facecolor='red')\n",
    "ax1.hist(hist_data_MEX, 20, density=False, facecolor='green')\n",
    "\n",
    "ax0.set(title='Histograma de emesiones de C02 de Estados Unidos', xlabel= data_MEX_C02['IndicatorName'].iloc[0] , \n",
    "       ylabel='# of Years')\n",
    "\n",
    "ax1.set(title='Mexico')\n",
    "\n",
    "ax0.grid(True)\n",
    "\n",
    "\n",
    "plt.show()"
   ]
  },
  {
   "cell_type": "markdown",
   "metadata": {},
   "source": [
    "<div class=\"alert alert-success\">\n",
    "Muestre  el  GPD en los diferentes años para  Estados Unidos, así como la relación entre el  GPD y las emisiones de CO2 en Estados Unidos\n",
    "\n",
    "</div>\n"
   ]
  },
  {
   "cell_type": "code",
   "execution_count": null,
   "metadata": {},
   "outputs": [],
   "source": [
    "#Defina strings que deben contener las columnas str_indicator_GDP y str_USA  \n",
    "str_indicator_GDP = 'GDP per capita \\(constant 2005'\n",
    "str_USA = 'USA'\n"
   ]
  },
  {
   "cell_type": "code",
   "execution_count": null,
   "metadata": {},
   "outputs": [],
   "source": [
    "#Defina las máscaras  mask_indicator_GDP y mask_USA \n",
    "mask_indicator_GDP = data['IndicatorName'].str.contains(str_indicator_GDP) \n",
    "mask_USA = data['CountryCode'].str.contains(str_USA)"
   ]
  },
  {
   "cell_type": "code",
   "execution_count": null,
   "metadata": {},
   "outputs": [],
   "source": [
    "# Aplique las máscaras para encontrar los datos para USA (data_USA_GDP)\n",
    "data_USA_GDP = data[(mask_indicator_GDP) & (mask_USA) ]\n",
    "data_USA_GDP.tail()"
   ]
  },
  {
   "cell_type": "markdown",
   "metadata": {},
   "source": [
    "Relación entre el  GPD y las emisiones de CO2 en Estados Unidos\n"
   ]
  },
  {
   "cell_type": "code",
   "execution_count": null,
   "metadata": {},
   "outputs": [],
   "source": [
    "#Mostrar el rango de años para  data_USA_GDP y data_USA_C02\n",
    "print(\"GDP Min Year = \", data_USA_GDP['Year'].min(), \"max: \", data_USA_GDP['Year'].max())\n",
    "print(\"CO2 Min Year = \", data_USA_C02['Year'].min(), \"max: \", data_USA_C02['Year'].max())"
   ]
  },
  {
   "cell_type": "markdown",
   "metadata": {},
   "source": [
    "Tenemos 3 años adicionales de datos de GDP, así que recortémoslos para que el diagrama de dispersión tenga arreglos de igual longitud para comparar (esto es realmente requerido por el diagrama de dispersión)"
   ]
  },
  {
   "cell_type": "code",
   "execution_count": null,
   "metadata": {},
   "outputs": [],
   "source": [
    "data_USA_GDP_trunc = data_USA_GDP[data_USA_GDP['Year'] < 2012]\n",
    "print(len(data_USA_GDP_trunc))\n",
    "print(len(data_USA_C02))"
   ]
  },
  {
   "cell_type": "code",
   "execution_count": null,
   "metadata": {},
   "outputs": [],
   "source": [
    "#Datos\n",
    "X= data_USA_GDP_trunc['Value'].values\n",
    "Y= data_USA_C02['Value'].values\n"
   ]
  },
  {
   "cell_type": "code",
   "execution_count": null,
   "metadata": {},
   "outputs": [],
   "source": [
    "# Estilo Matlab\n",
    "plt.figure(figsize=(6,3))  \n",
    "\n",
    "plt.scatter(X, Y, c= 'green' , s = 40 , marker='X')\n",
    "\n",
    "plt.title('CO2 Emissions vs.\\n GDP  per capita',fontsize=10)\n",
    "plt.xlabel(data_USA_GDP_trunc['IndicatorName'].iloc[0],fontsize=10)\n",
    "plt.ylabel(data_USA_C02['IndicatorName'].iloc[0],fontsize=10);\n",
    "\n",
    "plt.show()"
   ]
  },
  {
   "cell_type": "code",
   "execution_count": null,
   "metadata": {},
   "outputs": [],
   "source": [
    "# Estilo Orientado a Objetos\n",
    "\n",
    "fig, ax = plt.subplots(figsize=(6,3), dpi=100)\n",
    "\n",
    "ax.scatter(X, Y, c= 'green' , s = 40 , marker='X')\n",
    "\n",
    "ax.set_title('CO2 Emissions vs.\\n GDP  per capita',fontsize=10)\n",
    "ax.set_xlabel(data_USA_GDP_trunc['IndicatorName'].iloc[0],fontsize=10)\n",
    "ax.set_ylabel(data_USA_C02['IndicatorName'].iloc[0],fontsize=10)\n",
    "\n",
    "plt.show()"
   ]
  },
  {
   "cell_type": "markdown",
   "metadata": {},
   "source": [
    "<div class=\"alert alert-success\">\n",
    "Muestre  el total de emisiones de C02 utilizando una grafica de barras para los siguientes países: Estados Unidos, México, Italia, China y la India  \n",
    "</div>"
   ]
  },
  {
   "cell_type": "code",
   "execution_count": null,
   "metadata": {},
   "outputs": [],
   "source": [
    "#Defina strings que deben contener las columnas  \n",
    "str_indicator = 'CO2 emissions \\(metric'\n",
    "str_USA = 'USA'\n",
    "str_MEX = 'MEX'\n",
    "str_ITA = 'ITA'\n",
    "str_CHN = 'CHN'\n",
    "str_IND = 'IND'\n",
    "\n",
    "#Defina las máscaras   \n",
    "mask_indicator = data['IndicatorName'].str.contains(str_indicator) \n",
    "mask_USA = data['CountryCode'].str.contains(str_USA)\n",
    "mask_MEX = data['CountryCode'].str.contains(str_MEX)\n",
    "mask_ITA = data['CountryCode'].str.contains(str_ITA)\n",
    "mask_CHN = data['CountryCode'].str.contains(str_CHN)\n",
    "mask_IND = data['CountryCode'].str.contains(str_IND)\n"
   ]
  },
  {
   "cell_type": "code",
   "execution_count": null,
   "metadata": {},
   "outputs": [],
   "source": [
    "# Aplicar las máscaras para encontrar los datos para cada país  \n",
    "val_USA = data[(mask_indicator) & (mask_USA) ]['Value'].sum() \n",
    "val_MEX = data[(mask_indicator) & (mask_MEX) ]['Value'].sum() \n",
    "val_ITA = data[(mask_indicator) & (mask_ITA) ]['Value'].sum() \n",
    "val_CHN = data[(mask_indicator) & (mask_CHN) ]['Value'].sum() \n",
    "val_IND = data[(mask_indicator) & (mask_IND) ]['Value'].sum() "
   ]
  },
  {
   "cell_type": "code",
   "execution_count": null,
   "metadata": {},
   "outputs": [],
   "source": [
    "#Valores \n",
    "x_values = [ str_USA, str_MEX, str_ITA, str_CHN,str_IND  ]\n",
    "y_values = [  val_USA, val_MEX, val_ITA , val_CHN ,val_IND  ]"
   ]
  },
  {
   "cell_type": "code",
   "execution_count": null,
   "metadata": {},
   "outputs": [],
   "source": [
    "#Estilo Matlab\n",
    "plt.figure(figsize=(6,3))  \n",
    "\n",
    "plt.bar(x_values, y_values)          \n",
    "\n",
    "plt.title('Total de emisiones de C02',fontsize=10)\n",
    "plt.xlabel('Paises',fontsize=10)\n",
    "plt.ylabel('Total de Emesiones de C02',fontsize=10);\n",
    "\n",
    "plt.show()"
   ]
  },
  {
   "cell_type": "code",
   "execution_count": null,
   "metadata": {},
   "outputs": [],
   "source": [
    "#Estilo orientado a objetos\n",
    "fig, ax = plt.subplots(figsize=(6,3), dpi=100)\n",
    "\n",
    "ax.bar(x_values, y_values)          \n",
    "ax.set(title='Total de emisiones de C02', xlabel= 'Paises' , ylabel='Total de Emisiones de C02 ')\n",
    "\n",
    "plt.show()\n"
   ]
  },
  {
   "cell_type": "markdown",
   "metadata": {},
   "source": [
    "<div class=\"alert alert-success\">\n",
    "En una misma grafica de barras, muestre las emisiones de C02 para los años 1990,2000 y 2010 para  Estados Unidos y China \n",
    "</div>"
   ]
  },
  {
   "cell_type": "code",
   "execution_count": null,
   "metadata": {},
   "outputs": [],
   "source": [
    "#Valores para USA y CHN en los diferentes años\n",
    "val_USA_1990= data[(mask_indicator) & (mask_USA) &  (data['Year'] == 1990) ]['Value'].values[0]\n",
    "val_CHN_1990= data[(mask_indicator) & (mask_CHN) &  (data['Year'] == 1990) ]['Value'].values[0]\n",
    "\n",
    "val_USA_2000=data[(mask_indicator) & (mask_USA) &  (data['Year'] == 2000) ]['Value'].values[0]\n",
    "val_CHN_2000=data[(mask_indicator) & (mask_CHN) &  (data['Year'] == 2000) ]['Value'].values[0]\n",
    "\n",
    "val_USA_2010=data[(mask_indicator) & (mask_USA) &  (data['Year'] == 2010) ]['Value'].values[0]\n",
    "val_CHN_2010=data[(mask_indicator) & (mask_CHN) &  (data['Year'] == 2010) ]['Value'].values[0];"
   ]
  },
  {
   "cell_type": "code",
   "execution_count": null,
   "metadata": {},
   "outputs": [],
   "source": [
    "# Datos para configuración\n",
    "datos=[ [val_USA_1990, val_USA_2000, val_USA_2010], \n",
    "       [val_CHN_1990, val_CHN_2000, val_CHN_2010]   ]\n",
    "labels = ['1990', '2000','2010']\n",
    "x_vals = np.arange(len(labels))  # Referencias para ubicación \n",
    "ancho = 0.25  # Ancho de las barras"
   ]
  },
  {
   "cell_type": "code",
   "execution_count": null,
   "metadata": {},
   "outputs": [],
   "source": [
    "#Estilo Matlab\n",
    "plt.figure(figsize=(8,5))  \n",
    "\n",
    "plt.bar(x_vals - ancho/2, datos[0], color = 'b', width = ancho,  label='USA')\n",
    "plt.bar(x_vals + ancho/2, datos[1], color = 'r', width = ancho,  label='CHN')\n",
    "\n",
    "plt.xticks( x_vals , labels )\n",
    "plt.xlabel('Años')\n",
    "plt.ylabel('Total de Emisiones de C02 ')\n",
    "plt.legend()\n",
    "\n",
    "plt.show()"
   ]
  },
  {
   "cell_type": "code",
   "execution_count": null,
   "metadata": {},
   "outputs": [],
   "source": [
    "#Estilo Orientado a Objetos\n",
    "fig, ax = plt.subplots(figsize=(6,5), dpi=100)\n",
    "\n",
    "ax.bar(x_vals - ancho/2, datos[0], color = 'b', width = ancho,  label='USA')\n",
    "ax.bar(x_vals + ancho/2, datos[1], color = 'r', width = ancho,  label='CHN')\n",
    "\n",
    "ax.set_xticks(x_vals)\n",
    "ax.set_xticklabels(labels)\n",
    "ax.legend()\n",
    "ax.set(xlabel= 'Años' , ylabel='Total de Emisiones de C02 ')\n",
    "\n",
    "plt.show()"
   ]
  },
  {
   "cell_type": "code",
   "execution_count": null,
   "metadata": {},
   "outputs": [],
   "source": []
  }
 ],
 "metadata": {
  "kernelspec": {
   "display_name": "Python 3",
   "language": "python",
   "name": "python3"
  },
  "language_info": {
   "codemirror_mode": {
    "name": "ipython",
    "version": 3
   },
   "file_extension": ".py",
   "mimetype": "text/x-python",
   "name": "python",
   "nbconvert_exporter": "python",
   "pygments_lexer": "ipython3",
   "version": "3.6.2"
  }
 },
 "nbformat": 4,
 "nbformat_minor": 4
}
