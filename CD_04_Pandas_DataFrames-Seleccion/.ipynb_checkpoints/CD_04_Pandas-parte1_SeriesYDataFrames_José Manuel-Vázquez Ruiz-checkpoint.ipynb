{
 "cells": [
  {
   "cell_type": "markdown",
   "metadata": {},
   "source": [
    "<!--Información del curso-->\n",
    "<img align=\"left\" style=\"padding-right:10px;\" src=\"figuras/logo_ciencia_datos.png\">"
   ]
  },
  {
   "cell_type": "markdown",
   "metadata": {},
   "source": [
    "<center><h1 style=\"font-size:2em;color:#2467C0\"> Pandas -Parte 1  </h1></center>\n",
    "\n",
    "<center><h2 style=\"font-size:2em;color:#840700\">  Pandas - Series y DataFrames  </h4></center>\n",
    "\n",
    "<br>\n",
    "<table>\n",
    "<col width=\"550\">\n",
    "<col width=\"450\">\n",
    "<tr>\n",
    "<td><img src=\"figuras/WesM.png\" align=\"left\" style=\"width:500px\"/></td>\n",
    "<td>\n",
    "\n",
    "* **Wes McKinney**, empezó a desarrollar Pandas en el año 2008 mientras trabajaba en *AQR Capital* [https://www.aqr.com/] por la necesidad que tenía de una herramienta flexible de alto rendimiento para realizar análisis cuantitativos en datos financieros. \n",
    "* Antes de dejar AQR convenció a la administración de la empresa de distribuir esta biblioteca bajo licencia de código abierto.\n",
    "* **Pandas** es un acrónimo de **PANel DAta analysiS**\n",
    "   \n",
    "    \n",
    "<br>\n",
    "</td>\n",
    "</tr>\n",
    "</table>"
   ]
  },
  {
   "cell_type": "markdown",
   "metadata": {},
   "source": [
    "# Librerías\n",
    "\n",
    "Cargando las bibliotecas que necesitamos \n"
   ]
  },
  {
   "cell_type": "code",
   "execution_count": 1,
   "metadata": {},
   "outputs": [],
   "source": [
    "import pandas as pd\n",
    "import numpy as np\n",
    "import matplotlib.pyplot as plt"
   ]
  },
  {
   "cell_type": "markdown",
   "metadata": {},
   "source": [
    "# Introduccion "
   ]
  },
  {
   "cell_type": "markdown",
   "metadata": {},
   "source": [
    "* Pandas es un paquete de Python que proporciona estructuras de datos rápidas, flexibles y expresivas diseñadas para hacer que el trabajo con datos \"relacionales\" o \"etiquetados\" sea fácil e intuitivo. \n",
    "* Pretende ser el elemento fundamental de alto nivel para realizar análisis de datos prácticos y del mundo real en Python.\n",
    "* La documentación oficial de Pandas se puede encontrar en el siguiente link https://pandas.pydata.org/pandas-docs/stable/\n",
    "\n",
    "\n",
    "<img align=\"left\" width=60% src=\"figuras/pandas2.jpeg\">"
   ]
  },
  {
   "cell_type": "markdown",
   "metadata": {},
   "source": [
    "Características principales de uso:\n",
    "* Ingestión de datos (Data ingestion)\n",
    "* Estadística descriptiva\n",
    "* Limpieza de datos\n",
    "* Visualización\n",
    "* Transformación de datos\n",
    "* Combinando DataFrames\n",
    "* Manejo datos utilizando una variable temporal"
   ]
  },
  {
   "cell_type": "markdown",
   "metadata": {},
   "source": [
    "# Estructuras de datos en Pandas : Series y DataFrames\n",
    "\n",
    "Pandas proporciona dos tipos de datos fundamentales, para 1D (**Series**) y datos 2D (**DataFrame**).\n",
    "\n",
    "\n",
    "<img align=\"left\" width=75% src=\"figuras/SeriesYDataFrame.png\">"
   ]
  },
  {
   "cell_type": "markdown",
   "metadata": {},
   "source": [
    "<img align=\"left\" width=60% src=\"figuras/DataFrame.png\">"
   ]
  },
  {
   "cell_type": "markdown",
   "metadata": {},
   "source": [
    "En el nivel más básico, los objetos Pandas se pueden considerar como versiones mejoradas de matrices estructuradas NumPy en las que las filas y columnas se identifican con etiquetas en lugar de índices enteros simples. Como veremos durante el transcurso de esta unidad, Pandas proporciona una serie de herramientas, métodos y funcionalidades útiles además de las estructuras de datos básicas. Por lo tanto, introduzcamos estas tres estructuras de datos fundamentales de Pandas: **Series** y **DataFrames**.\n"
   ]
  },
  {
   "cell_type": "markdown",
   "metadata": {},
   "source": [
    "# Las Series\n",
    "Las **Series** de Pandas son un arreglos unidimensionales de datos indexados. Se pueden crear a partir de una lista o arreglo de la siguiente manera:\n"
   ]
  },
  {
   "cell_type": "code",
   "execution_count": 2,
   "metadata": {},
   "outputs": [
    {
     "data": {
      "text/plain": [
       "0    9.00\n",
       "1    0.25\n",
       "2    1.00\n",
       "3    1.50\n",
       "4    3.00\n",
       "5    8.90\n",
       "dtype: float64"
      ]
     },
     "execution_count": 2,
     "metadata": {},
     "output_type": "execute_result"
    }
   ],
   "source": [
    " #Ejemplo\n",
    "data = pd.Series([9, 0.25, 1, 1.5, 3, 8.9])\n",
    "data"
   ]
  },
  {
   "cell_type": "markdown",
   "metadata": {},
   "source": [
    "Como vemos en la salida anterior, la **Serie** envuelve cuenta con una secuencia de ``índices`` como  de ``valores``. Los ``valores`` son simplemente un arreglo de NumPy "
   ]
  },
  {
   "cell_type": "code",
   "execution_count": 3,
   "metadata": {},
   "outputs": [
    {
     "data": {
      "text/plain": [
       "array([9.  , 0.25, 1.  , 1.5 , 3.  , 8.9 ])"
      ]
     },
     "execution_count": 3,
     "metadata": {},
     "output_type": "execute_result"
    }
   ],
   "source": [
    "#Valores\n",
    "data.values"
   ]
  },
  {
   "cell_type": "markdown",
   "metadata": {},
   "source": [
    "Y para conocer la secuencia de los ``índices`` podemos usar:\n"
   ]
  },
  {
   "cell_type": "code",
   "execution_count": 4,
   "metadata": {},
   "outputs": [
    {
     "data": {
      "text/plain": [
       "RangeIndex(start=0, stop=6, step=1)"
      ]
     },
     "execution_count": 4,
     "metadata": {},
     "output_type": "execute_result"
    }
   ],
   "source": [
    "#Indices\n",
    "data.index"
   ]
  },
  {
   "cell_type": "markdown",
   "metadata": {},
   "source": [
    "Al igual que con un arreglo de NumPy, se puede acceder a los datos mediante el índice asociado a través de la conocida notación de corchetes de Python:"
   ]
  },
  {
   "cell_type": "code",
   "execution_count": 5,
   "metadata": {},
   "outputs": [
    {
     "data": {
      "text/plain": [
       "9.0"
      ]
     },
     "execution_count": 5,
     "metadata": {},
     "output_type": "execute_result"
    }
   ],
   "source": [
    "data[0]"
   ]
  },
  {
   "cell_type": "code",
   "execution_count": 6,
   "metadata": {},
   "outputs": [
    {
     "data": {
      "text/plain": [
       "2    1.0\n",
       "3    1.5\n",
       "4    3.0\n",
       "5    8.9\n",
       "dtype: float64"
      ]
     },
     "execution_count": 6,
     "metadata": {},
     "output_type": "execute_result"
    }
   ],
   "source": [
    "data[2:]"
   ]
  },
  {
   "cell_type": "markdown",
   "metadata": {},
   "source": [
    "## Las Series:  arreglos generalizados de NumPy "
   ]
  },
  {
   "cell_type": "markdown",
   "metadata": {},
   "source": [
    "Por lo que hemos visto hasta ahora, puede parecer que las **Series** son básicamente intercambiables con arreglos unidimensionales de NumPy. La diferencia esencial es la presencia de los índices: mientras que los arreglos de Numpy tienen un índice entero definido implícitamente que se utiliza para acceder a los valores (índices asociados a la posición), las Series de Pandas tiene índices definidos explícitamente asociados con los valores. Esta definición de índice explícita le da a las Series características  adicionales. \n",
    "\n",
    "Por ejemplo, no es necesario que el índice sea un número entero. "
   ]
  },
  {
   "cell_type": "code",
   "execution_count": 7,
   "metadata": {},
   "outputs": [
    {
     "name": "stdout",
     "output_type": "stream",
     "text": [
      "a    9.00\n",
      "b    0.25\n",
      "c    1.00\n",
      "d    1.50\n",
      "x    3.00\n",
      "y    8.90\n",
      "dtype: float64\n"
     ]
    }
   ],
   "source": [
    "data = pd.Series( [ 9, 0.25, 1 , 1.5 , 3, 8.9 ], \n",
    "                 index=['a','b','c','d','x','y']\n",
    "                 )    \n",
    "print(data)"
   ]
  },
  {
   "cell_type": "markdown",
   "metadata": {},
   "source": [
    "Y el acceso a cada elemento funciona con su respectivo índice:"
   ]
  },
  {
   "cell_type": "code",
   "execution_count": 8,
   "metadata": {},
   "outputs": [
    {
     "data": {
      "text/plain": [
       "1.5"
      ]
     },
     "execution_count": 8,
     "metadata": {},
     "output_type": "execute_result"
    }
   ],
   "source": [
    "data['d']"
   ]
  },
  {
   "cell_type": "markdown",
   "metadata": {},
   "source": [
    "Incluso podemos utilizar índices no contiguos o no secuenciales:"
   ]
  },
  {
   "cell_type": "code",
   "execution_count": 9,
   "metadata": {},
   "outputs": [
    {
     "name": "stdout",
     "output_type": "stream",
     "text": [
      "b    9.00\n",
      "a    0.25\n",
      "c    1.00\n",
      "d    1.50\n",
      "x    3.00\n",
      "y    8.90\n",
      "dtype: float64\n"
     ]
    }
   ],
   "source": [
    " data = pd.Series( [ 9, 0.25, 1 , 1.5 , 3, 8.9 ], \n",
    "                 index=['b','a','c','d','x','y']\n",
    "                 )    \n",
    "print(data)"
   ]
  },
  {
   "cell_type": "code",
   "execution_count": 10,
   "metadata": {},
   "outputs": [
    {
     "name": "stdout",
     "output_type": "stream",
     "text": [
      "5    9.00\n",
      "1    0.25\n",
      "2    1.00\n",
      "3    1.50\n",
      "4    3.00\n",
      "6    8.90\n",
      "dtype: float64\n"
     ]
    }
   ],
   "source": [
    " data = pd.Series( [ 9, 0.25, 1 , 1.5 , 3, 8.9 ], \n",
    "                 index=[5, 1, 2, 3, 4, 6]\n",
    "                 )    \n",
    "print(data)"
   ]
  },
  {
   "cell_type": "markdown",
   "metadata": {},
   "source": [
    "## Las Series y  diccionarios de Python"
   ]
  },
  {
   "cell_type": "markdown",
   "metadata": {},
   "source": [
    "Se puede considerar que una **Serie** es similar a un diccionario ordenado que asigna un valor a una etiqueta, de hecho, es posible construir una serie directamente desde un diccionario de Python:"
   ]
  },
  {
   "cell_type": "code",
   "execution_count": 11,
   "metadata": {},
   "outputs": [
    {
     "name": "stdout",
     "output_type": "stream",
     "text": [
      "California    38.3\n",
      "Texas         26.4\n",
      "New York      19.6\n",
      "Florida       19.5\n",
      "Illinois      12.8\n",
      "Washington    17.5\n",
      "dtype: float64\n"
     ]
    }
   ],
   "source": [
    "poblacion_diccionario = {'California': 38.3,\n",
    "                   'Texas': 26.4,\n",
    "                   'New York': 19.6,\n",
    "                   'Florida': 19.5,\n",
    "                   'Illinois': 12.8,\n",
    "                   'Washington': 17.5,     \n",
    "                             }\n",
    "\n",
    "# Crar la Serie llamada poblacion\n",
    "poblacion = pd.Series(poblacion_diccionario)\n",
    "print(poblacion)"
   ]
  },
  {
   "cell_type": "markdown",
   "metadata": {},
   "source": [
    "De forma predeterminada, se creará una **Serie** donde el índice se extrae de las etiquetas ordenadas y se puede realizar el acceso típico a elementos al estilo de un diccionario de Python:"
   ]
  },
  {
   "cell_type": "code",
   "execution_count": 12,
   "metadata": {},
   "outputs": [
    {
     "data": {
      "text/plain": [
       "38.3"
      ]
     },
     "execution_count": 12,
     "metadata": {},
     "output_type": "execute_result"
    }
   ],
   "source": [
    " poblacion['California']"
   ]
  },
  {
   "cell_type": "markdown",
   "metadata": {},
   "source": [
    "Sin embargo, a diferencia de un diccionario, las **Series** también admiten operaciones de segmentación:"
   ]
  },
  {
   "cell_type": "code",
   "execution_count": 13,
   "metadata": {},
   "outputs": [
    {
     "data": {
      "text/plain": [
       "California    38.3\n",
       "Texas         26.4\n",
       "New York      19.6\n",
       "Florida       19.5\n",
       "dtype: float64"
      ]
     },
     "execution_count": 13,
     "metadata": {},
     "output_type": "execute_result"
    }
   ],
   "source": [
    "poblacion['California':'Florida'] "
   ]
  },
  {
   "cell_type": "markdown",
   "metadata": {},
   "source": [
    "Discutiremos algunas de las peculiaridades de la indexación y segmentación de Pandas en las siguientes lecciones."
   ]
  },
  {
   "cell_type": "markdown",
   "metadata": {},
   "source": [
    "# DataFrames\n",
    "\n",
    "La siguiente estructura fundamental en Pandas es el **DataFrame**. Al igual que las **Series** presentadas en la sección anterior, los  **DataFrame** se pueden considerar como una generalización de arreglos de NumPy o como   diccionarios especializados de Python."
   ]
  },
  {
   "cell_type": "markdown",
   "metadata": {},
   "source": [
    "## DataFrame como un arreglo generalizado de NumPy \n"
   ]
  },
  {
   "cell_type": "markdown",
   "metadata": {},
   "source": [
    "\n",
    "Si una **Serie** es un análogo de un arreglo unidimensional con índices flexibles, un **DataFrame** es un análogo de un arreglo bidimensional con índices de filas flexibles y nombres de columnas flexibles.\n",
    "Así como podría pensar en un arreglo bidimensional como una secuencia ordenada de columnas unidimensionales alineadas, se puede pensar en un **DataFrame** como una secuencia de objetos alineados de **Serie**,  por *alineados* queremos decir que comparten el mismo índice.\n",
    "\n",
    "Para demostrar esto, construyamos primero una nueva **Serie** que enumere el área de cada uno de los  estados mostrados en la sección anterior:\n"
   ]
  },
  {
   "cell_type": "code",
   "execution_count": 14,
   "metadata": {},
   "outputs": [
    {
     "data": {
      "text/plain": [
       "California    423967\n",
       "Texas         695662\n",
       "New York      141297\n",
       "Florida       170312\n",
       "Illinois      149995\n",
       "Washington    289990\n",
       "dtype: int64"
      ]
     },
     "execution_count": 14,
     "metadata": {},
     "output_type": "execute_result"
    }
   ],
   "source": [
    "area_diccionario = {'California': 423967, 'Texas': 695662, 'New York': 141297,\n",
    "             'Florida': 170312, 'Illinois': 149995,'Washington': 289990}\n",
    "#Crear la serie llamada area\n",
    "area = pd.Series(area_diccionario)\n",
    "area"
   ]
  },
  {
   "cell_type": "markdown",
   "metadata": {},
   "source": [
    "Ahora que tenemos esto junto con la serie de población de anterior, podemos usar un diccionario para construir un único objeto bidimensional que contenga esta información:\n"
   ]
  },
  {
   "cell_type": "code",
   "execution_count": 15,
   "metadata": {},
   "outputs": [
    {
     "data": {
      "text/html": [
       "<div>\n",
       "<style scoped>\n",
       "    .dataframe tbody tr th:only-of-type {\n",
       "        vertical-align: middle;\n",
       "    }\n",
       "\n",
       "    .dataframe tbody tr th {\n",
       "        vertical-align: top;\n",
       "    }\n",
       "\n",
       "    .dataframe thead th {\n",
       "        text-align: right;\n",
       "    }\n",
       "</style>\n",
       "<table border=\"1\" class=\"dataframe\">\n",
       "  <thead>\n",
       "    <tr style=\"text-align: right;\">\n",
       "      <th></th>\n",
       "      <th>etiqueta_poblacion</th>\n",
       "      <th>etiqueta_area</th>\n",
       "    </tr>\n",
       "  </thead>\n",
       "  <tbody>\n",
       "    <tr>\n",
       "      <th>California</th>\n",
       "      <td>38.3</td>\n",
       "      <td>423967</td>\n",
       "    </tr>\n",
       "    <tr>\n",
       "      <th>Texas</th>\n",
       "      <td>26.4</td>\n",
       "      <td>695662</td>\n",
       "    </tr>\n",
       "    <tr>\n",
       "      <th>New York</th>\n",
       "      <td>19.6</td>\n",
       "      <td>141297</td>\n",
       "    </tr>\n",
       "    <tr>\n",
       "      <th>Florida</th>\n",
       "      <td>19.5</td>\n",
       "      <td>170312</td>\n",
       "    </tr>\n",
       "    <tr>\n",
       "      <th>Illinois</th>\n",
       "      <td>12.8</td>\n",
       "      <td>149995</td>\n",
       "    </tr>\n",
       "    <tr>\n",
       "      <th>Washington</th>\n",
       "      <td>17.5</td>\n",
       "      <td>289990</td>\n",
       "    </tr>\n",
       "  </tbody>\n",
       "</table>\n",
       "</div>"
      ],
      "text/plain": [
       "            etiqueta_poblacion  etiqueta_area\n",
       "California                38.3         423967\n",
       "Texas                     26.4         695662\n",
       "New York                  19.6         141297\n",
       "Florida                   19.5         170312\n",
       "Illinois                  12.8         149995\n",
       "Washington                17.5         289990"
      ]
     },
     "execution_count": 15,
     "metadata": {},
     "output_type": "execute_result"
    }
   ],
   "source": [
    "#Crear la serie llamada estados\n",
    "estados = pd.DataFrame({ 'etiqueta_poblacion': poblacion ,\n",
    "                       'etiqueta_area' : area })\n",
    "estados"
   ]
  },
  {
   "cell_type": "markdown",
   "metadata": {},
   "source": [
    "Como en las **Series**, el **DataFrame** tiene un atributo de ``index`` que da acceso a las etiquetas del índice:"
   ]
  },
  {
   "cell_type": "code",
   "execution_count": 16,
   "metadata": {},
   "outputs": [
    {
     "data": {
      "text/plain": [
       "Index(['California', 'Texas', 'New York', 'Florida', 'Illinois', 'Washington'], dtype='object')"
      ]
     },
     "execution_count": 16,
     "metadata": {},
     "output_type": "execute_result"
    }
   ],
   "source": [
    "#indices\n",
    "estados.index"
   ]
  },
  {
   "cell_type": "markdown",
   "metadata": {},
   "source": [
    "Además, el **DataFrame** tiene un atributo ``columns``  que contiene las etiquetas de las columnas:"
   ]
  },
  {
   "cell_type": "code",
   "execution_count": 17,
   "metadata": {},
   "outputs": [
    {
     "data": {
      "text/plain": [
       "Index(['etiqueta_poblacion', 'etiqueta_area'], dtype='object')"
      ]
     },
     "execution_count": 17,
     "metadata": {},
     "output_type": "execute_result"
    }
   ],
   "source": [
    "#Columnas\n",
    "estados.columns"
   ]
  },
  {
   "cell_type": "markdown",
   "metadata": {},
   "source": [
    "Thus the ``DataFrame`` can be thought of as a generalization of a two-dimensional NumPy array, where both the rows and columns have a generalized index for accessing the data."
   ]
  },
  {
   "cell_type": "markdown",
   "metadata": {},
   "source": [
    "### DataFrame como un diccionario especializado\n"
   ]
  },
  {
   "cell_type": "markdown",
   "metadata": {},
   "source": [
    "Se puede  pensar en un **DataFrame** como una diccionario especializado, ya que un **DataFrame** además asigna un nombre a cada columna. Por ejemplo, al pedir el 'area' obtendremos los elementos de la columna 'area':"
   ]
  },
  {
   "cell_type": "code",
   "execution_count": 18,
   "metadata": {},
   "outputs": [
    {
     "data": {
      "text/html": [
       "<div>\n",
       "<style scoped>\n",
       "    .dataframe tbody tr th:only-of-type {\n",
       "        vertical-align: middle;\n",
       "    }\n",
       "\n",
       "    .dataframe tbody tr th {\n",
       "        vertical-align: top;\n",
       "    }\n",
       "\n",
       "    .dataframe thead th {\n",
       "        text-align: right;\n",
       "    }\n",
       "</style>\n",
       "<table border=\"1\" class=\"dataframe\">\n",
       "  <thead>\n",
       "    <tr style=\"text-align: right;\">\n",
       "      <th></th>\n",
       "      <th>etiqueta_poblacion</th>\n",
       "      <th>etiqueta_area</th>\n",
       "    </tr>\n",
       "  </thead>\n",
       "  <tbody>\n",
       "    <tr>\n",
       "      <th>California</th>\n",
       "      <td>38.3</td>\n",
       "      <td>423967</td>\n",
       "    </tr>\n",
       "    <tr>\n",
       "      <th>Texas</th>\n",
       "      <td>26.4</td>\n",
       "      <td>695662</td>\n",
       "    </tr>\n",
       "    <tr>\n",
       "      <th>New York</th>\n",
       "      <td>19.6</td>\n",
       "      <td>141297</td>\n",
       "    </tr>\n",
       "    <tr>\n",
       "      <th>Florida</th>\n",
       "      <td>19.5</td>\n",
       "      <td>170312</td>\n",
       "    </tr>\n",
       "    <tr>\n",
       "      <th>Illinois</th>\n",
       "      <td>12.8</td>\n",
       "      <td>149995</td>\n",
       "    </tr>\n",
       "    <tr>\n",
       "      <th>Washington</th>\n",
       "      <td>17.5</td>\n",
       "      <td>289990</td>\n",
       "    </tr>\n",
       "  </tbody>\n",
       "</table>\n",
       "</div>"
      ],
      "text/plain": [
       "            etiqueta_poblacion  etiqueta_area\n",
       "California                38.3         423967\n",
       "Texas                     26.4         695662\n",
       "New York                  19.6         141297\n",
       "Florida                   19.5         170312\n",
       "Illinois                  12.8         149995\n",
       "Washington                17.5         289990"
      ]
     },
     "execution_count": 18,
     "metadata": {},
     "output_type": "execute_result"
    }
   ],
   "source": [
    "estados"
   ]
  },
  {
   "cell_type": "code",
   "execution_count": 19,
   "metadata": {},
   "outputs": [
    {
     "data": {
      "text/plain": [
       "California    423967\n",
       "Texas         695662\n",
       "New York      141297\n",
       "Florida       170312\n",
       "Illinois      149995\n",
       "Washington    289990\n",
       "Name: etiqueta_area, dtype: int64"
      ]
     },
     "execution_count": 19,
     "metadata": {},
     "output_type": "execute_result"
    }
   ],
   "source": [
    "# area\n",
    "estados['etiqueta_area']"
   ]
  },
  {
   "cell_type": "markdown",
   "metadata": {},
   "source": [
    "De igual manera para la columna 'poblacion'"
   ]
  },
  {
   "cell_type": "code",
   "execution_count": 20,
   "metadata": {},
   "outputs": [
    {
     "data": {
      "text/plain": [
       "California    38.3\n",
       "Texas         26.4\n",
       "New York      19.6\n",
       "Florida       19.5\n",
       "Illinois      12.8\n",
       "Washington    17.5\n",
       "Name: etiqueta_poblacion, dtype: float64"
      ]
     },
     "execution_count": 20,
     "metadata": {},
     "output_type": "execute_result"
    }
   ],
   "source": [
    "#Población\n",
    "estados['etiqueta_poblacion']"
   ]
  },
  {
   "cell_type": "markdown",
   "metadata": {},
   "source": [
    "### Construyendo DataFrames\n",
    "\n",
    "Un **DataFrame** de Pandas se puede construir de varias formas utilizando la función ``DataFrame``. Aquí daremos varios ejemplos.\n"
   ]
  },
  {
   "cell_type": "markdown",
   "metadata": {},
   "source": [
    "#### a) Utilizando una Serie\n",
    "\n",
    "Un **DataFrame** es una colección de **Series**, y un **DataFrame** de una sola columna se puede construir a partir de una sola **Serie**:\n"
   ]
  },
  {
   "cell_type": "code",
   "execution_count": 21,
   "metadata": {},
   "outputs": [
    {
     "data": {
      "text/html": [
       "<div>\n",
       "<style scoped>\n",
       "    .dataframe tbody tr th:only-of-type {\n",
       "        vertical-align: middle;\n",
       "    }\n",
       "\n",
       "    .dataframe tbody tr th {\n",
       "        vertical-align: top;\n",
       "    }\n",
       "\n",
       "    .dataframe thead th {\n",
       "        text-align: right;\n",
       "    }\n",
       "</style>\n",
       "<table border=\"1\" class=\"dataframe\">\n",
       "  <thead>\n",
       "    <tr style=\"text-align: right;\">\n",
       "      <th></th>\n",
       "      <th>Población en millones</th>\n",
       "    </tr>\n",
       "  </thead>\n",
       "  <tbody>\n",
       "    <tr>\n",
       "      <th>California</th>\n",
       "      <td>38.3</td>\n",
       "    </tr>\n",
       "    <tr>\n",
       "      <th>Texas</th>\n",
       "      <td>26.4</td>\n",
       "    </tr>\n",
       "    <tr>\n",
       "      <th>New York</th>\n",
       "      <td>19.6</td>\n",
       "    </tr>\n",
       "    <tr>\n",
       "      <th>Florida</th>\n",
       "      <td>19.5</td>\n",
       "    </tr>\n",
       "    <tr>\n",
       "      <th>Illinois</th>\n",
       "      <td>12.8</td>\n",
       "    </tr>\n",
       "    <tr>\n",
       "      <th>Washington</th>\n",
       "      <td>17.5</td>\n",
       "    </tr>\n",
       "  </tbody>\n",
       "</table>\n",
       "</div>"
      ],
      "text/plain": [
       "            Población en millones\n",
       "California                   38.3\n",
       "Texas                        26.4\n",
       "New York                     19.6\n",
       "Florida                      19.5\n",
       "Illinois                     12.8\n",
       "Washington                   17.5"
      ]
     },
     "execution_count": 21,
     "metadata": {},
     "output_type": "execute_result"
    }
   ],
   "source": [
    "pd.DataFrame(poblacion, columns=['Población en millones'])"
   ]
  },
  {
   "cell_type": "markdown",
   "metadata": {},
   "source": [
    "#### b) Lista de diccionarios\n",
    "\n",
    "\n",
    "Un conjunto de diccionarios se pueden convertir en un **DataFrame**."
   ]
  },
  {
   "cell_type": "code",
   "execution_count": 22,
   "metadata": {},
   "outputs": [
    {
     "data": {
      "text/html": [
       "<div>\n",
       "<style scoped>\n",
       "    .dataframe tbody tr th:only-of-type {\n",
       "        vertical-align: middle;\n",
       "    }\n",
       "\n",
       "    .dataframe tbody tr th {\n",
       "        vertical-align: top;\n",
       "    }\n",
       "\n",
       "    .dataframe thead th {\n",
       "        text-align: right;\n",
       "    }\n",
       "</style>\n",
       "<table border=\"1\" class=\"dataframe\">\n",
       "  <thead>\n",
       "    <tr style=\"text-align: right;\">\n",
       "      <th></th>\n",
       "      <th>a</th>\n",
       "      <th>b</th>\n",
       "    </tr>\n",
       "  </thead>\n",
       "  <tbody>\n",
       "    <tr>\n",
       "      <th>x</th>\n",
       "      <td>1</td>\n",
       "      <td>11</td>\n",
       "    </tr>\n",
       "    <tr>\n",
       "      <th>y</th>\n",
       "      <td>2</td>\n",
       "      <td>12</td>\n",
       "    </tr>\n",
       "    <tr>\n",
       "      <th>z</th>\n",
       "      <td>3</td>\n",
       "      <td>13</td>\n",
       "    </tr>\n",
       "  </tbody>\n",
       "</table>\n",
       "</div>"
      ],
      "text/plain": [
       "   a   b\n",
       "x  1  11\n",
       "y  2  12\n",
       "z  3  13"
      ]
     },
     "execution_count": 22,
     "metadata": {},
     "output_type": "execute_result"
    }
   ],
   "source": [
    "diccionario = {'a':{'x':1, 'y':2, 'z':3},\n",
    "              'b':{'x':11, 'y':12, 'z':13}}\n",
    "pd.DataFrame(diccionario)"
   ]
  },
  {
   "cell_type": "markdown",
   "metadata": {},
   "source": [
    "\n",
    "Incluso si faltan algunos elementos en los diccionarios, Pandas las completará con valores ``NaN`` (es decir, \"not a number\"):"
   ]
  },
  {
   "cell_type": "code",
   "execution_count": 23,
   "metadata": {},
   "outputs": [
    {
     "data": {
      "text/html": [
       "<div>\n",
       "<style scoped>\n",
       "    .dataframe tbody tr th:only-of-type {\n",
       "        vertical-align: middle;\n",
       "    }\n",
       "\n",
       "    .dataframe tbody tr th {\n",
       "        vertical-align: top;\n",
       "    }\n",
       "\n",
       "    .dataframe thead th {\n",
       "        text-align: right;\n",
       "    }\n",
       "</style>\n",
       "<table border=\"1\" class=\"dataframe\">\n",
       "  <thead>\n",
       "    <tr style=\"text-align: right;\">\n",
       "      <th></th>\n",
       "      <th>a</th>\n",
       "      <th>b</th>\n",
       "    </tr>\n",
       "  </thead>\n",
       "  <tbody>\n",
       "    <tr>\n",
       "      <th>x</th>\n",
       "      <td>1.0</td>\n",
       "      <td>11.0</td>\n",
       "    </tr>\n",
       "    <tr>\n",
       "      <th>y</th>\n",
       "      <td>2.0</td>\n",
       "      <td>12.0</td>\n",
       "    </tr>\n",
       "    <tr>\n",
       "      <th>z</th>\n",
       "      <td>3.0</td>\n",
       "      <td>13.0</td>\n",
       "    </tr>\n",
       "    <tr>\n",
       "      <th>m</th>\n",
       "      <td>5.0</td>\n",
       "      <td>NaN</td>\n",
       "    </tr>\n",
       "    <tr>\n",
       "      <th>n</th>\n",
       "      <td>NaN</td>\n",
       "      <td>10.0</td>\n",
       "    </tr>\n",
       "  </tbody>\n",
       "</table>\n",
       "</div>"
      ],
      "text/plain": [
       "     a     b\n",
       "x  1.0  11.0\n",
       "y  2.0  12.0\n",
       "z  3.0  13.0\n",
       "m  5.0   NaN\n",
       "n  NaN  10.0"
      ]
     },
     "execution_count": 23,
     "metadata": {},
     "output_type": "execute_result"
    }
   ],
   "source": [
    "diccionario = {'a':{'x':1, 'y':2, 'z':3, 'm':5},\n",
    "              'b':{'x':11, 'y':12, 'z':13, 'n':10}}\n",
    "pd.DataFrame(diccionario)"
   ]
  },
  {
   "cell_type": "markdown",
   "metadata": {},
   "source": [
    "#### c) Desde un arreglo bidimensional de  NumPy \n",
    "\n",
    "Dada un arreglo bidimensional de datos, podemos crear un **DataFrame** con cualquier columna e índice especificado. Si se omite, se utilizará un índice entero para cada uno"
   ]
  },
  {
   "cell_type": "code",
   "execution_count": 24,
   "metadata": {},
   "outputs": [
    {
     "data": {
      "text/plain": [
       "array([[2.01639876e-04, 6.47541975e-01],\n",
       "       [4.65382062e-01, 2.95209102e-01],\n",
       "       [1.09618886e-01, 5.14622510e-01]])"
      ]
     },
     "execution_count": 24,
     "metadata": {},
     "output_type": "execute_result"
    }
   ],
   "source": [
    "# np.random.rand(3, 2)\n",
    "arreglo2D = np.random.rand(3, 2)\n",
    "arreglo2D"
   ]
  },
  {
   "cell_type": "code",
   "execution_count": 25,
   "metadata": {},
   "outputs": [
    {
     "data": {
      "text/html": [
       "<div>\n",
       "<style scoped>\n",
       "    .dataframe tbody tr th:only-of-type {\n",
       "        vertical-align: middle;\n",
       "    }\n",
       "\n",
       "    .dataframe tbody tr th {\n",
       "        vertical-align: top;\n",
       "    }\n",
       "\n",
       "    .dataframe thead th {\n",
       "        text-align: right;\n",
       "    }\n",
       "</style>\n",
       "<table border=\"1\" class=\"dataframe\">\n",
       "  <thead>\n",
       "    <tr style=\"text-align: right;\">\n",
       "      <th></th>\n",
       "      <th>A</th>\n",
       "      <th>B</th>\n",
       "    </tr>\n",
       "  </thead>\n",
       "  <tbody>\n",
       "    <tr>\n",
       "      <th>x</th>\n",
       "      <td>0.000202</td>\n",
       "      <td>0.647542</td>\n",
       "    </tr>\n",
       "    <tr>\n",
       "      <th>y</th>\n",
       "      <td>0.465382</td>\n",
       "      <td>0.295209</td>\n",
       "    </tr>\n",
       "    <tr>\n",
       "      <th>z</th>\n",
       "      <td>0.109619</td>\n",
       "      <td>0.514623</td>\n",
       "    </tr>\n",
       "  </tbody>\n",
       "</table>\n",
       "</div>"
      ],
      "text/plain": [
       "          A         B\n",
       "x  0.000202  0.647542\n",
       "y  0.465382  0.295209\n",
       "z  0.109619  0.514623"
      ]
     },
     "execution_count": 25,
     "metadata": {},
     "output_type": "execute_result"
    }
   ],
   "source": [
    "# Cuando se especifican los índices de filas y columnas\n",
    "pd.DataFrame(arreglo2D, columns=['A', 'B'], index=['x', 'y', 'z'])"
   ]
  },
  {
   "cell_type": "code",
   "execution_count": 26,
   "metadata": {},
   "outputs": [
    {
     "data": {
      "text/html": [
       "<div>\n",
       "<style scoped>\n",
       "    .dataframe tbody tr th:only-of-type {\n",
       "        vertical-align: middle;\n",
       "    }\n",
       "\n",
       "    .dataframe tbody tr th {\n",
       "        vertical-align: top;\n",
       "    }\n",
       "\n",
       "    .dataframe thead th {\n",
       "        text-align: right;\n",
       "    }\n",
       "</style>\n",
       "<table border=\"1\" class=\"dataframe\">\n",
       "  <thead>\n",
       "    <tr style=\"text-align: right;\">\n",
       "      <th></th>\n",
       "      <th>A</th>\n",
       "      <th>B</th>\n",
       "    </tr>\n",
       "  </thead>\n",
       "  <tbody>\n",
       "    <tr>\n",
       "      <th>0</th>\n",
       "      <td>0.000202</td>\n",
       "      <td>0.647542</td>\n",
       "    </tr>\n",
       "    <tr>\n",
       "      <th>1</th>\n",
       "      <td>0.465382</td>\n",
       "      <td>0.295209</td>\n",
       "    </tr>\n",
       "    <tr>\n",
       "      <th>2</th>\n",
       "      <td>0.109619</td>\n",
       "      <td>0.514623</td>\n",
       "    </tr>\n",
       "  </tbody>\n",
       "</table>\n",
       "</div>"
      ],
      "text/plain": [
       "          A         B\n",
       "0  0.000202  0.647542\n",
       "1  0.465382  0.295209\n",
       "2  0.109619  0.514623"
      ]
     },
     "execution_count": 26,
     "metadata": {},
     "output_type": "execute_result"
    }
   ],
   "source": [
    "# Cuando se especifican los índices solo en columnas\n",
    "pd.DataFrame(arreglo2D, columns=['A', 'B'])"
   ]
  },
  {
   "cell_type": "code",
   "execution_count": 27,
   "metadata": {},
   "outputs": [
    {
     "data": {
      "text/html": [
       "<div>\n",
       "<style scoped>\n",
       "    .dataframe tbody tr th:only-of-type {\n",
       "        vertical-align: middle;\n",
       "    }\n",
       "\n",
       "    .dataframe tbody tr th {\n",
       "        vertical-align: top;\n",
       "    }\n",
       "\n",
       "    .dataframe thead th {\n",
       "        text-align: right;\n",
       "    }\n",
       "</style>\n",
       "<table border=\"1\" class=\"dataframe\">\n",
       "  <thead>\n",
       "    <tr style=\"text-align: right;\">\n",
       "      <th></th>\n",
       "      <th>0</th>\n",
       "      <th>1</th>\n",
       "    </tr>\n",
       "  </thead>\n",
       "  <tbody>\n",
       "    <tr>\n",
       "      <th>0</th>\n",
       "      <td>0.000202</td>\n",
       "      <td>0.647542</td>\n",
       "    </tr>\n",
       "    <tr>\n",
       "      <th>1</th>\n",
       "      <td>0.465382</td>\n",
       "      <td>0.295209</td>\n",
       "    </tr>\n",
       "    <tr>\n",
       "      <th>2</th>\n",
       "      <td>0.109619</td>\n",
       "      <td>0.514623</td>\n",
       "    </tr>\n",
       "  </tbody>\n",
       "</table>\n",
       "</div>"
      ],
      "text/plain": [
       "          0         1\n",
       "0  0.000202  0.647542\n",
       "1  0.465382  0.295209\n",
       "2  0.109619  0.514623"
      ]
     },
     "execution_count": 27,
     "metadata": {},
     "output_type": "execute_result"
    }
   ],
   "source": [
    "# Cuando no se especifican los índices \n",
    "pd.DataFrame(arreglo2D)"
   ]
  },
  {
   "cell_type": "markdown",
   "metadata": {},
   "source": [
    "Para manejar de una manera eficiente los **DataFrame** se recomienda siempre asignar nombres a las columnas"
   ]
  },
  {
   "cell_type": "markdown",
   "metadata": {},
   "source": [
    "#### d)  Combinando  Series\n",
    "\n",
    "Como vimos antes, un **DataFrame** también se puede construir a partir de **Series**"
   ]
  },
  {
   "cell_type": "code",
   "execution_count": 28,
   "metadata": {},
   "outputs": [
    {
     "data": {
      "text/html": [
       "<div>\n",
       "<style scoped>\n",
       "    .dataframe tbody tr th:only-of-type {\n",
       "        vertical-align: middle;\n",
       "    }\n",
       "\n",
       "    .dataframe tbody tr th {\n",
       "        vertical-align: top;\n",
       "    }\n",
       "\n",
       "    .dataframe thead th {\n",
       "        text-align: right;\n",
       "    }\n",
       "</style>\n",
       "<table border=\"1\" class=\"dataframe\">\n",
       "  <thead>\n",
       "    <tr style=\"text-align: right;\">\n",
       "      <th></th>\n",
       "      <th>poblacion</th>\n",
       "      <th>area</th>\n",
       "    </tr>\n",
       "  </thead>\n",
       "  <tbody>\n",
       "    <tr>\n",
       "      <th>California</th>\n",
       "      <td>38.3</td>\n",
       "      <td>423967</td>\n",
       "    </tr>\n",
       "    <tr>\n",
       "      <th>Texas</th>\n",
       "      <td>26.4</td>\n",
       "      <td>695662</td>\n",
       "    </tr>\n",
       "    <tr>\n",
       "      <th>New York</th>\n",
       "      <td>19.6</td>\n",
       "      <td>141297</td>\n",
       "    </tr>\n",
       "    <tr>\n",
       "      <th>Florida</th>\n",
       "      <td>19.5</td>\n",
       "      <td>170312</td>\n",
       "    </tr>\n",
       "    <tr>\n",
       "      <th>Illinois</th>\n",
       "      <td>12.8</td>\n",
       "      <td>149995</td>\n",
       "    </tr>\n",
       "    <tr>\n",
       "      <th>Washington</th>\n",
       "      <td>17.5</td>\n",
       "      <td>289990</td>\n",
       "    </tr>\n",
       "  </tbody>\n",
       "</table>\n",
       "</div>"
      ],
      "text/plain": [
       "            poblacion    area\n",
       "California       38.3  423967\n",
       "Texas            26.4  695662\n",
       "New York         19.6  141297\n",
       "Florida          19.5  170312\n",
       "Illinois         12.8  149995\n",
       "Washington       17.5  289990"
      ]
     },
     "execution_count": 28,
     "metadata": {},
     "output_type": "execute_result"
    }
   ],
   "source": [
    "# poblacion + area\n",
    "pd.DataFrame({'poblacion':poblacion, 'area':area})"
   ]
  },
  {
   "cell_type": "markdown",
   "metadata": {},
   "source": [
    "#####  Ejemplo de un DataFrame a partir de Series y Series a partir de diccionarios"
   ]
  },
  {
   "cell_type": "markdown",
   "metadata": {},
   "source": [
    "Definiremos un DataFrame utilizando 5 diferentes Series, y las Series a partir de Diccionarios utilizando información de Pokémon. Consideraremos 2 variables cuantitativas (altura y peso ) y 3 cualitativas (categoría, tipo y debilidad)\n",
    "\n",
    "[https://www.lavanguardia.com/tecnologia/20160907/403442078796/todos-pokemon.html]\n",
    "\n",
    "<img align=\"left\" width=75% src=\"figuras/pokemones.png\">"
   ]
  },
  {
   "cell_type": "markdown",
   "metadata": {},
   "source": [
    "**1. Diccionarios**"
   ]
  },
  {
   "cell_type": "code",
   "execution_count": 29,
   "metadata": {},
   "outputs": [
    {
     "data": {
      "text/plain": [
       "Altura                 0.7\n",
       "Peso                   6.9\n",
       "Categoría          Semilla\n",
       "Tipo                Planta\n",
       "Debilidad    Hielo y fuego\n",
       "dtype: object"
      ]
     },
     "execution_count": 29,
     "metadata": {},
     "output_type": "execute_result"
    }
   ],
   "source": [
    "bulbasaur_diccionario = {'Altura': 0.7, 'Peso': 6.9, 'Categoría': 'Semilla',\n",
    "             'Tipo': 'Planta', 'Debilidad':  'Hielo y fuego'}\n",
    "bulbasaur = pd.Series(bulbasaur_diccionario)\n",
    "bulbasaur"
   ]
  },
  {
   "cell_type": "code",
   "execution_count": 30,
   "metadata": {},
   "outputs": [
    {
     "data": {
      "text/plain": [
       "Altura                 0.6\n",
       "Peso                   8.5\n",
       "Categoría        Lagartija\n",
       "Tipo                 Fuego\n",
       "Debilidad    Tierra y agua\n",
       "dtype: object"
      ]
     },
     "execution_count": 30,
     "metadata": {},
     "output_type": "execute_result"
    }
   ],
   "source": [
    "charmander_diccionario = {'Altura': 0.6, 'Peso': 8.5, 'Categoría': 'Lagartija',\n",
    "             'Tipo': 'Fuego', 'Debilidad':  'Tierra y agua'}\n",
    "charmander = pd.Series(charmander_diccionario)\n",
    "charmander"
   ]
  },
  {
   "cell_type": "code",
   "execution_count": 31,
   "metadata": {},
   "outputs": [
    {
     "data": {
      "text/plain": [
       "Altura                0.5\n",
       "Peso                  9.0\n",
       "Categoría         Tortuga\n",
       "Debilidad    Electricidad\n",
       "dtype: object"
      ]
     },
     "execution_count": 31,
     "metadata": {},
     "output_type": "execute_result"
    }
   ],
   "source": [
    "squirtle_diccionario = {'Altura': 0.5, 'Peso': 9.0, 'Categoría': 'Tortuga',\n",
    "              'Debilidad':  'Electricidad'}\n",
    "squirtle = pd.Series(squirtle_diccionario)\n",
    "squirtle"
   ]
  },
  {
   "cell_type": "code",
   "execution_count": 32,
   "metadata": {},
   "outputs": [
    {
     "data": {
      "text/plain": [
       "Altura          0.3\n",
       "Peso            2.9\n",
       "Categoría    Gusano\n",
       "Tipo          Bicho\n",
       "dtype: object"
      ]
     },
     "execution_count": 32,
     "metadata": {},
     "output_type": "execute_result"
    }
   ],
   "source": [
    "caterpie_diccionario = {'Altura': 0.3, 'Peso': 2.9, 'Categoría': 'Gusano',\n",
    "             'Tipo':  'Bicho'}\n",
    "caterpie = pd.Series(caterpie_diccionario)\n",
    "caterpie"
   ]
  },
  {
   "cell_type": "code",
   "execution_count": 33,
   "metadata": {},
   "outputs": [
    {
     "data": {
      "text/plain": [
       "Altura         0.3\n",
       "Peso           1.8\n",
       "Debilidad    Hielo\n",
       "dtype: object"
      ]
     },
     "execution_count": 33,
     "metadata": {},
     "output_type": "execute_result"
    }
   ],
   "source": [
    "pidgey_diccionario = {'Altura': 0.3, 'Peso': 1.8, 'Debilidad':  'Hielo'}\n",
    "pidgey = pd.Series(pidgey_diccionario)\n",
    "pidgey"
   ]
  },
  {
   "cell_type": "markdown",
   "metadata": {},
   "source": [
    "**2. Series**"
   ]
  },
  {
   "cell_type": "code",
   "execution_count": 34,
   "metadata": {},
   "outputs": [
    {
     "data": {
      "text/html": [
       "<div>\n",
       "<style scoped>\n",
       "    .dataframe tbody tr th:only-of-type {\n",
       "        vertical-align: middle;\n",
       "    }\n",
       "\n",
       "    .dataframe tbody tr th {\n",
       "        vertical-align: top;\n",
       "    }\n",
       "\n",
       "    .dataframe thead th {\n",
       "        text-align: right;\n",
       "    }\n",
       "</style>\n",
       "<table border=\"1\" class=\"dataframe\">\n",
       "  <thead>\n",
       "    <tr style=\"text-align: right;\">\n",
       "      <th></th>\n",
       "      <th>Bulbasaur</th>\n",
       "      <th>Charmander</th>\n",
       "      <th>Squirtle</th>\n",
       "      <th>Caterpie</th>\n",
       "      <th>Pidgey</th>\n",
       "    </tr>\n",
       "  </thead>\n",
       "  <tbody>\n",
       "    <tr>\n",
       "      <th>Altura</th>\n",
       "      <td>0.7</td>\n",
       "      <td>0.6</td>\n",
       "      <td>0.5</td>\n",
       "      <td>0.3</td>\n",
       "      <td>0.3</td>\n",
       "    </tr>\n",
       "    <tr>\n",
       "      <th>Categoría</th>\n",
       "      <td>Semilla</td>\n",
       "      <td>Lagartija</td>\n",
       "      <td>Tortuga</td>\n",
       "      <td>Gusano</td>\n",
       "      <td>NaN</td>\n",
       "    </tr>\n",
       "    <tr>\n",
       "      <th>Debilidad</th>\n",
       "      <td>Hielo y fuego</td>\n",
       "      <td>Tierra y agua</td>\n",
       "      <td>Electricidad</td>\n",
       "      <td>NaN</td>\n",
       "      <td>Hielo</td>\n",
       "    </tr>\n",
       "    <tr>\n",
       "      <th>Peso</th>\n",
       "      <td>6.9</td>\n",
       "      <td>8.5</td>\n",
       "      <td>9.0</td>\n",
       "      <td>2.9</td>\n",
       "      <td>1.8</td>\n",
       "    </tr>\n",
       "    <tr>\n",
       "      <th>Tipo</th>\n",
       "      <td>Planta</td>\n",
       "      <td>Fuego</td>\n",
       "      <td>NaN</td>\n",
       "      <td>Bicho</td>\n",
       "      <td>NaN</td>\n",
       "    </tr>\n",
       "  </tbody>\n",
       "</table>\n",
       "</div>"
      ],
      "text/plain": [
       "               Bulbasaur     Charmander      Squirtle Caterpie Pidgey\n",
       "Altura               0.7            0.6           0.5      0.3    0.3\n",
       "Categoría        Semilla      Lagartija       Tortuga   Gusano    NaN\n",
       "Debilidad  Hielo y fuego  Tierra y agua  Electricidad      NaN  Hielo\n",
       "Peso                 6.9            8.5           9.0      2.9    1.8\n",
       "Tipo              Planta          Fuego           NaN    Bicho    NaN"
      ]
     },
     "execution_count": 34,
     "metadata": {},
     "output_type": "execute_result"
    }
   ],
   "source": [
    "df_pokemones= pd.DataFrame({'Bulbasaur':bulbasaur,\n",
    "              'Charmander': charmander, \n",
    "              'Squirtle': squirtle, \n",
    "              'Caterpie': caterpie, \n",
    "              'Pidgey': pidgey,               \n",
    "             })\n",
    "df_pokemones"
   ]
  },
  {
   "cell_type": "markdown",
   "metadata": {},
   "source": [
    "# Ejercicio"
   ]
  },
  {
   "cell_type": "markdown",
   "metadata": {},
   "source": [
    "<div class=\"alert alert-success\">\n",
    "\n",
    "**Creación de un DataFrame con series y diccionarios**\n",
    "    \n",
    "1. Definir un DataFrame a partir de 5 series y cada Serie a partir de un diccionario (de algún mismo tópico), considerando  6 características diferentes y combinando tipos de variables (cuantitativas y cualitativas), también puede omitir algunos valores. \n",
    "</div>\n",
    "\n",
    "Ejemplo:\n",
    "\n",
    "\n",
    "``` python\n",
    "Alan = pd.Series({'Edad': 20 ,\n",
    "                  'Altura': 1.70,\n",
    "                  'Peso': 68,\n",
    "                  'Estado': 'Yucatán',\n",
    "                  'Color favorito':'Azul',\n",
    "                  'Licenciatura': 'Derecho'})\n",
    "María = pd.Series({'Edad': 21 ,\n",
    "                   'Altura': 1.80,\n",
    "                   'Peso': 80,\n",
    "                   'Color favorito':'Rojo',\n",
    "                   'Licenciatura': 'Ingeniería'})\n",
    "Pedro = pd.Series({'Edad': 23 ,\n",
    "                   'Altura': 1.67,\n",
    "                   'Peso': 75,\n",
    "                   'Estado': 'Aguascalientes',\n",
    "                   'Color favorito':'Morado',\n",
    "                   'Licenciatura': 'Artes'})\n",
    "Esmeralda = pd.Series({'Edad': 25 ,\n",
    "                       'Altura': 1.72,\n",
    "                       'Peso': 60,\n",
    "                       'Estado': 'Campeche',\n",
    "                       'Licenciatura': 'Turismo'})\n",
    "Karen = pd.Series({'Edad': 25 ,\n",
    "                  'Altura': 1.74,\n",
    "                  'Peso': 69,\n",
    "                  'Estado': '',\n",
    "                  'Color favorito':'Azul',\n",
    "                  'Licenciatura': 'Psicología'})\n",
    "\n",
    "df_alumnos = pd.DataFrame({'Alan':Alan,\n",
    "                           'María': María, \n",
    "                           'Pedro': Pedro, \n",
    "                           'Esmeralda': Esmeralda, \n",
    "                           'Karen': Karen\n",
    "                           })\n",
    "df_alumnos\n",
    "\n",
    ">>\n",
    "\n",
    "                   Alan       María           Pedro Esmeralda       Karen\n",
    "Altura              1.7         1.8            1.67      1.72        1.74\n",
    "Color favorito     Azul        Rojo          Morado       NaN        Azul\n",
    "Edad                 20          21              23        25          25\n",
    "Estado          Yucatán         NaN  Aguascalientes  Campeche            \n",
    "Licenciatura    Derecho  Ingeniería           Artes   Turismo  Psicología\n",
    "Peso                 68          80              75        60          69\n",
    "\n",
    "\n",
    "```"
   ]
  },
  {
   "cell_type": "code",
   "execution_count": 35,
   "metadata": {},
   "outputs": [
    {
     "data": {
      "text/html": [
       "<div>\n",
       "<style scoped>\n",
       "    .dataframe tbody tr th:only-of-type {\n",
       "        vertical-align: middle;\n",
       "    }\n",
       "\n",
       "    .dataframe tbody tr th {\n",
       "        vertical-align: top;\n",
       "    }\n",
       "\n",
       "    .dataframe thead th {\n",
       "        text-align: right;\n",
       "    }\n",
       "</style>\n",
       "<table border=\"1\" class=\"dataframe\">\n",
       "  <thead>\n",
       "    <tr style=\"text-align: right;\">\n",
       "      <th></th>\n",
       "      <th>Breaking Bad</th>\n",
       "      <th>Better_Call_Saul</th>\n",
       "      <th>Malcolm in the Middle</th>\n",
       "      <th>The Big Bang Theory</th>\n",
       "      <th>The Mandalorian</th>\n",
       "    </tr>\n",
       "  </thead>\n",
       "  <tbody>\n",
       "    <tr>\n",
       "      <th>Año del primer episodio</th>\n",
       "      <td>2008</td>\n",
       "      <td>2015</td>\n",
       "      <td>2000</td>\n",
       "      <td>2007</td>\n",
       "      <td>2019</td>\n",
       "    </tr>\n",
       "    <tr>\n",
       "      <th>Año del último episodio</th>\n",
       "      <td>2013</td>\n",
       "      <td>2022</td>\n",
       "      <td>2006</td>\n",
       "      <td>2019</td>\n",
       "      <td>NaN</td>\n",
       "    </tr>\n",
       "    <tr>\n",
       "      <th>Episodios</th>\n",
       "      <td>62</td>\n",
       "      <td>63</td>\n",
       "      <td>151</td>\n",
       "      <td>279</td>\n",
       "      <td>24</td>\n",
       "    </tr>\n",
       "    <tr>\n",
       "      <th>Género</th>\n",
       "      <td>Drama criminal</td>\n",
       "      <td>Drama criminal</td>\n",
       "      <td>NaN</td>\n",
       "      <td>Sitcom</td>\n",
       "      <td>Acción</td>\n",
       "    </tr>\n",
       "    <tr>\n",
       "      <th>Pais de origen</th>\n",
       "      <td>USA</td>\n",
       "      <td>USA</td>\n",
       "      <td>USA</td>\n",
       "      <td>USA</td>\n",
       "      <td>USA</td>\n",
       "    </tr>\n",
       "    <tr>\n",
       "      <th>Temporadas</th>\n",
       "      <td>5</td>\n",
       "      <td>6</td>\n",
       "      <td>7</td>\n",
       "      <td>12</td>\n",
       "      <td>3</td>\n",
       "    </tr>\n",
       "  </tbody>\n",
       "</table>\n",
       "</div>"
      ],
      "text/plain": [
       "                           Breaking Bad Better_Call_Saul  \\\n",
       "Año del primer episodio            2008             2015   \n",
       "Año del último episodio            2013             2022   \n",
       "Episodios                            62               63   \n",
       "Género                   Drama criminal   Drama criminal   \n",
       "Pais de origen                      USA              USA   \n",
       "Temporadas                            5                6   \n",
       "\n",
       "                        Malcolm in the Middle The Big Bang Theory  \\\n",
       "Año del primer episodio                  2000                2007   \n",
       "Año del último episodio                  2006                2019   \n",
       "Episodios                                 151                 279   \n",
       "Género                                    NaN              Sitcom   \n",
       "Pais de origen                            USA                 USA   \n",
       "Temporadas                                  7                  12   \n",
       "\n",
       "                        The Mandalorian  \n",
       "Año del primer episodio            2019  \n",
       "Año del último episodio             NaN  \n",
       "Episodios                            24  \n",
       "Género                           Acción  \n",
       "Pais de origen                      USA  \n",
       "Temporadas                            3  "
      ]
     },
     "execution_count": 35,
     "metadata": {},
     "output_type": "execute_result"
    }
   ],
   "source": [
    "Breaking_Bad = pd.Series({'Año del primer episodio': 2008,\n",
    "                          'Año del último episodio': 2013,\n",
    "                          'Temporadas': 5,\n",
    "                          'Episodios': 62,\n",
    "                          'Pais de origen': 'USA',\n",
    "                          'Género': 'Drama criminal'})\n",
    "Better_Call_Saul = pd.Series({'Año del primer episodio': 2015,\n",
    "                              'Año del último episodio': 2022,\n",
    "                              'Temporadas': 6,\n",
    "                              'Episodios': 63,\n",
    "                              'Pais de origen': 'USA',\n",
    "                              'Género': 'Drama criminal'})\n",
    "Malcolm_in_the_Middle = pd.Series({'Año del primer episodio': 2000,\n",
    "                                   'Año del último episodio': 2006,\n",
    "                                   'Temporadas': 7,\n",
    "                                   'Episodios': 151,\n",
    "                                   'Pais de origen': 'USA'})\n",
    "The_Big_Bang_Theory = pd.Series({'Año del primer episodio': 2007,\n",
    "                                 'Año del último episodio': 2019,\n",
    "                                 'Temporadas': 12,\n",
    "                                 'Episodios': 279,\n",
    "                                 'Pais de origen': 'USA',\n",
    "                                 'Género': 'Sitcom'})\n",
    "The_Mandalorian = pd.Series({'Año del primer episodio': 2019,\n",
    "                             'Temporadas': 3,\n",
    "                             'Episodios': 24,\n",
    "                             'Pais de origen': 'USA',\n",
    "                             'Género': 'Acción'})\n",
    "\n",
    "\n",
    "df_series = pd.DataFrame({'Breaking Bad': Breaking_Bad,\n",
    "                          'Better_Call_Saul': Better_Call_Saul,\n",
    "                          'Malcolm in the Middle': Malcolm_in_the_Middle,\n",
    "                          'The Big Bang Theory': The_Big_Bang_Theory,\n",
    "                          'The Mandalorian': The_Mandalorian})\n",
    "df_series\n"
   ]
  },
  {
   "cell_type": "markdown",
   "metadata": {},
   "source": [
    "<div class=\"alert alert-success\">\n",
    "    \n",
    "**Creación de un DataFrame vacío**\n",
    "    \n",
    "2. Definir un DataFrame que contenga un listado de 5 datos de 10 personas (utilizar el método del siguiente ejemplo). \n",
    "</div>\n",
    "\n",
    "Ejemplo:\n",
    "\n",
    "\n",
    "``` python\n",
    "import pandas as pd\n",
    "df = pd.DataFrame()\n",
    "df['first_name'] = ['Josy', 'Vaughn', 'Neale', 'Teirtza']\n",
    "df['last_name'] = ['Clarae', 'Halegarth', 'Georgievski', 'Teirtza']\n",
    "df['gender'] = ['Female', 'Male', 'Male', 'Female']\n",
    "print(df)\n",
    "\n",
    "\n",
    "  first_name    last_name  gender\n",
    "0       Josy       Clarae  Female\n",
    "1     Vaughn    Halegarth    Male\n",
    "2      Neale  Georgievski    Male\n",
    "3    Teirtza      Teirtza  Female\n",
    "\n",
    "```"
   ]
  },
  {
   "cell_type": "code",
   "execution_count": 36,
   "metadata": {},
   "outputs": [
    {
     "data": {
      "text/html": [
       "<div>\n",
       "<style scoped>\n",
       "    .dataframe tbody tr th:only-of-type {\n",
       "        vertical-align: middle;\n",
       "    }\n",
       "\n",
       "    .dataframe tbody tr th {\n",
       "        vertical-align: top;\n",
       "    }\n",
       "\n",
       "    .dataframe thead th {\n",
       "        text-align: right;\n",
       "    }\n",
       "</style>\n",
       "<table border=\"1\" class=\"dataframe\">\n",
       "  <thead>\n",
       "    <tr style=\"text-align: right;\">\n",
       "      <th></th>\n",
       "      <th>First Name</th>\n",
       "      <th>Last Name</th>\n",
       "      <th>Gender</th>\n",
       "      <th>Age</th>\n",
       "      <th>Height</th>\n",
       "    </tr>\n",
       "  </thead>\n",
       "  <tbody>\n",
       "    <tr>\n",
       "      <th>0</th>\n",
       "      <td>Sara</td>\n",
       "      <td>Valverde</td>\n",
       "      <td>Female</td>\n",
       "      <td>67</td>\n",
       "      <td>188</td>\n",
       "    </tr>\n",
       "    <tr>\n",
       "      <th>1</th>\n",
       "      <td>Melania</td>\n",
       "      <td>Guevara</td>\n",
       "      <td>Female</td>\n",
       "      <td>35</td>\n",
       "      <td>155</td>\n",
       "    </tr>\n",
       "    <tr>\n",
       "      <th>2</th>\n",
       "      <td>Giovanni</td>\n",
       "      <td>Espinoza</td>\n",
       "      <td>Male</td>\n",
       "      <td>42</td>\n",
       "      <td>181</td>\n",
       "    </tr>\n",
       "    <tr>\n",
       "      <th>3</th>\n",
       "      <td>Marta</td>\n",
       "      <td>Castillo</td>\n",
       "      <td>Female</td>\n",
       "      <td>24</td>\n",
       "      <td>160</td>\n",
       "    </tr>\n",
       "    <tr>\n",
       "      <th>4</th>\n",
       "      <td>Juan</td>\n",
       "      <td>Espino</td>\n",
       "      <td>Male</td>\n",
       "      <td>47</td>\n",
       "      <td>193</td>\n",
       "    </tr>\n",
       "    <tr>\n",
       "      <th>5</th>\n",
       "      <td>Andres</td>\n",
       "      <td>Moron</td>\n",
       "      <td>Male</td>\n",
       "      <td>59</td>\n",
       "      <td>170</td>\n",
       "    </tr>\n",
       "    <tr>\n",
       "      <th>6</th>\n",
       "      <td>Rufina</td>\n",
       "      <td>Prados</td>\n",
       "      <td>Female</td>\n",
       "      <td>22</td>\n",
       "      <td>168</td>\n",
       "    </tr>\n",
       "    <tr>\n",
       "      <th>7</th>\n",
       "      <td>Anna</td>\n",
       "      <td>Aliaga</td>\n",
       "      <td>Female</td>\n",
       "      <td>27</td>\n",
       "      <td>178</td>\n",
       "    </tr>\n",
       "    <tr>\n",
       "      <th>8</th>\n",
       "      <td>Aurelia</td>\n",
       "      <td>Ortega</td>\n",
       "      <td>Female</td>\n",
       "      <td>38</td>\n",
       "      <td>192</td>\n",
       "    </tr>\n",
       "    <tr>\n",
       "      <th>9</th>\n",
       "      <td>Emílio</td>\n",
       "      <td>Bautista</td>\n",
       "      <td>Male</td>\n",
       "      <td>40</td>\n",
       "      <td>165</td>\n",
       "    </tr>\n",
       "  </tbody>\n",
       "</table>\n",
       "</div>"
      ],
      "text/plain": [
       "  First Name Last Name  Gender  Age  Height\n",
       "0       Sara  Valverde  Female   67     188\n",
       "1    Melania   Guevara  Female   35     155\n",
       "2   Giovanni  Espinoza    Male   42     181\n",
       "3      Marta  Castillo  Female   24     160\n",
       "4       Juan    Espino    Male   47     193\n",
       "5     Andres     Moron    Male   59     170\n",
       "6     Rufina    Prados  Female   22     168\n",
       "7       Anna    Aliaga  Female   27     178\n",
       "8    Aurelia    Ortega  Female   38     192\n",
       "9     Emílio  Bautista    Male   40     165"
      ]
     },
     "execution_count": 36,
     "metadata": {},
     "output_type": "execute_result"
    }
   ],
   "source": [
    "df = pd.DataFrame()\n",
    "df['First Name'] = ['Sara', 'Melania', 'Giovanni', 'Marta', 'Juan', 'Andres', 'Rufina', 'Anna', 'Aurelia', 'Emílio']\n",
    "df['Last Name'] = ['Valverde', 'Guevara', 'Espinoza', 'Castillo', 'Espino', 'Moron', 'Prados', 'Aliaga', 'Ortega', 'Bautista']\n",
    "df['Gender'] = ['Female', 'Female', 'Male', 'Female', 'Male', 'Male', 'Female', 'Female', 'Female', 'Male']\n",
    "df['Age'] = [67, 35, 42, 24, 47, 59, 22, 27, 38, 40]\n",
    "df['Height'] = [188, 155, 181, 160, 193, 170, 168, 178, 192, 165]\n",
    "\n",
    "df"
   ]
  },
  {
   "cell_type": "markdown",
   "metadata": {},
   "source": [
    "<div class=\"alert alert-success\">\n",
    "\n",
    "**Creación de un DataFrame vacío con columnas**\n",
    "\n",
    "3. Definir un DataFrame que contenga un listado de 4 parámetros de 6 modelos de automóviles (utilizar el método del siguiente ejemplo). \n",
    "</div>\n",
    "\n",
    "Ejemplo:\n",
    "\n",
    "\n",
    "``` python\n",
    "import pandas as pd\n",
    "df = pd.DataFrame()\n",
    "df = pd.DataFrame(columns=['first_name', 'last_name', 'gender'])\n",
    "df = df.append({'first_name': 'Josy', 'last_name':'Clarae', 'gender':'Female'}, ignore_index=True)\n",
    "df = df.append({'first_name': 'Vaughn', 'last_name':'Halegarth', 'gender':'Male'}, ignore_index=True)\n",
    "print(df)\n",
    "\n",
    "\n",
    "  first_name  last_name  gender\n",
    "0       Josy     Clarae  Female\n",
    "1     Vaughn  Halegarth    Male\n",
    "```"
   ]
  },
  {
   "cell_type": "code",
   "execution_count": 37,
   "metadata": {},
   "outputs": [
    {
     "data": {
      "text/html": [
       "<div>\n",
       "<style scoped>\n",
       "    .dataframe tbody tr th:only-of-type {\n",
       "        vertical-align: middle;\n",
       "    }\n",
       "\n",
       "    .dataframe tbody tr th {\n",
       "        vertical-align: top;\n",
       "    }\n",
       "\n",
       "    .dataframe thead th {\n",
       "        text-align: right;\n",
       "    }\n",
       "</style>\n",
       "<table border=\"1\" class=\"dataframe\">\n",
       "  <thead>\n",
       "    <tr style=\"text-align: right;\">\n",
       "      <th></th>\n",
       "      <th>Modelo</th>\n",
       "      <th>Marca</th>\n",
       "      <th>Precio mínimo ($)</th>\n",
       "      <th>Tipo</th>\n",
       "    </tr>\n",
       "  </thead>\n",
       "  <tbody>\n",
       "    <tr>\n",
       "      <th>0</th>\n",
       "      <td>Civic</td>\n",
       "      <td>Honda</td>\n",
       "      <td>545900</td>\n",
       "      <td>Sedán</td>\n",
       "    </tr>\n",
       "    <tr>\n",
       "      <th>1</th>\n",
       "      <td>Ibiza</td>\n",
       "      <td>Seat</td>\n",
       "      <td>324900</td>\n",
       "      <td>Hatchback</td>\n",
       "    </tr>\n",
       "    <tr>\n",
       "      <th>2</th>\n",
       "      <td>Ranger</td>\n",
       "      <td>Ford</td>\n",
       "      <td>801000</td>\n",
       "      <td>Camioneta</td>\n",
       "    </tr>\n",
       "    <tr>\n",
       "      <th>3</th>\n",
       "      <td>Mazda 2</td>\n",
       "      <td>Mazda</td>\n",
       "      <td>304900</td>\n",
       "      <td>Hatchback</td>\n",
       "    </tr>\n",
       "    <tr>\n",
       "      <th>4</th>\n",
       "      <td>EQA</td>\n",
       "      <td>Mercedes Benz</td>\n",
       "      <td>NaN</td>\n",
       "      <td>SUV</td>\n",
       "    </tr>\n",
       "    <tr>\n",
       "      <th>5</th>\n",
       "      <td>A3</td>\n",
       "      <td>Audi</td>\n",
       "      <td>NaN</td>\n",
       "      <td>Sedán</td>\n",
       "    </tr>\n",
       "  </tbody>\n",
       "</table>\n",
       "</div>"
      ],
      "text/plain": [
       "    Modelo          Marca Precio mínimo ($)       Tipo\n",
       "0    Civic          Honda            545900      Sedán\n",
       "1    Ibiza           Seat            324900  Hatchback\n",
       "2   Ranger           Ford            801000  Camioneta\n",
       "3  Mazda 2          Mazda            304900  Hatchback\n",
       "4      EQA  Mercedes Benz               NaN        SUV\n",
       "5       A3           Audi               NaN      Sedán"
      ]
     },
     "execution_count": 37,
     "metadata": {},
     "output_type": "execute_result"
    }
   ],
   "source": [
    "df = pd.DataFrame()\n",
    "df = pd.DataFrame(columns=['Modelo', 'Marca', 'Precio mínimo ($)', 'Tipo'])\n",
    "df = pd.concat([df, pd.DataFrame([{'Modelo': 'Civic', 'Marca': 'Honda', 'Precio mínimo ($)': 545900, 'Tipo': 'Sedán'}])], ignore_index=True)\n",
    "df = pd.concat([df, pd.DataFrame([{'Modelo': 'Ibiza', 'Marca': 'Seat', 'Precio mínimo ($)': 324900, 'Tipo': 'Hatchback'}])], ignore_index=True)\n",
    "df = pd.concat([df, pd.DataFrame([{'Modelo': 'Ranger', 'Marca': 'Ford', 'Precio mínimo ($)': 801000, 'Tipo': 'Camioneta'}])], ignore_index=True)\n",
    "df = pd.concat([df, pd.DataFrame([{'Modelo': 'Mazda 2', 'Marca': 'Mazda', 'Precio mínimo ($)': 304900, 'Tipo': 'Hatchback'}])], ignore_index=True)\n",
    "df = pd.concat([df, pd.DataFrame([{'Modelo': 'EQA', 'Marca': 'Mercedes Benz', 'Tipo': 'SUV'}])], ignore_index=True)\n",
    "df = pd.concat([df, pd.DataFrame([{'Modelo': 'A3', 'Marca': 'Audi', 'Tipo': 'Sedán'}])], ignore_index=True)\n",
    "\n",
    "df"
   ]
  },
  {
   "cell_type": "markdown",
   "metadata": {},
   "source": [
    "<div class=\"alert alert-success\">\n",
    "\n",
    "**Creación de un DataFrame vacío con columnas e índices**\n",
    "\n",
    "4. Definir un DataFrame que contenga un listado de 4 parámetros de 6 modelos de celulares (utilizar el método del siguiente ejemplo). \n",
    "</div>\n",
    "\n",
    "Ejemplo:\n",
    "\n",
    "\n",
    "``` python\n",
    "import pandas as pd\n",
    "df = pd.DataFrame()\n",
    "df = pd.DataFrame(columns=['first_name', 'last_name', 'gender'],index=range(3))\n",
    "df.iloc[0] = ['Josy', 'Clarae', 'Female']\n",
    "df.iloc[1] = ['Vaughn', 'Halegarth', 'Male']\n",
    "df.iloc[2] = ['Neale', 'Georgievski', 'Male']\n",
    "print(df)\n",
    "\n",
    "\n",
    "  first_name  last_name  gender\n",
    "0       Josy     Clarae  Female\n",
    "1     Vaughn  Halegarth    Male\n",
    "```"
   ]
  },
  {
   "cell_type": "code",
   "execution_count": 38,
   "metadata": {},
   "outputs": [
    {
     "data": {
      "text/html": [
       "<div>\n",
       "<style scoped>\n",
       "    .dataframe tbody tr th:only-of-type {\n",
       "        vertical-align: middle;\n",
       "    }\n",
       "\n",
       "    .dataframe tbody tr th {\n",
       "        vertical-align: top;\n",
       "    }\n",
       "\n",
       "    .dataframe thead th {\n",
       "        text-align: right;\n",
       "    }\n",
       "</style>\n",
       "<table border=\"1\" class=\"dataframe\">\n",
       "  <thead>\n",
       "    <tr style=\"text-align: right;\">\n",
       "      <th></th>\n",
       "      <th>Modelo</th>\n",
       "      <th>Marca</th>\n",
       "      <th>RAM (GB)</th>\n",
       "      <th>Capacidad de la batería (mAh</th>\n",
       "    </tr>\n",
       "  </thead>\n",
       "  <tbody>\n",
       "    <tr>\n",
       "      <th>0</th>\n",
       "      <td>Galaxy S23</td>\n",
       "      <td>Samsung</td>\n",
       "      <td>8</td>\n",
       "      <td>3900</td>\n",
       "    </tr>\n",
       "    <tr>\n",
       "      <th>1</th>\n",
       "      <td>Pixel 7</td>\n",
       "      <td>Google</td>\n",
       "      <td>8</td>\n",
       "      <td>4270</td>\n",
       "    </tr>\n",
       "    <tr>\n",
       "      <th>2</th>\n",
       "      <td>Iphone 14</td>\n",
       "      <td>Apple</td>\n",
       "      <td>None</td>\n",
       "      <td>None</td>\n",
       "    </tr>\n",
       "    <tr>\n",
       "      <th>3</th>\n",
       "      <td>Poco X5 Pro 5G</td>\n",
       "      <td>Xiaomi</td>\n",
       "      <td>6</td>\n",
       "      <td>5000</td>\n",
       "    </tr>\n",
       "    <tr>\n",
       "      <th>4</th>\n",
       "      <td>moto g 14</td>\n",
       "      <td>Motorola</td>\n",
       "      <td>4</td>\n",
       "      <td>5000</td>\n",
       "    </tr>\n",
       "    <tr>\n",
       "      <th>5</th>\n",
       "      <td>A54 5G</td>\n",
       "      <td>Samsung</td>\n",
       "      <td>8</td>\n",
       "      <td>5000</td>\n",
       "    </tr>\n",
       "  </tbody>\n",
       "</table>\n",
       "</div>"
      ],
      "text/plain": [
       "           Modelo     Marca RAM (GB) Capacidad de la batería (mAh\n",
       "0      Galaxy S23   Samsung        8                         3900\n",
       "1         Pixel 7    Google        8                         4270\n",
       "2       Iphone 14     Apple     None                         None\n",
       "3  Poco X5 Pro 5G    Xiaomi        6                         5000\n",
       "4       moto g 14  Motorola        4                         5000\n",
       "5          A54 5G   Samsung        8                         5000"
      ]
     },
     "execution_count": 38,
     "metadata": {},
     "output_type": "execute_result"
    }
   ],
   "source": [
    "df = pd.DataFrame(columns=['Modelo', 'Marca', 'RAM (GB)', 'Capacidad de la batería (mAh'],index=range(6))\n",
    "df.iloc[0] = ['Galaxy S23', 'Samsung', 8, 3900]\n",
    "df.iloc[1] = ['Pixel 7', 'Google', 8, 4270]\n",
    "df.iloc[2] = ['Iphone 14', 'Apple', None, None]\n",
    "df.iloc[3] = ['Poco X5 Pro 5G', 'Xiaomi', 6, 5000]\n",
    "df.iloc[4] = ['moto g 14', 'Motorola', 4, 5000]\n",
    "df.iloc[5] = ['A54 5G', 'Samsung', 8, 5000]\n",
    "df"
   ]
  }
 ],
 "metadata": {
  "kernelspec": {
   "display_name": "Python 3 (ipykernel)",
   "language": "python",
   "name": "python3"
  },
  "language_info": {
   "codemirror_mode": {
    "name": "ipython",
    "version": 3
   },
   "file_extension": ".py",
   "mimetype": "text/x-python",
   "name": "python",
   "nbconvert_exporter": "python",
   "pygments_lexer": "ipython3",
   "version": "3.11.4"
  }
 },
 "nbformat": 4,
 "nbformat_minor": 4
}
