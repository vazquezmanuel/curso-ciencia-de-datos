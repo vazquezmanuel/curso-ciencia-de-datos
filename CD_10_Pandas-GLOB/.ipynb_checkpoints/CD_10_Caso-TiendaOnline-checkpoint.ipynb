{
 "cells": [
  {
   "cell_type": "markdown",
   "metadata": {},
   "source": [
    "<!--Información del curso-->\n",
    "<img align=\"left\" style=\"padding-right:10px;\" src=\"figuras/logo_ciencia_datos.png\">"
   ]
  },
  {
   "cell_type": "markdown",
   "metadata": {},
   "source": [
    " \n",
    "<center><h2 style=\"font-size:2em;color:#840700\">   Caso de estudio: Ventas </h4></center>\n",
    "\n",
    "<br>\n",
    "<table>\n",
    "<col width=\"550\">\n",
    "<col width=\"450\">\n",
    "<tr>\n",
    "<td><img src=\"figuras/ventas.jpg\" align=\"left\" style=\"width:400px\"/></td>\n",
    "<td>\n",
    "\n",
    "* **Wes McKinney**, empezó a desarrollar Pandas en el año 2008 mientras trabajaba en *AQR Capital* [https://www.aqr.com/] por la necesidad que tenía de una herramienta flexible de alto rendimiento para realizar análisis cuantitativos en datos financieros. \n",
    "* Antes de dejar AQR convenció a la administración de la empresa de distribuir esta biblioteca bajo licencia de código abierto.\n",
    "* **Pandas** es un acrónimo de **PANel DAta analysiS**\n",
    "   \n",
    "    \n",
    "<br>\n",
    "</td>\n",
    "</tr>\n",
    "</table>"
   ]
  },
  {
   "cell_type": "markdown",
   "metadata": {},
   "source": [
    "## Integrantes\n",
    "\n",
    "Nombre 1: José Manuel Vázquez Ruiz\n",
    "\n",
    "Nombre 2:"
   ]
  },
  {
   "cell_type": "markdown",
   "metadata": {},
   "source": [
    "### Ejercicio\n",
    "\n",
    "Utilzar los archivos \"datos/ventas/*.txt\" para contestar las siguientes preguntas. A continuación el código propuesto para obtener el dataframe:\n",
    "\n",
    "```python\n",
    "import pandas as pd\n",
    "from glob import *\n",
    "\n",
    "files = glob('datos/Ventas/*.txt')\n",
    "df =  pd.concat((pd.read_csv(file) for file in files))\n",
    "df=df.dropna(axis='rows',how='any')\n",
    "df=df[df['Quantity Ordered']!='Quantity Ordered'] \n",
    "```"
   ]
  },
  {
   "cell_type": "markdown",
   "metadata": {},
   "source": [
    "<div class=\"alert alert-success\">\n",
    "    \n",
    "0. Explicar que hace el código de arriba\n",
    "    \n",
    "</div> "
   ]
  },
  {
   "cell_type": "markdown",
   "metadata": {},
   "source": [
    "Después de cargar las librerias necesarias, se crea una lista de strings, en dicha lista está la ruta relativa de todos los archivos con terminación .txt de la carpeta en datos/Ventas. Seguidamente en la siguiente linea se concatenan los dataframes en uno solo, se hace un for implicito el cual crea una lista con dataframes para cada archivo .txt. Lo siguiente que se hizo fue el eliminar cualquier fila que contenga al menos un dato faltante. Por último, se eliminan todas las filas cuya columna 'Quantity Ordered' sea 'Quantity Ordered'."
   ]
  },
  {
   "cell_type": "code",
   "execution_count": 1,
   "metadata": {},
   "outputs": [],
   "source": [
    "import pandas as pd\n",
    "import numpy as np\n",
    "from glob import *"
   ]
  },
  {
   "cell_type": "code",
   "execution_count": 2,
   "metadata": {},
   "outputs": [
    {
     "data": {
      "text/html": [
       "<div>\n",
       "<style scoped>\n",
       "    .dataframe tbody tr th:only-of-type {\n",
       "        vertical-align: middle;\n",
       "    }\n",
       "\n",
       "    .dataframe tbody tr th {\n",
       "        vertical-align: top;\n",
       "    }\n",
       "\n",
       "    .dataframe thead th {\n",
       "        text-align: right;\n",
       "    }\n",
       "</style>\n",
       "<table border=\"1\" class=\"dataframe\">\n",
       "  <thead>\n",
       "    <tr style=\"text-align: right;\">\n",
       "      <th></th>\n",
       "      <th>Order ID</th>\n",
       "      <th>Product</th>\n",
       "      <th>Quantity Ordered</th>\n",
       "      <th>Price Each</th>\n",
       "      <th>Order Date</th>\n",
       "      <th>Purchase Address</th>\n",
       "    </tr>\n",
       "  </thead>\n",
       "  <tbody>\n",
       "    <tr>\n",
       "      <th>0</th>\n",
       "      <td>141234</td>\n",
       "      <td>iPhone</td>\n",
       "      <td>1</td>\n",
       "      <td>700</td>\n",
       "      <td>01/22/19 21:25</td>\n",
       "      <td>944 Walnut St, Boston, MA 02215</td>\n",
       "    </tr>\n",
       "    <tr>\n",
       "      <th>1</th>\n",
       "      <td>141235</td>\n",
       "      <td>Lightning Charging Cable</td>\n",
       "      <td>1</td>\n",
       "      <td>14.95</td>\n",
       "      <td>01/28/19 14:15</td>\n",
       "      <td>185 Maple St, Portland, OR 97035</td>\n",
       "    </tr>\n",
       "    <tr>\n",
       "      <th>2</th>\n",
       "      <td>141236</td>\n",
       "      <td>Wired Headphones</td>\n",
       "      <td>2</td>\n",
       "      <td>11.99</td>\n",
       "      <td>01/17/19 13:33</td>\n",
       "      <td>538 Adams St, San Francisco, CA 94016</td>\n",
       "    </tr>\n",
       "    <tr>\n",
       "      <th>3</th>\n",
       "      <td>141237</td>\n",
       "      <td>27in FHD Monitor</td>\n",
       "      <td>1</td>\n",
       "      <td>149.99</td>\n",
       "      <td>01/05/19 20:33</td>\n",
       "      <td>738 10th St, Los Angeles, CA 90001</td>\n",
       "    </tr>\n",
       "    <tr>\n",
       "      <th>4</th>\n",
       "      <td>141238</td>\n",
       "      <td>Wired Headphones</td>\n",
       "      <td>1</td>\n",
       "      <td>11.99</td>\n",
       "      <td>01/25/19 11:59</td>\n",
       "      <td>387 10th St, Austin, TX 73301</td>\n",
       "    </tr>\n",
       "  </tbody>\n",
       "</table>\n",
       "</div>"
      ],
      "text/plain": [
       "  Order ID                   Product Quantity Ordered Price Each  \\\n",
       "0   141234                    iPhone                1        700   \n",
       "1   141235  Lightning Charging Cable                1      14.95   \n",
       "2   141236          Wired Headphones                2      11.99   \n",
       "3   141237          27in FHD Monitor                1     149.99   \n",
       "4   141238          Wired Headphones                1      11.99   \n",
       "\n",
       "       Order Date                       Purchase Address  \n",
       "0  01/22/19 21:25        944 Walnut St, Boston, MA 02215  \n",
       "1  01/28/19 14:15       185 Maple St, Portland, OR 97035  \n",
       "2  01/17/19 13:33  538 Adams St, San Francisco, CA 94016  \n",
       "3  01/05/19 20:33     738 10th St, Los Angeles, CA 90001  \n",
       "4  01/25/19 11:59          387 10th St, Austin, TX 73301  "
      ]
     },
     "execution_count": 2,
     "metadata": {},
     "output_type": "execute_result"
    }
   ],
   "source": [
    "files = glob('datos/Ventas/*.txt')\n",
    "df = pd.concat((pd.read_csv(file) for file in files))\n",
    "df = df.dropna(axis='rows',how='any')\n",
    "df = df[df['Quantity Ordered']!='Quantity Ordered']\n",
    "df.head()"
   ]
  },
  {
   "cell_type": "code",
   "execution_count": 3,
   "metadata": {},
   "outputs": [
    {
     "data": {
      "text/plain": [
       "Order ID            object\n",
       "Product             object\n",
       "Quantity Ordered    object\n",
       "Price Each          object\n",
       "Order Date          object\n",
       "Purchase Address    object\n",
       "dtype: object"
      ]
     },
     "execution_count": 3,
     "metadata": {},
     "output_type": "execute_result"
    }
   ],
   "source": [
    "df.dtypes"
   ]
  },
  {
   "cell_type": "code",
   "execution_count": 4,
   "metadata": {},
   "outputs": [
    {
     "name": "stdout",
     "output_type": "stream",
     "text": [
      "Order ID                     int64\n",
      "Product                     object\n",
      "Quantity Ordered             int64\n",
      "Price Each                 float64\n",
      "Order Date          datetime64[ns]\n",
      "Purchase Address            object\n",
      "dtype: object\n"
     ]
    }
   ],
   "source": [
    "# Se observa que las columnas son de tipo: Objeto, se transformará las que sean necesaria\n",
    "df['Order ID'] = df['Order ID'].apply(np.int64)\n",
    "df['Quantity Ordered'] = df['Quantity Ordered'].apply(np.int64)\n",
    "df['Price Each'] = df['Price Each'].apply(np.float64)\n",
    "df['Order Date'] = pd.to_datetime(df['Order Date'], format= '%m/%d/%y %H:%M')\n",
    "print(df.dtypes)"
   ]
  },
  {
   "cell_type": "code",
   "execution_count": 5,
   "metadata": {},
   "outputs": [
    {
     "data": {
      "text/html": [
       "<div>\n",
       "<style scoped>\n",
       "    .dataframe tbody tr th:only-of-type {\n",
       "        vertical-align: middle;\n",
       "    }\n",
       "\n",
       "    .dataframe tbody tr th {\n",
       "        vertical-align: top;\n",
       "    }\n",
       "\n",
       "    .dataframe thead th {\n",
       "        text-align: right;\n",
       "    }\n",
       "</style>\n",
       "<table border=\"1\" class=\"dataframe\">\n",
       "  <thead>\n",
       "    <tr style=\"text-align: right;\">\n",
       "      <th></th>\n",
       "      <th>Order ID</th>\n",
       "      <th>Product</th>\n",
       "      <th>Quantity Ordered</th>\n",
       "      <th>Price Each</th>\n",
       "      <th>Purchase Address</th>\n",
       "    </tr>\n",
       "    <tr>\n",
       "      <th>Order Date</th>\n",
       "      <th></th>\n",
       "      <th></th>\n",
       "      <th></th>\n",
       "      <th></th>\n",
       "      <th></th>\n",
       "    </tr>\n",
       "  </thead>\n",
       "  <tbody>\n",
       "    <tr>\n",
       "      <th>2019-01-01 03:07:00</th>\n",
       "      <td>147268</td>\n",
       "      <td>Wired Headphones</td>\n",
       "      <td>1</td>\n",
       "      <td>11.99</td>\n",
       "      <td>9 Lake St, New York City, NY 10001</td>\n",
       "    </tr>\n",
       "    <tr>\n",
       "      <th>2019-01-01 03:40:00</th>\n",
       "      <td>148041</td>\n",
       "      <td>USB-C Charging Cable</td>\n",
       "      <td>1</td>\n",
       "      <td>11.95</td>\n",
       "      <td>760 Church St, San Francisco, CA 94016</td>\n",
       "    </tr>\n",
       "    <tr>\n",
       "      <th>2019-01-01 04:56:00</th>\n",
       "      <td>149343</td>\n",
       "      <td>Apple Airpods Headphones</td>\n",
       "      <td>1</td>\n",
       "      <td>150.00</td>\n",
       "      <td>735 5th St, New York City, NY 10001</td>\n",
       "    </tr>\n",
       "    <tr>\n",
       "      <th>2019-01-01 05:53:00</th>\n",
       "      <td>149964</td>\n",
       "      <td>AAA Batteries (4-pack)</td>\n",
       "      <td>1</td>\n",
       "      <td>2.99</td>\n",
       "      <td>75 Jackson St, Dallas, TX 75001</td>\n",
       "    </tr>\n",
       "    <tr>\n",
       "      <th>2019-01-01 06:03:00</th>\n",
       "      <td>149350</td>\n",
       "      <td>USB-C Charging Cable</td>\n",
       "      <td>2</td>\n",
       "      <td>11.95</td>\n",
       "      <td>943 2nd St, Atlanta, GA 30301</td>\n",
       "    </tr>\n",
       "    <tr>\n",
       "      <th>...</th>\n",
       "      <td>...</td>\n",
       "      <td>...</td>\n",
       "      <td>...</td>\n",
       "      <td>...</td>\n",
       "      <td>...</td>\n",
       "    </tr>\n",
       "    <tr>\n",
       "      <th>2020-01-01 04:13:00</th>\n",
       "      <td>304165</td>\n",
       "      <td>AAA Batteries (4-pack)</td>\n",
       "      <td>1</td>\n",
       "      <td>2.99</td>\n",
       "      <td>825 Adams St, Portland, OR 97035</td>\n",
       "    </tr>\n",
       "    <tr>\n",
       "      <th>2020-01-01 04:21:00</th>\n",
       "      <td>299125</td>\n",
       "      <td>USB-C Charging Cable</td>\n",
       "      <td>1</td>\n",
       "      <td>11.95</td>\n",
       "      <td>754 Hickory St, New York City, NY 10001</td>\n",
       "    </tr>\n",
       "    <tr>\n",
       "      <th>2020-01-01 04:54:00</th>\n",
       "      <td>305840</td>\n",
       "      <td>Bose SoundSport Headphones</td>\n",
       "      <td>1</td>\n",
       "      <td>99.99</td>\n",
       "      <td>784 River St, San Francisco, CA 94016</td>\n",
       "    </tr>\n",
       "    <tr>\n",
       "      <th>2020-01-01 05:13:00</th>\n",
       "      <td>300519</td>\n",
       "      <td>Lightning Charging Cable</td>\n",
       "      <td>1</td>\n",
       "      <td>14.95</td>\n",
       "      <td>657 Spruce St, New York City, NY 10001</td>\n",
       "    </tr>\n",
       "    <tr>\n",
       "      <th>2020-01-01 05:13:00</th>\n",
       "      <td>300519</td>\n",
       "      <td>Bose SoundSport Headphones</td>\n",
       "      <td>1</td>\n",
       "      <td>99.99</td>\n",
       "      <td>657 Spruce St, New York City, NY 10001</td>\n",
       "    </tr>\n",
       "  </tbody>\n",
       "</table>\n",
       "<p>185950 rows × 5 columns</p>\n",
       "</div>"
      ],
      "text/plain": [
       "                     Order ID                     Product  Quantity Ordered  \\\n",
       "Order Date                                                                    \n",
       "2019-01-01 03:07:00    147268            Wired Headphones                 1   \n",
       "2019-01-01 03:40:00    148041        USB-C Charging Cable                 1   \n",
       "2019-01-01 04:56:00    149343    Apple Airpods Headphones                 1   \n",
       "2019-01-01 05:53:00    149964      AAA Batteries (4-pack)                 1   \n",
       "2019-01-01 06:03:00    149350        USB-C Charging Cable                 2   \n",
       "...                       ...                         ...               ...   \n",
       "2020-01-01 04:13:00    304165      AAA Batteries (4-pack)                 1   \n",
       "2020-01-01 04:21:00    299125        USB-C Charging Cable                 1   \n",
       "2020-01-01 04:54:00    305840  Bose SoundSport Headphones                 1   \n",
       "2020-01-01 05:13:00    300519    Lightning Charging Cable                 1   \n",
       "2020-01-01 05:13:00    300519  Bose SoundSport Headphones                 1   \n",
       "\n",
       "                     Price Each                         Purchase Address  \n",
       "Order Date                                                                \n",
       "2019-01-01 03:07:00       11.99       9 Lake St, New York City, NY 10001  \n",
       "2019-01-01 03:40:00       11.95   760 Church St, San Francisco, CA 94016  \n",
       "2019-01-01 04:56:00      150.00      735 5th St, New York City, NY 10001  \n",
       "2019-01-01 05:53:00        2.99          75 Jackson St, Dallas, TX 75001  \n",
       "2019-01-01 06:03:00       11.95            943 2nd St, Atlanta, GA 30301  \n",
       "...                         ...                                      ...  \n",
       "2020-01-01 04:13:00        2.99         825 Adams St, Portland, OR 97035  \n",
       "2020-01-01 04:21:00       11.95  754 Hickory St, New York City, NY 10001  \n",
       "2020-01-01 04:54:00       99.99    784 River St, San Francisco, CA 94016  \n",
       "2020-01-01 05:13:00       14.95   657 Spruce St, New York City, NY 10001  \n",
       "2020-01-01 05:13:00       99.99   657 Spruce St, New York City, NY 10001  \n",
       "\n",
       "[185950 rows x 5 columns]"
      ]
     },
     "execution_count": 5,
     "metadata": {},
     "output_type": "execute_result"
    }
   ],
   "source": [
    "# Por último, se pone a la fecha de compra como el índice y se ordenan los datos\n",
    "df = df.set_index('Order Date').sort_index()\n",
    "df"
   ]
  },
  {
   "cell_type": "markdown",
   "metadata": {},
   "source": [
    "<div class=\"alert alert-success\">\n",
    "    \n",
    "1. Encuentre el número de productos que se adquirieron en Los Angeles, CA\n",
    "    \n",
    "</div> "
   ]
  },
  {
   "cell_type": "code",
   "execution_count": 6,
   "metadata": {},
   "outputs": [],
   "source": [
    "def string_in_string(string_df, string):\n",
    "    if string in string_df:\n",
    "        return True\n",
    "    return False"
   ]
  },
  {
   "cell_type": "code",
   "execution_count": 7,
   "metadata": {},
   "outputs": [
    {
     "data": {
      "text/plain": [
       "Order Date\n",
       "2019-01-01 03:07:00    False\n",
       "2019-01-01 03:40:00    False\n",
       "2019-01-01 04:56:00    False\n",
       "2019-01-01 05:53:00    False\n",
       "2019-01-01 06:03:00    False\n",
       "                       ...  \n",
       "2020-01-01 04:13:00    False\n",
       "2020-01-01 04:21:00    False\n",
       "2020-01-01 04:54:00    False\n",
       "2020-01-01 05:13:00    False\n",
       "2020-01-01 05:13:00    False\n",
       "Name: Purchase Address, Length: 185950, dtype: bool"
      ]
     },
     "execution_count": 7,
     "metadata": {},
     "output_type": "execute_result"
    }
   ],
   "source": [
    "mask_los_angeles = df['Purchase Address'].apply(string_in_string, string='Los Angeles, CA')\n",
    "mask_los_angeles"
   ]
  },
  {
   "cell_type": "code",
   "execution_count": 8,
   "metadata": {},
   "outputs": [
    {
     "name": "stdout",
     "output_type": "stream",
     "text": [
      "Fueron 29605 ordenes\n",
      "Se vendierons 33289 unidades\n"
     ]
    }
   ],
   "source": [
    "print('Fueron', mask_los_angeles.sum(), 'ordenes')\n",
    "print('Se vendierons', df[mask_los_angeles]['Quantity Ordered'].sum(), 'unidades')"
   ]
  },
  {
   "cell_type": "markdown",
   "metadata": {},
   "source": [
    "<div class=\"alert alert-success\">\n",
    "\n",
    "2. ¿Cuántos iPhone se vendieron?\n",
    "\n",
    "    \n",
    "</div>"
   ]
  },
  {
   "cell_type": "code",
   "execution_count": 9,
   "metadata": {},
   "outputs": [
    {
     "name": "stdout",
     "output_type": "stream",
     "text": [
      "Se hicieron 6842 ordenes de iPhone\n",
      "Se vendieron 6849 iPhones\n"
     ]
    }
   ],
   "source": [
    "print('Se hicieron', (df['Product'] == 'iPhone').sum(), 'ordenes de iPhone')\n",
    "print('Se vendieron', df[df['Product'] == 'iPhone']['Quantity Ordered'].sum(), 'iPhones')"
   ]
  },
  {
   "cell_type": "markdown",
   "metadata": {},
   "source": [
    "<div class=\"alert alert-success\">\n",
    "    \n",
    "3. ¿Cuánto fue su ganancia por venta de baterías? \n",
    "    \n",
    "</div> "
   ]
  },
  {
   "cell_type": "code",
   "execution_count": 10,
   "metadata": {},
   "outputs": [
    {
     "data": {
      "text/html": [
       "<div>\n",
       "<style scoped>\n",
       "    .dataframe tbody tr th:only-of-type {\n",
       "        vertical-align: middle;\n",
       "    }\n",
       "\n",
       "    .dataframe tbody tr th {\n",
       "        vertical-align: top;\n",
       "    }\n",
       "\n",
       "    .dataframe thead th {\n",
       "        text-align: right;\n",
       "    }\n",
       "</style>\n",
       "<table border=\"1\" class=\"dataframe\">\n",
       "  <thead>\n",
       "    <tr style=\"text-align: right;\">\n",
       "      <th></th>\n",
       "      <th>Order ID</th>\n",
       "      <th>Product</th>\n",
       "      <th>Quantity Ordered</th>\n",
       "      <th>Price Each</th>\n",
       "      <th>Purchase Address</th>\n",
       "      <th>Total Price</th>\n",
       "    </tr>\n",
       "    <tr>\n",
       "      <th>Order Date</th>\n",
       "      <th></th>\n",
       "      <th></th>\n",
       "      <th></th>\n",
       "      <th></th>\n",
       "      <th></th>\n",
       "      <th></th>\n",
       "    </tr>\n",
       "  </thead>\n",
       "  <tbody>\n",
       "    <tr>\n",
       "      <th>2019-01-01 03:07:00</th>\n",
       "      <td>147268</td>\n",
       "      <td>Wired Headphones</td>\n",
       "      <td>1</td>\n",
       "      <td>11.99</td>\n",
       "      <td>9 Lake St, New York City, NY 10001</td>\n",
       "      <td>11.99</td>\n",
       "    </tr>\n",
       "    <tr>\n",
       "      <th>2019-01-01 03:40:00</th>\n",
       "      <td>148041</td>\n",
       "      <td>USB-C Charging Cable</td>\n",
       "      <td>1</td>\n",
       "      <td>11.95</td>\n",
       "      <td>760 Church St, San Francisco, CA 94016</td>\n",
       "      <td>11.95</td>\n",
       "    </tr>\n",
       "    <tr>\n",
       "      <th>2019-01-01 04:56:00</th>\n",
       "      <td>149343</td>\n",
       "      <td>Apple Airpods Headphones</td>\n",
       "      <td>1</td>\n",
       "      <td>150.00</td>\n",
       "      <td>735 5th St, New York City, NY 10001</td>\n",
       "      <td>150.00</td>\n",
       "    </tr>\n",
       "    <tr>\n",
       "      <th>2019-01-01 05:53:00</th>\n",
       "      <td>149964</td>\n",
       "      <td>AAA Batteries (4-pack)</td>\n",
       "      <td>1</td>\n",
       "      <td>2.99</td>\n",
       "      <td>75 Jackson St, Dallas, TX 75001</td>\n",
       "      <td>2.99</td>\n",
       "    </tr>\n",
       "    <tr>\n",
       "      <th>2019-01-01 06:03:00</th>\n",
       "      <td>149350</td>\n",
       "      <td>USB-C Charging Cable</td>\n",
       "      <td>2</td>\n",
       "      <td>11.95</td>\n",
       "      <td>943 2nd St, Atlanta, GA 30301</td>\n",
       "      <td>23.90</td>\n",
       "    </tr>\n",
       "  </tbody>\n",
       "</table>\n",
       "</div>"
      ],
      "text/plain": [
       "                     Order ID                   Product  Quantity Ordered  \\\n",
       "Order Date                                                                  \n",
       "2019-01-01 03:07:00    147268          Wired Headphones                 1   \n",
       "2019-01-01 03:40:00    148041      USB-C Charging Cable                 1   \n",
       "2019-01-01 04:56:00    149343  Apple Airpods Headphones                 1   \n",
       "2019-01-01 05:53:00    149964    AAA Batteries (4-pack)                 1   \n",
       "2019-01-01 06:03:00    149350      USB-C Charging Cable                 2   \n",
       "\n",
       "                     Price Each                        Purchase Address  \\\n",
       "Order Date                                                                \n",
       "2019-01-01 03:07:00       11.99      9 Lake St, New York City, NY 10001   \n",
       "2019-01-01 03:40:00       11.95  760 Church St, San Francisco, CA 94016   \n",
       "2019-01-01 04:56:00      150.00     735 5th St, New York City, NY 10001   \n",
       "2019-01-01 05:53:00        2.99         75 Jackson St, Dallas, TX 75001   \n",
       "2019-01-01 06:03:00       11.95           943 2nd St, Atlanta, GA 30301   \n",
       "\n",
       "                     Total Price  \n",
       "Order Date                        \n",
       "2019-01-01 03:07:00        11.99  \n",
       "2019-01-01 03:40:00        11.95  \n",
       "2019-01-01 04:56:00       150.00  \n",
       "2019-01-01 05:53:00         2.99  \n",
       "2019-01-01 06:03:00        23.90  "
      ]
     },
     "execution_count": 10,
     "metadata": {},
     "output_type": "execute_result"
    }
   ],
   "source": [
    "df['Total Price'] = df['Quantity Ordered'] * df['Price Each']\n",
    "df.head()"
   ]
  },
  {
   "cell_type": "code",
   "execution_count": 11,
   "metadata": {},
   "outputs": [
    {
     "data": {
      "text/plain": [
       "Order Date\n",
       "2019-01-01 03:07:00    False\n",
       "2019-01-01 03:40:00    False\n",
       "2019-01-01 04:56:00    False\n",
       "2019-01-01 05:53:00     True\n",
       "2019-01-01 06:03:00    False\n",
       "                       ...  \n",
       "2020-01-01 04:13:00     True\n",
       "2020-01-01 04:21:00    False\n",
       "2020-01-01 04:54:00    False\n",
       "2020-01-01 05:13:00    False\n",
       "2020-01-01 05:13:00    False\n",
       "Name: Product, Length: 185950, dtype: bool"
      ]
     },
     "execution_count": 11,
     "metadata": {},
     "output_type": "execute_result"
    }
   ],
   "source": [
    "mask_batteries = df['Product'].apply(string_in_string, string='Batteries')\n",
    "mask_batteries"
   ]
  },
  {
   "cell_type": "code",
   "execution_count": 12,
   "metadata": {},
   "outputs": [
    {
     "name": "stdout",
     "output_type": "stream",
     "text": [
      "Las ventas de las baterias ascienden a 198859.23 unidades de la moneda trabajada\n"
     ]
    }
   ],
   "source": [
    "print('Las ventas de las baterias ascienden a', round(df[mask_batteries]['Total Price'].sum(), 2), 'unidades de la moneda trabajada')"
   ]
  },
  {
   "cell_type": "markdown",
   "metadata": {},
   "source": [
    "<div class=\"alert alert-success\">\n",
    "    \n",
    "4. ¿Cuál fue el código postal que más ordenes realizó?\n",
    "\n",
    "    \n",
    "</div> "
   ]
  },
  {
   "cell_type": "code",
   "execution_count": 13,
   "metadata": {},
   "outputs": [
    {
     "data": {
      "text/html": [
       "<div>\n",
       "<style scoped>\n",
       "    .dataframe tbody tr th:only-of-type {\n",
       "        vertical-align: middle;\n",
       "    }\n",
       "\n",
       "    .dataframe tbody tr th {\n",
       "        vertical-align: top;\n",
       "    }\n",
       "\n",
       "    .dataframe thead th {\n",
       "        text-align: right;\n",
       "    }\n",
       "</style>\n",
       "<table border=\"1\" class=\"dataframe\">\n",
       "  <thead>\n",
       "    <tr style=\"text-align: right;\">\n",
       "      <th></th>\n",
       "      <th>Order ID</th>\n",
       "      <th>Product</th>\n",
       "      <th>Quantity Ordered</th>\n",
       "      <th>Price Each</th>\n",
       "      <th>Purchase Address</th>\n",
       "      <th>Total Price</th>\n",
       "      <th>Zip Code</th>\n",
       "    </tr>\n",
       "    <tr>\n",
       "      <th>Order Date</th>\n",
       "      <th></th>\n",
       "      <th></th>\n",
       "      <th></th>\n",
       "      <th></th>\n",
       "      <th></th>\n",
       "      <th></th>\n",
       "      <th></th>\n",
       "    </tr>\n",
       "  </thead>\n",
       "  <tbody>\n",
       "    <tr>\n",
       "      <th>2019-01-01 03:07:00</th>\n",
       "      <td>147268</td>\n",
       "      <td>Wired Headphones</td>\n",
       "      <td>1</td>\n",
       "      <td>11.99</td>\n",
       "      <td>9 Lake St, New York City, NY 10001</td>\n",
       "      <td>11.99</td>\n",
       "      <td>10001</td>\n",
       "    </tr>\n",
       "    <tr>\n",
       "      <th>2019-01-01 03:40:00</th>\n",
       "      <td>148041</td>\n",
       "      <td>USB-C Charging Cable</td>\n",
       "      <td>1</td>\n",
       "      <td>11.95</td>\n",
       "      <td>760 Church St, San Francisco, CA 94016</td>\n",
       "      <td>11.95</td>\n",
       "      <td>94016</td>\n",
       "    </tr>\n",
       "    <tr>\n",
       "      <th>2019-01-01 04:56:00</th>\n",
       "      <td>149343</td>\n",
       "      <td>Apple Airpods Headphones</td>\n",
       "      <td>1</td>\n",
       "      <td>150.00</td>\n",
       "      <td>735 5th St, New York City, NY 10001</td>\n",
       "      <td>150.00</td>\n",
       "      <td>10001</td>\n",
       "    </tr>\n",
       "    <tr>\n",
       "      <th>2019-01-01 05:53:00</th>\n",
       "      <td>149964</td>\n",
       "      <td>AAA Batteries (4-pack)</td>\n",
       "      <td>1</td>\n",
       "      <td>2.99</td>\n",
       "      <td>75 Jackson St, Dallas, TX 75001</td>\n",
       "      <td>2.99</td>\n",
       "      <td>75001</td>\n",
       "    </tr>\n",
       "    <tr>\n",
       "      <th>2019-01-01 06:03:00</th>\n",
       "      <td>149350</td>\n",
       "      <td>USB-C Charging Cable</td>\n",
       "      <td>2</td>\n",
       "      <td>11.95</td>\n",
       "      <td>943 2nd St, Atlanta, GA 30301</td>\n",
       "      <td>23.90</td>\n",
       "      <td>30301</td>\n",
       "    </tr>\n",
       "  </tbody>\n",
       "</table>\n",
       "</div>"
      ],
      "text/plain": [
       "                     Order ID                   Product  Quantity Ordered  \\\n",
       "Order Date                                                                  \n",
       "2019-01-01 03:07:00    147268          Wired Headphones                 1   \n",
       "2019-01-01 03:40:00    148041      USB-C Charging Cable                 1   \n",
       "2019-01-01 04:56:00    149343  Apple Airpods Headphones                 1   \n",
       "2019-01-01 05:53:00    149964    AAA Batteries (4-pack)                 1   \n",
       "2019-01-01 06:03:00    149350      USB-C Charging Cable                 2   \n",
       "\n",
       "                     Price Each                        Purchase Address  \\\n",
       "Order Date                                                                \n",
       "2019-01-01 03:07:00       11.99      9 Lake St, New York City, NY 10001   \n",
       "2019-01-01 03:40:00       11.95  760 Church St, San Francisco, CA 94016   \n",
       "2019-01-01 04:56:00      150.00     735 5th St, New York City, NY 10001   \n",
       "2019-01-01 05:53:00        2.99         75 Jackson St, Dallas, TX 75001   \n",
       "2019-01-01 06:03:00       11.95           943 2nd St, Atlanta, GA 30301   \n",
       "\n",
       "                     Total Price Zip Code  \n",
       "Order Date                                 \n",
       "2019-01-01 03:07:00        11.99    10001  \n",
       "2019-01-01 03:40:00        11.95    94016  \n",
       "2019-01-01 04:56:00       150.00    10001  \n",
       "2019-01-01 05:53:00         2.99    75001  \n",
       "2019-01-01 06:03:00        23.90    30301  "
      ]
     },
     "execution_count": 13,
     "metadata": {},
     "output_type": "execute_result"
    }
   ],
   "source": [
    "# Obteniendo el codigo postal en una serie del DataFrame\n",
    "df['Zip Code'] = df['Purchase Address'].apply(lambda address: address.split(' ')[-1])\n",
    "df.head()"
   ]
  },
  {
   "cell_type": "code",
   "execution_count": 14,
   "metadata": {},
   "outputs": [
    {
     "name": "stdout",
     "output_type": "stream",
     "text": [
      "El código postal que más ordenes realizó fue: 94016\n"
     ]
    }
   ],
   "source": [
    "print('El código postal que más ordenes realizó fue:', df['Zip Code'].value_counts().index[0])"
   ]
  },
  {
   "cell_type": "markdown",
   "metadata": {},
   "source": [
    "<div class=\"alert alert-success\">\n",
    "    \n",
    "5.  a) ¿Cuál fue el producto con más ganancias?\n",
    "    \n",
    "    b) ¿Cuál fue el producto con más unidades vendidas?\n",
    "\n",
    "    \n",
    "</div> "
   ]
  },
  {
   "cell_type": "code",
   "execution_count": 46,
   "metadata": {},
   "outputs": [
    {
     "name": "stdout",
     "output_type": "stream",
     "text": [
      "El producto con más ganancias fue:\n",
      "Macbook Pro Laptop\n"
     ]
    }
   ],
   "source": [
    "print('El producto con más ganancias fue:')\n",
    "print(df.groupby('Product')['Total Price'].sum().sort_values().index[-1])"
   ]
  },
  {
   "cell_type": "code",
   "execution_count": 47,
   "metadata": {},
   "outputs": [
    {
     "name": "stdout",
     "output_type": "stream",
     "text": [
      "El producto con más unidades vendidas fue:\n",
      "AAA Batteries (4-pack)\n"
     ]
    }
   ],
   "source": [
    "print('El producto con más unidades vendidas fue:')\n",
    "print(df.groupby('Product')['Quantity Ordered'].sum().sort_values().index[-1])"
   ]
  },
  {
   "cell_type": "markdown",
   "metadata": {},
   "source": [
    "<div class=\"alert alert-success\">\n",
    "    \n",
    "6. ¿Cuales son los 5 productos más vendidos?     \n",
    "</div> "
   ]
  },
  {
   "cell_type": "code",
   "execution_count": 32,
   "metadata": {},
   "outputs": [
    {
     "name": "stdout",
     "output_type": "stream",
     "text": [
      "Los 5 productos con más ordenes ejecutadas, en orden descendente, son:\n",
      "- USB-C Charging Cable\n",
      "- Lightning Charging Cable\n",
      "- AAA Batteries (4-pack)\n",
      "- AA Batteries (4-pack)\n",
      "- Wired Headphones\n"
     ]
    }
   ],
   "source": [
    "print('Los 5 productos con más ordenes ejecutadas, en orden descendente, son:')\n",
    "for product in df['Product'].value_counts().index[:5]:\n",
    "    print('-', product)"
   ]
  },
  {
   "cell_type": "code",
   "execution_count": 33,
   "metadata": {},
   "outputs": [
    {
     "name": "stdout",
     "output_type": "stream",
     "text": [
      "Los 5 productos con más unidades vendidas, en orden descendente, son:\n",
      "- AAA Batteries (4-pack)\n",
      "- AA Batteries (4-pack)\n",
      "- USB-C Charging Cable\n",
      "- Lightning Charging Cable\n",
      "- Wired Headphones\n"
     ]
    }
   ],
   "source": [
    "print('Los 5 productos con más unidades vendidas, en orden descendente, son:')\n",
    "for product in df.groupby('Product')['Quantity Ordered'].sum().sort_values(ascending=False).index[:5]:\n",
    "    print('-', product)"
   ]
  },
  {
   "cell_type": "markdown",
   "metadata": {},
   "source": [
    "<div class=\"alert alert-success\">\n",
    "    \n",
    "7.  ¿Cuales son los 5 productos con las ganancias más altas?\n",
    "\n",
    "    \n",
    "</div> "
   ]
  },
  {
   "cell_type": "code",
   "execution_count": 34,
   "metadata": {},
   "outputs": [
    {
     "name": "stdout",
     "output_type": "stream",
     "text": [
      "Los 5 productos con las ganancias más altas, en orden descendente son:\n",
      "- Macbook Pro Laptop\n",
      "- iPhone\n",
      "- ThinkPad Laptop\n",
      "- Google Phone\n",
      "- 27in 4K Gaming Monitor\n"
     ]
    }
   ],
   "source": [
    "print('Los 5 productos con las ganancias más altas, en orden descendente son:')\n",
    "for product in df.groupby('Product')['Total Price'].sum().sort_values(ascending=False).index[:5]:\n",
    "    print('-', product)"
   ]
  },
  {
   "cell_type": "markdown",
   "metadata": {},
   "source": [
    "<div class=\"alert alert-success\">\n",
    "    \n",
    "8. ¿A qué hora recomendaría mostrar anuncios para maximizar la probabilidad de que el cliente compre un producto?     \n",
    "</div> "
   ]
  },
  {
   "cell_type": "code",
   "execution_count": 20,
   "metadata": {},
   "outputs": [
    {
     "data": {
      "text/plain": [
       "Order Date\n",
       "0      3910\n",
       "1      2350\n",
       "2      1243\n",
       "3       831\n",
       "4       854\n",
       "5      1321\n",
       "6      2482\n",
       "7      4011\n",
       "8      6256\n",
       "9      8748\n",
       "10    10944\n",
       "11    12411\n",
       "12    12587\n",
       "13    12129\n",
       "14    10984\n",
       "15    10175\n",
       "16    10384\n",
       "17    10899\n",
       "18    12280\n",
       "19    12905\n",
       "20    12228\n",
       "21    10921\n",
       "22     8822\n",
       "23     6275\n",
       "Name: Order ID, dtype: int64"
      ]
     },
     "execution_count": 20,
     "metadata": {},
     "output_type": "execute_result"
    }
   ],
   "source": [
    "hour_series = df.groupby(df.index.hour).count()['Order ID']\n",
    "hour_series"
   ]
  },
  {
   "cell_type": "code",
   "execution_count": 21,
   "metadata": {},
   "outputs": [
    {
     "data": {
      "text/plain": [
       "<Axes: xlabel='Order Date'>"
      ]
     },
     "execution_count": 21,
     "metadata": {},
     "output_type": "execute_result"
    },
    {
     "data": {
      "image/png": "[encoded data removed]",
      "text/plain": [
       "<Figure size 640x480 with 1 Axes>"
      ]
     },
     "metadata": {},
     "output_type": "display_data"
    }
   ],
   "source": [
    "hour_series.plot()"
   ]
  },
  {
   "cell_type": "code",
   "execution_count": 48,
   "metadata": {},
   "outputs": [
    {
     "name": "stdout",
     "output_type": "stream",
     "text": [
      "A las 19 horas se realizaron la mayor cantidad de compras (ordenes), por lo que es la mejor hora para mostrar anuncios.\n"
     ]
    }
   ],
   "source": [
    "print('A las', hour_series.sort_values().index[-1], 'horas se realizaron la mayor cantidad de compras (ordenes), por lo que es la mejor hora para mostrar anuncios.')"
   ]
  },
  {
   "cell_type": "code",
   "execution_count": 40,
   "metadata": {},
   "outputs": [
    {
     "data": {
      "text/plain": [
       "<Axes: xlabel='Order Date'>"
      ]
     },
     "execution_count": 40,
     "metadata": {},
     "output_type": "execute_result"
    },
    {
     "data": {
      "image/png": "[encoded data removed]",
      "text/plain": [
       "<Figure size 640x480 with 1 Axes>"
      ]
     },
     "metadata": {},
     "output_type": "display_data"
    }
   ],
   "source": [
    "df.groupby(df.index.hour)['Total Price'].sum().plot()"
   ]
  },
  {
   "cell_type": "code",
   "execution_count": 49,
   "metadata": {},
   "outputs": [
    {
     "name": "stdout",
     "output_type": "stream",
     "text": [
      "Si se analizan las ganancias, la mejor hora para poner anuncios son las 19 horas.\n",
      "Se reafirma entonces la mejor hora para poner anuncios\n"
     ]
    }
   ],
   "source": [
    "print('Si se analizan las ganancias, la mejor hora para poner anuncios son las', df.groupby(df.index.hour)['Total Price'].sum().sort_values().index[-1], 'horas.')\n",
    "print('Se reafirma entonces la mejor hora para poner anuncios')"
   ]
  },
  {
   "cell_type": "markdown",
   "metadata": {},
   "source": [
    "<div class=\"alert alert-success\">\n",
    "    \n",
    " 9. \n",
    "    a) ¿Cuál es el día de más ganancias por cada mes?\n",
    "    \n",
    "    b) ¿Cuál es el mes con más ganancias y el de menos ganancias?\n",
    "    \n",
    "</div> "
   ]
  },
  {
   "cell_type": "code",
   "execution_count": 45,
   "metadata": {},
   "outputs": [
    {
     "data": {
      "text/plain": [
       "Order Date\n",
       "2019-01-01     65681.94\n",
       "2019-01-02     70813.20\n",
       "2019-01-03     47046.20\n",
       "2019-01-04     62012.21\n",
       "2019-01-05     46524.63\n",
       "                ...    \n",
       "2019-12-28    134015.50\n",
       "2019-12-29    156024.62\n",
       "2019-12-30    152319.81\n",
       "2019-12-31    131454.30\n",
       "2020-01-01      8670.29\n",
       "Freq: D, Name: Total Price, Length: 366, dtype: float64"
      ]
     },
     "execution_count": 45,
     "metadata": {},
     "output_type": "execute_result"
    }
   ],
   "source": [
    "df_day = df['Total Price'].resample('D').sum()\n",
    "df_day"
   ]
  },
  {
   "cell_type": "code",
   "execution_count": 50,
   "metadata": {},
   "outputs": [
    {
     "name": "stdout",
     "output_type": "stream",
     "text": [
      "El día con más ganancias por mes fue:\n",
      "Mes 1 : 11\n",
      "Mes 2 : 8\n",
      "Mes 3 : 22\n",
      "Mes 4 : 24\n",
      "Mes 5 : 26\n",
      "Mes 6 : 9\n",
      "Mes 7 : 21\n",
      "Mes 8 : 10\n",
      "Mes 9 : 9\n",
      "Mes 10 : 6\n",
      "Mes 11 : 24\n",
      "Mes 12 : 4\n"
     ]
    }
   ],
   "source": [
    "print('El día con más ganancias por mes fue:')\n",
    "for i in range(1,13):\n",
    "    print('Mes', i, ':', df_day[df_day.index.month == i].sort_values().index[-1].day)"
   ]
  },
  {
   "cell_type": "code",
   "execution_count": 51,
   "metadata": {},
   "outputs": [
    {
     "name": "stdout",
     "output_type": "stream",
     "text": [
      "El mes con mayor gananacias fue el: 12\n"
     ]
    }
   ],
   "source": [
    "print('El mes con mayor gananacias fue el:', df['Total Price'].resample('M').sum().sort_values().index[-1].month)"
   ]
  },
  {
   "cell_type": "code",
   "execution_count": 52,
   "metadata": {},
   "outputs": [
    {
     "name": "stdout",
     "output_type": "stream",
     "text": [
      "El mes con menor gananacias fue el: 1\n"
     ]
    }
   ],
   "source": [
    "print('El mes con menor gananacias fue el:', df['Total Price'].resample('M').sum().sort_values().index[0].month)"
   ]
  },
  {
   "cell_type": "markdown",
   "metadata": {},
   "source": [
    "<div class=\"alert alert-success\">\n",
    "    \n",
    "10. ¿Cuál fue el producto más comprado en San Francisco, CA\n",
    "    \n",
    "</div> "
   ]
  },
  {
   "cell_type": "code",
   "execution_count": 27,
   "metadata": {},
   "outputs": [
    {
     "data": {
      "text/plain": [
       "Order Date\n",
       "2019-01-01 03:07:00    False\n",
       "2019-01-01 03:40:00     True\n",
       "2019-01-01 04:56:00    False\n",
       "2019-01-01 05:53:00    False\n",
       "2019-01-01 06:03:00    False\n",
       "                       ...  \n",
       "2020-01-01 04:13:00    False\n",
       "2020-01-01 04:21:00    False\n",
       "2020-01-01 04:54:00     True\n",
       "2020-01-01 05:13:00    False\n",
       "2020-01-01 05:13:00    False\n",
       "Name: Purchase Address, Length: 185950, dtype: bool"
      ]
     },
     "execution_count": 27,
     "metadata": {},
     "output_type": "execute_result"
    }
   ],
   "source": [
    "mask_san_francisco = df['Purchase Address'].apply(string_in_string, string='San Francisco, CA')\n",
    "mask_san_francisco"
   ]
  },
  {
   "cell_type": "code",
   "execution_count": 28,
   "metadata": {},
   "outputs": [
    {
     "name": "stdout",
     "output_type": "stream",
     "text": [
      "El producto más comprado en San Francisco, Ca (ordenes) es:\n",
      "USB-C Charging Cable\n"
     ]
    }
   ],
   "source": [
    "print('El producto más comprado en San Francisco, Ca (ordenes) es:')\n",
    "print(df[mask_san_francisco]['Product'].value_counts().index[0])"
   ]
  },
  {
   "cell_type": "code",
   "execution_count": 54,
   "metadata": {},
   "outputs": [
    {
     "name": "stdout",
     "output_type": "stream",
     "text": [
      "El producto con más unidades vendidas en San Francisco, CA es:\n",
      "AAA Batteries (4-pack)\n"
     ]
    }
   ],
   "source": [
    "print('El producto con más unidades vendidas en San Francisco, CA es:')\n",
    "print(df[mask_san_francisco].groupby('Product')['Quantity Ordered'].sum().sort_values().index[-1])"
   ]
  },
  {
   "cell_type": "markdown",
   "metadata": {},
   "source": [
    "<div class=\"alert alert-success\">\n",
    "    \n",
    "11. Escribir una conclusión del ejercicio (ventajas de usar pandas, herramientas mas utilizadas en este ejercicio, etc). \n",
    "    \n",
    "</div> "
   ]
  },
  {
   "cell_type": "markdown",
   "metadata": {},
   "source": [
    "En esta Notebook utilicé varias herramientas de pandas: creando mascaras, aplicando funciones y agrupando valores, todo ello me permitió obtener las respuestas de los ejercicios en muy pocas lineas de código. Una ventaja en particular fue el utilizar el formato fecha, lo cual es mucho más fácil con pandas. Con este tipo de herramientas nos podriamos olvidar un poco en la manera de escribir código y enfocarnos mucho más en los datos, todo ello para sacarle provecho a toda la información disponible."
   ]
  }
 ],
 "metadata": {
  "kernelspec": {
   "display_name": "Python 3 (ipykernel)",
   "language": "python",
   "name": "python3"
  },
  "language_info": {
   "codemirror_mode": {
    "name": "ipython",
    "version": 3
   },
   "file_extension": ".py",
   "mimetype": "text/x-python",
   "name": "python",
   "nbconvert_exporter": "python",
   "pygments_lexer": "ipython3",
   "version": "3.11.4"
  }
 },
 "nbformat": 4,
 "nbformat_minor": 4
}
