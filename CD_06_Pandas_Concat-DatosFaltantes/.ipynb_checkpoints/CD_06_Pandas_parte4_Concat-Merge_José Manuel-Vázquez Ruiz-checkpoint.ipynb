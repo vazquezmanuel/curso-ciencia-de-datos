{
 "cells": [
  {
   "cell_type": "markdown",
   "metadata": {},
   "source": [
    "<!--Información del curso-->\n",
    "<img align=\"left\" style=\"padding-right:10px;\" src=\"figuras/logo_ciencia_datos.png\">"
   ]
  },
  {
   "cell_type": "markdown",
   "metadata": {},
   "source": [
    "<center><h1 style=\"font-size:2em;color:#2467C0\"> Pandas - Parte 4  </h1></center>\n",
    "\n",
    "<center><h4 style=\"font-size:2em;color:#840700\">  Pandas - Combinación de DataFrames     </h4></center>\n",
    "\n",
    "<br>\n",
    "<table>\n",
    "<col width=\"550\">\n",
    "<col width=\"450\">\n",
    "<tr>\n",
    "<td><img src=\"figuras/concatenar.png\" align=\"left\" style=\"width:500px\"/></td>\n",
    "<td>\n",
    "\n",
    "* **Wes McKinney**, empezó a desarrollar Pandas en el año 2008 mientras trabajaba en *AQR Capital* por la necesidad que tenía de una herramienta flexible de alto rendimiento para realizar análisis cuantitativo en datos financieros. \n",
    "* Antes de dejar AQR convenció a la administración de la empresa de distribuir esta biblioteca bajo licencia de código abierto.\n",
    "* **Pandas** es un acrónimo de **PANel DAta analysiS**\n",
    "   \n",
    "    \n",
    "<br>\n",
    "</td>\n",
    "</tr>\n",
    "</table>"
   ]
  },
  {
   "cell_type": "markdown",
   "metadata": {},
   "source": [
    "# Introducción"
   ]
  },
  {
   "cell_type": "markdown",
   "metadata": {},
   "source": [
    "Algunos de los estudios de datos más interesantes provienen de la combinación de diferentes fuentes de datos.\n",
    "Estas operaciones pueden involucrar desde la concatenación muy sencilla de dos conjuntos de datos diferentes, hasta uniones y fusiones de estilo de base de datos complejas que manejan superposición entre los conjuntos de datos.  Pandas incluye funciones y métodos que hacen que este tipo de operaciones de datos seas rápidas y sencillas.\n",
    "\n",
    "En esta lección echaremos un vistazo a la concatenación con la función  ``pd.concat``."
   ]
  },
  {
   "cell_type": "markdown",
   "metadata": {},
   "source": [
    "# Librerías\n",
    "\n",
    "Cargando las bibliotecas que necesitamos \n"
   ]
  },
  {
   "cell_type": "code",
   "execution_count": null,
   "metadata": {},
   "outputs": [],
   "source": [
    "import pandas as pd\n",
    "import numpy as np\n",
    "import matplotlib.pyplot as plt"
   ]
  },
  {
   "cell_type": "code",
   "execution_count": null,
   "metadata": {},
   "outputs": [],
   "source": [
    "# dataframe\n",
    "data = {'pais': ['Belgium', 'France', 'Germany', 'Netherlands', 'United Kingdom'],\n",
    "        'poblacion': [11.3, 64.3, 81.3, 16.9, 64.9],\n",
    "        'area': [30510, 671308, 357050, 41526, 244820],\n",
    "        'capital': ['Brussels', 'Paris', 'Berlin', 'Amsterdam', 'London']}\n",
    "paises = pd.DataFrame(data)\n",
    "paises"
   ]
  },
  {
   "cell_type": "code",
   "execution_count": null,
   "metadata": {},
   "outputs": [],
   "source": [
    "#Agregar la  columna de densidad poblacional\n",
    "paises['densidad_poblacional'] = paises['poblacion']*1e6 / paises['area']\n",
    "paises"
   ]
  },
  {
   "cell_type": "markdown",
   "metadata": {},
   "source": [
    "# Concatenando DataFrames"
   ]
  },
  {
   "cell_type": "markdown",
   "metadata": {},
   "source": [
    "La función ``pd.concat`` hace todo el trabajo de combinar datos de diferentes maneras. ``pd.concat`` toma una lista o diccionario de los objetos Series/DataFrame y los concatena en una cierta dirección (`axis`) con un manejo configurable de \"qué hacer con los otros ejes\"."
   ]
  },
  {
   "cell_type": "markdown",
   "metadata": {},
   "source": [
    "## Combinando filas - ``pd.concat``"
   ]
  },
  {
   "cell_type": "markdown",
   "metadata": {},
   "source": [
    "![](figuras/schema-concat0.svg)"
   ]
  },
  {
   "cell_type": "markdown",
   "metadata": {},
   "source": [
    "Supongamos que tenemos algunos datos similares a los del *DataFrame paises*, pero para un conjunto de países diferentes:"
   ]
  },
  {
   "cell_type": "code",
   "execution_count": null,
   "metadata": {
    "run_control": {
     "frozen": false,
     "read_only": false
    }
   },
   "outputs": [],
   "source": [
    "data = {'pais': ['Nigeria', 'Rwanda', 'Egypt', 'Morocco', ],\n",
    "        'poblacion': [182.2, 11.3, 94.3, 34.4],\n",
    "        'area': [923768, 26338 , 1010408, 710850],\n",
    "        'capital': ['Abuja', 'Kigali', 'Cairo', 'Rabat']}\n",
    "paises_africa = pd.DataFrame(data)\n",
    "paises_africa "
   ]
  },
  {
   "cell_type": "markdown",
   "metadata": {},
   "source": [
    "Ahora queremos combinar las filas de ambos conjuntos de datos:"
   ]
  },
  {
   "cell_type": "code",
   "execution_count": null,
   "metadata": {
    "run_control": {
     "frozen": false,
     "read_only": false
    }
   },
   "outputs": [],
   "source": [
    "# combinar las filas\n"
   ]
  },
  {
   "cell_type": "markdown",
   "metadata": {},
   "source": [
    "Se puede observar que pudiera existir una confusión por los índices repetidos, también que cuando los *DataFrame*  no tienen el mismo conjunto de columnas, por defecto se introducen. Si no queremos que se conserve el índice:"
   ]
  },
  {
   "cell_type": "code",
   "execution_count": null,
   "metadata": {},
   "outputs": [],
   "source": [
    "# ignorando el indice\n"
   ]
  },
  {
   "cell_type": "markdown",
   "metadata": {},
   "source": [
    "## Combinando columnas - ``pd.concat`` con `` axis = 1``"
   ]
  },
  {
   "cell_type": "markdown",
   "metadata": {},
   "source": [
    "![](figuras/schema-concat1.svg)"
   ]
  },
  {
   "cell_type": "markdown",
   "metadata": {},
   "source": [
    "Supongamos que tenemos otro DataFrame para los mismos países, pero con algunas estadísticas adicionales:"
   ]
  },
  {
   "cell_type": "code",
   "execution_count": null,
   "metadata": {
    "run_control": {
     "frozen": false,
     "read_only": false
    }
   },
   "outputs": [],
   "source": [
    "data = {'pais': ['Belgium', 'France', 'Netherlands'],\n",
    "        'GDP': [496477, 2650823, 820726],\n",
    "        'C02': [8.0, 9.9, 5.7]}\n"
   ]
  },
  {
   "cell_type": "code",
   "execution_count": null,
   "metadata": {},
   "outputs": [],
   "source": [
    "# Crear el dataframe paises_economics\n"
   ]
  },
  {
   "cell_type": "code",
   "execution_count": null,
   "metadata": {
    "run_control": {
     "frozen": false,
     "read_only": false
    }
   },
   "outputs": [],
   "source": [
    "# Concatenar \n"
   ]
  },
  {
   "cell_type": "markdown",
   "metadata": {},
   "source": [
    "Como se observa la concatenación fue correcta pero los datos no coinciden con los países , `pd.concat` puede hace coincidir los diferentes objetos basados con el índice:"
   ]
  },
  {
   "cell_type": "code",
   "execution_count": null,
   "metadata": {
    "run_control": {
     "frozen": false,
     "read_only": false
    }
   },
   "outputs": [],
   "source": [
    "#Colocaremos la columna 'pais' como índice\n",
    " "
   ]
  },
  {
   "cell_type": "code",
   "execution_count": null,
   "metadata": {
    "run_control": {
     "frozen": false,
     "read_only": false
    }
   },
   "outputs": [],
   "source": [
    "#Colocaremos la columna 'pais' como índice\n",
    " "
   ]
  },
  {
   "cell_type": "code",
   "execution_count": null,
   "metadata": {
    "run_control": {
     "frozen": false,
     "read_only": false
    }
   },
   "outputs": [],
   "source": [
    "# Concatenando\n"
   ]
  },
  {
   "cell_type": "markdown",
   "metadata": {},
   "source": [
    "## Uniendo datos con `pd.merge`"
   ]
  },
  {
   "cell_type": "markdown",
   "metadata": {},
   "source": [
    "Usando `pd.concat` arriba, combinamos conjuntos de datos que tenían las mismas columnas o los mismos valores de índice. Pero, otro caso típico es si desea agregar información del segundo *DataFrame* a un primero basado en una de las columnas. Eso se puede hacer con `pd.merge` (http://pandas.pydata.org/pandas-docs/stable/generated/pandas.DataFrame.merge.html).\n",
    "\n",
    "Veamos nuevamente los datos del Titanic, pero tomemos un pequeño subconjunto para hacer que el ejemplo sea más fácil de entender:\n"
   ]
  },
  {
   "cell_type": "code",
   "execution_count": null,
   "metadata": {},
   "outputs": [],
   "source": [
    "df = pd.read_csv(\"datos/titanic.csv\")\n",
    "df = df.loc[:9, ['Survived', 'Pclass', 'Sex', 'Age', 'Fare', 'Embarked']]"
   ]
  },
  {
   "cell_type": "code",
   "execution_count": null,
   "metadata": {
    "scrolled": true
   },
   "outputs": [],
   "source": [
    "# mostrar las primeras filas de df"
   ]
  },
  {
   "cell_type": "markdown",
   "metadata": {},
   "source": [
    "Supongamos que tenemos otro *DataFrame* con más información sobre las ubicaciones de embarque:"
   ]
  },
  {
   "cell_type": "code",
   "execution_count": null,
   "metadata": {},
   "outputs": [],
   "source": [
    "localidades = pd.DataFrame({'Embarked': ['S', 'C', 'Q', 'N'],\n",
    "                          'City': ['Southampton', 'Cherbourg', 'Queenstown', 'New York City'],\n",
    "                          'Country': ['United Kindom', 'France', 'Ireland', 'United States']})"
   ]
  },
  {
   "cell_type": "code",
   "execution_count": null,
   "metadata": {},
   "outputs": [],
   "source": []
  },
  {
   "cell_type": "markdown",
   "metadata": {},
   "source": [
    "Ahora queremos agregar esas columnas al DataFrame del Titanic, para lo cual podemos usar `pd.merge`, especificando la columna en la que queremos fusionar los dos conjuntos de datos:"
   ]
  },
  {
   "cell_type": "code",
   "execution_count": null,
   "metadata": {},
   "outputs": [],
   "source": [
    "# Utilizar 'Embarked'\n"
   ]
  },
  {
   "cell_type": "code",
   "execution_count": null,
   "metadata": {},
   "outputs": [],
   "source": []
  },
  {
   "cell_type": "markdown",
   "metadata": {},
   "source": [
    "## Ejercicios - parte A"
   ]
  },
  {
   "cell_type": "markdown",
   "metadata": {},
   "source": [
    "<div class=\"alert alert-success\">\n",
    "\n",
    "<b>EJERCICIO 1</b>: \n",
    "    \n",
    "Tomando los siguientes *DataFrames* encontrar la salida que se muestra en la imagen\n",
    "    \n",
    "df1 = pd.DataFrame({'A': ['A0', 'A1', 'A2', 'A3'], \n",
    "                    'B': ['B0', 'B1', 'B2', 'B3'], \n",
    "                    'C': ['C0', 'C1', 'C2', 'C3'], \n",
    "                    'D': ['D0', 'D1', 'D2', 'D3']}) \n",
    "  \n",
    "df2 = pd.DataFrame({'A': ['A4', 'A5', 'A6', 'A7'], \n",
    "                    'B': ['B4', 'B5', 'B6', 'B7'], \n",
    "                    'C': ['C4', 'C5', 'C6', 'C7'], \n",
    "                    'D': ['D4', 'D5', 'D6', 'D7']}) \n",
    "  \n",
    "df3 = pd.DataFrame({'A': ['A8', 'A9', 'A10', 'A11'], \n",
    "                    'B': ['B8', 'B9', 'B10', 'B11'], \n",
    "                    'C': ['C8', 'C9', 'C10', 'C11'], \n",
    "                    'D': ['D8', 'D9', 'D10', 'D11']}) \n",
    "    \n",
    "    \n",
    "**Salida**:    \n",
    "    \n",
    "<img align=\"left\" width=\"150\"  float= \"none\" align=\"middle\" src=\"figuras/concat_1.png\">\n",
    "    \n",
    "    \n",
    "</div>\n"
   ]
  },
  {
   "cell_type": "code",
   "execution_count": null,
   "metadata": {},
   "outputs": [],
   "source": []
  },
  {
   "cell_type": "markdown",
   "metadata": {},
   "source": [
    "<div class=\"alert alert-success\">\n",
    "\n",
    "<b>EJERCICIO 2</b>: \n",
    "    \n",
    "Tomando los *DataFrames*  df1 y df4, encontrar la salida que se muestra en la imagen\n",
    "    \n",
    "df4 = pd.DataFrame({'B': ['B2', 'B3', 'B6', 'B7'],\n",
    "                    'D': ['D2', 'D3', 'D6', 'D7'],\n",
    "                    'F': ['F2', 'F3', 'F6', 'F7']},\n",
    "                   index=[2, 3, 6, 7])\n",
    "    \n",
    "**Salida**:    \n",
    "    \n",
    "<img align=\"left\" width=\"250\"  float= \"none\" align=\"middle\" src=\"figuras/concat_1b.png\">\n",
    "    \n",
    "    \n",
    "</div>\n"
   ]
  },
  {
   "cell_type": "code",
   "execution_count": null,
   "metadata": {},
   "outputs": [],
   "source": []
  },
  {
   "cell_type": "markdown",
   "metadata": {},
   "source": [
    "<div class=\"alert alert-success\">\n",
    "\n",
    "<b>EJERCICIO 3</b>: \n",
    "    \n",
    "Tomando los siguientes *DataFrames* encontrar la salida que se muestra en la imagen\n",
    "    \n",
    "left = pd.DataFrame({'Key': ['K0', 'K1', 'K2', 'K3'], \n",
    "                    'A': ['A0', 'A1', 'A2', 'A3'], \n",
    "                    'B': ['B0', 'B1', 'B2', 'B3']}) \n",
    "  \n",
    "right = pd.DataFrame({'Key': ['K0', 'K1', 'K2', 'K3'], \n",
    "                      'C': ['C0', 'C1', 'C2', 'C3'], \n",
    "                      'D': ['D0', 'D1', 'D2', 'D3']}) \n",
    "    \n",
    "**Salida**:    \n",
    "    \n",
    "<img align=\"left\" width=\"150\"  float= \"none\" align=\"middle\" src=\"figuras/concat_2.png\">\n",
    "    \n",
    "    \n",
    "</div>\n"
   ]
  },
  {
   "cell_type": "code",
   "execution_count": null,
   "metadata": {},
   "outputs": [],
   "source": []
  },
  {
   "cell_type": "markdown",
   "metadata": {},
   "source": [
    "# Ejercicios - parte B"
   ]
  },
  {
   "cell_type": "markdown",
   "metadata": {},
   "source": [
    "Utilizar los datos de north_america_2000_2010.csv y  south_america_2000_2010.csv que corresponden a información de los años 2000 al 2010,para los países de México, Canadá, Estados Unidos y Chile"
   ]
  },
  {
   "cell_type": "code",
   "execution_count": null,
   "metadata": {},
   "outputs": [],
   "source": [
    "north_america = pd.read_csv('datos/north_america_2000_2010.csv', index_col=0)\n",
    "north_america"
   ]
  },
  {
   "cell_type": "code",
   "execution_count": null,
   "metadata": {},
   "outputs": [],
   "source": [
    "south_america = pd.read_csv('datos/south_america_2000_2010.csv', index_col=0)\n",
    "south_america"
   ]
  },
  {
   "cell_type": "markdown",
   "metadata": {},
   "source": [
    "<div class=\"alert alert-success\">\n",
    "\n",
    "<b>EJERCICIO 4</b>: \n",
    "    \n",
    "Tomando los   *DataFrames* north_america y  south_america encontrar la salida que se muestra en la imagen\n",
    "    \n",
    "**Salida**:    \n",
    "    \n",
    "<img align=\"left\" width=\"550\"  float= \"none\" align=\"middle\" src=\"figuras/ejercicioB1.png\">\n",
    "    \n",
    "    \n",
    "</div>"
   ]
  },
  {
   "cell_type": "code",
   "execution_count": null,
   "metadata": {},
   "outputs": [],
   "source": []
  },
  {
   "cell_type": "markdown",
   "metadata": {},
   "source": [
    "<div class=\"alert alert-success\">\n",
    "\n",
    "<b>EJERCICIO 5</b>: \n",
    "    \n",
    "Queremos que nuestros datos sean lo más recientes posible. Después de solicitar datos sobre estos cuatro países de años posteriores, el equipo de recopilación de datos  envió cada año desde 2011 hasta 2015 en archivos CSV separados de la siguiente manera americas_2011.csv , americas_2012.csv, americas_2013.csv,americas_2014.csv, americas_2015.csv:\n",
    "    \n",
    "**Salida**:    \n",
    "    \n",
    "<img align=\"left\" width=\"750\"  float= \"none\" align=\"middle\" src=\"figuras/ejercicioB-3.png\">\n",
    "   \n",
    "    \n",
    "</div>\n",
    "\n"
   ]
  },
  {
   "cell_type": "code",
   "execution_count": null,
   "metadata": {},
   "outputs": [],
   "source": []
  },
  {
   "cell_type": "markdown",
   "metadata": {},
   "source": [
    "<div class=\"alert alert-success\">\n",
    "\n",
    "<b>EJERCICIO 6</b>: \n",
    "    \n",
    "Ahora que tenemos una vista completa de las Américas, nos gustaría ver cómo se compara con el resto del mundo. El equipo de recopilación de datos ha proporcionado archivos CSV para Asia, Europa y el Pacífico Sur desde 2000 hasta 2015. Utilizar los archivos asia_2000_2015.csv, europe_2000_2015.csv y south_pacific_2000_2015.csv\n",
    "\n",
    "Encontrar la salida que se muestra en la imagen\n",
    "    \n",
    "**Salida**:    \n",
    "*Solo se muestran unas cuantas filas    \n",
    "\n",
    "\n",
    "<img align=\"left\" width=\"750\"  float= \"none\" align=\"middle\" src=\"figuras/ejercicioC.png\">\n",
    "    \n",
    "    \n",
    "</div>\n"
   ]
  },
  {
   "cell_type": "code",
   "execution_count": null,
   "metadata": {},
   "outputs": [],
   "source": []
  },
  {
   "cell_type": "code",
   "execution_count": null,
   "metadata": {},
   "outputs": [],
   "source": []
  }
 ],
 "metadata": {
  "kernelspec": {
   "display_name": "Python 3 (ipykernel)",
   "language": "python",
   "name": "python3"
  },
  "language_info": {
   "codemirror_mode": {
    "name": "ipython",
    "version": 3
   },
   "file_extension": ".py",
   "mimetype": "text/x-python",
   "name": "python",
   "nbconvert_exporter": "python",
   "pygments_lexer": "ipython3",
   "version": "3.10.7"
  }
 },
 "nbformat": 4,
 "nbformat_minor": 4
}
