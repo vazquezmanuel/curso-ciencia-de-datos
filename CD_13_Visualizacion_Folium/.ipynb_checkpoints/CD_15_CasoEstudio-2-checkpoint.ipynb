{
 "cells": [
  {
   "cell_type": "markdown",
   "metadata": {},
   "source": [
    "<!--Información del curso-->\n",
    "<img align=\"left\" style=\"padding-right:10px;\" src=\"figuras/logo_ciencia_datos.png\">"
   ]
  },
  {
   "cell_type": "markdown",
   "metadata": {},
   "source": [
    "<br><br><center><h1 style=\"font-size:2em;color:#2467C0\">Caso de estudio 2: Diabetes tipo 2 en México</h1></center>\n",
    "<br>\n",
    "<table>\n",
    "<col width=\"550\">\n",
    "<col width=\"450\">\n",
    "<tr>\n",
    "<td><img src=\"figuras/diabetes.jpg\" align=\"middle\" style=\"width:350px\"/></td>\n",
    "<td>\n",
    "\n",
    "La diabetes mellitus (diabetes tipo 2) es la segunda causa de muerte en México. De acuerdo con estadísticas del INEGI, en 2016 murieron 105 mil 574 mexicanos debido a la diabetes.\n",
    "\n",
    "En 2017 se registró una tasa de 405.12 casos de diabetes tipo 2 por cada 100 mil habitantes en México; mientras que en 2018, dicho indicador aumentó a 411.85.\n",
    "\n",
    "Las estadísticas de diabetes tipo 2 en México disponibles en el Anuario de Morbilidad de la Dirección General de Epidemiología revelan que en el último año aumentó 1.66 por ciento la incidencia de dicho padecimiento.\n",
    "    \n",
    "<br>\n",
    "</td>\n",
    "</tr>\n",
    "</table>"
   ]
  },
  {
   "cell_type": "markdown",
   "metadata": {},
   "source": [
    "## Conjunto de datos"
   ]
  },
  {
   "cell_type": "code",
   "execution_count": null,
   "metadata": {},
   "outputs": [],
   "source": [
    "import pandas as pd\n",
    "import numpy as np\n",
    "import matplotlib.pyplot as plt\n",
    "plt.style.use('seaborn-whitegrid')"
   ]
  },
  {
   "cell_type": "code",
   "execution_count": null,
   "metadata": {},
   "outputs": [],
   "source": [
    "#Cargar el archivo datos/mexico_diabetes2_2017-2018.csv en un DataFrame llamado data\n",
    "# si es necesario usar la opcion encoding = \"ISO-8859-1\"\n",
    "data = pd.read_csv('datos/mexico_diabetes2_2017-2018.csv', encoding = \"ISO-8859-1\")"
   ]
  },
  {
   "cell_type": "code",
   "execution_count": null,
   "metadata": {},
   "outputs": [],
   "source": [
    "#Mostrar las primeras filas del DataFrame data\n",
    "data.head()"
   ]
  },
  {
   "cell_type": "markdown",
   "metadata": {},
   "source": [
    "<div class=\"alert alert-success\">\n",
    "¿Cuales son los e estados con menor incidencia de casos en 2018?\n",
    "</div>"
   ]
  },
  {
   "cell_type": "code",
   "execution_count": null,
   "metadata": {},
   "outputs": [],
   "source": [
    "data.sort_values(by=['INCIDENCIA 2018'], ascending=True)\n",
    "data.head()"
   ]
  },
  {
   "cell_type": "code",
   "execution_count": null,
   "metadata": {},
   "outputs": [],
   "source": [
    "data.sort_values(by=['INCIDENCIA 2018'], ascending=True, inplace=True)\n",
    "data.head()"
   ]
  },
  {
   "cell_type": "markdown",
   "metadata": {},
   "source": [
    "<div class=\"alert alert-success\">\n",
    "¿Cuales son los e estados con mayor incidencia de casos en 2018?\n",
    "</div>"
   ]
  },
  {
   "cell_type": "code",
   "execution_count": null,
   "metadata": {},
   "outputs": [],
   "source": [
    "data.sort_values(by=['INCIDENCIA 2018'], ascending=False, inplace=True)\n",
    "data.head()"
   ]
  },
  {
   "cell_type": "markdown",
   "metadata": {},
   "source": [
    "<div class=\"alert alert-success\">\n",
    "Construya una grafica de barras con los diferentes estados para el 2018 y una en dode se pueda comparar con el 2017\n",
    "</div>"
   ]
  },
  {
   "cell_type": "code",
   "execution_count": null,
   "metadata": {},
   "outputs": [],
   "source": [
    "nombres = data['ENTIDAD'].values\n",
    "valores = data['INCIDENCIA 2018'].values\n",
    "\n",
    "plt.figure(figsize=(21, 3))\n",
    "plt.bar(nombres, valores)\n",
    "plt.xticks(rotation='vertical')\n",
    "# Etiqueta de los ejes\n",
    "plt.xlabel('Estados')\n",
    "plt.ylabel('Número de casos de Diabetes tipo2')\n",
    "#Titulo de la figura\n",
    "plt.title('Comparación por estados')\n",
    "\n",
    "plt.show()"
   ]
  },
  {
   "cell_type": "code",
   "execution_count": null,
   "metadata": {},
   "outputs": [],
   "source": [
    "nombres = data['ENTIDAD'].values\n",
    "valores2018 = data['INCIDENCIA 2018'].values\n",
    "valores2017 = data['INCIDENCIA 2017'].values\n",
    "N=len(nombres) # Número de estados\n",
    "\n",
    "# ind = Posicion en el eje\n",
    "ind = np.arange(N)\n",
    "# Ancho de la barra \n",
    "width = 0.3  \n",
    "\n",
    "plt.figure(figsize=(21, 3))\n",
    "\n",
    "\n",
    "# Plotting\n",
    "plt.bar(ind, valores2018 , width, label='Casos 2018')\n",
    "plt.bar(ind + width, valores2017, width, label='Casos 2017')\n",
    "\n",
    "plt.ylabel('Número de casos')\n",
    "plt.xlabel('Estados')\n",
    "plt.title('Comparación por estados entre 2017 y 2018')\n",
    "\n",
    "plt.xticks(ind + width / 2, nombres )\n",
    "plt.xticks(rotation='vertical')\n",
    "\n",
    "plt.legend(loc='best')\n",
    "plt.show()\n"
   ]
  },
  {
   "cell_type": "markdown",
   "metadata": {},
   "source": [
    "<div class=\"alert alert-success\">\n",
    "Defina un nuevo parametro y agregue una nueva columna, para comparar la incidencia del 2018 y 2017\n",
    "</div>"
   ]
  },
  {
   "cell_type": "code",
   "execution_count": null,
   "metadata": {},
   "outputs": [],
   "source": [
    "data['Comparador'] = 100*(data['INCIDENCIA 2018']-data['INCIDENCIA 2017'])/data['INCIDENCIA 2017']\n",
    "data.head()"
   ]
  },
  {
   "cell_type": "markdown",
   "metadata": {},
   "source": [
    "<div class=\"alert alert-success\">\n",
    "Defina un nuevo DataFrame, df_IDC, que contenga solo el ID y el parametro  \"Comparador\"\n",
    "</div>"
   ]
  },
  {
   "cell_type": "code",
   "execution_count": null,
   "metadata": {},
   "outputs": [],
   "source": [
    "#Defina las máscaras  mask_indicator , mask_2011\n",
    "df_IDC = data[['IDNAME','Comparador']]\n",
    "df_IDC"
   ]
  },
  {
   "cell_type": "markdown",
   "metadata": {},
   "source": [
    "<div class=\"alert alert-success\">\n",
    "Graficar los datos del parametro \"Comparador\" de los diferentes estados de México en un mapa\n",
    "</div>"
   ]
  },
  {
   "cell_type": "code",
   "execution_count": null,
   "metadata": {},
   "outputs": [],
   "source": [
    "#Cargar el archivo datos/geo/mexico_estados_geo en la variable estados_geo  \n",
    "estados_geo = 'datos/geo/mexico_estados_geo.JSON'"
   ]
  },
  {
   "cell_type": "code",
   "execution_count": null,
   "metadata": {},
   "outputs": [],
   "source": [
    "# importar la libreria  folium\n",
    "# Defina una referencia para graficar los paises\n",
    "# location= [latitud,longitud]\n",
    "# zoom_start=zoom donde comenzará\n",
    "import folium\n",
    "map = folium.Map(location=[24,-102], zoom_start=5)\n",
    "map"
   ]
  },
  {
   "cell_type": "markdown",
   "metadata": {},
   "source": [
    "<div class=\"alert alert-warning\">\n",
    "Opciones de la función Choropleth :\n",
    "    \n",
    "<ul>\n",
    "  <li>geo_data=variable que guarda los datos JSON</li>\n",
    "  <li>data=DataFrame con los datos</li>\n",
    "  <li>key_on='feature.id'</li>\n",
    "  <li>fill_color=Estilo de colores</li>\n",
    "  <li>fill_opacity=Opacidad del relleno de 0 a 1 </li>\n",
    "  <li>line_opacity=Opacidad de la linea de 0 a 1</li>\n",
    "  <li>legend_name=titulo</li>\n",
    "</ul>\n",
    "    \n",
    "</div>"
   ]
  },
  {
   "cell_type": "code",
   "execution_count": null,
   "metadata": {},
   "outputs": [],
   "source": [
    "map = folium.Map(location=[24,-102], zoom_start=5)\n",
    "\n",
    "#TItulo\n",
    "titulo=\"Comparacion de incremento porcentual de diabetes tipo 2 en 2017 y 2018\"\n",
    "\n",
    "folium.Choropleth(geo_data=estados_geo, data=df_IDC, \n",
    "             columns=['IDNAME', 'Comparador'],\n",
    "             key_on='feature.id',\n",
    "             fill_color='PRGn', fill_opacity=0.9, line_opacity=0.9, #YlGnBu\n",
    "             legend_name=titulo).add_to(map)\n",
    "map"
   ]
  },
  {
   "cell_type": "code",
   "execution_count": null,
   "metadata": {},
   "outputs": [],
   "source": []
  },
  {
   "cell_type": "code",
   "execution_count": null,
   "metadata": {},
   "outputs": [],
   "source": []
  },
  {
   "cell_type": "code",
   "execution_count": null,
   "metadata": {},
   "outputs": [],
   "source": []
  }
 ],
 "metadata": {
  "kernelspec": {
   "display_name": "Python 3 (ipykernel)",
   "language": "python",
   "name": "python3"
  },
  "language_info": {
   "codemirror_mode": {
    "name": "ipython",
    "version": 3
   },
   "file_extension": ".py",
   "mimetype": "text/x-python",
   "name": "python",
   "nbconvert_exporter": "python",
   "pygments_lexer": "ipython3",
   "version": "3.10.7"
  }
 },
 "nbformat": 4,
 "nbformat_minor": 4
}
