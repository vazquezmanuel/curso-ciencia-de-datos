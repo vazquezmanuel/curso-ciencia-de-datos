{
 "cells": [
  {
   "cell_type": "markdown",
   "metadata": {},
   "source": [
    "<!--Información del curso-->\n",
    "<img align=\"left\" style=\"padding-right:10px;\" src=\"figuras/logo_ciencia_datos.png\">"
   ]
  },
  {
   "cell_type": "markdown",
   "metadata": {},
   "source": [
    "<br><br><center><h1 style=\"font-size:2em;color:#2467C0\">Caso de estudio 1: Indicadores de Desarrollo Mundial</h1></center>\n",
    "<br>\n",
    "<table>\n",
    "<col width=\"550\">\n",
    "<col width=\"450\">\n",
    "<tr>\n",
    "<td><img src=\"figuras/North_South_divide.svg\" align=\"middle\" style=\"width:550px;height:360px;\"/></td>\n",
    "<td>\n",
    "El conjunto de  Indicadores del desarrollo mundial  obtenido del Banco Mundial  contiene más de mil indicadores anuales de desarrollo económico de cientos de países de todo el mundo.<br>\n",
    "</td>\n",
    "</tr>\n",
    "</table>"
   ]
  },
  {
   "cell_type": "markdown",
   "metadata": {},
   "source": [
    "## Conjunto de datos"
   ]
  },
  {
   "cell_type": "code",
   "execution_count": null,
   "metadata": {},
   "outputs": [],
   "source": [
    "import pandas as pd\n",
    "import numpy as np\n",
    "import matplotlib.pyplot as plt\n",
    "#plt.style.use('seaborn-whitegrid')"
   ]
  },
  {
   "cell_type": "code",
   "execution_count": null,
   "metadata": {},
   "outputs": [],
   "source": [
    "#Cargar el archivo datos/Indicators.csv en un DataFrame llamado data\n",
    "data = pd.read_csv('datos/Indicators.csv')"
   ]
  },
  {
   "cell_type": "code",
   "execution_count": null,
   "metadata": {},
   "outputs": [],
   "source": [
    "#Mostrar las primeras filas del DataFrame data\n",
    "data.head()"
   ]
  },
  {
   "cell_type": "markdown",
   "metadata": {},
   "source": [
    "<div class=\"alert alert-success\">\n",
    "Haga una máscara para seleccionar el indicador CO2 emissions (metric tons per capita) y una para el 2011\n",
    "</div>"
   ]
  },
  {
   "cell_type": "code",
   "execution_count": null,
   "metadata": {},
   "outputs": [],
   "source": [
    "#Defina strings que deben contener las columnas str_indicator, str_2011\n",
    "str_indicator = 'CO2 emissions \\(metric'\n",
    "str_2011 = 2011"
   ]
  },
  {
   "cell_type": "code",
   "execution_count": null,
   "metadata": {},
   "outputs": [],
   "source": [
    "#Defina las máscaras  mask_indicator , mask_2011\n",
    "mask_indicator = data['IndicatorName'].str.contains(str_indicator) \n",
    "mask_2011 = data['Year']==str_2011"
   ]
  },
  {
   "cell_type": "code",
   "execution_count": null,
   "metadata": {},
   "outputs": [],
   "source": [
    "# Aplique las máscaras para encontrar los datos para las emesiones de C02 en el 2011\n",
    "data_C02_2011 = data[(mask_indicator) & (mask_2011) ]\n",
    "data_C02_2011.head()"
   ]
  },
  {
   "cell_type": "markdown",
   "metadata": {},
   "source": [
    "<div class=\"alert alert-success\">\n",
    "Defina un nuevo DataFrame, df_C02_2011, con el indicador CO2 emissions (metric tons per capita) y el codigo del pais \n",
    "</div>"
   ]
  },
  {
   "cell_type": "code",
   "execution_count": null,
   "metadata": {},
   "outputs": [],
   "source": [
    "df_C02_2011 = data_C02_2011[['CountryCode','Value']]\n",
    "df_C02_2011.head()"
   ]
  },
  {
   "cell_type": "markdown",
   "metadata": {},
   "source": [
    "### Coordenadas geograficas de los países \n"
   ]
  },
  {
   "cell_type": "markdown",
   "metadata": {},
   "source": [
    "<div class=\"alert alert-success\">\n",
    "Graficar los datos de los diferentes paises en un mapa\n",
    "</div>"
   ]
  },
  {
   "cell_type": "code",
   "execution_count": null,
   "metadata": {},
   "outputs": [],
   "source": [
    "#Cargar el archivo datos/geo/world-countries.json en la variable country_geo  \n",
    "country_geo = 'datos/geo/world-countries.json'"
   ]
  },
  {
   "cell_type": "code",
   "execution_count": null,
   "metadata": {},
   "outputs": [],
   "source": [
    "# Importar la libreria folium\n",
    "# Defina una referencia para graficar los paises\n",
    "# location= [latitud,longitud]\n",
    "# zoom_start=zoom donde comenzará\n",
    "import folium\n",
    "map = folium.Map(location=[0,0], zoom_start=1.5)\n",
    "map"
   ]
  },
  {
   "cell_type": "markdown",
   "metadata": {},
   "source": [
    "## Cargar al finalizar en diferentes coordenadas y zooom"
   ]
  },
  {
   "cell_type": "code",
   "execution_count": null,
   "metadata": {},
   "outputs": [],
   "source": [
    "#TItulo\n",
    "titulo=\"Emisiones de CO2 (toneladas métricas per cápita)\""
   ]
  },
  {
   "cell_type": "markdown",
   "metadata": {},
   "source": [
    "Utilizar la funcion ``Choropleth`` para graficar los datos\n",
    "\n",
    "* ``geo_data``= variable que guarda los datos JSON \n",
    "* ``data``= DataFrame con los datos\n",
    "* ``key_on``= 'feature.id'\n",
    "* ``fill_color``= Estilo de colores\n",
    "* ``fill_opacity``= Opacidad del relleno de 0 a 1 \n",
    "* ``line_opacity``= Opacidad de la linea de 0 a 1 \n",
    "* ``legend_name``= titulo  de la leyenda"
   ]
  },
  {
   "cell_type": "code",
   "execution_count": null,
   "metadata": {},
   "outputs": [],
   "source": [
    "map = folium.Map(location=[0,0], zoom_start=1.5)\n",
    "\n",
    "#En la parte final de la notebook se encuentran más opciones de barras colores\n",
    "folium.Choropleth(geo_data=country_geo, data=df_C02_2011, \n",
    "             columns=['CountryCode', 'Value'],\n",
    "             key_on='feature.id',\n",
    "             fill_color='YlOrRd', fill_opacity=0.7, line_opacity=0.2, #YlGnBu\n",
    "             legend_name=titulo).add_to(map)\n",
    "map"
   ]
  },
  {
   "cell_type": "markdown",
   "metadata": {},
   "source": [
    "## ## Otra opción para visualizar el mapa"
   ]
  },
  {
   "cell_type": "code",
   "execution_count": null,
   "metadata": {},
   "outputs": [],
   "source": [
    "# Guardamos el mapa\n",
    "map.save('plot_data.html')"
   ]
  },
  {
   "cell_type": "code",
   "execution_count": null,
   "metadata": {
    "scrolled": true
   },
   "outputs": [],
   "source": [
    "# Desplegamos el mapa \n",
    "from IPython.display import IFrame\n",
    "IFrame(src='plot_data.html', width=950, height=600)"
   ]
  },
  {
   "cell_type": "markdown",
   "metadata": {},
   "source": [
    "### Barras de Colores\n",
    "<img align=\"left\" style=\"padding-right:10px;\" src=\"figuras/barras_colores.png\">\n"
   ]
  },
  {
   "cell_type": "code",
   "execution_count": null,
   "metadata": {},
   "outputs": [],
   "source": []
  },
  {
   "cell_type": "code",
   "execution_count": null,
   "metadata": {},
   "outputs": [],
   "source": []
  }
 ],
 "metadata": {
  "kernelspec": {
   "display_name": "Python 3 (ipykernel)",
   "language": "python",
   "name": "python3"
  },
  "language_info": {
   "codemirror_mode": {
    "name": "ipython",
    "version": 3
   },
   "file_extension": ".py",
   "mimetype": "text/x-python",
   "name": "python",
   "nbconvert_exporter": "python",
   "pygments_lexer": "ipython3",
   "version": "3.10.7"
  }
 },
 "nbformat": 4,
 "nbformat_minor": 4
}
