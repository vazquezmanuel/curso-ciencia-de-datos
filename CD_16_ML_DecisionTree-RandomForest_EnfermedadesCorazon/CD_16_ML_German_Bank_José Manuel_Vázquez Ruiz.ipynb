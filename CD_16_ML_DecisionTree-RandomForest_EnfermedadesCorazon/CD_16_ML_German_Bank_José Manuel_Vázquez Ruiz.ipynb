{
 "cells": [
  {
   "cell_type": "markdown",
   "id": "ceecd009-2ded-4bda-9f24-edc0b3742fb7",
   "metadata": {},
   "source": [
    "# German Credit data"
   ]
  },
  {
   "cell_type": "markdown",
   "id": "37835b04-4eac-4dd2-b09d-5727188ae890",
   "metadata": {},
   "source": [
    "Se tiene un archivo de datos con el que se entrenará y evaluará cada modelo. Para después evaluar el mejor modelo con datos completamente nuevos para los modelos."
   ]
  },
  {
   "cell_type": "code",
   "execution_count": 1,
   "id": "43733bab-b80a-40fa-bf05-116d743e17b4",
   "metadata": {},
   "outputs": [],
   "source": [
    "# Importar librerias\n",
    "import matplotlib.pyplot as plt\n",
    "import seaborn as sn\n",
    "import pandas as pd\n",
    "import numpy as np"
   ]
  },
  {
   "cell_type": "code",
   "execution_count": 2,
   "id": "d5dab3e7-5049-4db7-9309-44fa94bc2263",
   "metadata": {},
   "outputs": [],
   "source": [
    "# Preparación de datos\n",
    "from sklearn.model_selection import train_test_split\n",
    "from sklearn.preprocessing import StandardScaler\n",
    "from sklearn.pipeline import Pipeline\n",
    "# Modelos\n",
    "from sklearn.ensemble import RandomForestClassifier\n",
    "from sklearn.tree import DecisionTreeClassifier\n",
    "# Validación\n",
    "from sklearn.model_selection import GridSearchCV, cross_val_score"
   ]
  },
  {
   "cell_type": "markdown",
   "id": "15b36eed-e809-495a-8715-be195f4a6535",
   "metadata": {},
   "source": [
    "## 1. Obtención y visualización de los datos"
   ]
  },
  {
   "cell_type": "code",
   "execution_count": 3,
   "id": "969ee4c3-c7b4-44cd-aef4-4ac3ca2a42dc",
   "metadata": {},
   "outputs": [
    {
     "data": {
      "text/html": [
       "<div>\n",
       "<style scoped>\n",
       "    .dataframe tbody tr th:only-of-type {\n",
       "        vertical-align: middle;\n",
       "    }\n",
       "\n",
       "    .dataframe tbody tr th {\n",
       "        vertical-align: top;\n",
       "    }\n",
       "\n",
       "    .dataframe thead th {\n",
       "        text-align: right;\n",
       "    }\n",
       "</style>\n",
       "<table border=\"1\" class=\"dataframe\">\n",
       "  <thead>\n",
       "    <tr style=\"text-align: right;\">\n",
       "      <th></th>\n",
       "      <th>0</th>\n",
       "      <th>1</th>\n",
       "      <th>2</th>\n",
       "      <th>3</th>\n",
       "      <th>4</th>\n",
       "      <th>5</th>\n",
       "      <th>6</th>\n",
       "      <th>7</th>\n",
       "      <th>8</th>\n",
       "      <th>9</th>\n",
       "      <th>...</th>\n",
       "      <th>15</th>\n",
       "      <th>16</th>\n",
       "      <th>17</th>\n",
       "      <th>18</th>\n",
       "      <th>19</th>\n",
       "      <th>20</th>\n",
       "      <th>21</th>\n",
       "      <th>22</th>\n",
       "      <th>23</th>\n",
       "      <th>24</th>\n",
       "    </tr>\n",
       "  </thead>\n",
       "  <tbody>\n",
       "    <tr>\n",
       "      <th>0</th>\n",
       "      <td>1</td>\n",
       "      <td>6</td>\n",
       "      <td>4</td>\n",
       "      <td>12</td>\n",
       "      <td>5</td>\n",
       "      <td>5</td>\n",
       "      <td>3</td>\n",
       "      <td>4</td>\n",
       "      <td>1</td>\n",
       "      <td>67</td>\n",
       "      <td>...</td>\n",
       "      <td>0</td>\n",
       "      <td>0</td>\n",
       "      <td>1</td>\n",
       "      <td>0</td>\n",
       "      <td>0</td>\n",
       "      <td>1</td>\n",
       "      <td>0</td>\n",
       "      <td>0</td>\n",
       "      <td>1</td>\n",
       "      <td>1</td>\n",
       "    </tr>\n",
       "    <tr>\n",
       "      <th>1</th>\n",
       "      <td>2</td>\n",
       "      <td>48</td>\n",
       "      <td>2</td>\n",
       "      <td>60</td>\n",
       "      <td>1</td>\n",
       "      <td>3</td>\n",
       "      <td>2</td>\n",
       "      <td>2</td>\n",
       "      <td>1</td>\n",
       "      <td>22</td>\n",
       "      <td>...</td>\n",
       "      <td>0</td>\n",
       "      <td>0</td>\n",
       "      <td>1</td>\n",
       "      <td>0</td>\n",
       "      <td>0</td>\n",
       "      <td>1</td>\n",
       "      <td>0</td>\n",
       "      <td>0</td>\n",
       "      <td>1</td>\n",
       "      <td>2</td>\n",
       "    </tr>\n",
       "    <tr>\n",
       "      <th>2</th>\n",
       "      <td>4</td>\n",
       "      <td>12</td>\n",
       "      <td>4</td>\n",
       "      <td>21</td>\n",
       "      <td>1</td>\n",
       "      <td>4</td>\n",
       "      <td>3</td>\n",
       "      <td>3</td>\n",
       "      <td>1</td>\n",
       "      <td>49</td>\n",
       "      <td>...</td>\n",
       "      <td>0</td>\n",
       "      <td>0</td>\n",
       "      <td>1</td>\n",
       "      <td>0</td>\n",
       "      <td>0</td>\n",
       "      <td>1</td>\n",
       "      <td>0</td>\n",
       "      <td>1</td>\n",
       "      <td>0</td>\n",
       "      <td>1</td>\n",
       "    </tr>\n",
       "    <tr>\n",
       "      <th>3</th>\n",
       "      <td>1</td>\n",
       "      <td>42</td>\n",
       "      <td>2</td>\n",
       "      <td>79</td>\n",
       "      <td>1</td>\n",
       "      <td>4</td>\n",
       "      <td>3</td>\n",
       "      <td>4</td>\n",
       "      <td>2</td>\n",
       "      <td>45</td>\n",
       "      <td>...</td>\n",
       "      <td>0</td>\n",
       "      <td>0</td>\n",
       "      <td>0</td>\n",
       "      <td>0</td>\n",
       "      <td>0</td>\n",
       "      <td>0</td>\n",
       "      <td>0</td>\n",
       "      <td>0</td>\n",
       "      <td>1</td>\n",
       "      <td>1</td>\n",
       "    </tr>\n",
       "    <tr>\n",
       "      <th>4</th>\n",
       "      <td>1</td>\n",
       "      <td>24</td>\n",
       "      <td>3</td>\n",
       "      <td>49</td>\n",
       "      <td>1</td>\n",
       "      <td>3</td>\n",
       "      <td>3</td>\n",
       "      <td>4</td>\n",
       "      <td>4</td>\n",
       "      <td>53</td>\n",
       "      <td>...</td>\n",
       "      <td>1</td>\n",
       "      <td>0</td>\n",
       "      <td>1</td>\n",
       "      <td>0</td>\n",
       "      <td>0</td>\n",
       "      <td>0</td>\n",
       "      <td>0</td>\n",
       "      <td>0</td>\n",
       "      <td>1</td>\n",
       "      <td>2</td>\n",
       "    </tr>\n",
       "  </tbody>\n",
       "</table>\n",
       "<p>5 rows × 25 columns</p>\n",
       "</div>"
      ],
      "text/plain": [
       "   0   1   2   3   4   5   6   7   8   9   ...  15  16  17  18  19  20  21  \\\n",
       "0   1   6   4  12   5   5   3   4   1  67  ...   0   0   1   0   0   1   0   \n",
       "1   2  48   2  60   1   3   2   2   1  22  ...   0   0   1   0   0   1   0   \n",
       "2   4  12   4  21   1   4   3   3   1  49  ...   0   0   1   0   0   1   0   \n",
       "3   1  42   2  79   1   4   3   4   2  45  ...   0   0   0   0   0   0   0   \n",
       "4   1  24   3  49   1   3   3   4   4  53  ...   1   0   1   0   0   0   0   \n",
       "\n",
       "   22  23  24  \n",
       "0   0   1   1  \n",
       "1   0   1   2  \n",
       "2   1   0   1  \n",
       "3   0   1   1  \n",
       "4   0   1   2  \n",
       "\n",
       "[5 rows x 25 columns]"
      ]
     },
     "execution_count": 3,
     "metadata": {},
     "output_type": "execute_result"
    }
   ],
   "source": [
    "df = pd.read_csv('datos/german_train_test.txt', delim_whitespace = True, header = None)\n",
    "df.head()"
   ]
  },
  {
   "cell_type": "code",
   "execution_count": 4,
   "id": "ef5b46f0-3182-4616-9365-f5b5f43532dd",
   "metadata": {},
   "outputs": [
    {
     "data": {
      "text/plain": [
       "(900, 25)"
      ]
     },
     "execution_count": 4,
     "metadata": {},
     "output_type": "execute_result"
    }
   ],
   "source": [
    "df.shape"
   ]
  },
  {
   "cell_type": "code",
   "execution_count": 5,
   "id": "230ccd90-6619-4b7d-8de9-a128affad648",
   "metadata": {},
   "outputs": [
    {
     "data": {
      "text/plain": [
       "array([dtype('int64'), dtype('int64'), dtype('int64'), dtype('int64'),\n",
       "       dtype('int64'), dtype('int64'), dtype('int64'), dtype('int64'),\n",
       "       dtype('int64'), dtype('int64'), dtype('int64'), dtype('int64'),\n",
       "       dtype('int64'), dtype('int64'), dtype('int64'), dtype('int64'),\n",
       "       dtype('int64'), dtype('int64'), dtype('int64'), dtype('int64'),\n",
       "       dtype('int64'), dtype('int64'), dtype('int64'), dtype('int64'),\n",
       "       dtype('int64')], dtype=object)"
      ]
     },
     "execution_count": 5,
     "metadata": {},
     "output_type": "execute_result"
    }
   ],
   "source": [
    "df.dtypes.to_numpy()"
   ]
  },
  {
   "cell_type": "code",
   "execution_count": 6,
   "id": "695bbb12-eba0-4957-a2ee-21a31b39ca95",
   "metadata": {},
   "outputs": [
    {
     "data": {
      "text/html": [
       "<div>\n",
       "<style scoped>\n",
       "    .dataframe tbody tr th:only-of-type {\n",
       "        vertical-align: middle;\n",
       "    }\n",
       "\n",
       "    .dataframe tbody tr th {\n",
       "        vertical-align: top;\n",
       "    }\n",
       "\n",
       "    .dataframe thead th {\n",
       "        text-align: right;\n",
       "    }\n",
       "</style>\n",
       "<table border=\"1\" class=\"dataframe\">\n",
       "  <thead>\n",
       "    <tr style=\"text-align: right;\">\n",
       "      <th></th>\n",
       "      <th>0</th>\n",
       "      <th>1</th>\n",
       "      <th>2</th>\n",
       "      <th>3</th>\n",
       "      <th>4</th>\n",
       "      <th>5</th>\n",
       "      <th>6</th>\n",
       "      <th>7</th>\n",
       "      <th>8</th>\n",
       "      <th>9</th>\n",
       "      <th>...</th>\n",
       "      <th>15</th>\n",
       "      <th>16</th>\n",
       "      <th>17</th>\n",
       "      <th>18</th>\n",
       "      <th>19</th>\n",
       "      <th>20</th>\n",
       "      <th>21</th>\n",
       "      <th>22</th>\n",
       "      <th>23</th>\n",
       "      <th>24</th>\n",
       "    </tr>\n",
       "  </thead>\n",
       "  <tbody>\n",
       "    <tr>\n",
       "      <th>count</th>\n",
       "      <td>900.000000</td>\n",
       "      <td>900.000000</td>\n",
       "      <td>900.000000</td>\n",
       "      <td>900.000000</td>\n",
       "      <td>900.000000</td>\n",
       "      <td>900.000000</td>\n",
       "      <td>900.000000</td>\n",
       "      <td>900.000000</td>\n",
       "      <td>900.000000</td>\n",
       "      <td>900.000000</td>\n",
       "      <td>...</td>\n",
       "      <td>900.000000</td>\n",
       "      <td>900.000000</td>\n",
       "      <td>900.000000</td>\n",
       "      <td>900.000000</td>\n",
       "      <td>900.000000</td>\n",
       "      <td>900.000000</td>\n",
       "      <td>900.000000</td>\n",
       "      <td>900.000000</td>\n",
       "      <td>900.000000</td>\n",
       "      <td>900.000000</td>\n",
       "    </tr>\n",
       "    <tr>\n",
       "      <th>mean</th>\n",
       "      <td>2.585556</td>\n",
       "      <td>20.725556</td>\n",
       "      <td>2.556667</td>\n",
       "      <td>32.443333</td>\n",
       "      <td>2.102222</td>\n",
       "      <td>3.404444</td>\n",
       "      <td>2.682222</td>\n",
       "      <td>2.863333</td>\n",
       "      <td>2.356667</td>\n",
       "      <td>35.538889</td>\n",
       "      <td>...</td>\n",
       "      <td>0.232222</td>\n",
       "      <td>0.103333</td>\n",
       "      <td>0.908889</td>\n",
       "      <td>0.038889</td>\n",
       "      <td>0.175556</td>\n",
       "      <td>0.712222</td>\n",
       "      <td>0.022222</td>\n",
       "      <td>0.194444</td>\n",
       "      <td>0.640000</td>\n",
       "      <td>1.297778</td>\n",
       "    </tr>\n",
       "    <tr>\n",
       "      <th>std</th>\n",
       "      <td>1.255206</td>\n",
       "      <td>12.013304</td>\n",
       "      <td>1.088983</td>\n",
       "      <td>27.909916</td>\n",
       "      <td>1.578708</td>\n",
       "      <td>1.198248</td>\n",
       "      <td>0.703650</td>\n",
       "      <td>1.097165</td>\n",
       "      <td>1.059157</td>\n",
       "      <td>11.465169</td>\n",
       "      <td>...</td>\n",
       "      <td>0.422485</td>\n",
       "      <td>0.304563</td>\n",
       "      <td>0.287927</td>\n",
       "      <td>0.193438</td>\n",
       "      <td>0.380653</td>\n",
       "      <td>0.452979</td>\n",
       "      <td>0.147488</td>\n",
       "      <td>0.395992</td>\n",
       "      <td>0.480267</td>\n",
       "      <td>0.457536</td>\n",
       "    </tr>\n",
       "    <tr>\n",
       "      <th>min</th>\n",
       "      <td>1.000000</td>\n",
       "      <td>4.000000</td>\n",
       "      <td>0.000000</td>\n",
       "      <td>2.000000</td>\n",
       "      <td>1.000000</td>\n",
       "      <td>1.000000</td>\n",
       "      <td>1.000000</td>\n",
       "      <td>1.000000</td>\n",
       "      <td>1.000000</td>\n",
       "      <td>19.000000</td>\n",
       "      <td>...</td>\n",
       "      <td>0.000000</td>\n",
       "      <td>0.000000</td>\n",
       "      <td>0.000000</td>\n",
       "      <td>0.000000</td>\n",
       "      <td>0.000000</td>\n",
       "      <td>0.000000</td>\n",
       "      <td>0.000000</td>\n",
       "      <td>0.000000</td>\n",
       "      <td>0.000000</td>\n",
       "      <td>1.000000</td>\n",
       "    </tr>\n",
       "    <tr>\n",
       "      <th>25%</th>\n",
       "      <td>1.000000</td>\n",
       "      <td>12.000000</td>\n",
       "      <td>2.000000</td>\n",
       "      <td>13.000000</td>\n",
       "      <td>1.000000</td>\n",
       "      <td>3.000000</td>\n",
       "      <td>2.000000</td>\n",
       "      <td>2.000000</td>\n",
       "      <td>1.000000</td>\n",
       "      <td>27.000000</td>\n",
       "      <td>...</td>\n",
       "      <td>0.000000</td>\n",
       "      <td>0.000000</td>\n",
       "      <td>1.000000</td>\n",
       "      <td>0.000000</td>\n",
       "      <td>0.000000</td>\n",
       "      <td>0.000000</td>\n",
       "      <td>0.000000</td>\n",
       "      <td>0.000000</td>\n",
       "      <td>0.000000</td>\n",
       "      <td>1.000000</td>\n",
       "    </tr>\n",
       "    <tr>\n",
       "      <th>50%</th>\n",
       "      <td>2.000000</td>\n",
       "      <td>18.000000</td>\n",
       "      <td>2.000000</td>\n",
       "      <td>23.000000</td>\n",
       "      <td>1.000000</td>\n",
       "      <td>3.000000</td>\n",
       "      <td>3.000000</td>\n",
       "      <td>3.000000</td>\n",
       "      <td>2.000000</td>\n",
       "      <td>33.000000</td>\n",
       "      <td>...</td>\n",
       "      <td>0.000000</td>\n",
       "      <td>0.000000</td>\n",
       "      <td>1.000000</td>\n",
       "      <td>0.000000</td>\n",
       "      <td>0.000000</td>\n",
       "      <td>1.000000</td>\n",
       "      <td>0.000000</td>\n",
       "      <td>0.000000</td>\n",
       "      <td>1.000000</td>\n",
       "      <td>1.000000</td>\n",
       "    </tr>\n",
       "    <tr>\n",
       "      <th>75%</th>\n",
       "      <td>4.000000</td>\n",
       "      <td>24.000000</td>\n",
       "      <td>4.000000</td>\n",
       "      <td>40.000000</td>\n",
       "      <td>3.000000</td>\n",
       "      <td>5.000000</td>\n",
       "      <td>3.000000</td>\n",
       "      <td>4.000000</td>\n",
       "      <td>3.000000</td>\n",
       "      <td>42.000000</td>\n",
       "      <td>...</td>\n",
       "      <td>0.000000</td>\n",
       "      <td>0.000000</td>\n",
       "      <td>1.000000</td>\n",
       "      <td>0.000000</td>\n",
       "      <td>0.000000</td>\n",
       "      <td>1.000000</td>\n",
       "      <td>0.000000</td>\n",
       "      <td>0.000000</td>\n",
       "      <td>1.000000</td>\n",
       "      <td>2.000000</td>\n",
       "    </tr>\n",
       "    <tr>\n",
       "      <th>max</th>\n",
       "      <td>4.000000</td>\n",
       "      <td>72.000000</td>\n",
       "      <td>4.000000</td>\n",
       "      <td>159.000000</td>\n",
       "      <td>5.000000</td>\n",
       "      <td>5.000000</td>\n",
       "      <td>4.000000</td>\n",
       "      <td>4.000000</td>\n",
       "      <td>4.000000</td>\n",
       "      <td>75.000000</td>\n",
       "      <td>...</td>\n",
       "      <td>1.000000</td>\n",
       "      <td>1.000000</td>\n",
       "      <td>1.000000</td>\n",
       "      <td>1.000000</td>\n",
       "      <td>1.000000</td>\n",
       "      <td>1.000000</td>\n",
       "      <td>1.000000</td>\n",
       "      <td>1.000000</td>\n",
       "      <td>1.000000</td>\n",
       "      <td>2.000000</td>\n",
       "    </tr>\n",
       "  </tbody>\n",
       "</table>\n",
       "<p>8 rows × 25 columns</p>\n",
       "</div>"
      ],
      "text/plain": [
       "               0           1           2           3           4           5   \\\n",
       "count  900.000000  900.000000  900.000000  900.000000  900.000000  900.000000   \n",
       "mean     2.585556   20.725556    2.556667   32.443333    2.102222    3.404444   \n",
       "std      1.255206   12.013304    1.088983   27.909916    1.578708    1.198248   \n",
       "min      1.000000    4.000000    0.000000    2.000000    1.000000    1.000000   \n",
       "25%      1.000000   12.000000    2.000000   13.000000    1.000000    3.000000   \n",
       "50%      2.000000   18.000000    2.000000   23.000000    1.000000    3.000000   \n",
       "75%      4.000000   24.000000    4.000000   40.000000    3.000000    5.000000   \n",
       "max      4.000000   72.000000    4.000000  159.000000    5.000000    5.000000   \n",
       "\n",
       "               6           7           8           9   ...          15  \\\n",
       "count  900.000000  900.000000  900.000000  900.000000  ...  900.000000   \n",
       "mean     2.682222    2.863333    2.356667   35.538889  ...    0.232222   \n",
       "std      0.703650    1.097165    1.059157   11.465169  ...    0.422485   \n",
       "min      1.000000    1.000000    1.000000   19.000000  ...    0.000000   \n",
       "25%      2.000000    2.000000    1.000000   27.000000  ...    0.000000   \n",
       "50%      3.000000    3.000000    2.000000   33.000000  ...    0.000000   \n",
       "75%      3.000000    4.000000    3.000000   42.000000  ...    0.000000   \n",
       "max      4.000000    4.000000    4.000000   75.000000  ...    1.000000   \n",
       "\n",
       "               16          17          18          19          20          21  \\\n",
       "count  900.000000  900.000000  900.000000  900.000000  900.000000  900.000000   \n",
       "mean     0.103333    0.908889    0.038889    0.175556    0.712222    0.022222   \n",
       "std      0.304563    0.287927    0.193438    0.380653    0.452979    0.147488   \n",
       "min      0.000000    0.000000    0.000000    0.000000    0.000000    0.000000   \n",
       "25%      0.000000    1.000000    0.000000    0.000000    0.000000    0.000000   \n",
       "50%      0.000000    1.000000    0.000000    0.000000    1.000000    0.000000   \n",
       "75%      0.000000    1.000000    0.000000    0.000000    1.000000    0.000000   \n",
       "max      1.000000    1.000000    1.000000    1.000000    1.000000    1.000000   \n",
       "\n",
       "               22          23          24  \n",
       "count  900.000000  900.000000  900.000000  \n",
       "mean     0.194444    0.640000    1.297778  \n",
       "std      0.395992    0.480267    0.457536  \n",
       "min      0.000000    0.000000    1.000000  \n",
       "25%      0.000000    0.000000    1.000000  \n",
       "50%      0.000000    1.000000    1.000000  \n",
       "75%      0.000000    1.000000    2.000000  \n",
       "max      1.000000    1.000000    2.000000  \n",
       "\n",
       "[8 rows x 25 columns]"
      ]
     },
     "execution_count": 6,
     "metadata": {},
     "output_type": "execute_result"
    }
   ],
   "source": [
    "df.describe()"
   ]
  },
  {
   "cell_type": "code",
   "execution_count": 7,
   "id": "668040c9-6085-4597-b619-4b8396b384f7",
   "metadata": {},
   "outputs": [
    {
     "data": {
      "text/plain": [
       "array([[<Axes: title={'center': '0'}>, <Axes: title={'center': '1'}>,\n",
       "        <Axes: title={'center': '2'}>, <Axes: title={'center': '3'}>,\n",
       "        <Axes: title={'center': '4'}>],\n",
       "       [<Axes: title={'center': '5'}>, <Axes: title={'center': '6'}>,\n",
       "        <Axes: title={'center': '7'}>, <Axes: title={'center': '8'}>,\n",
       "        <Axes: title={'center': '9'}>],\n",
       "       [<Axes: title={'center': '10'}>, <Axes: title={'center': '11'}>,\n",
       "        <Axes: title={'center': '12'}>, <Axes: title={'center': '13'}>,\n",
       "        <Axes: title={'center': '14'}>],\n",
       "       [<Axes: title={'center': '15'}>, <Axes: title={'center': '16'}>,\n",
       "        <Axes: title={'center': '17'}>, <Axes: title={'center': '18'}>,\n",
       "        <Axes: title={'center': '19'}>],\n",
       "       [<Axes: title={'center': '20'}>, <Axes: title={'center': '21'}>,\n",
       "        <Axes: title={'center': '22'}>, <Axes: title={'center': '23'}>,\n",
       "        <Axes: title={'center': '24'}>]], dtype=object)"
      ]
     },
     "execution_count": 7,
     "metadata": {},
     "output_type": "execute_result"
    },
    {
     "data": {
      "image/png": "[encoded data removed]",
      "text/plain": [
       "<Figure size 1500x1500 with 25 Axes>"
      ]
     },
     "metadata": {},
     "output_type": "display_data"
    }
   ],
   "source": [
    "df.hist(figsize=(15,15))"
   ]
  },
  {
   "cell_type": "code",
   "execution_count": 8,
   "id": "01ac8ec1-e5b0-48b5-8256-5a091c36a486",
   "metadata": {},
   "outputs": [
    {
     "data": {
      "text/plain": [
       "<Axes: >"
      ]
     },
     "execution_count": 8,
     "metadata": {},
     "output_type": "execute_result"
    },
    {
     "data": {
      "image/png": "[encoded data removed]",
      "text/plain": [
       "<Figure size 1500x1500 with 2 Axes>"
      ]
     },
     "metadata": {},
     "output_type": "display_data"
    }
   ],
   "source": [
    "# Matriz correlación visual\n",
    "plt.figure(figsize=(15,15))\n",
    "sn.heatmap(df.corr())"
   ]
  },
  {
   "cell_type": "markdown",
   "id": "aff2e298-8a92-46b0-b5f2-e1027ff49d1b",
   "metadata": {},
   "source": [
    "### 1.1. Conclusiones acerca de los datos "
   ]
  },
  {
   "cell_type": "markdown",
   "id": "a95e7606-46f2-40e5-8c2c-0beef2422902",
   "metadata": {},
   "source": [
    "Todos los datos son numéricos y enteros, algunas columnas tiene pocas posibles respuestas: de la variable 12 hasta la 24 se aprecian solo dos posibles valores. Del documento se obtiene que los datos han sido tratados de alguna manera para quedarse únicamente con valores numéricos. En lo que queda del análisis, se evaluarán dos modelos, se hará el respectivo procedimiento para cada análisis con o sin un procesamiento de los datos para determinar cuál es la mejor opción."
   ]
  },
  {
   "cell_type": "markdown",
   "id": "07a88c4e-d852-4006-8117-3cebd8dae022",
   "metadata": {},
   "source": [
    "## 2. Preparación de los datos y funciones"
   ]
  },
  {
   "cell_type": "markdown",
   "id": "f0537b97-5dd5-41d8-bc31-fb571455d8c3",
   "metadata": {},
   "source": [
    "Una vez se ha comprobado que no hay datos faltantes ni otro aspecto por analizar, se procede a crear el dataframe *X* y el resultado esperado *y*. "
   ]
  },
  {
   "cell_type": "code",
   "execution_count": 9,
   "id": "b1504082-5372-41eb-928f-95da5b7e3990",
   "metadata": {},
   "outputs": [
    {
     "data": {
      "text/html": [
       "<div>\n",
       "<style scoped>\n",
       "    .dataframe tbody tr th:only-of-type {\n",
       "        vertical-align: middle;\n",
       "    }\n",
       "\n",
       "    .dataframe tbody tr th {\n",
       "        vertical-align: top;\n",
       "    }\n",
       "\n",
       "    .dataframe thead th {\n",
       "        text-align: right;\n",
       "    }\n",
       "</style>\n",
       "<table border=\"1\" class=\"dataframe\">\n",
       "  <thead>\n",
       "    <tr style=\"text-align: right;\">\n",
       "      <th></th>\n",
       "      <th>0</th>\n",
       "      <th>1</th>\n",
       "      <th>2</th>\n",
       "      <th>3</th>\n",
       "      <th>4</th>\n",
       "      <th>5</th>\n",
       "      <th>6</th>\n",
       "      <th>7</th>\n",
       "      <th>8</th>\n",
       "      <th>9</th>\n",
       "      <th>...</th>\n",
       "      <th>14</th>\n",
       "      <th>15</th>\n",
       "      <th>16</th>\n",
       "      <th>17</th>\n",
       "      <th>18</th>\n",
       "      <th>19</th>\n",
       "      <th>20</th>\n",
       "      <th>21</th>\n",
       "      <th>22</th>\n",
       "      <th>23</th>\n",
       "    </tr>\n",
       "  </thead>\n",
       "  <tbody>\n",
       "    <tr>\n",
       "      <th>0</th>\n",
       "      <td>1</td>\n",
       "      <td>6</td>\n",
       "      <td>4</td>\n",
       "      <td>12</td>\n",
       "      <td>5</td>\n",
       "      <td>5</td>\n",
       "      <td>3</td>\n",
       "      <td>4</td>\n",
       "      <td>1</td>\n",
       "      <td>67</td>\n",
       "      <td>...</td>\n",
       "      <td>1</td>\n",
       "      <td>0</td>\n",
       "      <td>0</td>\n",
       "      <td>1</td>\n",
       "      <td>0</td>\n",
       "      <td>0</td>\n",
       "      <td>1</td>\n",
       "      <td>0</td>\n",
       "      <td>0</td>\n",
       "      <td>1</td>\n",
       "    </tr>\n",
       "    <tr>\n",
       "      <th>1</th>\n",
       "      <td>2</td>\n",
       "      <td>48</td>\n",
       "      <td>2</td>\n",
       "      <td>60</td>\n",
       "      <td>1</td>\n",
       "      <td>3</td>\n",
       "      <td>2</td>\n",
       "      <td>2</td>\n",
       "      <td>1</td>\n",
       "      <td>22</td>\n",
       "      <td>...</td>\n",
       "      <td>1</td>\n",
       "      <td>0</td>\n",
       "      <td>0</td>\n",
       "      <td>1</td>\n",
       "      <td>0</td>\n",
       "      <td>0</td>\n",
       "      <td>1</td>\n",
       "      <td>0</td>\n",
       "      <td>0</td>\n",
       "      <td>1</td>\n",
       "    </tr>\n",
       "    <tr>\n",
       "      <th>2</th>\n",
       "      <td>4</td>\n",
       "      <td>12</td>\n",
       "      <td>4</td>\n",
       "      <td>21</td>\n",
       "      <td>1</td>\n",
       "      <td>4</td>\n",
       "      <td>3</td>\n",
       "      <td>3</td>\n",
       "      <td>1</td>\n",
       "      <td>49</td>\n",
       "      <td>...</td>\n",
       "      <td>1</td>\n",
       "      <td>0</td>\n",
       "      <td>0</td>\n",
       "      <td>1</td>\n",
       "      <td>0</td>\n",
       "      <td>0</td>\n",
       "      <td>1</td>\n",
       "      <td>0</td>\n",
       "      <td>1</td>\n",
       "      <td>0</td>\n",
       "    </tr>\n",
       "    <tr>\n",
       "      <th>3</th>\n",
       "      <td>1</td>\n",
       "      <td>42</td>\n",
       "      <td>2</td>\n",
       "      <td>79</td>\n",
       "      <td>1</td>\n",
       "      <td>4</td>\n",
       "      <td>3</td>\n",
       "      <td>4</td>\n",
       "      <td>2</td>\n",
       "      <td>45</td>\n",
       "      <td>...</td>\n",
       "      <td>1</td>\n",
       "      <td>0</td>\n",
       "      <td>0</td>\n",
       "      <td>0</td>\n",
       "      <td>0</td>\n",
       "      <td>0</td>\n",
       "      <td>0</td>\n",
       "      <td>0</td>\n",
       "      <td>0</td>\n",
       "      <td>1</td>\n",
       "    </tr>\n",
       "    <tr>\n",
       "      <th>4</th>\n",
       "      <td>1</td>\n",
       "      <td>24</td>\n",
       "      <td>3</td>\n",
       "      <td>49</td>\n",
       "      <td>1</td>\n",
       "      <td>3</td>\n",
       "      <td>3</td>\n",
       "      <td>4</td>\n",
       "      <td>4</td>\n",
       "      <td>53</td>\n",
       "      <td>...</td>\n",
       "      <td>1</td>\n",
       "      <td>1</td>\n",
       "      <td>0</td>\n",
       "      <td>1</td>\n",
       "      <td>0</td>\n",
       "      <td>0</td>\n",
       "      <td>0</td>\n",
       "      <td>0</td>\n",
       "      <td>0</td>\n",
       "      <td>1</td>\n",
       "    </tr>\n",
       "  </tbody>\n",
       "</table>\n",
       "<p>5 rows × 24 columns</p>\n",
       "</div>"
      ],
      "text/plain": [
       "   0   1   2   3   4   5   6   7   8   9   ...  14  15  16  17  18  19  20  \\\n",
       "0   1   6   4  12   5   5   3   4   1  67  ...   1   0   0   1   0   0   1   \n",
       "1   2  48   2  60   1   3   2   2   1  22  ...   1   0   0   1   0   0   1   \n",
       "2   4  12   4  21   1   4   3   3   1  49  ...   1   0   0   1   0   0   1   \n",
       "3   1  42   2  79   1   4   3   4   2  45  ...   1   0   0   0   0   0   0   \n",
       "4   1  24   3  49   1   3   3   4   4  53  ...   1   1   0   1   0   0   0   \n",
       "\n",
       "   21  22  23  \n",
       "0   0   0   1  \n",
       "1   0   0   1  \n",
       "2   0   1   0  \n",
       "3   0   0   1  \n",
       "4   0   0   1  \n",
       "\n",
       "[5 rows x 24 columns]"
      ]
     },
     "execution_count": 9,
     "metadata": {},
     "output_type": "execute_result"
    }
   ],
   "source": [
    "# Crear X (Quitar la columna o campo 24)\n",
    "X = df.drop(24, axis=1)\n",
    "X.head()"
   ]
  },
  {
   "cell_type": "code",
   "execution_count": 10,
   "id": "2ba17747-313d-4c62-b8b1-e2e80c450c36",
   "metadata": {},
   "outputs": [
    {
     "data": {
      "text/plain": [
       "0    1\n",
       "1    2\n",
       "2    1\n",
       "3    1\n",
       "4    2\n",
       "Name: 24, dtype: int64"
      ]
     },
     "execution_count": 10,
     "metadata": {},
     "output_type": "execute_result"
    }
   ],
   "source": [
    "# Guardando la variable a predecir en y\n",
    "y = df[24]\n",
    "y.head()"
   ]
  },
  {
   "cell_type": "code",
   "execution_count": 11,
   "id": "e73dbfe1-f69b-45b2-be96-1c31baf5d3d8",
   "metadata": {},
   "outputs": [
    {
     "data": {
      "text/plain": [
       "((720, 24), (180, 24), (720,), (180,))"
      ]
     },
     "execution_count": 11,
     "metadata": {},
     "output_type": "execute_result"
    }
   ],
   "source": [
    "# Dividir los datos para entrenamiento y prueba. Con un factor 80%\n",
    "X_train, X_test, y_train, y_test = train_test_split(X, y, train_size=0.8)\n",
    "X_train.shape, X_test.shape, y_train.shape, y_test.shape"
   ]
  },
  {
   "cell_type": "markdown",
   "id": "e45edd97-80e0-44f4-b104-67b69291b6f3",
   "metadata": {},
   "source": [
    "### 2.1. Matriz de costos"
   ]
  },
  {
   "cell_type": "markdown",
   "id": "511fa1a3-708d-4bc8-a4af-b0df66682ae4",
   "metadata": {},
   "source": [
    "En el documento mostrado se señala que es peor calificar a un cliente malo como bueno, que a uno bueno como malo.\n",
    "Se creará una función que devuelva el costo total de cada modelo.\n",
    "|   | 1 | 2 |\n",
    "|---|---|---|\n",
    "| 1 | 0 | 1 |\n",
    "| 2 | 5 | 0 |\n",
    "(1 = Good,  2 = Bad)\n",
    "\n",
    "Cada vez que el modelo clasifique a un cliente bueno como malo, el costo aumentará en una unidad. Cuando el modelo clasifique a un cliente malo como bueno, el costo aumentará en cinco unidades. Mientras más grande sea el costo, peor es el modelo. Dicho costo no influirá en el entrenamiento del modelo, simplemente es otra unidad que nos servirá para evaluar el modelo."
   ]
  },
  {
   "cell_type": "code",
   "execution_count": 12,
   "id": "03408a0c-61ca-494f-a233-4f0f778f062b",
   "metadata": {},
   "outputs": [],
   "source": [
    "def cost(y_predict, y_real):\n",
    "    n = len(y_predict)\n",
    "    c = 0\n",
    "    bad_as_good = 0\n",
    "    good_as_bad = 0\n",
    "    for y_p, y_r in zip(y_predict, y_real):\n",
    "        if y_p == 1 and y_r == 2:\n",
    "            c += 5\n",
    "            bad_as_good += 1\n",
    "        elif y_p == 2 and y_r == 1:\n",
    "            c += 1\n",
    "            good_as_bad += 1\n",
    "    bad_as_good_p = round(100*bad_as_good/n, 2)\n",
    "    good_as_bad_p = round(100*good_as_bad/n, 2)\n",
    "    p = 100 - bad_as_good_p - good_as_bad_p\n",
    "    print(f'Número de elementos: {len(y_predict)}')\n",
    "    print(f'Malos clientes clasificados como buenos: {bad_as_good} ({bad_as_good_p}%)')\n",
    "    print(f'Buenos clientes clasificados como malos: {good_as_bad} ({round(100*good_as_bad/n, 2)}%)')\n",
    "    print(f'Score: {p}%')\n",
    "    print(f'Costo: {c}')"
   ]
  },
  {
   "cell_type": "markdown",
   "id": "47ed788a-fd76-41ab-8b5f-5f28f5392c7a",
   "metadata": {},
   "source": [
    "También se definirá una función que determine el error medio y su desviación estándar."
   ]
  },
  {
   "cell_type": "code",
   "execution_count": 13,
   "id": "49d7f4bf-5ff1-4c32-99d7-95f2dea52158",
   "metadata": {},
   "outputs": [],
   "source": [
    "def score(model, X, y):\n",
    "    model_scores = -cross_val_score(model, X, y, scoring = 'neg_mean_squared_error', cv = 5)\n",
    "    print('Cross validation mean: ', model_scores.mean())\n",
    "    print('Cross validation standard Deviation:', model_scores.std())"
   ]
  },
  {
   "cell_type": "markdown",
   "id": "3fee855c-d9b9-45b7-9583-b2e142ea720f",
   "metadata": {},
   "source": [
    "Se definirá un nuevo dataframe en donde se pondrán los resultados más significativos de cada modelo"
   ]
  },
  {
   "cell_type": "code",
   "execution_count": 14,
   "id": "a54b60a1-2df7-4717-ac0a-724f981e8ec5",
   "metadata": {},
   "outputs": [
    {
     "data": {
      "text/html": [
       "<div>\n",
       "<style scoped>\n",
       "    .dataframe tbody tr th:only-of-type {\n",
       "        vertical-align: middle;\n",
       "    }\n",
       "\n",
       "    .dataframe tbody tr th {\n",
       "        vertical-align: top;\n",
       "    }\n",
       "\n",
       "    .dataframe thead th {\n",
       "        text-align: right;\n",
       "    }\n",
       "</style>\n",
       "<table border=\"1\" class=\"dataframe\">\n",
       "  <thead>\n",
       "    <tr style=\"text-align: right;\">\n",
       "      <th></th>\n",
       "    </tr>\n",
       "    <tr>\n",
       "      <th>index</th>\n",
       "    </tr>\n",
       "  </thead>\n",
       "  <tbody>\n",
       "    <tr>\n",
       "      <th>Parámetros</th>\n",
       "    </tr>\n",
       "    <tr>\n",
       "      <th>Score</th>\n",
       "    </tr>\n",
       "    <tr>\n",
       "      <th>Costo</th>\n",
       "    </tr>\n",
       "    <tr>\n",
       "      <th>Cross validation mean</th>\n",
       "    </tr>\n",
       "    <tr>\n",
       "      <th>Cross validation standar deviation</th>\n",
       "    </tr>\n",
       "  </tbody>\n",
       "</table>\n",
       "</div>"
      ],
      "text/plain": [
       "Empty DataFrame\n",
       "Columns: []\n",
       "Index: [Parámetros, Score, Costo, Cross validation mean, Cross validation standar deviation]"
      ]
     },
     "execution_count": 14,
     "metadata": {},
     "output_type": "execute_result"
    }
   ],
   "source": [
    "resultados = pd.DataFrame()\n",
    "resultados['index'] = ['Parámetros', 'Score', 'Costo', 'Cross validation mean', 'Cross validation standar deviation']\n",
    "resultados = resultados.set_index('index')\n",
    "resultados"
   ]
  },
  {
   "cell_type": "markdown",
   "id": "f414e659-b2e9-4a47-bd5e-2039f93f1eb4",
   "metadata": {},
   "source": [
    "## 3. Primer modelo: árbol de decisión"
   ]
  },
  {
   "cell_type": "markdown",
   "id": "eb534dab-ae2a-4761-b42f-2bb77972e829",
   "metadata": {},
   "source": [
    "### 3.1. Sin transformación en los datos"
   ]
  },
  {
   "cell_type": "code",
   "execution_count": 15,
   "id": "7f4ff674-91cf-40ad-b747-0a9cf0afaa1c",
   "metadata": {},
   "outputs": [
    {
     "data": {
      "text/plain": [
       "{'ccp_alpha': 0.0,\n",
       " 'class_weight': None,\n",
       " 'criterion': 'gini',\n",
       " 'max_depth': None,\n",
       " 'max_features': None,\n",
       " 'max_leaf_nodes': None,\n",
       " 'min_impurity_decrease': 0.0,\n",
       " 'min_samples_leaf': 1,\n",
       " 'min_samples_split': 2,\n",
       " 'min_weight_fraction_leaf': 0.0,\n",
       " 'random_state': None,\n",
       " 'splitter': 'best'}"
      ]
     },
     "execution_count": 15,
     "metadata": {},
     "output_type": "execute_result"
    }
   ],
   "source": [
    "DT_Classifier = DecisionTreeClassifier()\n",
    "DT_Classifier.get_params()"
   ]
  },
  {
   "cell_type": "code",
   "execution_count": 16,
   "id": "bdfb8d6b-18de-439f-b141-8171864ffbf7",
   "metadata": {},
   "outputs": [
    {
     "name": "stdout",
     "output_type": "stream",
     "text": [
      "Número de elementos: 180\n",
      "Malos clientes clasificados como buenos: 20 (11.11%)\n",
      "Buenos clientes clasificados como malos: 29 (16.11%)\n",
      "Score: 72.78%\n",
      "Costo: 129\n",
      "Cross validation mean:  0.28555555555555556\n",
      "Cross validation standard Deviation: 0.027799991118215125\n"
     ]
    }
   ],
   "source": [
    "DT_Classifier.fit(X_train, y_train)\n",
    "cost(DT_Classifier.predict(X_test), y_test)\n",
    "score(DT_Classifier, X, y)"
   ]
  },
  {
   "cell_type": "markdown",
   "id": "197d7e77-73ad-433b-8bf7-8751a87e391a",
   "metadata": {},
   "source": [
    "#### 3.1.1. Ajustando el modelo"
   ]
  },
  {
   "cell_type": "code",
   "execution_count": 17,
   "id": "204c345f-48b8-4331-a1c4-d35441364e25",
   "metadata": {},
   "outputs": [
    {
     "name": "stdout",
     "output_type": "stream",
     "text": [
      "Fitting 5 folds for each of 1080 candidates, totalling 5400 fits\n"
     ]
    },
    {
     "data": {
      "text/plain": [
       "{'max_depth': 22,\n",
       " 'max_leaf_nodes': 26,\n",
       " 'min_samples_leaf': 1,\n",
       " 'min_samples_split': 4}"
      ]
     },
     "execution_count": 17,
     "metadata": {},
     "output_type": "execute_result"
    }
   ],
   "source": [
    "# Parámetros\n",
    "max_depth = [2, 6, 10, 14, 18, 22, 26, 30, 34]\n",
    "max_leaf_nodes = [2, 6, 10, 14, 18, 22, 26, 30]\n",
    "min_samples_leaf = [1, 3, 5]\n",
    "min_samples_split = [2, 3, 4, 5, 6]\n",
    "params = {\n",
    "    'max_depth': max_depth,\n",
    "    'max_leaf_nodes': max_leaf_nodes,\n",
    "    'min_samples_leaf': min_samples_leaf,\n",
    "    'min_samples_split': min_samples_split\n",
    "}\n",
    "# Modelo\n",
    "DT_Classifier = DecisionTreeClassifier()\n",
    "DT_grid = GridSearchCV(DT_Classifier, param_grid = params,\n",
    "                       cv = 5, scoring = 'neg_mean_squared_error',\n",
    "                       n_jobs = -1, verbose = 1)\n",
    "DT_grid.fit(X, y)\n",
    "DT_grid.best_params_"
   ]
  },
  {
   "cell_type": "code",
   "execution_count": 18,
   "id": "db662d6e-5287-4c5a-9556-e4e9fe2ec920",
   "metadata": {},
   "outputs": [
    {
     "name": "stdout",
     "output_type": "stream",
     "text": [
      "Número de elementos: 180\n",
      "Malos clientes clasificados como buenos: 29 (16.11%)\n",
      "Buenos clientes clasificados como malos: 21 (11.67%)\n",
      "Score: 72.22%\n",
      "Costo: 166\n",
      "Cross validation mean:  0.2544444444444444\n",
      "Cross validation standard Deviation: 0.01662958838566196\n"
     ]
    }
   ],
   "source": [
    "model_1_DT = DecisionTreeClassifier(\n",
    "    max_depth = 22,\n",
    "    max_leaf_nodes = 26,\n",
    "    min_samples_leaf = 1,\n",
    "    min_samples_split = 4\n",
    ")\n",
    "model_1_DT.fit(X_train, y_train)\n",
    "cost(model_1_DT.predict(X_test), y_test)\n",
    "score(model_1_DT, X, y)"
   ]
  },
  {
   "cell_type": "code",
   "execution_count": 19,
   "id": "61a09bd6-a60f-4cb6-8f8d-b82e50b56126",
   "metadata": {},
   "outputs": [
    {
     "data": {
      "text/html": [
       "<div>\n",
       "<style scoped>\n",
       "    .dataframe tbody tr th:only-of-type {\n",
       "        vertical-align: middle;\n",
       "    }\n",
       "\n",
       "    .dataframe tbody tr th {\n",
       "        vertical-align: top;\n",
       "    }\n",
       "\n",
       "    .dataframe thead th {\n",
       "        text-align: right;\n",
       "    }\n",
       "</style>\n",
       "<table border=\"1\" class=\"dataframe\">\n",
       "  <thead>\n",
       "    <tr style=\"text-align: right;\">\n",
       "      <th></th>\n",
       "      <th>model_1_DT</th>\n",
       "    </tr>\n",
       "    <tr>\n",
       "      <th>index</th>\n",
       "      <th></th>\n",
       "    </tr>\n",
       "  </thead>\n",
       "  <tbody>\n",
       "    <tr>\n",
       "      <th>Parámetros</th>\n",
       "      <td>max_depth = 22, max_leaf_nodes = 26, min_sampl...</td>\n",
       "    </tr>\n",
       "    <tr>\n",
       "      <th>Score</th>\n",
       "      <td>72.22</td>\n",
       "    </tr>\n",
       "    <tr>\n",
       "      <th>Costo</th>\n",
       "      <td>166</td>\n",
       "    </tr>\n",
       "    <tr>\n",
       "      <th>Cross validation mean</th>\n",
       "      <td>0.2544</td>\n",
       "    </tr>\n",
       "    <tr>\n",
       "      <th>Cross validation standar deviation</th>\n",
       "      <td>0.0166</td>\n",
       "    </tr>\n",
       "  </tbody>\n",
       "</table>\n",
       "</div>"
      ],
      "text/plain": [
       "                                                                           model_1_DT\n",
       "index                                                                                \n",
       "Parámetros                          max_depth = 22, max_leaf_nodes = 26, min_sampl...\n",
       "Score                                                                           72.22\n",
       "Costo                                                                             166\n",
       "Cross validation mean                                                          0.2544\n",
       "Cross validation standar deviation                                             0.0166"
      ]
     },
     "execution_count": 19,
     "metadata": {},
     "output_type": "execute_result"
    }
   ],
   "source": [
    "resultados['model_1_DT'] = ['max_depth = 22, max_leaf_nodes = 26, min_samples_leaf = 1, min_samples_split = 4',\n",
    "                            72.22, 166, 0.2544, 0.0166]\n",
    "resultados"
   ]
  },
  {
   "cell_type": "markdown",
   "id": "0a4d7a00-226c-4206-9211-f850e4dee18e",
   "metadata": {},
   "source": [
    "### 3.2. Con transformación en los datos"
   ]
  },
  {
   "cell_type": "markdown",
   "id": "ad4e06a0-49eb-41c5-b0d7-1449e7676f6f",
   "metadata": {},
   "source": [
    "Todos los datos son numéricos, se aplicará el mismo tratamiento a todas las variables"
   ]
  },
  {
   "cell_type": "code",
   "execution_count": 20,
   "id": "8d88a821-7940-47c0-b24f-1e002477d5e1",
   "metadata": {},
   "outputs": [
    {
     "name": "stdout",
     "output_type": "stream",
     "text": [
      "Número de elementos: 180\n",
      "Malos clientes clasificados como buenos: 18 (10.0%)\n",
      "Buenos clientes clasificados como malos: 30 (16.67%)\n",
      "Score: 73.33%\n",
      "Costo: 120\n"
     ]
    }
   ],
   "source": [
    "DT_Classifier = DecisionTreeClassifier()\n",
    "DT_model = Pipeline([\n",
    "    ('StandardScaler', StandardScaler()),\n",
    "    ('DT_Classifier', DT_Classifier)\n",
    "])\n",
    "DT_model.fit(X_train, y_train)\n",
    "cost(DT_model.predict(X_test), y_test)"
   ]
  },
  {
   "cell_type": "markdown",
   "id": "cd9cd1d4-eb2e-4063-8f95-aa6ac463f3ed",
   "metadata": {},
   "source": [
    "#### 3.2.1. Ajustando el modelo"
   ]
  },
  {
   "cell_type": "code",
   "execution_count": 21,
   "id": "5991c2fd-c300-4f65-8db5-ed301c5e5694",
   "metadata": {},
   "outputs": [
    {
     "name": "stdout",
     "output_type": "stream",
     "text": [
      "Fitting 5 folds for each of 1080 candidates, totalling 5400 fits\n"
     ]
    },
    {
     "data": {
      "text/plain": [
       "{'DT_Classifier__max_depth': 14,\n",
       " 'DT_Classifier__max_leaf_nodes': 26,\n",
       " 'DT_Classifier__min_samples_leaf': 1,\n",
       " 'DT_Classifier__min_samples_split': 5}"
      ]
     },
     "execution_count": 21,
     "metadata": {},
     "output_type": "execute_result"
    }
   ],
   "source": [
    "# Parámetros\n",
    "max_depth = [2, 6, 10, 14, 18, 22, 26, 30, 34]\n",
    "max_leaf_nodes = [2, 6, 10, 14, 18, 22, 26, 30]\n",
    "min_samples_leaf = [1, 3, 5]\n",
    "min_samples_split = [2, 3, 4, 5, 6]\n",
    "params = {\n",
    "    'DT_Classifier__max_depth': max_depth,\n",
    "    'DT_Classifier__max_leaf_nodes': max_leaf_nodes,\n",
    "    'DT_Classifier__min_samples_leaf': min_samples_leaf,\n",
    "    'DT_Classifier__min_samples_split': min_samples_split\n",
    "}\n",
    "DT_Classifier = DecisionTreeClassifier()\n",
    "# Modelo\n",
    "DT_model = Pipeline([\n",
    "    ('StandardScaler', StandardScaler()),\n",
    "    ('DT_Classifier', DT_Classifier)\n",
    "])\n",
    "DT_grid = GridSearchCV(DT_model, param_grid = params,\n",
    "                       cv = 5, scoring = 'neg_mean_squared_error',\n",
    "                       n_jobs = -1, verbose = 1)\n",
    "DT_grid.fit(X, y)\n",
    "DT_grid.best_params_"
   ]
  },
  {
   "cell_type": "code",
   "execution_count": 22,
   "id": "aab3ebfc-c056-4a12-a756-1a0aacf39c23",
   "metadata": {},
   "outputs": [
    {
     "name": "stdout",
     "output_type": "stream",
     "text": [
      "Número de elementos: 180\n",
      "Malos clientes clasificados como buenos: 29 (16.11%)\n",
      "Buenos clientes clasificados como malos: 21 (11.67%)\n",
      "Score: 72.22%\n",
      "Costo: 166\n",
      "Cross validation mean:  0.2511111111111111\n",
      "Cross validation standard Deviation: 0.012862041003100249\n"
     ]
    }
   ],
   "source": [
    "DT_Classifier = DecisionTreeClassifier(\n",
    "    max_depth = 14,\n",
    "    max_leaf_nodes = 26,\n",
    "    min_samples_leaf = 1,\n",
    "    min_samples_split = 5\n",
    ")\n",
    "model_2_DT = Pipeline([\n",
    "    ('StandardScaler', StandardScaler()),\n",
    "    ('DT_Classifier', DT_Classifier)\n",
    "])\n",
    "model_2_DT.fit(X_train, y_train)\n",
    "cost(model_2_DT.predict(X_test), y_test)\n",
    "score(model_2_DT, X, y)"
   ]
  },
  {
   "cell_type": "code",
   "execution_count": 23,
   "id": "b6894cc9-5660-446a-a53b-361c7de7a06a",
   "metadata": {},
   "outputs": [
    {
     "data": {
      "text/html": [
       "<div>\n",
       "<style scoped>\n",
       "    .dataframe tbody tr th:only-of-type {\n",
       "        vertical-align: middle;\n",
       "    }\n",
       "\n",
       "    .dataframe tbody tr th {\n",
       "        vertical-align: top;\n",
       "    }\n",
       "\n",
       "    .dataframe thead th {\n",
       "        text-align: right;\n",
       "    }\n",
       "</style>\n",
       "<table border=\"1\" class=\"dataframe\">\n",
       "  <thead>\n",
       "    <tr style=\"text-align: right;\">\n",
       "      <th></th>\n",
       "      <th>model_1_DT</th>\n",
       "      <th>model_2_DT</th>\n",
       "    </tr>\n",
       "    <tr>\n",
       "      <th>index</th>\n",
       "      <th></th>\n",
       "      <th></th>\n",
       "    </tr>\n",
       "  </thead>\n",
       "  <tbody>\n",
       "    <tr>\n",
       "      <th>Parámetros</th>\n",
       "      <td>max_depth = 22, max_leaf_nodes = 26, min_sampl...</td>\n",
       "      <td>max_depth = 14, max_leaf_nodes = 26, min_sampl...</td>\n",
       "    </tr>\n",
       "    <tr>\n",
       "      <th>Score</th>\n",
       "      <td>72.22</td>\n",
       "      <td>72.22</td>\n",
       "    </tr>\n",
       "    <tr>\n",
       "      <th>Costo</th>\n",
       "      <td>166</td>\n",
       "      <td>166</td>\n",
       "    </tr>\n",
       "    <tr>\n",
       "      <th>Cross validation mean</th>\n",
       "      <td>0.2544</td>\n",
       "      <td>0.2511</td>\n",
       "    </tr>\n",
       "    <tr>\n",
       "      <th>Cross validation standar deviation</th>\n",
       "      <td>0.0166</td>\n",
       "      <td>0.0129</td>\n",
       "    </tr>\n",
       "  </tbody>\n",
       "</table>\n",
       "</div>"
      ],
      "text/plain": [
       "                                                                           model_1_DT  \\\n",
       "index                                                                                   \n",
       "Parámetros                          max_depth = 22, max_leaf_nodes = 26, min_sampl...   \n",
       "Score                                                                           72.22   \n",
       "Costo                                                                             166   \n",
       "Cross validation mean                                                          0.2544   \n",
       "Cross validation standar deviation                                             0.0166   \n",
       "\n",
       "                                                                           model_2_DT  \n",
       "index                                                                                  \n",
       "Parámetros                          max_depth = 14, max_leaf_nodes = 26, min_sampl...  \n",
       "Score                                                                           72.22  \n",
       "Costo                                                                             166  \n",
       "Cross validation mean                                                          0.2511  \n",
       "Cross validation standar deviation                                             0.0129  "
      ]
     },
     "execution_count": 23,
     "metadata": {},
     "output_type": "execute_result"
    }
   ],
   "source": [
    "resultados['model_2_DT'] = ['max_depth = 14, max_leaf_nodes = 26, min_samples_leaf = 1, min_samples_split = 5',\n",
    "                            72.22, 166, 0.2511, 0.0129]\n",
    "resultados"
   ]
  },
  {
   "cell_type": "markdown",
   "id": "b0e82320-a11e-48e6-83a9-16b0a713ebd7",
   "metadata": {},
   "source": [
    "## 4. Segundo modelo: random forest"
   ]
  },
  {
   "cell_type": "markdown",
   "id": "8ebbf24f-b5fd-45ef-8367-43837f1ca24f",
   "metadata": {},
   "source": [
    "### 4.1. Sin transformación en los datos"
   ]
  },
  {
   "cell_type": "code",
   "execution_count": 24,
   "id": "9447e8cb-15dd-4c1d-8dbd-5b7ce17cd056",
   "metadata": {},
   "outputs": [
    {
     "data": {
      "text/plain": [
       "{'bootstrap': True,\n",
       " 'ccp_alpha': 0.0,\n",
       " 'class_weight': None,\n",
       " 'criterion': 'gini',\n",
       " 'max_depth': None,\n",
       " 'max_features': 'sqrt',\n",
       " 'max_leaf_nodes': None,\n",
       " 'max_samples': None,\n",
       " 'min_impurity_decrease': 0.0,\n",
       " 'min_samples_leaf': 1,\n",
       " 'min_samples_split': 2,\n",
       " 'min_weight_fraction_leaf': 0.0,\n",
       " 'n_estimators': 100,\n",
       " 'n_jobs': None,\n",
       " 'oob_score': False,\n",
       " 'random_state': None,\n",
       " 'verbose': 0,\n",
       " 'warm_start': False}"
      ]
     },
     "execution_count": 24,
     "metadata": {},
     "output_type": "execute_result"
    }
   ],
   "source": [
    "RF_Classifier = RandomForestClassifier()\n",
    "RF_Classifier.get_params()"
   ]
  },
  {
   "cell_type": "code",
   "execution_count": 25,
   "id": "34735f79-1753-4f47-a65a-2323ef451691",
   "metadata": {},
   "outputs": [
    {
     "name": "stdout",
     "output_type": "stream",
     "text": [
      "Número de elementos: 180\n",
      "Malos clientes clasificados como buenos: 29 (16.11%)\n",
      "Buenos clientes clasificados como malos: 12 (6.67%)\n",
      "Score: 77.22%\n",
      "Costo: 157\n"
     ]
    }
   ],
   "source": [
    "RF_Classifier.fit(X_train, y_train)\n",
    "cost(RF_Classifier.predict(X_test), y_test)"
   ]
  },
  {
   "cell_type": "markdown",
   "id": "6752e729-300c-41c3-91b6-3d0155c52d2c",
   "metadata": {},
   "source": [
    "#### 4.1.1. Ajustando el modelo"
   ]
  },
  {
   "cell_type": "code",
   "execution_count": 26,
   "id": "46dc71ce-15f5-4d56-9b56-96ddb7dc299b",
   "metadata": {},
   "outputs": [
    {
     "name": "stdout",
     "output_type": "stream",
     "text": [
      "Fitting 5 folds for each of 360 candidates, totalling 1800 fits\n"
     ]
    },
    {
     "data": {
      "text/plain": [
       "{'max_depth': 15,\n",
       " 'max_features': 'log2',\n",
       " 'max_leaf_nodes': 90,\n",
       " 'min_samples_split': 5,\n",
       " 'n_estimators': 200}"
      ]
     },
     "execution_count": 26,
     "metadata": {},
     "output_type": "execute_result"
    }
   ],
   "source": [
    "# Parámetros\n",
    "max_depth = [int(x) for x in np.linspace(1, 30, num = 5)]\n",
    "max_features = ['log2', 'sqrt']\n",
    "max_leaf_nodes = [30, 60, 90]\n",
    "min_samples_split = [5, 7, 9]\n",
    "n_estimators = [int(x) for x in np.linspace(start = 200, stop = 500, num = 4)]\n",
    "params = {'max_depth': max_depth,\n",
    "          'max_features': max_features,\n",
    "          'max_leaf_nodes': max_leaf_nodes,\n",
    "          'min_samples_split': min_samples_split,\n",
    "          'n_estimators': n_estimators\n",
    "}\n",
    "# Modelo\n",
    "RF_Classifier = RandomForestClassifier()\n",
    "RF_grid = GridSearchCV(RF_Classifier, param_grid = params,\n",
    "                       cv = 5, scoring = 'neg_mean_squared_error',\n",
    "                       n_jobs = -1, verbose = 1)\n",
    "RF_grid.fit(X, y)\n",
    "RF_grid.best_params_"
   ]
  },
  {
   "cell_type": "code",
   "execution_count": 27,
   "id": "3377887f-cf42-444e-ad88-5f102eac935a",
   "metadata": {},
   "outputs": [
    {
     "name": "stdout",
     "output_type": "stream",
     "text": [
      "Número de elementos: 180\n",
      "Malos clientes clasificados como buenos: 29 (16.11%)\n",
      "Buenos clientes clasificados como malos: 8 (4.44%)\n",
      "Score: 79.45%\n",
      "Costo: 153\n",
      "Cross validation mean:  0.23888888888888893\n",
      "Cross validation standard Deviation: 0.017568209223157657\n"
     ]
    }
   ],
   "source": [
    "model_3_RF = RandomForestClassifier(\n",
    "    max_depth = 15,\n",
    "    max_features = 'log2',\n",
    "    max_leaf_nodes = 90,\n",
    "    min_samples_split = 5,\n",
    "    n_estimators = 200\n",
    ")\n",
    "model_3_RF.fit(X_train, y_train)\n",
    "cost(model_3_RF.predict(X_test), y_test)\n",
    "score(model_3_RF, X, y)"
   ]
  },
  {
   "cell_type": "code",
   "execution_count": 28,
   "id": "a7fd876b-0676-4de4-b3fc-20141399ca3d",
   "metadata": {},
   "outputs": [
    {
     "data": {
      "text/html": [
       "<div>\n",
       "<style scoped>\n",
       "    .dataframe tbody tr th:only-of-type {\n",
       "        vertical-align: middle;\n",
       "    }\n",
       "\n",
       "    .dataframe tbody tr th {\n",
       "        vertical-align: top;\n",
       "    }\n",
       "\n",
       "    .dataframe thead th {\n",
       "        text-align: right;\n",
       "    }\n",
       "</style>\n",
       "<table border=\"1\" class=\"dataframe\">\n",
       "  <thead>\n",
       "    <tr style=\"text-align: right;\">\n",
       "      <th></th>\n",
       "      <th>model_1_DT</th>\n",
       "      <th>model_2_DT</th>\n",
       "      <th>model_3_RF</th>\n",
       "    </tr>\n",
       "    <tr>\n",
       "      <th>index</th>\n",
       "      <th></th>\n",
       "      <th></th>\n",
       "      <th></th>\n",
       "    </tr>\n",
       "  </thead>\n",
       "  <tbody>\n",
       "    <tr>\n",
       "      <th>Parámetros</th>\n",
       "      <td>max_depth = 22, max_leaf_nodes = 26, min_sampl...</td>\n",
       "      <td>max_depth = 14, max_leaf_nodes = 26, min_sampl...</td>\n",
       "      <td>max_depth = 15, max_features = log2, max_leaf_...</td>\n",
       "    </tr>\n",
       "    <tr>\n",
       "      <th>Score</th>\n",
       "      <td>72.22</td>\n",
       "      <td>72.22</td>\n",
       "      <td>79.45</td>\n",
       "    </tr>\n",
       "    <tr>\n",
       "      <th>Costo</th>\n",
       "      <td>166</td>\n",
       "      <td>166</td>\n",
       "      <td>153</td>\n",
       "    </tr>\n",
       "    <tr>\n",
       "      <th>Cross validation mean</th>\n",
       "      <td>0.2544</td>\n",
       "      <td>0.2511</td>\n",
       "      <td>0.2389</td>\n",
       "    </tr>\n",
       "    <tr>\n",
       "      <th>Cross validation standar deviation</th>\n",
       "      <td>0.0166</td>\n",
       "      <td>0.0129</td>\n",
       "      <td>0.0176</td>\n",
       "    </tr>\n",
       "  </tbody>\n",
       "</table>\n",
       "</div>"
      ],
      "text/plain": [
       "                                                                           model_1_DT  \\\n",
       "index                                                                                   \n",
       "Parámetros                          max_depth = 22, max_leaf_nodes = 26, min_sampl...   \n",
       "Score                                                                           72.22   \n",
       "Costo                                                                             166   \n",
       "Cross validation mean                                                          0.2544   \n",
       "Cross validation standar deviation                                             0.0166   \n",
       "\n",
       "                                                                           model_2_DT  \\\n",
       "index                                                                                   \n",
       "Parámetros                          max_depth = 14, max_leaf_nodes = 26, min_sampl...   \n",
       "Score                                                                           72.22   \n",
       "Costo                                                                             166   \n",
       "Cross validation mean                                                          0.2511   \n",
       "Cross validation standar deviation                                             0.0129   \n",
       "\n",
       "                                                                           model_3_RF  \n",
       "index                                                                                  \n",
       "Parámetros                          max_depth = 15, max_features = log2, max_leaf_...  \n",
       "Score                                                                           79.45  \n",
       "Costo                                                                             153  \n",
       "Cross validation mean                                                          0.2389  \n",
       "Cross validation standar deviation                                             0.0176  "
      ]
     },
     "execution_count": 28,
     "metadata": {},
     "output_type": "execute_result"
    }
   ],
   "source": [
    "resultados['model_3_RF'] = ['max_depth = 15, max_features = log2, max_leaf_nodes = 90, min_samples_split = 5, n_estimators = 200',\n",
    "                            79.45, 153, 0.2389, 0.0176]\n",
    "resultados"
   ]
  },
  {
   "cell_type": "markdown",
   "id": "9d0cecda-fe50-4bf2-8c94-bd27cf547852",
   "metadata": {},
   "source": [
    "### 4.2. Con transformación en los datos"
   ]
  },
  {
   "cell_type": "markdown",
   "id": "59f3bbff-f33a-49be-8031-58c67eb20d74",
   "metadata": {},
   "source": [
    "Todos los datos son numéricos, se aplicará el mismo tratamiento a todas las variables"
   ]
  },
  {
   "cell_type": "code",
   "execution_count": 29,
   "id": "dca65916-e4dd-4a3d-b060-e5e2e5c07451",
   "metadata": {},
   "outputs": [
    {
     "name": "stdout",
     "output_type": "stream",
     "text": [
      "Número de elementos: 180\n",
      "Malos clientes clasificados como buenos: 29 (16.11%)\n",
      "Buenos clientes clasificados como malos: 11 (6.11%)\n",
      "Score: 77.78%\n",
      "Costo: 156\n"
     ]
    }
   ],
   "source": [
    "RF_Classifier = RandomForestClassifier()\n",
    "RF_model = Pipeline([\n",
    "    ('StandardScaler', StandardScaler()),\n",
    "    ('DT_Classifier', RF_Classifier)\n",
    "])\n",
    "RF_model.fit(X_train, y_train)\n",
    "cost(RF_model.predict(X_test), y_test)"
   ]
  },
  {
   "cell_type": "markdown",
   "id": "2dbad6a2-b787-48e4-86fd-0b2f6e47e253",
   "metadata": {},
   "source": [
    "#### 4.2.1. Ajustando el modelo"
   ]
  },
  {
   "cell_type": "code",
   "execution_count": 30,
   "id": "2763b5de-9684-4bc5-a371-a3a9ce101dc8",
   "metadata": {},
   "outputs": [
    {
     "name": "stdout",
     "output_type": "stream",
     "text": [
      "Fitting 5 folds for each of 360 candidates, totalling 1800 fits\n"
     ]
    },
    {
     "data": {
      "text/plain": [
       "{'RF_Classifier__max_depth': 30,\n",
       " 'RF_Classifier__max_features': 'sqrt',\n",
       " 'RF_Classifier__max_leaf_nodes': 90,\n",
       " 'RF_Classifier__min_samples_split': 5,\n",
       " 'RF_Classifier__n_estimators': 200}"
      ]
     },
     "execution_count": 30,
     "metadata": {},
     "output_type": "execute_result"
    }
   ],
   "source": [
    "# Parámetros\n",
    "max_depth = [int(x) for x in np.linspace(1, 30, num = 5)]\n",
    "max_features = ['log2', 'sqrt']\n",
    "max_leaf_nodes = [30, 60, 90]\n",
    "min_samples_split = [5, 7, 9]\n",
    "n_estimators = [int(x) for x in np.linspace(start = 200, stop = 500, num = 4)]\n",
    "params = {'RF_Classifier__max_depth': max_depth,\n",
    "          'RF_Classifier__max_features': max_features,\n",
    "          'RF_Classifier__max_leaf_nodes': max_leaf_nodes,\n",
    "          'RF_Classifier__min_samples_split': min_samples_split,\n",
    "          'RF_Classifier__n_estimators': n_estimators\n",
    "}\n",
    "# Modelo\n",
    "RF_Classifier = RandomForestClassifier()\n",
    "RF_model = Pipeline([\n",
    "    ('StandardScaler', StandardScaler()),\n",
    "    ('RF_Classifier', RF_Classifier)\n",
    "])\n",
    "RF_grid = GridSearchCV(RF_model, param_grid = params,\n",
    "                       cv = 5, scoring = 'neg_mean_squared_error',\n",
    "                       n_jobs = -1, verbose = 1)\n",
    "RF_grid.fit(X, y)\n",
    "RF_grid.best_params_"
   ]
  },
  {
   "cell_type": "code",
   "execution_count": 31,
   "id": "e280fd21-9d42-4d93-acb9-48558a90cb48",
   "metadata": {},
   "outputs": [
    {
     "name": "stdout",
     "output_type": "stream",
     "text": [
      "Número de elementos: 180\n",
      "Malos clientes clasificados como buenos: 27 (15.0%)\n",
      "Buenos clientes clasificados como malos: 9 (5.0%)\n",
      "Score: 80.0%\n",
      "Costo: 144\n",
      "Cross validation mean:  0.2411111111111111\n",
      "Cross validation standard Deviation: 0.015153535218873174\n"
     ]
    }
   ],
   "source": [
    "RF_Classifier = RandomForestClassifier(\n",
    "    max_depth = 30,\n",
    "    max_features = 'sqrt',\n",
    "    max_leaf_nodes = 90,\n",
    "    min_samples_split = 5,\n",
    "    n_estimators = 200\n",
    ")\n",
    "model_4_RF = Pipeline([\n",
    "    ('StandardScaler', StandardScaler()),\n",
    "    ('RF_Classifier', RF_Classifier)\n",
    "])\n",
    "model_4_RF.fit(X_train, y_train)\n",
    "cost(model_4_RF.predict(X_test), y_test)\n",
    "score(model_4_RF, X, y)"
   ]
  },
  {
   "cell_type": "code",
   "execution_count": 32,
   "id": "1be6c43c-0156-4dec-af57-a5b4a2b04c5d",
   "metadata": {},
   "outputs": [],
   "source": [
    "resultados['model_4_RF'] = ['max_depth = 30, max_features = sqrt, max_leaf_nodes = 90, min_samples_split = 5, n_estimators = 200',\n",
    "                            80, 144, 0.2411, 0.0156]"
   ]
  },
  {
   "cell_type": "markdown",
   "id": "210e6db5-8531-4ab8-8f29-d12d8e796449",
   "metadata": {},
   "source": [
    "## 5. Eligiendo y comprobando el modelo"
   ]
  },
  {
   "cell_type": "code",
   "execution_count": 33,
   "id": "2bf8c2c0-2fab-4cb7-a9a0-b6ed3dc9474f",
   "metadata": {},
   "outputs": [
    {
     "data": {
      "text/html": [
       "<div>\n",
       "<style scoped>\n",
       "    .dataframe tbody tr th:only-of-type {\n",
       "        vertical-align: middle;\n",
       "    }\n",
       "\n",
       "    .dataframe tbody tr th {\n",
       "        vertical-align: top;\n",
       "    }\n",
       "\n",
       "    .dataframe thead th {\n",
       "        text-align: right;\n",
       "    }\n",
       "</style>\n",
       "<table border=\"1\" class=\"dataframe\">\n",
       "  <thead>\n",
       "    <tr style=\"text-align: right;\">\n",
       "      <th></th>\n",
       "      <th>model_1_DT</th>\n",
       "      <th>model_2_DT</th>\n",
       "      <th>model_3_RF</th>\n",
       "      <th>model_4_RF</th>\n",
       "    </tr>\n",
       "    <tr>\n",
       "      <th>index</th>\n",
       "      <th></th>\n",
       "      <th></th>\n",
       "      <th></th>\n",
       "      <th></th>\n",
       "    </tr>\n",
       "  </thead>\n",
       "  <tbody>\n",
       "    <tr>\n",
       "      <th>Parámetros</th>\n",
       "      <td>max_depth = 22, max_leaf_nodes = 26, min_sampl...</td>\n",
       "      <td>max_depth = 14, max_leaf_nodes = 26, min_sampl...</td>\n",
       "      <td>max_depth = 15, max_features = log2, max_leaf_...</td>\n",
       "      <td>max_depth = 30, max_features = sqrt, max_leaf_...</td>\n",
       "    </tr>\n",
       "    <tr>\n",
       "      <th>Score</th>\n",
       "      <td>72.22</td>\n",
       "      <td>72.22</td>\n",
       "      <td>79.45</td>\n",
       "      <td>80</td>\n",
       "    </tr>\n",
       "    <tr>\n",
       "      <th>Costo</th>\n",
       "      <td>166</td>\n",
       "      <td>166</td>\n",
       "      <td>153</td>\n",
       "      <td>144</td>\n",
       "    </tr>\n",
       "    <tr>\n",
       "      <th>Cross validation mean</th>\n",
       "      <td>0.2544</td>\n",
       "      <td>0.2511</td>\n",
       "      <td>0.2389</td>\n",
       "      <td>0.2411</td>\n",
       "    </tr>\n",
       "    <tr>\n",
       "      <th>Cross validation standar deviation</th>\n",
       "      <td>0.0166</td>\n",
       "      <td>0.0129</td>\n",
       "      <td>0.0176</td>\n",
       "      <td>0.0156</td>\n",
       "    </tr>\n",
       "  </tbody>\n",
       "</table>\n",
       "</div>"
      ],
      "text/plain": [
       "                                                                           model_1_DT  \\\n",
       "index                                                                                   \n",
       "Parámetros                          max_depth = 22, max_leaf_nodes = 26, min_sampl...   \n",
       "Score                                                                           72.22   \n",
       "Costo                                                                             166   \n",
       "Cross validation mean                                                          0.2544   \n",
       "Cross validation standar deviation                                             0.0166   \n",
       "\n",
       "                                                                           model_2_DT  \\\n",
       "index                                                                                   \n",
       "Parámetros                          max_depth = 14, max_leaf_nodes = 26, min_sampl...   \n",
       "Score                                                                           72.22   \n",
       "Costo                                                                             166   \n",
       "Cross validation mean                                                          0.2511   \n",
       "Cross validation standar deviation                                             0.0129   \n",
       "\n",
       "                                                                           model_3_RF  \\\n",
       "index                                                                                   \n",
       "Parámetros                          max_depth = 15, max_features = log2, max_leaf_...   \n",
       "Score                                                                           79.45   \n",
       "Costo                                                                             153   \n",
       "Cross validation mean                                                          0.2389   \n",
       "Cross validation standar deviation                                             0.0176   \n",
       "\n",
       "                                                                           model_4_RF  \n",
       "index                                                                                  \n",
       "Parámetros                          max_depth = 30, max_features = sqrt, max_leaf_...  \n",
       "Score                                                                              80  \n",
       "Costo                                                                             144  \n",
       "Cross validation mean                                                          0.2411  \n",
       "Cross validation standar deviation                                             0.0156  "
      ]
     },
     "execution_count": 33,
     "metadata": {},
     "output_type": "execute_result"
    }
   ],
   "source": [
    "resultados"
   ]
  },
  {
   "cell_type": "markdown",
   "id": "c8a9916c-cddb-486d-934e-06646ba6bf7d",
   "metadata": {},
   "source": [
    "El parámetro determinante para elegir el modelo es el proporcionado por el cross validation. Se elegirá el modelo 3 de RandomForest como ganador. El modelo 4 también tuvo un muy buen desempeño, se verificará también con los datos de validación."
   ]
  },
  {
   "cell_type": "code",
   "execution_count": 34,
   "id": "8a4727b2-a6ef-4cce-9a9e-3268021b9f1b",
   "metadata": {},
   "outputs": [
    {
     "data": {
      "text/html": [
       "<div>\n",
       "<style scoped>\n",
       "    .dataframe tbody tr th:only-of-type {\n",
       "        vertical-align: middle;\n",
       "    }\n",
       "\n",
       "    .dataframe tbody tr th {\n",
       "        vertical-align: top;\n",
       "    }\n",
       "\n",
       "    .dataframe thead th {\n",
       "        text-align: right;\n",
       "    }\n",
       "</style>\n",
       "<table border=\"1\" class=\"dataframe\">\n",
       "  <thead>\n",
       "    <tr style=\"text-align: right;\">\n",
       "      <th></th>\n",
       "      <th>0</th>\n",
       "      <th>1</th>\n",
       "      <th>2</th>\n",
       "      <th>3</th>\n",
       "      <th>4</th>\n",
       "      <th>5</th>\n",
       "      <th>6</th>\n",
       "      <th>7</th>\n",
       "      <th>8</th>\n",
       "      <th>9</th>\n",
       "      <th>...</th>\n",
       "      <th>15</th>\n",
       "      <th>16</th>\n",
       "      <th>17</th>\n",
       "      <th>18</th>\n",
       "      <th>19</th>\n",
       "      <th>20</th>\n",
       "      <th>21</th>\n",
       "      <th>22</th>\n",
       "      <th>23</th>\n",
       "      <th>24</th>\n",
       "    </tr>\n",
       "  </thead>\n",
       "  <tbody>\n",
       "    <tr>\n",
       "      <th>0</th>\n",
       "      <td>1</td>\n",
       "      <td>16</td>\n",
       "      <td>4</td>\n",
       "      <td>26</td>\n",
       "      <td>1</td>\n",
       "      <td>5</td>\n",
       "      <td>3</td>\n",
       "      <td>4</td>\n",
       "      <td>2</td>\n",
       "      <td>43</td>\n",
       "      <td>...</td>\n",
       "      <td>1</td>\n",
       "      <td>0</td>\n",
       "      <td>0</td>\n",
       "      <td>0</td>\n",
       "      <td>1</td>\n",
       "      <td>0</td>\n",
       "      <td>0</td>\n",
       "      <td>0</td>\n",
       "      <td>1</td>\n",
       "      <td>2</td>\n",
       "    </tr>\n",
       "    <tr>\n",
       "      <th>1</th>\n",
       "      <td>4</td>\n",
       "      <td>20</td>\n",
       "      <td>4</td>\n",
       "      <td>35</td>\n",
       "      <td>5</td>\n",
       "      <td>2</td>\n",
       "      <td>1</td>\n",
       "      <td>4</td>\n",
       "      <td>1</td>\n",
       "      <td>44</td>\n",
       "      <td>...</td>\n",
       "      <td>1</td>\n",
       "      <td>0</td>\n",
       "      <td>1</td>\n",
       "      <td>0</td>\n",
       "      <td>0</td>\n",
       "      <td>1</td>\n",
       "      <td>0</td>\n",
       "      <td>0</td>\n",
       "      <td>1</td>\n",
       "      <td>1</td>\n",
       "    </tr>\n",
       "    <tr>\n",
       "      <th>2</th>\n",
       "      <td>4</td>\n",
       "      <td>36</td>\n",
       "      <td>4</td>\n",
       "      <td>105</td>\n",
       "      <td>5</td>\n",
       "      <td>5</td>\n",
       "      <td>3</td>\n",
       "      <td>4</td>\n",
       "      <td>4</td>\n",
       "      <td>42</td>\n",
       "      <td>...</td>\n",
       "      <td>0</td>\n",
       "      <td>1</td>\n",
       "      <td>1</td>\n",
       "      <td>0</td>\n",
       "      <td>0</td>\n",
       "      <td>0</td>\n",
       "      <td>0</td>\n",
       "      <td>0</td>\n",
       "      <td>1</td>\n",
       "      <td>1</td>\n",
       "    </tr>\n",
       "    <tr>\n",
       "      <th>3</th>\n",
       "      <td>4</td>\n",
       "      <td>15</td>\n",
       "      <td>2</td>\n",
       "      <td>14</td>\n",
       "      <td>5</td>\n",
       "      <td>3</td>\n",
       "      <td>4</td>\n",
       "      <td>2</td>\n",
       "      <td>1</td>\n",
       "      <td>40</td>\n",
       "      <td>...</td>\n",
       "      <td>0</td>\n",
       "      <td>0</td>\n",
       "      <td>1</td>\n",
       "      <td>0</td>\n",
       "      <td>1</td>\n",
       "      <td>0</td>\n",
       "      <td>0</td>\n",
       "      <td>0</td>\n",
       "      <td>1</td>\n",
       "      <td>1</td>\n",
       "    </tr>\n",
       "    <tr>\n",
       "      <th>4</th>\n",
       "      <td>4</td>\n",
       "      <td>24</td>\n",
       "      <td>2</td>\n",
       "      <td>13</td>\n",
       "      <td>1</td>\n",
       "      <td>5</td>\n",
       "      <td>3</td>\n",
       "      <td>1</td>\n",
       "      <td>1</td>\n",
       "      <td>36</td>\n",
       "      <td>...</td>\n",
       "      <td>0</td>\n",
       "      <td>0</td>\n",
       "      <td>1</td>\n",
       "      <td>0</td>\n",
       "      <td>0</td>\n",
       "      <td>1</td>\n",
       "      <td>0</td>\n",
       "      <td>0</td>\n",
       "      <td>0</td>\n",
       "      <td>1</td>\n",
       "    </tr>\n",
       "  </tbody>\n",
       "</table>\n",
       "<p>5 rows × 25 columns</p>\n",
       "</div>"
      ],
      "text/plain": [
       "   0   1   2    3   4   5   6   7   8   9   ...  15  16  17  18  19  20  21  \\\n",
       "0   1  16   4   26   1   5   3   4   2  43  ...   1   0   0   0   1   0   0   \n",
       "1   4  20   4   35   5   2   1   4   1  44  ...   1   0   1   0   0   1   0   \n",
       "2   4  36   4  105   5   5   3   4   4  42  ...   0   1   1   0   0   0   0   \n",
       "3   4  15   2   14   5   3   4   2   1  40  ...   0   0   1   0   1   0   0   \n",
       "4   4  24   2   13   1   5   3   1   1  36  ...   0   0   1   0   0   1   0   \n",
       "\n",
       "   22  23  24  \n",
       "0   0   1   2  \n",
       "1   0   1   1  \n",
       "2   0   1   1  \n",
       "3   0   1   1  \n",
       "4   0   0   1  \n",
       "\n",
       "[5 rows x 25 columns]"
      ]
     },
     "execution_count": 34,
     "metadata": {},
     "output_type": "execute_result"
    }
   ],
   "source": [
    "df_val = pd.read_csv('datos/german_validation.txt', delim_whitespace = True, header = None)\n",
    "df_val.head()"
   ]
  },
  {
   "cell_type": "code",
   "execution_count": 35,
   "id": "11a80965-ef7e-4cbd-9e8d-eecbbdaa43ba",
   "metadata": {},
   "outputs": [
    {
     "data": {
      "text/plain": [
       "(100, 25)"
      ]
     },
     "execution_count": 35,
     "metadata": {},
     "output_type": "execute_result"
    }
   ],
   "source": [
    "df_val.shape"
   ]
  },
  {
   "cell_type": "code",
   "execution_count": 36,
   "id": "046fa6f6-edda-4846-990a-91cacc8ccb38",
   "metadata": {},
   "outputs": [
    {
     "data": {
      "text/html": [
       "<div>\n",
       "<style scoped>\n",
       "    .dataframe tbody tr th:only-of-type {\n",
       "        vertical-align: middle;\n",
       "    }\n",
       "\n",
       "    .dataframe tbody tr th {\n",
       "        vertical-align: top;\n",
       "    }\n",
       "\n",
       "    .dataframe thead th {\n",
       "        text-align: right;\n",
       "    }\n",
       "</style>\n",
       "<table border=\"1\" class=\"dataframe\">\n",
       "  <thead>\n",
       "    <tr style=\"text-align: right;\">\n",
       "      <th></th>\n",
       "      <th>0</th>\n",
       "      <th>1</th>\n",
       "      <th>2</th>\n",
       "      <th>3</th>\n",
       "      <th>4</th>\n",
       "      <th>5</th>\n",
       "      <th>6</th>\n",
       "      <th>7</th>\n",
       "      <th>8</th>\n",
       "      <th>9</th>\n",
       "      <th>...</th>\n",
       "      <th>14</th>\n",
       "      <th>15</th>\n",
       "      <th>16</th>\n",
       "      <th>17</th>\n",
       "      <th>18</th>\n",
       "      <th>19</th>\n",
       "      <th>20</th>\n",
       "      <th>21</th>\n",
       "      <th>22</th>\n",
       "      <th>23</th>\n",
       "    </tr>\n",
       "  </thead>\n",
       "  <tbody>\n",
       "    <tr>\n",
       "      <th>0</th>\n",
       "      <td>1</td>\n",
       "      <td>16</td>\n",
       "      <td>4</td>\n",
       "      <td>26</td>\n",
       "      <td>1</td>\n",
       "      <td>5</td>\n",
       "      <td>3</td>\n",
       "      <td>4</td>\n",
       "      <td>2</td>\n",
       "      <td>43</td>\n",
       "      <td>...</td>\n",
       "      <td>1</td>\n",
       "      <td>1</td>\n",
       "      <td>0</td>\n",
       "      <td>0</td>\n",
       "      <td>0</td>\n",
       "      <td>1</td>\n",
       "      <td>0</td>\n",
       "      <td>0</td>\n",
       "      <td>0</td>\n",
       "      <td>1</td>\n",
       "    </tr>\n",
       "    <tr>\n",
       "      <th>1</th>\n",
       "      <td>4</td>\n",
       "      <td>20</td>\n",
       "      <td>4</td>\n",
       "      <td>35</td>\n",
       "      <td>5</td>\n",
       "      <td>2</td>\n",
       "      <td>1</td>\n",
       "      <td>4</td>\n",
       "      <td>1</td>\n",
       "      <td>44</td>\n",
       "      <td>...</td>\n",
       "      <td>1</td>\n",
       "      <td>1</td>\n",
       "      <td>0</td>\n",
       "      <td>1</td>\n",
       "      <td>0</td>\n",
       "      <td>0</td>\n",
       "      <td>1</td>\n",
       "      <td>0</td>\n",
       "      <td>0</td>\n",
       "      <td>1</td>\n",
       "    </tr>\n",
       "    <tr>\n",
       "      <th>2</th>\n",
       "      <td>4</td>\n",
       "      <td>36</td>\n",
       "      <td>4</td>\n",
       "      <td>105</td>\n",
       "      <td>5</td>\n",
       "      <td>5</td>\n",
       "      <td>3</td>\n",
       "      <td>4</td>\n",
       "      <td>4</td>\n",
       "      <td>42</td>\n",
       "      <td>...</td>\n",
       "      <td>1</td>\n",
       "      <td>0</td>\n",
       "      <td>1</td>\n",
       "      <td>1</td>\n",
       "      <td>0</td>\n",
       "      <td>0</td>\n",
       "      <td>0</td>\n",
       "      <td>0</td>\n",
       "      <td>0</td>\n",
       "      <td>1</td>\n",
       "    </tr>\n",
       "    <tr>\n",
       "      <th>3</th>\n",
       "      <td>4</td>\n",
       "      <td>15</td>\n",
       "      <td>2</td>\n",
       "      <td>14</td>\n",
       "      <td>5</td>\n",
       "      <td>3</td>\n",
       "      <td>4</td>\n",
       "      <td>2</td>\n",
       "      <td>1</td>\n",
       "      <td>40</td>\n",
       "      <td>...</td>\n",
       "      <td>1</td>\n",
       "      <td>0</td>\n",
       "      <td>0</td>\n",
       "      <td>1</td>\n",
       "      <td>0</td>\n",
       "      <td>1</td>\n",
       "      <td>0</td>\n",
       "      <td>0</td>\n",
       "      <td>0</td>\n",
       "      <td>1</td>\n",
       "    </tr>\n",
       "    <tr>\n",
       "      <th>4</th>\n",
       "      <td>4</td>\n",
       "      <td>24</td>\n",
       "      <td>2</td>\n",
       "      <td>13</td>\n",
       "      <td>1</td>\n",
       "      <td>5</td>\n",
       "      <td>3</td>\n",
       "      <td>1</td>\n",
       "      <td>1</td>\n",
       "      <td>36</td>\n",
       "      <td>...</td>\n",
       "      <td>1</td>\n",
       "      <td>0</td>\n",
       "      <td>0</td>\n",
       "      <td>1</td>\n",
       "      <td>0</td>\n",
       "      <td>0</td>\n",
       "      <td>1</td>\n",
       "      <td>0</td>\n",
       "      <td>0</td>\n",
       "      <td>0</td>\n",
       "    </tr>\n",
       "  </tbody>\n",
       "</table>\n",
       "<p>5 rows × 24 columns</p>\n",
       "</div>"
      ],
      "text/plain": [
       "   0   1   2    3   4   5   6   7   8   9   ...  14  15  16  17  18  19  20  \\\n",
       "0   1  16   4   26   1   5   3   4   2  43  ...   1   1   0   0   0   1   0   \n",
       "1   4  20   4   35   5   2   1   4   1  44  ...   1   1   0   1   0   0   1   \n",
       "2   4  36   4  105   5   5   3   4   4  42  ...   1   0   1   1   0   0   0   \n",
       "3   4  15   2   14   5   3   4   2   1  40  ...   1   0   0   1   0   1   0   \n",
       "4   4  24   2   13   1   5   3   1   1  36  ...   1   0   0   1   0   0   1   \n",
       "\n",
       "   21  22  23  \n",
       "0   0   0   1  \n",
       "1   0   0   1  \n",
       "2   0   0   1  \n",
       "3   0   0   1  \n",
       "4   0   0   0  \n",
       "\n",
       "[5 rows x 24 columns]"
      ]
     },
     "execution_count": 36,
     "metadata": {},
     "output_type": "execute_result"
    }
   ],
   "source": [
    "# Crear X (Quitar la columna o campo 24)\n",
    "X_val = df_val.drop(24, axis=1)\n",
    "X_val.head()"
   ]
  },
  {
   "cell_type": "code",
   "execution_count": 37,
   "id": "f8e467cc-ae8d-4aef-94fb-92c59d7ff430",
   "metadata": {},
   "outputs": [
    {
     "data": {
      "text/plain": [
       "0    2\n",
       "1    1\n",
       "2    1\n",
       "3    1\n",
       "4    1\n",
       "Name: 24, dtype: int64"
      ]
     },
     "execution_count": 37,
     "metadata": {},
     "output_type": "execute_result"
    }
   ],
   "source": [
    "# Guardando la variable a predecir en y\n",
    "y_val = df_val[24]\n",
    "y_val.head()"
   ]
  },
  {
   "cell_type": "code",
   "execution_count": 38,
   "id": "b5077900-6c10-48ca-bdf8-d947fc192826",
   "metadata": {},
   "outputs": [
    {
     "name": "stdout",
     "output_type": "stream",
     "text": [
      "Número de elementos: 100\n",
      "Malos clientes clasificados como buenos: 19 (19.0%)\n",
      "Buenos clientes clasificados como malos: 3 (3.0%)\n",
      "Score: 78.0%\n",
      "Costo: 98\n"
     ]
    }
   ],
   "source": [
    "y_predict = model_3_RF.predict(X_val)\n",
    "cost(y_predict, y_val)"
   ]
  },
  {
   "cell_type": "code",
   "execution_count": 39,
   "id": "d4ffac17-ee33-49fe-9693-bd5472c3b4ef",
   "metadata": {},
   "outputs": [
    {
     "name": "stdout",
     "output_type": "stream",
     "text": [
      "Número de elementos: 100\n",
      "Malos clientes clasificados como buenos: 19 (19.0%)\n",
      "Buenos clientes clasificados como malos: 4 (4.0%)\n",
      "Score: 77.0%\n",
      "Costo: 99\n"
     ]
    }
   ],
   "source": [
    "y_predict = model_4_RF.predict(X_val)\n",
    "cost(y_predict, y_val)"
   ]
  },
  {
   "cell_type": "markdown",
   "id": "e4f70a1e-15a5-430f-9c94-f22b9b5b54ec",
   "metadata": {},
   "source": [
    "Se observa como ambos modelos tienen un score similar. Al final resulto mejor el modelo elegido por el método cross validation (el modelo 3), aunque la única diferencia entre el modelo 3 y 4 es un cliente bueno clasificado como malo.\n",
    "Se observa como ambos modelo fallaron en clasificar a 19 clientes  malos, lo cual tiene un muy alto costo para la empresa o banco. En un futuro análisis, se deberá implementar modelos que consideren la matriz de costos para minimizar estos errores.\n",
    "Con respecto a los datos, me hubiese gustado trabajar mejor con el DataFrame que incluía variables categóricas y numéricas, para entender mejor el tratamiento que se le dará a las variables categóricas, actualmente se le dio un tratamiento a todas las variables por igual, lo que se podría mejorar si se entendiera qué significa cada una de las 24 variables numéricas."
   ]
  }
 ],
 "metadata": {
  "kernelspec": {
   "display_name": "Python 3 (ipykernel)",
   "language": "python",
   "name": "python3"
  },
  "language_info": {
   "codemirror_mode": {
    "name": "ipython",
    "version": 3
   },
   "file_extension": ".py",
   "mimetype": "text/x-python",
   "name": "python",
   "nbconvert_exporter": "python",
   "pygments_lexer": "ipython3",
   "version": "3.11.4"
  }
 },
 "nbformat": 4,
 "nbformat_minor": 5
}
